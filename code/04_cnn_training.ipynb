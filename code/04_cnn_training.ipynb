{
 "cells": [
  {
   "cell_type": "code",
   "execution_count": 1,
   "id": "080596da",
   "metadata": {},
   "outputs": [
    {
     "name": "stdout",
     "output_type": "stream",
     "text": [
      "Using device: cuda\n",
      "Number of classes: 9\n",
      "Classes: [0 1 2 3 4 5 6 7 8]\n",
      "Class distribution: [461 411 420 790 495 500 921 318 436]\n",
      "Train size: 3230, Val size: 571, Test size: 951\n",
      "Using Custom Improved CNN\n",
      "Model parameters: 8,242,185\n",
      "Class weights: tensor([1.1430, 1.2817, 1.2593, 0.6683, 1.0681, 1.0556, 0.5742, 1.6615, 1.2084],\n",
      "       device='cuda:0')\n",
      "\n",
      "Starting training...\n"
     ]
    },
    {
     "name": "stderr",
     "output_type": "stream",
     "text": [
      "Epoch 1/50 [Train]: 100%|██████████| 202/202 [00:22<00:00,  9.15it/s, acc=0.107, loss=2.41]\n",
      "Epoch 1/50 [Val]: 100%|██████████| 36/36 [00:01<00:00, 23.30it/s, acc=0.149, loss=2.2]\n"
     ]
    },
    {
     "name": "stdout",
     "output_type": "stream",
     "text": [
      "Epoch 1/50 | Train Loss: 2.4066 | Train Acc: 0.1065 | Val Loss: 2.1974 | Val Acc: 0.1489\n",
      "✓ Best model saved with val_acc: 0.1489\n"
     ]
    },
    {
     "name": "stderr",
     "output_type": "stream",
     "text": [
      "Epoch 2/50 [Train]: 100%|██████████| 202/202 [00:22<00:00,  8.81it/s, acc=0.128, loss=2.19]\n",
      "Epoch 2/50 [Val]: 100%|██████████| 36/36 [00:01<00:00, 23.06it/s, acc=0.0946, loss=2.19]\n"
     ]
    },
    {
     "name": "stdout",
     "output_type": "stream",
     "text": [
      "Epoch 2/50 | Train Loss: 2.1880 | Train Acc: 0.1279 | Val Loss: 2.1853 | Val Acc: 0.0946\n"
     ]
    },
    {
     "name": "stderr",
     "output_type": "stream",
     "text": [
      "Epoch 3/50 [Train]: 100%|██████████| 202/202 [00:21<00:00,  9.47it/s, acc=0.145, loss=2.15]\n",
      "Epoch 3/50 [Val]: 100%|██████████| 36/36 [00:01<00:00, 23.25it/s, acc=0.149, loss=2.03]\n"
     ]
    },
    {
     "name": "stdout",
     "output_type": "stream",
     "text": [
      "Epoch 3/50 | Train Loss: 2.1548 | Train Acc: 0.1446 | Val Loss: 2.0312 | Val Acc: 0.1489\n"
     ]
    },
    {
     "name": "stderr",
     "output_type": "stream",
     "text": [
      "Epoch 4/50 [Train]: 100%|██████████| 202/202 [00:21<00:00,  9.46it/s, acc=0.141, loss=2.13]\n",
      "Epoch 4/50 [Val]: 100%|██████████| 36/36 [00:01<00:00, 22.72it/s, acc=0.102, loss=2.19]\n"
     ]
    },
    {
     "name": "stdout",
     "output_type": "stream",
     "text": [
      "Epoch 4/50 | Train Loss: 2.1312 | Train Acc: 0.1409 | Val Loss: 2.1893 | Val Acc: 0.1016\n"
     ]
    },
    {
     "name": "stderr",
     "output_type": "stream",
     "text": [
      "Epoch 5/50 [Train]: 100%|██████████| 202/202 [00:21<00:00,  9.44it/s, acc=0.145, loss=2.11]\n",
      "Epoch 5/50 [Val]: 100%|██████████| 36/36 [00:01<00:00, 22.76it/s, acc=0.147, loss=2.05]\n"
     ]
    },
    {
     "name": "stdout",
     "output_type": "stream",
     "text": [
      "Epoch 5/50 | Train Loss: 2.1073 | Train Acc: 0.1446 | Val Loss: 2.0490 | Val Acc: 0.1471\n"
     ]
    },
    {
     "name": "stderr",
     "output_type": "stream",
     "text": [
      "Epoch 6/50 [Train]: 100%|██████████| 202/202 [00:21<00:00,  9.45it/s, acc=0.161, loss=2.06]\n",
      "Epoch 6/50 [Val]: 100%|██████████| 36/36 [00:01<00:00, 23.41it/s, acc=0.203, loss=1.98]\n"
     ]
    },
    {
     "name": "stdout",
     "output_type": "stream",
     "text": [
      "Epoch 6/50 | Train Loss: 2.0635 | Train Acc: 0.1613 | Val Loss: 1.9807 | Val Acc: 0.2032\n",
      "✓ Best model saved with val_acc: 0.2032\n"
     ]
    },
    {
     "name": "stderr",
     "output_type": "stream",
     "text": [
      "Epoch 7/50 [Train]: 100%|██████████| 202/202 [00:21<00:00,  9.39it/s, acc=0.177, loss=2.06]\n",
      "Epoch 7/50 [Val]: 100%|██████████| 36/36 [00:01<00:00, 23.36it/s, acc=0.165, loss=2]   \n"
     ]
    },
    {
     "name": "stdout",
     "output_type": "stream",
     "text": [
      "Epoch 7/50 | Train Loss: 2.0622 | Train Acc: 0.1768 | Val Loss: 2.0042 | Val Acc: 0.1646\n"
     ]
    },
    {
     "name": "stderr",
     "output_type": "stream",
     "text": [
      "Epoch 8/50 [Train]: 100%|██████████| 202/202 [00:21<00:00,  9.36it/s, acc=0.167, loss=2.05]\n",
      "Epoch 8/50 [Val]: 100%|██████████| 36/36 [00:01<00:00, 23.25it/s, acc=0.194, loss=2.2] \n"
     ]
    },
    {
     "name": "stdout",
     "output_type": "stream",
     "text": [
      "Epoch 8/50 | Train Loss: 2.0470 | Train Acc: 0.1675 | Val Loss: 2.1971 | Val Acc: 0.1944\n"
     ]
    },
    {
     "name": "stderr",
     "output_type": "stream",
     "text": [
      "Epoch 9/50 [Train]: 100%|██████████| 202/202 [00:21<00:00,  9.45it/s, acc=0.194, loss=2.04]\n",
      "Epoch 9/50 [Val]: 100%|██████████| 36/36 [00:01<00:00, 22.78it/s, acc=0.224, loss=2]   \n"
     ]
    },
    {
     "name": "stdout",
     "output_type": "stream",
     "text": [
      "Epoch 9/50 | Train Loss: 2.0399 | Train Acc: 0.1938 | Val Loss: 1.9954 | Val Acc: 0.2242\n",
      "✓ Best model saved with val_acc: 0.2242\n"
     ]
    },
    {
     "name": "stderr",
     "output_type": "stream",
     "text": [
      "Epoch 10/50 [Train]: 100%|██████████| 202/202 [00:21<00:00,  9.37it/s, acc=0.194, loss=2.03]\n",
      "Epoch 10/50 [Val]: 100%|██████████| 36/36 [00:01<00:00, 23.35it/s, acc=0.238, loss=1.99]\n"
     ]
    },
    {
     "name": "stdout",
     "output_type": "stream",
     "text": [
      "Epoch 10/50 | Train Loss: 2.0260 | Train Acc: 0.1944 | Val Loss: 1.9928 | Val Acc: 0.2382\n",
      "✓ Best model saved with val_acc: 0.2382\n"
     ]
    },
    {
     "name": "stderr",
     "output_type": "stream",
     "text": [
      "Epoch 11/50 [Train]: 100%|██████████| 202/202 [00:21<00:00,  9.42it/s, acc=0.201, loss=2.01]\n",
      "Epoch 11/50 [Val]: 100%|██████████| 36/36 [00:01<00:00, 22.94it/s, acc=0.191, loss=2.04]\n"
     ]
    },
    {
     "name": "stdout",
     "output_type": "stream",
     "text": [
      "Epoch 11/50 | Train Loss: 2.0133 | Train Acc: 0.2009 | Val Loss: 2.0405 | Val Acc: 0.1909\n"
     ]
    },
    {
     "name": "stderr",
     "output_type": "stream",
     "text": [
      "Epoch 12/50 [Train]: 100%|██████████| 202/202 [00:21<00:00,  9.43it/s, acc=0.228, loss=1.99]\n",
      "Epoch 12/50 [Val]: 100%|██████████| 36/36 [00:01<00:00, 22.97it/s, acc=0.249, loss=2]   \n"
     ]
    },
    {
     "name": "stdout",
     "output_type": "stream",
     "text": [
      "Epoch 12/50 | Train Loss: 1.9857 | Train Acc: 0.2276 | Val Loss: 1.9974 | Val Acc: 0.2487\n",
      "✓ Best model saved with val_acc: 0.2487\n"
     ]
    },
    {
     "name": "stderr",
     "output_type": "stream",
     "text": [
      "Epoch 13/50 [Train]: 100%|██████████| 202/202 [00:21<00:00,  9.41it/s, acc=0.223, loss=1.99]\n",
      "Epoch 13/50 [Val]: 100%|██████████| 36/36 [00:01<00:00, 23.22it/s, acc=0.259, loss=2.04]\n"
     ]
    },
    {
     "name": "stdout",
     "output_type": "stream",
     "text": [
      "Epoch 13/50 | Train Loss: 1.9869 | Train Acc: 0.2229 | Val Loss: 2.0417 | Val Acc: 0.2592\n",
      "✓ Best model saved with val_acc: 0.2592\n"
     ]
    },
    {
     "name": "stderr",
     "output_type": "stream",
     "text": [
      "Epoch 14/50 [Train]: 100%|██████████| 202/202 [00:21<00:00,  9.47it/s, acc=0.24, loss=1.97] \n",
      "Epoch 14/50 [Val]: 100%|██████████| 36/36 [00:01<00:00, 23.49it/s, acc=0.27, loss=1.9]  \n"
     ]
    },
    {
     "name": "stdout",
     "output_type": "stream",
     "text": [
      "Epoch 14/50 | Train Loss: 1.9685 | Train Acc: 0.2399 | Val Loss: 1.8986 | Val Acc: 0.2697\n",
      "✓ Best model saved with val_acc: 0.2697\n"
     ]
    },
    {
     "name": "stderr",
     "output_type": "stream",
     "text": [
      "Epoch 15/50 [Train]: 100%|██████████| 202/202 [00:21<00:00,  9.42it/s, acc=0.245, loss=1.95]\n",
      "Epoch 15/50 [Val]: 100%|██████████| 36/36 [00:01<00:00, 23.39it/s, acc=0.301, loss=1.89]\n"
     ]
    },
    {
     "name": "stdout",
     "output_type": "stream",
     "text": [
      "Epoch 15/50 | Train Loss: 1.9487 | Train Acc: 0.2446 | Val Loss: 1.8929 | Val Acc: 0.3012\n",
      "✓ Best model saved with val_acc: 0.3012\n"
     ]
    },
    {
     "name": "stderr",
     "output_type": "stream",
     "text": [
      "Epoch 16/50 [Train]: 100%|██████████| 202/202 [00:21<00:00,  9.41it/s, acc=0.243, loss=1.95]\n",
      "Epoch 16/50 [Val]: 100%|██████████| 36/36 [00:01<00:00, 23.53it/s, acc=0.28, loss=1.98] \n"
     ]
    },
    {
     "name": "stdout",
     "output_type": "stream",
     "text": [
      "Epoch 16/50 | Train Loss: 1.9458 | Train Acc: 0.2430 | Val Loss: 1.9830 | Val Acc: 0.2802\n"
     ]
    },
    {
     "name": "stderr",
     "output_type": "stream",
     "text": [
      "Epoch 17/50 [Train]: 100%|██████████| 202/202 [00:21<00:00,  9.45it/s, acc=0.269, loss=1.93]\n",
      "Epoch 17/50 [Val]: 100%|██████████| 36/36 [00:01<00:00, 23.03it/s, acc=0.284, loss=1.92]\n"
     ]
    },
    {
     "name": "stdout",
     "output_type": "stream",
     "text": [
      "Epoch 17/50 | Train Loss: 1.9335 | Train Acc: 0.2693 | Val Loss: 1.9162 | Val Acc: 0.2837\n"
     ]
    },
    {
     "name": "stderr",
     "output_type": "stream",
     "text": [
      "Epoch 18/50 [Train]: 100%|██████████| 202/202 [00:21<00:00,  9.41it/s, acc=0.25, loss=1.92] \n",
      "Epoch 18/50 [Val]: 100%|██████████| 36/36 [00:01<00:00, 23.33it/s, acc=0.366, loss=1.93]\n"
     ]
    },
    {
     "name": "stdout",
     "output_type": "stream",
     "text": [
      "Epoch 18/50 | Train Loss: 1.9228 | Train Acc: 0.2502 | Val Loss: 1.9338 | Val Acc: 0.3660\n",
      "✓ Best model saved with val_acc: 0.3660\n"
     ]
    },
    {
     "name": "stderr",
     "output_type": "stream",
     "text": [
      "Epoch 19/50 [Train]: 100%|██████████| 202/202 [00:21<00:00,  9.41it/s, acc=0.266, loss=1.92]\n",
      "Epoch 19/50 [Val]: 100%|██████████| 36/36 [00:01<00:00, 23.10it/s, acc=0.359, loss=1.85]\n"
     ]
    },
    {
     "name": "stdout",
     "output_type": "stream",
     "text": [
      "Epoch 19/50 | Train Loss: 1.9227 | Train Acc: 0.2656 | Val Loss: 1.8538 | Val Acc: 0.3590\n"
     ]
    },
    {
     "name": "stderr",
     "output_type": "stream",
     "text": [
      "Epoch 20/50 [Train]: 100%|██████████| 202/202 [00:21<00:00,  9.43it/s, acc=0.265, loss=1.9] \n",
      "Epoch 20/50 [Val]: 100%|██████████| 36/36 [00:01<00:00, 23.30it/s, acc=0.343, loss=1.86]\n"
     ]
    },
    {
     "name": "stdout",
     "output_type": "stream",
     "text": [
      "Epoch 20/50 | Train Loss: 1.8976 | Train Acc: 0.2650 | Val Loss: 1.8610 | Val Acc: 0.3433\n"
     ]
    },
    {
     "name": "stderr",
     "output_type": "stream",
     "text": [
      "Epoch 21/50 [Train]: 100%|██████████| 202/202 [00:21<00:00,  9.41it/s, acc=0.285, loss=1.9] \n",
      "Epoch 21/50 [Val]: 100%|██████████| 36/36 [00:01<00:00, 23.35it/s, acc=0.392, loss=1.88]\n"
     ]
    },
    {
     "name": "stdout",
     "output_type": "stream",
     "text": [
      "Epoch 21/50 | Train Loss: 1.9039 | Train Acc: 0.2851 | Val Loss: 1.8848 | Val Acc: 0.3923\n",
      "✓ Best model saved with val_acc: 0.3923\n"
     ]
    },
    {
     "name": "stderr",
     "output_type": "stream",
     "text": [
      "Epoch 22/50 [Train]: 100%|██████████| 202/202 [00:21<00:00,  9.39it/s, acc=0.3, loss=1.88]  \n",
      "Epoch 22/50 [Val]: 100%|██████████| 36/36 [00:01<00:00, 23.15it/s, acc=0.366, loss=1.82]\n"
     ]
    },
    {
     "name": "stdout",
     "output_type": "stream",
     "text": [
      "Epoch 22/50 | Train Loss: 1.8808 | Train Acc: 0.3000 | Val Loss: 1.8223 | Val Acc: 0.3660\n"
     ]
    },
    {
     "name": "stderr",
     "output_type": "stream",
     "text": [
      "Epoch 23/50 [Train]: 100%|██████████| 202/202 [00:21<00:00,  9.44it/s, acc=0.301, loss=1.87]\n",
      "Epoch 23/50 [Val]: 100%|██████████| 36/36 [00:01<00:00, 23.23it/s, acc=0.364, loss=1.82]\n"
     ]
    },
    {
     "name": "stdout",
     "output_type": "stream",
     "text": [
      "Epoch 23/50 | Train Loss: 1.8744 | Train Acc: 0.3012 | Val Loss: 1.8212 | Val Acc: 0.3643\n"
     ]
    },
    {
     "name": "stderr",
     "output_type": "stream",
     "text": [
      "Epoch 24/50 [Train]: 100%|██████████| 202/202 [00:21<00:00,  9.46it/s, acc=0.301, loss=1.89]\n",
      "Epoch 24/50 [Val]: 100%|██████████| 36/36 [00:01<00:00, 22.65it/s, acc=0.382, loss=1.8] \n"
     ]
    },
    {
     "name": "stdout",
     "output_type": "stream",
     "text": [
      "Epoch 24/50 | Train Loss: 1.8851 | Train Acc: 0.3006 | Val Loss: 1.8014 | Val Acc: 0.3818\n"
     ]
    },
    {
     "name": "stderr",
     "output_type": "stream",
     "text": [
      "Epoch 25/50 [Train]: 100%|██████████| 202/202 [00:21<00:00,  9.49it/s, acc=0.305, loss=1.88]\n",
      "Epoch 25/50 [Val]: 100%|██████████| 36/36 [00:01<00:00, 23.37it/s, acc=0.401, loss=1.76]\n"
     ]
    },
    {
     "name": "stdout",
     "output_type": "stream",
     "text": [
      "Epoch 25/50 | Train Loss: 1.8813 | Train Acc: 0.3046 | Val Loss: 1.7559 | Val Acc: 0.4011\n",
      "✓ Best model saved with val_acc: 0.4011\n"
     ]
    },
    {
     "name": "stderr",
     "output_type": "stream",
     "text": [
      "Epoch 26/50 [Train]: 100%|██████████| 202/202 [00:21<00:00,  9.37it/s, acc=0.296, loss=1.86]\n",
      "Epoch 26/50 [Val]: 100%|██████████| 36/36 [00:01<00:00, 21.14it/s, acc=0.445, loss=1.79]\n"
     ]
    },
    {
     "name": "stdout",
     "output_type": "stream",
     "text": [
      "Epoch 26/50 | Train Loss: 1.8647 | Train Acc: 0.2960 | Val Loss: 1.7881 | Val Acc: 0.4448\n",
      "✓ Best model saved with val_acc: 0.4448\n"
     ]
    },
    {
     "name": "stderr",
     "output_type": "stream",
     "text": [
      "Epoch 27/50 [Train]: 100%|██████████| 202/202 [00:23<00:00,  8.56it/s, acc=0.319, loss=1.84]\n",
      "Epoch 27/50 [Val]: 100%|██████████| 36/36 [00:01<00:00, 22.83it/s, acc=0.424, loss=1.78]\n"
     ]
    },
    {
     "name": "stdout",
     "output_type": "stream",
     "text": [
      "Epoch 27/50 | Train Loss: 1.8390 | Train Acc: 0.3186 | Val Loss: 1.7778 | Val Acc: 0.4238\n"
     ]
    },
    {
     "name": "stderr",
     "output_type": "stream",
     "text": [
      "Epoch 28/50 [Train]: 100%|██████████| 202/202 [00:21<00:00,  9.37it/s, acc=0.322, loss=1.84]\n",
      "Epoch 28/50 [Val]: 100%|██████████| 36/36 [00:01<00:00, 22.19it/s, acc=0.356, loss=1.85]\n"
     ]
    },
    {
     "name": "stdout",
     "output_type": "stream",
     "text": [
      "Epoch 28/50 | Train Loss: 1.8361 | Train Acc: 0.3223 | Val Loss: 1.8510 | Val Acc: 0.3555\n"
     ]
    },
    {
     "name": "stderr",
     "output_type": "stream",
     "text": [
      "Epoch 29/50 [Train]: 100%|██████████| 202/202 [00:21<00:00,  9.38it/s, acc=0.322, loss=1.83]\n",
      "Epoch 29/50 [Val]: 100%|██████████| 36/36 [00:01<00:00, 21.88it/s, acc=0.363, loss=1.81]\n"
     ]
    },
    {
     "name": "stdout",
     "output_type": "stream",
     "text": [
      "Epoch 29/50 | Train Loss: 1.8311 | Train Acc: 0.3217 | Val Loss: 1.8113 | Val Acc: 0.3625\n"
     ]
    },
    {
     "name": "stderr",
     "output_type": "stream",
     "text": [
      "Epoch 30/50 [Train]: 100%|██████████| 202/202 [00:21<00:00,  9.36it/s, acc=0.317, loss=1.83]\n",
      "Epoch 30/50 [Val]: 100%|██████████| 36/36 [00:01<00:00, 22.72it/s, acc=0.412, loss=1.71]\n"
     ]
    },
    {
     "name": "stdout",
     "output_type": "stream",
     "text": [
      "Epoch 30/50 | Train Loss: 1.8281 | Train Acc: 0.3173 | Val Loss: 1.7096 | Val Acc: 0.4116\n"
     ]
    },
    {
     "name": "stderr",
     "output_type": "stream",
     "text": [
      "Epoch 31/50 [Train]: 100%|██████████| 202/202 [00:21<00:00,  9.39it/s, acc=0.348, loss=1.78]\n",
      "Epoch 31/50 [Val]: 100%|██████████| 36/36 [00:01<00:00, 22.08it/s, acc=0.455, loss=1.65]\n"
     ]
    },
    {
     "name": "stdout",
     "output_type": "stream",
     "text": [
      "Epoch 31/50 | Train Loss: 1.7751 | Train Acc: 0.3477 | Val Loss: 1.6495 | Val Acc: 0.4553\n",
      "✓ Best model saved with val_acc: 0.4553\n"
     ]
    },
    {
     "name": "stderr",
     "output_type": "stream",
     "text": [
      "Epoch 32/50 [Train]: 100%|██████████| 202/202 [00:21<00:00,  9.37it/s, acc=0.352, loss=1.76]\n",
      "Epoch 32/50 [Val]: 100%|██████████| 36/36 [00:01<00:00, 22.96it/s, acc=0.44, loss=1.72] \n"
     ]
    },
    {
     "name": "stdout",
     "output_type": "stream",
     "text": [
      "Epoch 32/50 | Train Loss: 1.7577 | Train Acc: 0.3517 | Val Loss: 1.7220 | Val Acc: 0.4396\n"
     ]
    },
    {
     "name": "stderr",
     "output_type": "stream",
     "text": [
      "Epoch 33/50 [Train]: 100%|██████████| 202/202 [00:21<00:00,  9.41it/s, acc=0.368, loss=1.76]\n",
      "Epoch 33/50 [Val]: 100%|██████████| 36/36 [00:01<00:00, 22.28it/s, acc=0.476, loss=1.61]\n"
     ]
    },
    {
     "name": "stdout",
     "output_type": "stream",
     "text": [
      "Epoch 33/50 | Train Loss: 1.7594 | Train Acc: 0.3684 | Val Loss: 1.6082 | Val Acc: 0.4764\n",
      "✓ Best model saved with val_acc: 0.4764\n"
     ]
    },
    {
     "name": "stderr",
     "output_type": "stream",
     "text": [
      "Epoch 34/50 [Train]: 100%|██████████| 202/202 [00:21<00:00,  9.41it/s, acc=0.37, loss=1.75] \n",
      "Epoch 34/50 [Val]: 100%|██████████| 36/36 [00:01<00:00, 23.55it/s, acc=0.452, loss=1.63]\n"
     ]
    },
    {
     "name": "stdout",
     "output_type": "stream",
     "text": [
      "Epoch 34/50 | Train Loss: 1.7524 | Train Acc: 0.3700 | Val Loss: 1.6299 | Val Acc: 0.4518\n"
     ]
    },
    {
     "name": "stderr",
     "output_type": "stream",
     "text": [
      "Epoch 35/50 [Train]: 100%|██████████| 202/202 [00:21<00:00,  9.45it/s, acc=0.376, loss=1.74]\n",
      "Epoch 35/50 [Val]: 100%|██████████| 36/36 [00:01<00:00, 22.62it/s, acc=0.452, loss=1.62]\n"
     ]
    },
    {
     "name": "stdout",
     "output_type": "stream",
     "text": [
      "Epoch 35/50 | Train Loss: 1.7418 | Train Acc: 0.3765 | Val Loss: 1.6200 | Val Acc: 0.4518\n"
     ]
    },
    {
     "name": "stderr",
     "output_type": "stream",
     "text": [
      "Epoch 36/50 [Train]: 100%|██████████| 202/202 [00:21<00:00,  9.41it/s, acc=0.391, loss=1.71]\n",
      "Epoch 36/50 [Val]: 100%|██████████| 36/36 [00:01<00:00, 22.54it/s, acc=0.496, loss=1.64]\n"
     ]
    },
    {
     "name": "stdout",
     "output_type": "stream",
     "text": [
      "Epoch 36/50 | Train Loss: 1.7123 | Train Acc: 0.3910 | Val Loss: 1.6368 | Val Acc: 0.4956\n",
      "✓ Best model saved with val_acc: 0.4956\n"
     ]
    },
    {
     "name": "stderr",
     "output_type": "stream",
     "text": [
      "Epoch 37/50 [Train]: 100%|██████████| 202/202 [00:21<00:00,  9.39it/s, acc=0.4, loss=1.7]   \n",
      "Epoch 37/50 [Val]: 100%|██████████| 36/36 [00:01<00:00, 23.12it/s, acc=0.49, loss=1.56] \n"
     ]
    },
    {
     "name": "stdout",
     "output_type": "stream",
     "text": [
      "Epoch 37/50 | Train Loss: 1.6978 | Train Acc: 0.4003 | Val Loss: 1.5564 | Val Acc: 0.4904\n"
     ]
    },
    {
     "name": "stderr",
     "output_type": "stream",
     "text": [
      "Epoch 38/50 [Train]: 100%|██████████| 202/202 [00:21<00:00,  9.43it/s, acc=0.402, loss=1.71]\n",
      "Epoch 38/50 [Val]: 100%|██████████| 36/36 [00:01<00:00, 22.59it/s, acc=0.51, loss=1.58] \n"
     ]
    },
    {
     "name": "stdout",
     "output_type": "stream",
     "text": [
      "Epoch 38/50 | Train Loss: 1.7078 | Train Acc: 0.4015 | Val Loss: 1.5771 | Val Acc: 0.5096\n",
      "✓ Best model saved with val_acc: 0.5096\n"
     ]
    },
    {
     "name": "stderr",
     "output_type": "stream",
     "text": [
      "Epoch 39/50 [Train]: 100%|██████████| 202/202 [00:21<00:00,  9.36it/s, acc=0.403, loss=1.7] \n",
      "Epoch 39/50 [Val]: 100%|██████████| 36/36 [00:01<00:00, 23.30it/s, acc=0.503, loss=1.55]\n"
     ]
    },
    {
     "name": "stdout",
     "output_type": "stream",
     "text": [
      "Epoch 39/50 | Train Loss: 1.6959 | Train Acc: 0.4034 | Val Loss: 1.5536 | Val Acc: 0.5026\n"
     ]
    },
    {
     "name": "stderr",
     "output_type": "stream",
     "text": [
      "Epoch 40/50 [Train]: 100%|██████████| 202/202 [00:21<00:00,  9.39it/s, acc=0.408, loss=1.69]\n",
      "Epoch 40/50 [Val]: 100%|██████████| 36/36 [00:01<00:00, 22.63it/s, acc=0.489, loss=1.64]\n"
     ]
    },
    {
     "name": "stdout",
     "output_type": "stream",
     "text": [
      "Epoch 40/50 | Train Loss: 1.6943 | Train Acc: 0.4077 | Val Loss: 1.6391 | Val Acc: 0.4886\n"
     ]
    },
    {
     "name": "stderr",
     "output_type": "stream",
     "text": [
      "Epoch 41/50 [Train]: 100%|██████████| 202/202 [00:24<00:00,  8.37it/s, acc=0.424, loss=1.69]\n",
      "Epoch 41/50 [Val]: 100%|██████████| 36/36 [00:01<00:00, 19.60it/s, acc=0.52, loss=1.51] \n"
     ]
    },
    {
     "name": "stdout",
     "output_type": "stream",
     "text": [
      "Epoch 41/50 | Train Loss: 1.6853 | Train Acc: 0.4238 | Val Loss: 1.5083 | Val Acc: 0.5201\n",
      "✓ Best model saved with val_acc: 0.5201\n"
     ]
    },
    {
     "name": "stderr",
     "output_type": "stream",
     "text": [
      "Epoch 42/50 [Train]: 100%|██████████| 202/202 [00:22<00:00,  8.89it/s, acc=0.419, loss=1.66]\n",
      "Epoch 42/50 [Val]: 100%|██████████| 36/36 [00:01<00:00, 20.87it/s, acc=0.531, loss=1.52]\n"
     ]
    },
    {
     "name": "stdout",
     "output_type": "stream",
     "text": [
      "Epoch 42/50 | Train Loss: 1.6638 | Train Acc: 0.4192 | Val Loss: 1.5170 | Val Acc: 0.5306\n",
      "✓ Best model saved with val_acc: 0.5306\n"
     ]
    },
    {
     "name": "stderr",
     "output_type": "stream",
     "text": [
      "Epoch 43/50 [Train]: 100%|██████████| 202/202 [00:22<00:00,  9.14it/s, acc=0.442, loss=1.65]\n",
      "Epoch 43/50 [Val]: 100%|██████████| 36/36 [00:01<00:00, 23.56it/s, acc=0.545, loss=1.48]\n"
     ]
    },
    {
     "name": "stdout",
     "output_type": "stream",
     "text": [
      "Epoch 43/50 | Train Loss: 1.6547 | Train Acc: 0.4424 | Val Loss: 1.4775 | Val Acc: 0.5447\n",
      "✓ Best model saved with val_acc: 0.5447\n"
     ]
    },
    {
     "name": "stderr",
     "output_type": "stream",
     "text": [
      "Epoch 44/50 [Train]: 100%|██████████| 202/202 [00:21<00:00,  9.45it/s, acc=0.44, loss=1.65] \n",
      "Epoch 44/50 [Val]: 100%|██████████| 36/36 [00:01<00:00, 22.70it/s, acc=0.534, loss=1.47]\n"
     ]
    },
    {
     "name": "stdout",
     "output_type": "stream",
     "text": [
      "Epoch 44/50 | Train Loss: 1.6499 | Train Acc: 0.4399 | Val Loss: 1.4715 | Val Acc: 0.5342\n"
     ]
    },
    {
     "name": "stderr",
     "output_type": "stream",
     "text": [
      "Epoch 45/50 [Train]: 100%|██████████| 202/202 [00:21<00:00,  9.49it/s, acc=0.437, loss=1.65]\n",
      "Epoch 45/50 [Val]: 100%|██████████| 36/36 [00:01<00:00, 22.67it/s, acc=0.517, loss=1.51]\n"
     ]
    },
    {
     "name": "stdout",
     "output_type": "stream",
     "text": [
      "Epoch 45/50 | Train Loss: 1.6480 | Train Acc: 0.4372 | Val Loss: 1.5143 | Val Acc: 0.5166\n"
     ]
    },
    {
     "name": "stderr",
     "output_type": "stream",
     "text": [
      "Epoch 46/50 [Train]: 100%|██████████| 202/202 [00:21<00:00,  9.47it/s, acc=0.434, loss=1.64]\n",
      "Epoch 46/50 [Val]: 100%|██████████| 36/36 [00:01<00:00, 23.17it/s, acc=0.499, loss=1.57]\n"
     ]
    },
    {
     "name": "stdout",
     "output_type": "stream",
     "text": [
      "Epoch 46/50 | Train Loss: 1.6357 | Train Acc: 0.4344 | Val Loss: 1.5657 | Val Acc: 0.4991\n"
     ]
    },
    {
     "name": "stderr",
     "output_type": "stream",
     "text": [
      "Epoch 47/50 [Train]: 100%|██████████| 202/202 [00:21<00:00,  9.44it/s, acc=0.454, loss=1.62]\n",
      "Epoch 47/50 [Val]: 100%|██████████| 36/36 [00:01<00:00, 22.51it/s, acc=0.536, loss=1.46]\n"
     ]
    },
    {
     "name": "stdout",
     "output_type": "stream",
     "text": [
      "Epoch 47/50 | Train Loss: 1.6217 | Train Acc: 0.4539 | Val Loss: 1.4608 | Val Acc: 0.5359\n"
     ]
    },
    {
     "name": "stderr",
     "output_type": "stream",
     "text": [
      "Epoch 48/50 [Train]: 100%|██████████| 202/202 [00:21<00:00,  9.47it/s, acc=0.467, loss=1.59]\n",
      "Epoch 48/50 [Val]: 100%|██████████| 36/36 [00:01<00:00, 23.64it/s, acc=0.518, loss=1.46]\n"
     ]
    },
    {
     "name": "stdout",
     "output_type": "stream",
     "text": [
      "Epoch 48/50 | Train Loss: 1.5916 | Train Acc: 0.4666 | Val Loss: 1.4597 | Val Acc: 0.5184\n"
     ]
    },
    {
     "name": "stderr",
     "output_type": "stream",
     "text": [
      "Epoch 49/50 [Train]: 100%|██████████| 202/202 [00:21<00:00,  9.38it/s, acc=0.484, loss=1.57]\n",
      "Epoch 49/50 [Val]: 100%|██████████| 36/36 [00:01<00:00, 22.48it/s, acc=0.573, loss=1.4] \n"
     ]
    },
    {
     "name": "stdout",
     "output_type": "stream",
     "text": [
      "Epoch 49/50 | Train Loss: 1.5652 | Train Acc: 0.4839 | Val Loss: 1.3987 | Val Acc: 0.5727\n",
      "✓ Best model saved with val_acc: 0.5727\n"
     ]
    },
    {
     "name": "stderr",
     "output_type": "stream",
     "text": [
      "Epoch 50/50 [Train]: 100%|██████████| 202/202 [00:21<00:00,  9.44it/s, acc=0.501, loss=1.55]\n",
      "Epoch 50/50 [Val]: 100%|██████████| 36/36 [00:01<00:00, 22.97it/s, acc=0.608, loss=1.38]\n"
     ]
    },
    {
     "name": "stdout",
     "output_type": "stream",
     "text": [
      "Epoch 50/50 | Train Loss: 1.5527 | Train Acc: 0.5009 | Val Loss: 1.3796 | Val Acc: 0.6077\n",
      "✓ Best model saved with val_acc: 0.6077\n"
     ]
    },
    {
     "data": {
      "image/png": "[encoded data removed]",
      "text/plain": [
       "<Figure size 1400x500 with 2 Axes>"
      ]
     },
     "metadata": {},
     "output_type": "display_data"
    },
    {
     "name": "stdout",
     "output_type": "stream",
     "text": [
      "\n",
      "Loaded best model from epoch 50\n"
     ]
    },
    {
     "name": "stderr",
     "output_type": "stream",
     "text": [
      "Testing: 100%|██████████| 60/60 [00:02<00:00, 22.79it/s]\n"
     ]
    },
    {
     "name": "stdout",
     "output_type": "stream",
     "text": [
      "\n",
      "==================================================\n",
      "Test Accuracy: 57.94%\n",
      "==================================================\n",
      "\n"
     ]
    },
    {
     "data": {
      "image/png": "[encoded data removed]",
      "text/plain": [
       "<Figure size 1200x1000 with 2 Axes>"
      ]
     },
     "metadata": {},
     "output_type": "display_data"
    },
    {
     "name": "stdout",
     "output_type": "stream",
     "text": [
      "\n",
      "Classification Report:\n",
      "======================================================================\n",
      "              precision    recall  f1-score   support\n",
      "\n",
      "           0     0.7500    0.5870    0.6585        92\n",
      "           1     0.5600    0.8537    0.6763        82\n",
      "           2     0.5109    0.5595    0.5341        84\n",
      "           3     0.5989    0.6899    0.6412       158\n",
      "           4     0.3000    0.1818    0.2264        99\n",
      "           5     0.5190    0.4100    0.4581       100\n",
      "           6     0.6080    0.5784    0.5928       185\n",
      "           7     0.4203    0.4531    0.4361        64\n",
      "           8     0.7917    0.8736    0.8306        87\n",
      "\n",
      "    accuracy                         0.5794       951\n",
      "   macro avg     0.5621    0.5763    0.5616       951\n",
      "weighted avg     0.5702    0.5794    0.5681       951\n",
      "\n",
      "\n",
      "Per-Class Accuracy:\n",
      "======================================================================\n",
      "0                   :  58.70% (92 samples)\n",
      "1                   :  85.37% (82 samples)\n",
      "2                   :  55.95% (84 samples)\n",
      "3                   :  68.99% (158 samples)\n",
      "4                   :  18.18% (99 samples)\n",
      "5                   :  41.00% (100 samples)\n",
      "6                   :  57.84% (185 samples)\n",
      "7                   :  45.31% (64 samples)\n",
      "8                   :  87.36% (87 samples)\n",
      "\n",
      "✓ Training complete!\n",
      "Best validation accuracy: 60.77%\n",
      "Final test accuracy: 57.94%\n"
     ]
    }
   ],
   "source": [
    "import numpy as np\n",
    "import torch\n",
    "import torch.nn as nn\n",
    "import torch.nn.functional as F\n",
    "import torch.optim as optim\n",
    "from torch.utils.data import Dataset, DataLoader\n",
    "from sklearn.preprocessing import LabelEncoder\n",
    "from sklearn.model_selection import train_test_split\n",
    "from sklearn.utils.class_weight import compute_class_weight\n",
    "import torchvision.transforms as transforms\n",
    "import matplotlib.pyplot as plt\n",
    "import seaborn as sns\n",
    "from sklearn.metrics import confusion_matrix, classification_report\n",
    "from tqdm import tqdm\n",
    "import warnings\n",
    "warnings.filterwarnings('ignore')\n",
    "\n",
    "# ---------------------------\n",
    "# 0. Device\n",
    "# ---------------------------\n",
    "device = torch.device(\"cuda\" if torch.cuda.is_available() else \"cpu\")\n",
    "print(\"Using device:\", device)\n",
    "\n",
    "# ---------------------------\n",
    "# 1. Load data\n",
    "# ---------------------------\n",
    "image_array = np.load(\"images.npy\", allow_pickle=True)\n",
    "labels = np.load(\"labels.npy\", allow_pickle=True)\n",
    "\n",
    "# Encode labels\n",
    "encoder = LabelEncoder()\n",
    "y = encoder.fit_transform(labels)\n",
    "num_classes = len(np.unique(y))\n",
    "print(f\"Number of classes: {num_classes}\")\n",
    "print(f\"Classes: {encoder.classes_}\")\n",
    "print(f\"Class distribution: {np.bincount(y)}\")\n",
    "\n",
    "# Train/Val/Test split\n",
    "train_idx, test_idx = train_test_split(\n",
    "    np.arange(len(y)), test_size=0.2, random_state=42, stratify=y\n",
    ")\n",
    "train_idx, val_idx = train_test_split(\n",
    "    train_idx, test_size=0.15, random_state=42, stratify=y[train_idx]\n",
    ")\n",
    "\n",
    "print(f\"Train size: {len(train_idx)}, Val size: {len(val_idx)}, Test size: {len(test_idx)}\")\n",
    "\n",
    "# ---------------------------\n",
    "# 2. Dataset class\n",
    "# ---------------------------\n",
    "class WasteDataset(Dataset):\n",
    "    def __init__(self, images, labels, indices, transform=None):\n",
    "        self.images = images\n",
    "        self.labels = labels\n",
    "        self.indices = indices\n",
    "        self.transform = transform\n",
    "\n",
    "    def __len__(self):\n",
    "        return len(self.indices)\n",
    "\n",
    "    def __getitem__(self, idx):\n",
    "        i = self.indices[idx]\n",
    "        img = self.images[i].astype(np.uint8)\n",
    "        label = self.labels[i]\n",
    "        img = np.expand_dims(img, axis=-1)  # (H,W,1)\n",
    "        if self.transform:\n",
    "            img = self.transform(img)\n",
    "        return img, label\n",
    "\n",
    "# ---------------------------\n",
    "# 3. Enhanced Transforms\n",
    "# ---------------------------\n",
    "train_transform = transforms.Compose([\n",
    "    transforms.ToPILImage(),\n",
    "    transforms.Resize((256, 256)),\n",
    "    transforms.RandomCrop(224),\n",
    "    transforms.Grayscale(num_output_channels=3),  # Convert to RGB\n",
    "    transforms.RandomHorizontalFlip(),\n",
    "    transforms.RandomVerticalFlip(),\n",
    "    transforms.RandomRotation(30),\n",
    "    transforms.RandomAffine(degrees=0, translate=(0.1, 0.1), scale=(0.9, 1.1)),\n",
    "    transforms.ColorJitter(brightness=0.3, contrast=0.3, saturation=0.2),\n",
    "    transforms.ToTensor(),\n",
    "    transforms.Normalize(mean=[0.485, 0.456, 0.406], std=[0.229, 0.224, 0.225]),\n",
    "    transforms.RandomErasing(p=0.2)\n",
    "])\n",
    "\n",
    "val_transform = transforms.Compose([\n",
    "    transforms.ToPILImage(),\n",
    "    transforms.Resize((224, 224)),\n",
    "    transforms.Grayscale(num_output_channels=3),\n",
    "    transforms.ToTensor(),\n",
    "    transforms.Normalize(mean=[0.485, 0.456, 0.406], std=[0.229, 0.224, 0.225])\n",
    "])\n",
    "\n",
    "train_dataset = WasteDataset(image_array, y, train_idx, transform=train_transform)\n",
    "val_dataset = WasteDataset(image_array, y, val_idx, transform=val_transform)\n",
    "test_dataset = WasteDataset(image_array, y, test_idx, transform=val_transform)\n",
    "\n",
    "train_loader = DataLoader(train_dataset, batch_size=16, shuffle=True, num_workers=0, pin_memory=True)\n",
    "val_loader = DataLoader(val_dataset, batch_size=16, num_workers=0, pin_memory=True)\n",
    "test_loader = DataLoader(test_dataset, batch_size=16, num_workers=0, pin_memory=True)\n",
    "\n",
    "# ---------------------------\n",
    "# 4. Custom CNN Model\n",
    "# ---------------------------\n",
    "class ImprovedCNN(nn.Module):\n",
    "    def __init__(self, num_classes, input_channels=3):\n",
    "        super(ImprovedCNN, self).__init__()\n",
    "        self.conv1 = nn.Conv2d(input_channels, 64, 3, padding=1)\n",
    "        self.bn1 = nn.BatchNorm2d(64)\n",
    "        self.conv2 = nn.Conv2d(64, 128, 3, padding=1)\n",
    "        self.bn2 = nn.BatchNorm2d(128)\n",
    "        self.conv3 = nn.Conv2d(128, 256, 3, padding=1)\n",
    "        self.bn3 = nn.BatchNorm2d(256)\n",
    "        self.conv4 = nn.Conv2d(256, 512, 3, padding=1)\n",
    "        self.bn4 = nn.BatchNorm2d(512)\n",
    "        self.conv5 = nn.Conv2d(512, 512, 3, padding=1)\n",
    "        self.bn5 = nn.BatchNorm2d(512)\n",
    "        \n",
    "        self.pool = nn.MaxPool2d(2, 2)\n",
    "        self.adapt_pool = nn.AdaptiveAvgPool2d((4, 4))\n",
    "        \n",
    "        self.fc1 = nn.Linear(512*4*4, 512)\n",
    "        self.dropout1 = nn.Dropout(0.5)\n",
    "        self.fc2 = nn.Linear(512, 256)\n",
    "        self.dropout2 = nn.Dropout(0.3)\n",
    "        self.fc3 = nn.Linear(256, num_classes)\n",
    "\n",
    "    def forward(self, x):\n",
    "        x = F.relu(self.bn1(self.conv1(x)))\n",
    "        x = self.pool(x)\n",
    "        x = F.relu(self.bn2(self.conv2(x)))\n",
    "        x = self.pool(x)\n",
    "        x = F.relu(self.bn3(self.conv3(x)))\n",
    "        x = self.pool(x)\n",
    "        x = F.relu(self.bn4(self.conv4(x)))\n",
    "        x = self.pool(x)\n",
    "        x = F.relu(self.bn5(self.conv5(x)))\n",
    "        x = self.pool(x)\n",
    "        x = self.adapt_pool(x)\n",
    "        x = x.view(x.size(0), -1)\n",
    "        x = F.relu(self.fc1(x))\n",
    "        x = self.dropout1(x)\n",
    "        x = F.relu(self.fc2(x))\n",
    "        x = self.dropout2(x)\n",
    "        x = self.fc3(x)\n",
    "        return x\n",
    "\n",
    "print(\"Using Custom Improved CNN\")\n",
    "model = ImprovedCNN(num_classes, input_channels=3)\n",
    "model = model.to(device)\n",
    "print(f\"Model parameters: {sum(p.numel() for p in model.parameters() if p.requires_grad):,}\")\n",
    "\n",
    "# ---------------------------\n",
    "# 5. Label Smoothing Loss\n",
    "# ---------------------------\n",
    "class LabelSmoothingCrossEntropy(nn.Module):\n",
    "    def __init__(self, epsilon=0.1, weight=None):\n",
    "        super().__init__()\n",
    "        self.epsilon = epsilon\n",
    "        self.weight = weight\n",
    "    \n",
    "    def forward(self, output, target):\n",
    "        n_class = output.size(1)\n",
    "        log_preds = F.log_softmax(output, dim=1)\n",
    "        loss = -log_preds.sum(dim=1).mean()\n",
    "        nll = F.nll_loss(log_preds, target, weight=self.weight)\n",
    "        return (1 - self.epsilon) * nll + self.epsilon * loss / n_class\n",
    "\n",
    "# Compute class weights\n",
    "class_weights = compute_class_weight(\n",
    "    class_weight=\"balanced\",\n",
    "    classes=np.unique(y[train_idx]),\n",
    "    y=y[train_idx]\n",
    ")\n",
    "class_weights = torch.tensor(class_weights, dtype=torch.float32).to(device)\n",
    "print(f\"Class weights: {class_weights}\")\n",
    "\n",
    "criterion = LabelSmoothingCrossEntropy(epsilon=0.1, weight=class_weights)\n",
    "\n",
    "# ---------------------------\n",
    "# 6. Optimizer and Scheduler\n",
    "# ---------------------------\n",
    "optimizer = optim.Adam(model.parameters(), lr=0.001, weight_decay=1e-4)\n",
    "scheduler = optim.lr_scheduler.ReduceLROnPlateau(\n",
    "    optimizer, mode='max', factor=0.5, patience=3, min_lr=1e-7\n",
    ")\n",
    "\n",
    "# ---------------------------\n",
    "# 7. Training loop\n",
    "# ---------------------------\n",
    "num_epochs = 50\n",
    "best_val_acc = 0\n",
    "patience = 10\n",
    "trigger_times = 0\n",
    "train_losses, val_losses = [], []\n",
    "train_accs, val_accs = [], []\n",
    "\n",
    "print(\"\\nStarting training...\")\n",
    "for epoch in range(num_epochs):\n",
    "    # Training\n",
    "    model.train()\n",
    "    running_loss, correct, total = 0, 0, 0\n",
    "    loop = tqdm(enumerate(train_loader), total=len(train_loader), \n",
    "                desc=f\"Epoch {epoch+1}/{num_epochs} [Train]\")\n",
    "    \n",
    "    for i, (X_batch, y_batch) in loop:\n",
    "        X_batch, y_batch = X_batch.to(device), y_batch.to(device)\n",
    "        optimizer.zero_grad()\n",
    "        outputs = model(X_batch)\n",
    "        loss = criterion(outputs, y_batch)\n",
    "        loss.backward()\n",
    "        \n",
    "        # Gradient clipping\n",
    "        torch.nn.utils.clip_grad_norm_(model.parameters(), max_norm=1.0)\n",
    "        \n",
    "        optimizer.step()\n",
    "\n",
    "        running_loss += loss.item() * X_batch.size(0)\n",
    "        _, predicted = torch.max(outputs, 1)\n",
    "        correct += (predicted == y_batch).sum().item()\n",
    "        total += y_batch.size(0)\n",
    "\n",
    "        loop.set_postfix(loss=running_loss/total, acc=correct/total)\n",
    "\n",
    "    train_loss = running_loss / total\n",
    "    train_acc = correct / total\n",
    "    train_losses.append(train_loss)\n",
    "    train_accs.append(train_acc)\n",
    "\n",
    "    # Validation\n",
    "    model.eval()\n",
    "    val_loss, correct, total = 0, 0, 0\n",
    "    loop_val = tqdm(val_loader, desc=f\"Epoch {epoch+1}/{num_epochs} [Val]\")\n",
    "    \n",
    "    with torch.no_grad():\n",
    "        for X_batch, y_batch in loop_val:\n",
    "            X_batch, y_batch = X_batch.to(device), y_batch.to(device)\n",
    "            outputs = model(X_batch)\n",
    "            loss = criterion(outputs, y_batch)\n",
    "            val_loss += loss.item() * X_batch.size(0)\n",
    "            _, predicted = torch.max(outputs, 1)\n",
    "            correct += (predicted == y_batch).sum().item()\n",
    "            total += y_batch.size(0)\n",
    "            loop_val.set_postfix(loss=val_loss/total, acc=correct/total)\n",
    "\n",
    "    val_loss = val_loss / total\n",
    "    val_acc = correct / total\n",
    "    val_losses.append(val_loss)\n",
    "    val_accs.append(val_acc)\n",
    "\n",
    "    print(f\"Epoch {epoch+1}/{num_epochs} | Train Loss: {train_loss:.4f} | Train Acc: {train_acc:.4f} | Val Loss: {val_loss:.4f} | Val Acc: {val_acc:.4f}\")\n",
    "\n",
    "    # Learning rate scheduling\n",
    "    scheduler.step(val_acc)\n",
    "    \n",
    "    # Early stopping\n",
    "    if val_acc > best_val_acc:\n",
    "        best_val_acc = val_acc\n",
    "        trigger_times = 0\n",
    "        torch.save({\n",
    "            'epoch': epoch,\n",
    "            'model_state_dict': model.state_dict(),\n",
    "            'optimizer_state_dict': optimizer.state_dict(),\n",
    "            'val_acc': val_acc,\n",
    "        }, \"best_model.pth\")\n",
    "        print(f\"✓ Best model saved with val_acc: {val_acc:.4f}\")\n",
    "    else:\n",
    "        trigger_times += 1\n",
    "        if trigger_times >= patience:\n",
    "            print(f\"Early stopping triggered at epoch {epoch+1}!\")\n",
    "            break\n",
    "\n",
    "# ---------------------------\n",
    "# 8. Plot training history\n",
    "# ---------------------------\n",
    "plt.figure(figsize=(14, 5))\n",
    "\n",
    "plt.subplot(1, 2, 1)\n",
    "plt.plot(train_losses, label='Train Loss')\n",
    "plt.plot(val_losses, label='Val Loss')\n",
    "plt.xlabel('Epoch')\n",
    "plt.ylabel('Loss')\n",
    "plt.title('Training and Validation Loss')\n",
    "plt.legend()\n",
    "plt.grid(True)\n",
    "\n",
    "plt.subplot(1, 2, 2)\n",
    "plt.plot(train_accs, label='Train Accuracy')\n",
    "plt.plot(val_accs, label='Val Accuracy')\n",
    "plt.xlabel('Epoch')\n",
    "plt.ylabel('Accuracy')\n",
    "plt.title('Training and Validation Accuracy')\n",
    "plt.legend()\n",
    "plt.grid(True)\n",
    "\n",
    "plt.tight_layout()\n",
    "plt.savefig('training_history.png', dpi=300, bbox_inches='tight')\n",
    "plt.show()\n",
    "\n",
    "# ---------------------------\n",
    "# 9. Test evaluation\n",
    "# ---------------------------\n",
    "checkpoint = torch.load(\"best_model.pth\")\n",
    "model.load_state_dict(checkpoint['model_state_dict'])\n",
    "print(f\"\\nLoaded best model from epoch {checkpoint['epoch']+1}\")\n",
    "\n",
    "model.eval()\n",
    "y_true, y_pred, y_probs = [], [], []\n",
    "\n",
    "with torch.no_grad():\n",
    "    loop_test = tqdm(test_loader, desc=\"Testing\")\n",
    "    for X_batch, y_batch in loop_test:\n",
    "        X_batch, y_batch = X_batch.to(device), y_batch.to(device)\n",
    "        outputs = model(X_batch)\n",
    "        probs = F.softmax(outputs, dim=1)\n",
    "        _, predicted = torch.max(outputs, 1)\n",
    "        y_true.extend(y_batch.cpu().numpy())\n",
    "        y_pred.extend(predicted.cpu().numpy())\n",
    "        y_probs.extend(probs.cpu().numpy())\n",
    "\n",
    "test_acc = np.mean(np.array(y_true) == np.array(y_pred))\n",
    "print(f\"\\n{'='*50}\")\n",
    "print(f\"Test Accuracy: {test_acc*100:.2f}%\")\n",
    "print(f\"{'='*50}\\n\")\n",
    "\n",
    "# ---------------------------\n",
    "# 10. Confusion matrix\n",
    "# ---------------------------\n",
    "cm = confusion_matrix(y_true, y_pred)\n",
    "plt.figure(figsize=(12, 10))\n",
    "sns.heatmap(cm, annot=True, fmt=\"d\", cmap='Blues',\n",
    "            xticklabels=encoder.classes_, yticklabels=encoder.classes_)\n",
    "plt.xlabel(\"Predicted\", fontsize=12)\n",
    "plt.ylabel(\"True\", fontsize=12)\n",
    "plt.title(f\"Confusion Matrix (Test Accuracy: {test_acc*100:.2f}%)\", fontsize=14)\n",
    "plt.xticks(rotation=45, ha='right')\n",
    "plt.yticks(rotation=0)\n",
    "plt.tight_layout()\n",
    "plt.savefig('confusion_matrix.png', dpi=300, bbox_inches='tight')\n",
    "plt.show()\n",
    "\n",
    "# ---------------------------\n",
    "# 11. Classification report\n",
    "# ---------------------------\n",
    "print(\"\\nClassification Report:\")\n",
    "print(\"=\"*70)\n",
    "print(classification_report(y_true, y_pred, target_names=[str(c) for c in encoder.classes_], digits=4))\n",
    "\n",
    "# ---------------------------\n",
    "# 12. Per-class accuracy\n",
    "# ---------------------------\n",
    "print(\"\\nPer-Class Accuracy:\")\n",
    "print(\"=\"*70)\n",
    "for i, class_name in enumerate(encoder.classes_):\n",
    "    class_mask = np.array(y_true) == i\n",
    "    if class_mask.sum() > 0:\n",
    "        class_acc = np.mean(np.array(y_pred)[class_mask] == i)\n",
    "        print(f\"{str(class_name):20s}: {class_acc*100:6.2f}% ({class_mask.sum()} samples)\")\n",
    "\n",
    "print(\"\\n✓ Training complete!\")\n",
    "print(f\"Best validation accuracy: {best_val_acc*100:.2f}%\")\n",
    "print(f\"Final test accuracy: {test_acc*100:.2f}%\")"
   ]
  }
 ],
 "metadata": {
  "kernelspec": {
   "display_name": "env",
   "language": "python",
   "name": "python3"
  },
  "language_info": {
   "codemirror_mode": {
    "name": "ipython",
    "version": 3
   },
   "file_extension": ".py",
   "mimetype": "text/x-python",
   "name": "python",
   "nbconvert_exporter": "python",
   "pygments_lexer": "ipython3",
   "version": "3.10.11"
  }
 },
 "nbformat": 4,
 "nbformat_minor": 5
}
