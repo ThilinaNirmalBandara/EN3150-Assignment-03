{
 "cells": [
  {
   "cell_type": "markdown",
   "id": "0eb9625e",
   "metadata": {},
   "source": [
    "# Model and Hyperparameter Comparison\n",
    "\n",
    "## Purpose\n",
    "\n",
    "I created this script to systematically compare different CNN architectures and hyperparameters for my waste classification project. Instead of manually trying different settings one by one, this automates the entire process and helps identify which combination works best.\n",
    "\n",
    "## What This Script Does\n",
    "\n",
    "The script trains and evaluates two different CNN models with various hyperparameter configurations. It tests 10 different setups total (5 for each model) and provides a comprehensive comparison of their performance.\n",
    "\n",
    "---\n",
    "\n",
    "## Models Being Tested\n",
    "\n",
    "### Model 1: BetterCNN (approximately 8 million parameters)\n",
    "- This is the smaller, faster model from my initial experiments\n",
    "- Architecture: 4 residual layers (64 → 128 → 256 → 512 channels)\n",
    "- Advantage: Trains faster, good for quick iterations\n",
    "- Configurations tested: Config 1-5\n",
    "\n",
    "### Model 2: BigCNN (approximately 20 million parameters)\n",
    "- Larger model with more capacity\n",
    "- Architecture: 5 residual layers with double residual blocks per layer\n",
    "- Advantage: Can potentially learn more complex patterns\n",
    "- Configurations tested: Config 6-10\n",
    "\n",
    "---\n",
    "\n",
    "## Hyperparameters Being Tested\n",
    "\n",
    "Each configuration tests different combinations of:\n",
    "\n",
    "- **Learning rates**: ranging from 0.0003 to 0.01\n",
    "- **Optimizers**: Adam, AdamW, and SGD with momentum\n",
    "- **Learning rate schedulers**: ReduceLROnPlateau, CosineAnnealing, OneCycleLR\n",
    "- **Batch sizes**: 16, 24, and 32\n",
    "- **Regularization techniques**: different weight decay values and label smoothing amounts\n",
    "- **Data augmentation levels**: varying degrees of rotation, flipping, and color jitter\n",
    "\n",
    "---\n",
    "\n",
    "## Output Files Generated\n",
    "\n",
    "### 1. all_configurations_comparison.csv\n",
    "Spreadsheet-friendly table containing:\n",
    "- Configuration ID and name\n",
    "- Model type\n",
    "- Test and validation accuracy\n",
    "- Training time\n",
    "- Key hyperparameters\n",
    "\n",
    "### 2. all_configurations_comparison.png\n",
    "Visual dashboard with six plots:\n",
    "- Bar chart comparing test accuracy across all configs\n",
    "- Model size vs accuracy comparison\n",
    "- Validation vs test accuracy scatter plot\n",
    "- Training time comparison\n",
    "- Learning curves for the best model\n",
    "- Top 5 configurations ranked\n",
    "\n",
    "### 3. model_config_X.pth (where X = 1 to 10)\n",
    "Saved PyTorch model checkpoint for each configuration, containing:\n",
    "- Trained model weights\n",
    "- Optimizer state\n",
    "- Training metrics\n",
    "- Configuration details\n",
    "\n",
    "### 4. config_X_results.json (where X = 1 to 10)\n",
    "Detailed JSON file for each configuration with:\n",
    "- Complete hyperparameter settings\n",
    "- Training history (loss and accuracy per epoch)\n",
    "- Per-class accuracy breakdown\n",
    "- Total training time\n",
    "\n",
    "---\n",
    "\n",
    "## How to Run\n",
    "\n",
    "```bash\n",
    "python model_hyperparameter_comparison.py\n",
    "```\n",
    "\n",
    "**Expected runtime:** Approximately 2-4 hours total\n",
    "- Each configuration takes 20-60 minutes depending on GPU\n",
    "- All 10 configurations run sequentially\n",
    "- Progress bars show training status\n",
    "\n",
    "---\n",
    "\n",
    "## Interpreting Results and Choosing a Configuration\n",
    "\n",
    "After completion, the script prints a ranked comparison table. Here's how to choose:\n",
    "\n",
    "### If prioritizing accuracy:\n",
    "Look at the top-ranked configuration by test accuracy. The script sorts all results from highest to lowest test accuracy.\n",
    "\n",
    "### If prioritizing training speed:\n",
    "Choose from BetterCNN configurations (1-5) as they have fewer parameters and train faster.\n",
    "\n",
    "### If certain classes are more important:\n",
    "Check the per-class accuracy breakdown in the detailed results JSON files. Some configs might perform better on specific waste categories.\n",
    "\n",
    "### For balanced performance:\n",
    "Look for configurations that achieve >70% test accuracy while maintaining reasonable training time.\n",
    "\n",
    "---\n",
    "\n",
    "## Example Output Summary\n",
    "\n",
    "```\n",
    "BEST CONFIGURATION: CONFIG 7\n",
    "Model: BigCNN\n",
    "Test Accuracy: 72.45%\n",
    "Val Accuracy: 71.80%\n",
    "Training Time: 28.3 minutes\n",
    "\n",
    "Per-Class Accuracy:\n",
    "  cardboard: 78.50%\n",
    "  glass: 75.30%\n",
    "  metal: 70.20%\n",
    "  ...\n",
    "```\n",
    "---\n",
    "\n",
    "## Required Files\n",
    "\n",
    "These files must be in the same directory as the script:\n",
    "- `images.npy` - preprocessed image data\n",
    "- `labels.npy` - encoded labels\n",
    "- `class_names.npy` - waste category names\n",
    "- `split_train.npy` - training set indices\n",
    "- `split_val.npy` - validation set indices\n",
    "- `split_test.npy` - test set indices\n",
    "\n",
    "---\n",
    "\n",
    "## Notes\n",
    "\n",
    "- The script uses early stopping (patience=10-15 epochs) to prevent unnecessary training\n",
    "- All models are trained with the same data splits for fair comparison\n",
    "- Class weights are automatically computed to handle class imbalance\n",
    "- Results are saved after each configuration completes, so partial results are preserved even if interrupted"
   ]
  },
  {
   "cell_type": "code",
   "execution_count": 2,
   "id": "cc46f555",
   "metadata": {},
   "outputs": [
    {
     "name": "stdout",
     "output_type": "stream",
     "text": [
      "Using device: cuda\n",
      "Number of classes: 9\n",
      "Classes: ['Cardboard' 'Food Organics' 'Glass' 'Metal' 'Miscellaneous Trash' 'Paper'\n",
      " 'Plastic' 'Textile Trash' 'Vegetation']\n",
      "Class distribution: [461 411 420 790 495 500 921 318 436]\n",
      "Train size: 3326, Val size: 713, Test size: 713\n",
      "\n",
      "##########################################################################################\n",
      "# MODEL & HYPERPARAMETER COMPARISON\n",
      "# Models: BetterCNN (~8M params) vs BigCNN (~20M params)\n",
      "# Total Configurations: 10\n",
      "##########################################################################################\n",
      "\n",
      "\n",
      "******************************************************************************************\n",
      "* RUNNING CONFIG 1/10\n",
      "******************************************************************************************\n",
      "\n",
      "==========================================================================================\n",
      "CONFIG 1: BetterCNN_Baseline\n",
      "==========================================================================================\n",
      "  Model:          BetterCNN\n",
      "  Learning Rate:  0.001\n",
      "  Batch Size:     16\n",
      "  Optimizer:      Adam\n",
      "  Scheduler:      ReduceLROnPlateau\n",
      "  Weight Decay:   0.0001\n",
      "  Label Smooth:   0.1\n",
      "  Epochs:         20\n",
      "==========================================================================================\n",
      "\n",
      "Model parameters: 9,026,313\n"
     ]
    },
    {
     "name": "stderr",
     "output_type": "stream",
     "text": [
      "                                                                                           \r"
     ]
    },
    {
     "name": "stdout",
     "output_type": "stream",
     "text": [
      "Epoch  1/20 | Train: Loss=2.2028 Acc=0.2087 | Val: Loss=1.8457 Acc=0.2609\n",
      "  ✓ Best saved! Val=0.2609, Test=0.2777\n"
     ]
    },
    {
     "name": "stderr",
     "output_type": "stream",
     "text": [
      "                                                                                           \r"
     ]
    },
    {
     "name": "stdout",
     "output_type": "stream",
     "text": [
      "Epoch  2/20 | Train: Loss=1.9377 Acc=0.2805 | Val: Loss=1.9697 Acc=0.3156\n",
      "  ✓ Best saved! Val=0.3156, Test=0.3100\n"
     ]
    },
    {
     "name": "stderr",
     "output_type": "stream",
     "text": [
      "                                                                                           \r"
     ]
    },
    {
     "name": "stdout",
     "output_type": "stream",
     "text": [
      "Epoch  3/20 | Train: Loss=1.8575 Acc=0.3208 | Val: Loss=1.6300 Acc=0.4292\n",
      "  ✓ Best saved! Val=0.4292, Test=0.4600\n"
     ]
    },
    {
     "name": "stderr",
     "output_type": "stream",
     "text": [
      "                                                                                           \r"
     ]
    },
    {
     "name": "stdout",
     "output_type": "stream",
     "text": [
      "Epoch  4/20 | Train: Loss=1.8376 Acc=0.3244 | Val: Loss=2.3091 Acc=0.3492\n"
     ]
    },
    {
     "name": "stderr",
     "output_type": "stream",
     "text": [
      "                                                                                           \r"
     ]
    },
    {
     "name": "stdout",
     "output_type": "stream",
     "text": [
      "Epoch  5/20 | Train: Loss=1.8128 Acc=0.3449 | Val: Loss=1.7116 Acc=0.3703\n"
     ]
    },
    {
     "name": "stderr",
     "output_type": "stream",
     "text": [
      "                                                                                           \r"
     ]
    },
    {
     "name": "stdout",
     "output_type": "stream",
     "text": [
      "Epoch  6/20 | Train: Loss=1.7745 Acc=0.3653 | Val: Loss=1.6999 Acc=0.4530\n",
      "  ✓ Best saved! Val=0.4530, Test=0.4404\n"
     ]
    },
    {
     "name": "stderr",
     "output_type": "stream",
     "text": [
      "                                                                                           \r"
     ]
    },
    {
     "name": "stdout",
     "output_type": "stream",
     "text": [
      "Epoch  7/20 | Train: Loss=1.7441 Acc=0.3924 | Val: Loss=1.6997 Acc=0.4600\n",
      "  ✓ Best saved! Val=0.4600, Test=0.4320\n"
     ]
    },
    {
     "name": "stderr",
     "output_type": "stream",
     "text": [
      "                                                                                           \r"
     ]
    },
    {
     "name": "stdout",
     "output_type": "stream",
     "text": [
      "Epoch  8/20 | Train: Loss=1.7226 Acc=0.3990 | Val: Loss=1.6678 Acc=0.4741\n",
      "  ✓ Best saved! Val=0.4741, Test=0.4432\n"
     ]
    },
    {
     "name": "stderr",
     "output_type": "stream",
     "text": [
      "                                                                                           \r"
     ]
    },
    {
     "name": "stdout",
     "output_type": "stream",
     "text": [
      "Epoch  9/20 | Train: Loss=1.6919 Acc=0.4092 | Val: Loss=1.5661 Acc=0.5133\n",
      "  ✓ Best saved! Val=0.5133, Test=0.5372\n"
     ]
    },
    {
     "name": "stderr",
     "output_type": "stream",
     "text": [
      "                                                                                            \r"
     ]
    },
    {
     "name": "stdout",
     "output_type": "stream",
     "text": [
      "Epoch 10/20 | Train: Loss=1.6726 Acc=0.4339 | Val: Loss=1.6768 Acc=0.4684\n"
     ]
    },
    {
     "name": "stderr",
     "output_type": "stream",
     "text": [
      "                                                                                            \r"
     ]
    },
    {
     "name": "stdout",
     "output_type": "stream",
     "text": [
      "Epoch 11/20 | Train: Loss=1.6256 Acc=0.4588 | Val: Loss=1.5384 Acc=0.4797\n"
     ]
    },
    {
     "name": "stderr",
     "output_type": "stream",
     "text": [
      "                                                                                            \r"
     ]
    },
    {
     "name": "stdout",
     "output_type": "stream",
     "text": [
      "Epoch 12/20 | Train: Loss=1.6163 Acc=0.4606 | Val: Loss=1.5496 Acc=0.4783\n"
     ]
    },
    {
     "name": "stderr",
     "output_type": "stream",
     "text": [
      "                                                                                            \r"
     ]
    },
    {
     "name": "stdout",
     "output_type": "stream",
     "text": [
      "Epoch 13/20 | Train: Loss=1.6089 Acc=0.4630 | Val: Loss=1.7086 Acc=0.4656\n"
     ]
    },
    {
     "name": "stderr",
     "output_type": "stream",
     "text": [
      "                                                                                            \r"
     ]
    },
    {
     "name": "stdout",
     "output_type": "stream",
     "text": [
      "Epoch 14/20 | Train: Loss=1.5209 Acc=0.5027 | Val: Loss=1.4313 Acc=0.5554\n",
      "  ✓ Best saved! Val=0.5554, Test=0.5708\n"
     ]
    },
    {
     "name": "stderr",
     "output_type": "stream",
     "text": [
      "                                                                                            \r"
     ]
    },
    {
     "name": "stdout",
     "output_type": "stream",
     "text": [
      "Epoch 15/20 | Train: Loss=1.5002 Acc=0.5195 | Val: Loss=1.5989 Acc=0.4797\n"
     ]
    },
    {
     "name": "stderr",
     "output_type": "stream",
     "text": [
      "                                                                                            \r"
     ]
    },
    {
     "name": "stdout",
     "output_type": "stream",
     "text": [
      "Epoch 16/20 | Train: Loss=1.5026 Acc=0.5186 | Val: Loss=1.4009 Acc=0.5652\n",
      "  ✓ Best saved! Val=0.5652, Test=0.5764\n"
     ]
    },
    {
     "name": "stderr",
     "output_type": "stream",
     "text": [
      "                                                                                            \r"
     ]
    },
    {
     "name": "stdout",
     "output_type": "stream",
     "text": [
      "Epoch 17/20 | Train: Loss=1.4807 Acc=0.5229 | Val: Loss=1.3488 Acc=0.5877\n",
      "  ✓ Best saved! Val=0.5877, Test=0.5989\n"
     ]
    },
    {
     "name": "stderr",
     "output_type": "stream",
     "text": [
      "                                                                                            \r"
     ]
    },
    {
     "name": "stdout",
     "output_type": "stream",
     "text": [
      "Epoch 18/20 | Train: Loss=1.4490 Acc=0.5343 | Val: Loss=1.6104 Acc=0.5091\n"
     ]
    },
    {
     "name": "stderr",
     "output_type": "stream",
     "text": [
      "                                                                                            \r"
     ]
    },
    {
     "name": "stdout",
     "output_type": "stream",
     "text": [
      "Epoch 19/20 | Train: Loss=1.4788 Acc=0.5225 | Val: Loss=1.4091 Acc=0.5736\n"
     ]
    },
    {
     "name": "stderr",
     "output_type": "stream",
     "text": [
      "                                                                                            \r"
     ]
    },
    {
     "name": "stdout",
     "output_type": "stream",
     "text": [
      "Epoch 20/20 | Train: Loss=1.4187 Acc=0.5701 | Val: Loss=1.3737 Acc=0.5820\n",
      "\n",
      "==========================================================================================\n",
      "RESULTS - CONFIG 1:\n",
      "  Best Val Acc:   58.77%\n",
      "  Final Test Acc: 59.89%\n",
      "  Training Time:  26.6 minutes\n",
      "==========================================================================================\n",
      "\n",
      "\n",
      "******************************************************************************************\n",
      "* RUNNING CONFIG 2/10\n",
      "******************************************************************************************\n",
      "\n",
      "==========================================================================================\n",
      "CONFIG 2: BetterCNN_LowLR_AdamW\n",
      "==========================================================================================\n",
      "  Model:          BetterCNN\n",
      "  Learning Rate:  0.0005\n",
      "  Batch Size:     16\n",
      "  Optimizer:      AdamW\n",
      "  Scheduler:      CosineAnnealing\n",
      "  Weight Decay:   0.0005\n",
      "  Label Smooth:   0.1\n",
      "  Epochs:         20\n",
      "==========================================================================================\n",
      "\n",
      "Model parameters: 9,026,313\n"
     ]
    },
    {
     "name": "stderr",
     "output_type": "stream",
     "text": [
      "                                                                                           \r"
     ]
    },
    {
     "name": "stdout",
     "output_type": "stream",
     "text": [
      "Epoch  1/20 | Train: Loss=2.1306 Acc=0.2186 | Val: Loss=1.8498 Acc=0.3029\n",
      "  ✓ Best saved! Val=0.3029, Test=0.3534\n"
     ]
    },
    {
     "name": "stderr",
     "output_type": "stream",
     "text": [
      "                                                                                           \r"
     ]
    },
    {
     "name": "stdout",
     "output_type": "stream",
     "text": [
      "Epoch  2/20 | Train: Loss=1.8605 Acc=0.3268 | Val: Loss=1.6696 Acc=0.3997\n",
      "  ✓ Best saved! Val=0.3997, Test=0.4292\n"
     ]
    },
    {
     "name": "stderr",
     "output_type": "stream",
     "text": [
      "                                                                                           \r"
     ]
    },
    {
     "name": "stdout",
     "output_type": "stream",
     "text": [
      "Epoch  3/20 | Train: Loss=1.7813 Acc=0.3707 | Val: Loss=1.6677 Acc=0.4418\n",
      "  ✓ Best saved! Val=0.4418, Test=0.4264\n"
     ]
    },
    {
     "name": "stderr",
     "output_type": "stream",
     "text": [
      "                                                                                           \r"
     ]
    },
    {
     "name": "stdout",
     "output_type": "stream",
     "text": [
      "Epoch  4/20 | Train: Loss=1.7276 Acc=0.3918 | Val: Loss=1.6939 Acc=0.4362\n"
     ]
    },
    {
     "name": "stderr",
     "output_type": "stream",
     "text": [
      "                                                                                           \r"
     ]
    },
    {
     "name": "stdout",
     "output_type": "stream",
     "text": [
      "Epoch  5/20 | Train: Loss=1.7115 Acc=0.4023 | Val: Loss=1.6069 Acc=0.5231\n",
      "  ✓ Best saved! Val=0.5231, Test=0.5021\n"
     ]
    },
    {
     "name": "stderr",
     "output_type": "stream",
     "text": [
      "                                                                                           \r"
     ]
    },
    {
     "name": "stdout",
     "output_type": "stream",
     "text": [
      "Epoch  6/20 | Train: Loss=1.6484 Acc=0.4260 | Val: Loss=1.5691 Acc=0.5007\n"
     ]
    },
    {
     "name": "stderr",
     "output_type": "stream",
     "text": [
      "                                                                                           \r"
     ]
    },
    {
     "name": "stdout",
     "output_type": "stream",
     "text": [
      "Epoch  7/20 | Train: Loss=1.6057 Acc=0.4468 | Val: Loss=1.4729 Acc=0.5484\n",
      "  ✓ Best saved! Val=0.5484, Test=0.5470\n"
     ]
    },
    {
     "name": "stderr",
     "output_type": "stream",
     "text": [
      "                                                                                           \r"
     ]
    },
    {
     "name": "stdout",
     "output_type": "stream",
     "text": [
      "Epoch  8/20 | Train: Loss=1.5574 Acc=0.4880 | Val: Loss=1.4780 Acc=0.5610\n",
      "  ✓ Best saved! Val=0.5610, Test=0.5554\n"
     ]
    },
    {
     "name": "stderr",
     "output_type": "stream",
     "text": [
      "                                                                                           \r"
     ]
    },
    {
     "name": "stdout",
     "output_type": "stream",
     "text": [
      "Epoch  9/20 | Train: Loss=1.5499 Acc=0.4916 | Val: Loss=1.4468 Acc=0.5456\n"
     ]
    },
    {
     "name": "stderr",
     "output_type": "stream",
     "text": [
      "                                                                                            \r"
     ]
    },
    {
     "name": "stdout",
     "output_type": "stream",
     "text": [
      "Epoch 10/20 | Train: Loss=1.5317 Acc=0.4976 | Val: Loss=1.5158 Acc=0.5554\n"
     ]
    },
    {
     "name": "stderr",
     "output_type": "stream",
     "text": [
      "                                                                                            \r"
     ]
    },
    {
     "name": "stdout",
     "output_type": "stream",
     "text": [
      "Epoch 11/20 | Train: Loss=1.4902 Acc=0.5271 | Val: Loss=1.3221 Acc=0.6171\n",
      "  ✓ Best saved! Val=0.6171, Test=0.6115\n"
     ]
    },
    {
     "name": "stderr",
     "output_type": "stream",
     "text": [
      "                                                                                            \r"
     ]
    },
    {
     "name": "stdout",
     "output_type": "stream",
     "text": [
      "Epoch 12/20 | Train: Loss=1.4604 Acc=0.5391 | Val: Loss=1.4008 Acc=0.6059\n"
     ]
    },
    {
     "name": "stderr",
     "output_type": "stream",
     "text": [
      "                                                                                            \r"
     ]
    },
    {
     "name": "stdout",
     "output_type": "stream",
     "text": [
      "Epoch 13/20 | Train: Loss=1.4495 Acc=0.5442 | Val: Loss=1.2868 Acc=0.6227\n",
      "  ✓ Best saved! Val=0.6227, Test=0.6157\n"
     ]
    },
    {
     "name": "stderr",
     "output_type": "stream",
     "text": [
      "                                                                                            \r"
     ]
    },
    {
     "name": "stdout",
     "output_type": "stream",
     "text": [
      "Epoch 14/20 | Train: Loss=1.4295 Acc=0.5559 | Val: Loss=1.3052 Acc=0.6241\n",
      "  ✓ Best saved! Val=0.6241, Test=0.6143\n"
     ]
    },
    {
     "name": "stderr",
     "output_type": "stream",
     "text": [
      "                                                                                            \r"
     ]
    },
    {
     "name": "stdout",
     "output_type": "stream",
     "text": [
      "Epoch 15/20 | Train: Loss=1.4225 Acc=0.5568 | Val: Loss=1.3384 Acc=0.6143\n"
     ]
    },
    {
     "name": "stderr",
     "output_type": "stream",
     "text": [
      "                                                                                            \r"
     ]
    },
    {
     "name": "stdout",
     "output_type": "stream",
     "text": [
      "Epoch 16/20 | Train: Loss=1.3994 Acc=0.5670 | Val: Loss=1.2777 Acc=0.6466\n",
      "  ✓ Best saved! Val=0.6466, Test=0.6255\n"
     ]
    },
    {
     "name": "stderr",
     "output_type": "stream",
     "text": [
      "                                                                                            \r"
     ]
    },
    {
     "name": "stdout",
     "output_type": "stream",
     "text": [
      "Epoch 17/20 | Train: Loss=1.3847 Acc=0.5740 | Val: Loss=1.3209 Acc=0.6311\n"
     ]
    },
    {
     "name": "stderr",
     "output_type": "stream",
     "text": [
      "                                                                                            \r"
     ]
    },
    {
     "name": "stdout",
     "output_type": "stream",
     "text": [
      "Epoch 18/20 | Train: Loss=1.3789 Acc=0.5755 | Val: Loss=1.2598 Acc=0.6466\n"
     ]
    },
    {
     "name": "stderr",
     "output_type": "stream",
     "text": [
      "                                                                                            \r"
     ]
    },
    {
     "name": "stdout",
     "output_type": "stream",
     "text": [
      "Epoch 19/20 | Train: Loss=1.3625 Acc=0.5923 | Val: Loss=1.3019 Acc=0.6269\n"
     ]
    },
    {
     "name": "stderr",
     "output_type": "stream",
     "text": [
      "                                                                                            \r"
     ]
    },
    {
     "name": "stdout",
     "output_type": "stream",
     "text": [
      "Epoch 20/20 | Train: Loss=1.3623 Acc=0.5926 | Val: Loss=1.2713 Acc=0.6536\n",
      "  ✓ Best saved! Val=0.6536, Test=0.6339\n",
      "\n",
      "==========================================================================================\n",
      "RESULTS - CONFIG 2:\n",
      "  Best Val Acc:   65.36%\n",
      "  Final Test Acc: 63.39%\n",
      "  Training Time:  27.5 minutes\n",
      "==========================================================================================\n",
      "\n",
      "\n",
      "******************************************************************************************\n",
      "* RUNNING CONFIG 3/10\n",
      "******************************************************************************************\n",
      "\n",
      "==========================================================================================\n",
      "CONFIG 3: BetterCNN_LargeBatch_OneCycle\n",
      "==========================================================================================\n",
      "  Model:          BetterCNN\n",
      "  Learning Rate:  0.001\n",
      "  Batch Size:     32\n",
      "  Optimizer:      AdamW\n",
      "  Scheduler:      OneCycleLR\n",
      "  Weight Decay:   0.001\n",
      "  Label Smooth:   0.1\n",
      "  Epochs:         20\n",
      "==========================================================================================\n",
      "\n",
      "Model parameters: 9,026,313\n"
     ]
    },
    {
     "name": "stderr",
     "output_type": "stream",
     "text": [
      "                                                                                           \r"
     ]
    },
    {
     "name": "stdout",
     "output_type": "stream",
     "text": [
      "Epoch  1/20 | Train: Loss=2.0135 Acc=0.2517 | Val: Loss=1.7244 Acc=0.4039\n",
      "  ✓ Best saved! Val=0.4039, Test=0.4362\n"
     ]
    },
    {
     "name": "stderr",
     "output_type": "stream",
     "text": [
      "                                                                                           \r"
     ]
    },
    {
     "name": "stdout",
     "output_type": "stream",
     "text": [
      "Epoch  2/20 | Train: Loss=1.8329 Acc=0.3364 | Val: Loss=2.2043 Acc=0.3029\n"
     ]
    },
    {
     "name": "stderr",
     "output_type": "stream",
     "text": [
      "                                                                                           \r"
     ]
    },
    {
     "name": "stdout",
     "output_type": "stream",
     "text": [
      "Epoch  3/20 | Train: Loss=1.8540 Acc=0.3373 | Val: Loss=1.7899 Acc=0.3604\n"
     ]
    },
    {
     "name": "stderr",
     "output_type": "stream",
     "text": [
      "                                                                                           \r"
     ]
    },
    {
     "name": "stdout",
     "output_type": "stream",
     "text": [
      "Epoch  4/20 | Train: Loss=1.9056 Acc=0.3076 | Val: Loss=1.9264 Acc=0.2679\n"
     ]
    },
    {
     "name": "stderr",
     "output_type": "stream",
     "text": [
      "                                                                                           \r"
     ]
    },
    {
     "name": "stdout",
     "output_type": "stream",
     "text": [
      "Epoch  5/20 | Train: Loss=1.9065 Acc=0.3106 | Val: Loss=3.6774 Acc=0.2202\n"
     ]
    },
    {
     "name": "stderr",
     "output_type": "stream",
     "text": [
      "                                                                                          \r"
     ]
    },
    {
     "name": "stdout",
     "output_type": "stream",
     "text": [
      "Epoch  6/20 | Train: Loss=1.9034 Acc=0.3133 | Val: Loss=1.8191 Acc=0.3394\n"
     ]
    },
    {
     "name": "stderr",
     "output_type": "stream",
     "text": [
      "                                                                                           \r"
     ]
    },
    {
     "name": "stdout",
     "output_type": "stream",
     "text": [
      "Epoch  7/20 | Train: Loss=1.8438 Acc=0.3503 | Val: Loss=2.8151 Acc=0.1795\n"
     ]
    },
    {
     "name": "stderr",
     "output_type": "stream",
     "text": [
      "                                                                                           \r"
     ]
    },
    {
     "name": "stdout",
     "output_type": "stream",
     "text": [
      "Epoch  8/20 | Train: Loss=1.7840 Acc=0.3876 | Val: Loss=1.6683 Acc=0.4670\n",
      "  ✓ Best saved! Val=0.4670, Test=0.4011\n"
     ]
    },
    {
     "name": "stderr",
     "output_type": "stream",
     "text": [
      "                                                                                           \r"
     ]
    },
    {
     "name": "stdout",
     "output_type": "stream",
     "text": [
      "Epoch  9/20 | Train: Loss=1.7065 Acc=0.4290 | Val: Loss=1.6223 Acc=0.4628\n"
     ]
    },
    {
     "name": "stderr",
     "output_type": "stream",
     "text": [
      "                                                                                            \r"
     ]
    },
    {
     "name": "stdout",
     "output_type": "stream",
     "text": [
      "Epoch 10/20 | Train: Loss=1.6520 Acc=0.4435 | Val: Loss=1.5351 Acc=0.5456\n",
      "  ✓ Best saved! Val=0.5456, Test=0.5372\n"
     ]
    },
    {
     "name": "stderr",
     "output_type": "stream",
     "text": [
      "                                                                                            \r"
     ]
    },
    {
     "name": "stdout",
     "output_type": "stream",
     "text": [
      "Epoch 11/20 | Train: Loss=1.6325 Acc=0.4591 | Val: Loss=1.3985 Acc=0.5568\n",
      "  ✓ Best saved! Val=0.5568, Test=0.5652\n"
     ]
    },
    {
     "name": "stderr",
     "output_type": "stream",
     "text": [
      "                                                                                            \r"
     ]
    },
    {
     "name": "stdout",
     "output_type": "stream",
     "text": [
      "Epoch 12/20 | Train: Loss=1.5571 Acc=0.5075 | Val: Loss=1.4300 Acc=0.5722\n",
      "  ✓ Best saved! Val=0.5722, Test=0.5792\n"
     ]
    },
    {
     "name": "stderr",
     "output_type": "stream",
     "text": [
      "                                                                                            \r"
     ]
    },
    {
     "name": "stdout",
     "output_type": "stream",
     "text": [
      "Epoch 13/20 | Train: Loss=1.5267 Acc=0.5165 | Val: Loss=1.3400 Acc=0.6101\n",
      "  ✓ Best saved! Val=0.6101, Test=0.5736\n"
     ]
    },
    {
     "name": "stderr",
     "output_type": "stream",
     "text": [
      "                                                                                           \r"
     ]
    },
    {
     "name": "stdout",
     "output_type": "stream",
     "text": [
      "Epoch 14/20 | Train: Loss=1.4998 Acc=0.5198 | Val: Loss=1.4264 Acc=0.6059\n"
     ]
    },
    {
     "name": "stderr",
     "output_type": "stream",
     "text": [
      "                                                                                            \r"
     ]
    },
    {
     "name": "stdout",
     "output_type": "stream",
     "text": [
      "Epoch 15/20 | Train: Loss=1.4717 Acc=0.5346 | Val: Loss=1.3291 Acc=0.6213\n",
      "  ✓ Best saved! Val=0.6213, Test=0.6199\n"
     ]
    },
    {
     "name": "stderr",
     "output_type": "stream",
     "text": [
      "                                                                                            \r"
     ]
    },
    {
     "name": "stdout",
     "output_type": "stream",
     "text": [
      "Epoch 16/20 | Train: Loss=1.4202 Acc=0.5550 | Val: Loss=1.2963 Acc=0.6325\n",
      "  ✓ Best saved! Val=0.6325, Test=0.6213\n"
     ]
    },
    {
     "name": "stderr",
     "output_type": "stream",
     "text": [
      "                                                                                            \r"
     ]
    },
    {
     "name": "stdout",
     "output_type": "stream",
     "text": [
      "Epoch 17/20 | Train: Loss=1.3823 Acc=0.5716 | Val: Loss=1.2953 Acc=0.6269\n"
     ]
    },
    {
     "name": "stderr",
     "output_type": "stream",
     "text": [
      "                                                                                            \r"
     ]
    },
    {
     "name": "stdout",
     "output_type": "stream",
     "text": [
      "Epoch 18/20 | Train: Loss=1.3516 Acc=0.5965 | Val: Loss=1.2469 Acc=0.6592\n",
      "  ✓ Best saved! Val=0.6592, Test=0.6452\n"
     ]
    },
    {
     "name": "stderr",
     "output_type": "stream",
     "text": [
      "                                                                                            \r"
     ]
    },
    {
     "name": "stdout",
     "output_type": "stream",
     "text": [
      "Epoch 19/20 | Train: Loss=1.3516 Acc=0.5899 | Val: Loss=1.2537 Acc=0.6634\n",
      "  ✓ Best saved! Val=0.6634, Test=0.6381\n"
     ]
    },
    {
     "name": "stderr",
     "output_type": "stream",
     "text": [
      "                                                                                            \r"
     ]
    },
    {
     "name": "stdout",
     "output_type": "stream",
     "text": [
      "Epoch 20/20 | Train: Loss=1.3342 Acc=0.5944 | Val: Loss=1.2484 Acc=0.6550\n",
      "\n",
      "==========================================================================================\n",
      "RESULTS - CONFIG 3:\n",
      "  Best Val Acc:   66.34%\n",
      "  Final Test Acc: 63.81%\n",
      "  Training Time:  25.8 minutes\n",
      "==========================================================================================\n",
      "\n",
      "\n",
      "******************************************************************************************\n",
      "* RUNNING CONFIG 4/10\n",
      "******************************************************************************************\n",
      "\n",
      "==========================================================================================\n",
      "CONFIG 4: BetterCNN_LessAugment\n",
      "==========================================================================================\n",
      "  Model:          BetterCNN\n",
      "  Learning Rate:  0.0005\n",
      "  Batch Size:     24\n",
      "  Optimizer:      AdamW\n",
      "  Scheduler:      CosineAnnealing\n",
      "  Weight Decay:   0.0005\n",
      "  Label Smooth:   0.1\n",
      "  Epochs:         20\n",
      "==========================================================================================\n",
      "\n",
      "Model parameters: 9,026,313\n"
     ]
    },
    {
     "name": "stderr",
     "output_type": "stream",
     "text": [
      "                                                                                           \r"
     ]
    },
    {
     "name": "stdout",
     "output_type": "stream",
     "text": [
      "Epoch  1/20 | Train: Loss=2.0037 Acc=0.2751 | Val: Loss=1.7386 Acc=0.4151\n",
      "  ✓ Best saved! Val=0.4151, Test=0.4348\n"
     ]
    },
    {
     "name": "stderr",
     "output_type": "stream",
     "text": [
      "                                                                                           \r"
     ]
    },
    {
     "name": "stdout",
     "output_type": "stream",
     "text": [
      "Epoch  2/20 | Train: Loss=1.7064 Acc=0.3987 | Val: Loss=1.6067 Acc=0.4684\n",
      "  ✓ Best saved! Val=0.4684, Test=0.4783\n"
     ]
    },
    {
     "name": "stderr",
     "output_type": "stream",
     "text": [
      "                                                                                           \r"
     ]
    },
    {
     "name": "stdout",
     "output_type": "stream",
     "text": [
      "Epoch  3/20 | Train: Loss=1.6424 Acc=0.4432 | Val: Loss=1.6342 Acc=0.4446\n"
     ]
    },
    {
     "name": "stderr",
     "output_type": "stream",
     "text": [
      "                                                                                           \r"
     ]
    },
    {
     "name": "stdout",
     "output_type": "stream",
     "text": [
      "Epoch  4/20 | Train: Loss=1.5599 Acc=0.4919 | Val: Loss=1.7677 Acc=0.4530\n"
     ]
    },
    {
     "name": "stderr",
     "output_type": "stream",
     "text": [
      "                                                                                           \r"
     ]
    },
    {
     "name": "stdout",
     "output_type": "stream",
     "text": [
      "Epoch  5/20 | Train: Loss=1.5225 Acc=0.4976 | Val: Loss=1.4932 Acc=0.5442\n",
      "  ✓ Best saved! Val=0.5442, Test=0.5484\n"
     ]
    },
    {
     "name": "stderr",
     "output_type": "stream",
     "text": [
      "                                                                                           \r"
     ]
    },
    {
     "name": "stdout",
     "output_type": "stream",
     "text": [
      "Epoch  6/20 | Train: Loss=1.4797 Acc=0.5213 | Val: Loss=1.6647 Acc=0.4530\n"
     ]
    },
    {
     "name": "stderr",
     "output_type": "stream",
     "text": [
      "                                                                                           \r"
     ]
    },
    {
     "name": "stdout",
     "output_type": "stream",
     "text": [
      "Epoch  7/20 | Train: Loss=1.4518 Acc=0.5331 | Val: Loss=1.5412 Acc=0.5077\n"
     ]
    },
    {
     "name": "stderr",
     "output_type": "stream",
     "text": [
      "                                                                                           \r"
     ]
    },
    {
     "name": "stdout",
     "output_type": "stream",
     "text": [
      "Epoch  8/20 | Train: Loss=1.4218 Acc=0.5667 | Val: Loss=1.3393 Acc=0.5919\n",
      "  ✓ Best saved! Val=0.5919, Test=0.5778\n"
     ]
    },
    {
     "name": "stderr",
     "output_type": "stream",
     "text": [
      "                                                                                           \r"
     ]
    },
    {
     "name": "stdout",
     "output_type": "stream",
     "text": [
      "Epoch  9/20 | Train: Loss=1.4037 Acc=0.5619 | Val: Loss=1.3118 Acc=0.6325\n",
      "  ✓ Best saved! Val=0.6325, Test=0.6157\n"
     ]
    },
    {
     "name": "stderr",
     "output_type": "stream",
     "text": [
      "                                                                                            \r"
     ]
    },
    {
     "name": "stdout",
     "output_type": "stream",
     "text": [
      "Epoch 10/20 | Train: Loss=1.3726 Acc=0.5800 | Val: Loss=1.6816 Acc=0.4783\n"
     ]
    },
    {
     "name": "stderr",
     "output_type": "stream",
     "text": [
      "                                                                                            \r"
     ]
    },
    {
     "name": "stdout",
     "output_type": "stream",
     "text": [
      "Epoch 11/20 | Train: Loss=1.3503 Acc=0.5839 | Val: Loss=1.2763 Acc=0.6381\n",
      "  ✓ Best saved! Val=0.6381, Test=0.6381\n"
     ]
    },
    {
     "name": "stderr",
     "output_type": "stream",
     "text": [
      "                                                                                            \r"
     ]
    },
    {
     "name": "stdout",
     "output_type": "stream",
     "text": [
      "Epoch 12/20 | Train: Loss=1.3270 Acc=0.5959 | Val: Loss=1.2166 Acc=0.6592\n",
      "  ✓ Best saved! Val=0.6592, Test=0.6564\n"
     ]
    },
    {
     "name": "stderr",
     "output_type": "stream",
     "text": [
      "                                                                                            \r"
     ]
    },
    {
     "name": "stdout",
     "output_type": "stream",
     "text": [
      "Epoch 13/20 | Train: Loss=1.3039 Acc=0.6004 | Val: Loss=1.2095 Acc=0.6732\n",
      "  ✓ Best saved! Val=0.6732, Test=0.6718\n"
     ]
    },
    {
     "name": "stderr",
     "output_type": "stream",
     "text": [
      "                                                                                            \r"
     ]
    },
    {
     "name": "stdout",
     "output_type": "stream",
     "text": [
      "Epoch 14/20 | Train: Loss=1.2862 Acc=0.6212 | Val: Loss=1.3086 Acc=0.6269\n"
     ]
    },
    {
     "name": "stderr",
     "output_type": "stream",
     "text": [
      "                                                                                            \r"
     ]
    },
    {
     "name": "stdout",
     "output_type": "stream",
     "text": [
      "Epoch 15/20 | Train: Loss=1.2722 Acc=0.6296 | Val: Loss=1.1913 Acc=0.6606\n"
     ]
    },
    {
     "name": "stderr",
     "output_type": "stream",
     "text": [
      "                                                                                            \r"
     ]
    },
    {
     "name": "stdout",
     "output_type": "stream",
     "text": [
      "Epoch 16/20 | Train: Loss=1.2518 Acc=0.6377 | Val: Loss=1.2580 Acc=0.6227\n"
     ]
    },
    {
     "name": "stderr",
     "output_type": "stream",
     "text": [
      "                                                                                            \r"
     ]
    },
    {
     "name": "stdout",
     "output_type": "stream",
     "text": [
      "Epoch 17/20 | Train: Loss=1.2338 Acc=0.6500 | Val: Loss=1.1736 Acc=0.6802\n",
      "  ✓ Best saved! Val=0.6802, Test=0.6620\n"
     ]
    },
    {
     "name": "stderr",
     "output_type": "stream",
     "text": [
      "                                                                                            \r"
     ]
    },
    {
     "name": "stdout",
     "output_type": "stream",
     "text": [
      "Epoch 18/20 | Train: Loss=1.2280 Acc=0.6569 | Val: Loss=1.1499 Acc=0.6886\n",
      "  ✓ Best saved! Val=0.6886, Test=0.6858\n"
     ]
    },
    {
     "name": "stderr",
     "output_type": "stream",
     "text": [
      "                                                                                            \r"
     ]
    },
    {
     "name": "stdout",
     "output_type": "stream",
     "text": [
      "Epoch 19/20 | Train: Loss=1.2228 Acc=0.6458 | Val: Loss=1.1530 Acc=0.7013\n",
      "  ✓ Best saved! Val=0.7013, Test=0.6718\n"
     ]
    },
    {
     "name": "stderr",
     "output_type": "stream",
     "text": [
      "                                                                                            \r"
     ]
    },
    {
     "name": "stdout",
     "output_type": "stream",
     "text": [
      "Epoch 20/20 | Train: Loss=1.2091 Acc=0.6533 | Val: Loss=1.1509 Acc=0.6886\n",
      "\n",
      "==========================================================================================\n",
      "RESULTS - CONFIG 4:\n",
      "  Best Val Acc:   70.13%\n",
      "  Final Test Acc: 67.18%\n",
      "  Training Time:  28.4 minutes\n",
      "==========================================================================================\n",
      "\n",
      "\n",
      "******************************************************************************************\n",
      "* RUNNING CONFIG 5/10\n",
      "******************************************************************************************\n",
      "\n",
      "==========================================================================================\n",
      "CONFIG 5: BetterCNN_StrongReg\n",
      "==========================================================================================\n",
      "  Model:          BetterCNN\n",
      "  Learning Rate:  0.0003\n",
      "  Batch Size:     32\n",
      "  Optimizer:      AdamW\n",
      "  Scheduler:      CosineAnnealing\n",
      "  Weight Decay:   0.001\n",
      "  Label Smooth:   0.15\n",
      "  Epochs:         20\n",
      "==========================================================================================\n",
      "\n",
      "Model parameters: 9,026,313\n"
     ]
    },
    {
     "name": "stderr",
     "output_type": "stream",
     "text": [
      "                                                                                           \r"
     ]
    },
    {
     "name": "stdout",
     "output_type": "stream",
     "text": [
      "Epoch  1/20 | Train: Loss=2.0313 Acc=0.2658 | Val: Loss=1.7193 Acc=0.4194\n",
      "  ✓ Best saved! Val=0.4194, Test=0.4039\n"
     ]
    },
    {
     "name": "stderr",
     "output_type": "stream",
     "text": [
      "                                                                                           \r"
     ]
    },
    {
     "name": "stdout",
     "output_type": "stream",
     "text": [
      "Epoch  2/20 | Train: Loss=1.7675 Acc=0.3936 | Val: Loss=1.7948 Acc=0.4418\n",
      "  ✓ Best saved! Val=0.4418, Test=0.4446\n"
     ]
    },
    {
     "name": "stderr",
     "output_type": "stream",
     "text": [
      "                                                                                           \r"
     ]
    },
    {
     "name": "stdout",
     "output_type": "stream",
     "text": [
      "Epoch  3/20 | Train: Loss=1.6887 Acc=0.4414 | Val: Loss=1.6770 Acc=0.4923\n",
      "  ✓ Best saved! Val=0.4923, Test=0.4642\n"
     ]
    },
    {
     "name": "stderr",
     "output_type": "stream",
     "text": [
      "                                                                                           \r"
     ]
    },
    {
     "name": "stdout",
     "output_type": "stream",
     "text": [
      "Epoch  4/20 | Train: Loss=1.6396 Acc=0.4591 | Val: Loss=1.4929 Acc=0.5778\n",
      "  ✓ Best saved! Val=0.5778, Test=0.5638\n"
     ]
    },
    {
     "name": "stderr",
     "output_type": "stream",
     "text": [
      "                                                                                           \r"
     ]
    },
    {
     "name": "stdout",
     "output_type": "stream",
     "text": [
      "Epoch  5/20 | Train: Loss=1.6089 Acc=0.5072 | Val: Loss=1.5175 Acc=0.5666\n"
     ]
    },
    {
     "name": "stderr",
     "output_type": "stream",
     "text": [
      "                                                                                          \r"
     ]
    },
    {
     "name": "stdout",
     "output_type": "stream",
     "text": [
      "Epoch  6/20 | Train: Loss=1.6033 Acc=0.5045 | Val: Loss=1.4581 Acc=0.5400\n"
     ]
    },
    {
     "name": "stderr",
     "output_type": "stream",
     "text": [
      "                                                                                           \r"
     ]
    },
    {
     "name": "stdout",
     "output_type": "stream",
     "text": [
      "Epoch  7/20 | Train: Loss=1.5566 Acc=0.5283 | Val: Loss=1.4425 Acc=0.5722\n"
     ]
    },
    {
     "name": "stderr",
     "output_type": "stream",
     "text": [
      "                                                                                          \r"
     ]
    },
    {
     "name": "stdout",
     "output_type": "stream",
     "text": [
      "Epoch  8/20 | Train: Loss=1.5434 Acc=0.5298 | Val: Loss=1.4849 Acc=0.5680\n"
     ]
    },
    {
     "name": "stderr",
     "output_type": "stream",
     "text": [
      "                                                                                           \r"
     ]
    },
    {
     "name": "stdout",
     "output_type": "stream",
     "text": [
      "Epoch  9/20 | Train: Loss=1.5217 Acc=0.5259 | Val: Loss=1.4458 Acc=0.5666\n"
     ]
    },
    {
     "name": "stderr",
     "output_type": "stream",
     "text": [
      "                                                                                            \r"
     ]
    },
    {
     "name": "stdout",
     "output_type": "stream",
     "text": [
      "Epoch 10/20 | Train: Loss=1.4858 Acc=0.5616 | Val: Loss=1.4547 Acc=0.6115\n",
      "  ✓ Best saved! Val=0.6115, Test=0.5778\n"
     ]
    },
    {
     "name": "stderr",
     "output_type": "stream",
     "text": [
      "                                                                                            \r"
     ]
    },
    {
     "name": "stdout",
     "output_type": "stream",
     "text": [
      "Epoch 11/20 | Train: Loss=1.4823 Acc=0.5704 | Val: Loss=1.4089 Acc=0.6101\n"
     ]
    },
    {
     "name": "stderr",
     "output_type": "stream",
     "text": [
      "                                                                                            \r"
     ]
    },
    {
     "name": "stdout",
     "output_type": "stream",
     "text": [
      "Epoch 12/20 | Train: Loss=1.4444 Acc=0.5893 | Val: Loss=1.4101 Acc=0.6227\n",
      "  ✓ Best saved! Val=0.6227, Test=0.5905\n"
     ]
    },
    {
     "name": "stderr",
     "output_type": "stream",
     "text": [
      "                                                                                            \r"
     ]
    },
    {
     "name": "stdout",
     "output_type": "stream",
     "text": [
      "Epoch 13/20 | Train: Loss=1.4207 Acc=0.5983 | Val: Loss=1.4475 Acc=0.5975\n"
     ]
    },
    {
     "name": "stderr",
     "output_type": "stream",
     "text": [
      "                                                                                            \r"
     ]
    },
    {
     "name": "stdout",
     "output_type": "stream",
     "text": [
      "Epoch 14/20 | Train: Loss=1.4120 Acc=0.6004 | Val: Loss=1.3439 Acc=0.6690\n",
      "  ✓ Best saved! Val=0.6690, Test=0.6634\n"
     ]
    },
    {
     "name": "stderr",
     "output_type": "stream",
     "text": [
      "                                                                                           \r"
     ]
    },
    {
     "name": "stdout",
     "output_type": "stream",
     "text": [
      "Epoch 15/20 | Train: Loss=1.4006 Acc=0.6133 | Val: Loss=1.3200 Acc=0.6732\n",
      "  ✓ Best saved! Val=0.6732, Test=0.6634\n"
     ]
    },
    {
     "name": "stderr",
     "output_type": "stream",
     "text": [
      "                                                                                            \r"
     ]
    },
    {
     "name": "stdout",
     "output_type": "stream",
     "text": [
      "Epoch 16/20 | Train: Loss=1.3910 Acc=0.6127 | Val: Loss=1.2968 Acc=0.6985\n",
      "  ✓ Best saved! Val=0.6985, Test=0.6620\n"
     ]
    },
    {
     "name": "stderr",
     "output_type": "stream",
     "text": [
      "                                                                                            \r"
     ]
    },
    {
     "name": "stdout",
     "output_type": "stream",
     "text": [
      "Epoch 17/20 | Train: Loss=1.3737 Acc=0.6332 | Val: Loss=1.2839 Acc=0.6886\n"
     ]
    },
    {
     "name": "stderr",
     "output_type": "stream",
     "text": [
      "                                                                                            \r"
     ]
    },
    {
     "name": "stdout",
     "output_type": "stream",
     "text": [
      "Epoch 18/20 | Train: Loss=1.3685 Acc=0.6347 | Val: Loss=1.2887 Acc=0.6928\n"
     ]
    },
    {
     "name": "stderr",
     "output_type": "stream",
     "text": [
      "                                                                                            \r"
     ]
    },
    {
     "name": "stdout",
     "output_type": "stream",
     "text": [
      "Epoch 19/20 | Train: Loss=1.3701 Acc=0.6317 | Val: Loss=1.2757 Acc=0.7013\n",
      "  ✓ Best saved! Val=0.7013, Test=0.6774\n"
     ]
    },
    {
     "name": "stderr",
     "output_type": "stream",
     "text": [
      "                                                                                            \r"
     ]
    },
    {
     "name": "stdout",
     "output_type": "stream",
     "text": [
      "Epoch 20/20 | Train: Loss=1.3546 Acc=0.6422 | Val: Loss=1.2859 Acc=0.7041\n",
      "  ✓ Best saved! Val=0.7041, Test=0.6802\n",
      "\n",
      "==========================================================================================\n",
      "RESULTS - CONFIG 5:\n",
      "  Best Val Acc:   70.41%\n",
      "  Final Test Acc: 68.02%\n",
      "  Training Time:  25.9 minutes\n",
      "==========================================================================================\n",
      "\n",
      "\n",
      "******************************************************************************************\n",
      "* RUNNING CONFIG 6/10\n",
      "******************************************************************************************\n",
      "\n",
      "==========================================================================================\n",
      "CONFIG 6: BigCNN_Baseline\n",
      "==========================================================================================\n",
      "  Model:          BigCNN\n",
      "  Learning Rate:  0.001\n",
      "  Batch Size:     16\n",
      "  Optimizer:      Adam\n",
      "  Scheduler:      ReduceLROnPlateau\n",
      "  Weight Decay:   0.0001\n",
      "  Label Smooth:   0.1\n",
      "  Epochs:         20\n",
      "==========================================================================================\n",
      "\n",
      "Model parameters: 28,867,593\n"
     ]
    },
    {
     "name": "stderr",
     "output_type": "stream",
     "text": [
      "                                                                                           \r"
     ]
    },
    {
     "name": "stdout",
     "output_type": "stream",
     "text": [
      "Epoch  1/20 | Train: Loss=3.1457 Acc=0.1404 | Val: Loss=2.0991 Acc=0.1725\n",
      "  ✓ Best saved! Val=0.1725, Test=0.1992\n"
     ]
    },
    {
     "name": "stderr",
     "output_type": "stream",
     "text": [
      "                                                                                           \r"
     ]
    },
    {
     "name": "stdout",
     "output_type": "stream",
     "text": [
      "Epoch  2/20 | Train: Loss=2.1024 Acc=0.2075 | Val: Loss=1.9589 Acc=0.2328\n",
      "  ✓ Best saved! Val=0.2328, Test=0.2454\n"
     ]
    },
    {
     "name": "stderr",
     "output_type": "stream",
     "text": [
      "                                                                                           \r"
     ]
    },
    {
     "name": "stdout",
     "output_type": "stream",
     "text": [
      "Epoch  3/20 | Train: Loss=2.0512 Acc=0.2399 | Val: Loss=1.9536 Acc=0.3072\n",
      "  ✓ Best saved! Val=0.3072, Test=0.2749\n"
     ]
    },
    {
     "name": "stderr",
     "output_type": "stream",
     "text": [
      "                                                                                           \r"
     ]
    },
    {
     "name": "stdout",
     "output_type": "stream",
     "text": [
      "Epoch  4/20 | Train: Loss=1.9839 Acc=0.2685 | Val: Loss=1.7488 Acc=0.3506\n",
      "  ✓ Best saved! Val=0.3506, Test=0.3787\n"
     ]
    },
    {
     "name": "stderr",
     "output_type": "stream",
     "text": [
      "                                                                                           \r"
     ]
    },
    {
     "name": "stdout",
     "output_type": "stream",
     "text": [
      "Epoch  5/20 | Train: Loss=1.9335 Acc=0.2886 | Val: Loss=1.9085 Acc=0.3128\n"
     ]
    },
    {
     "name": "stderr",
     "output_type": "stream",
     "text": [
      "                                                                                           \r"
     ]
    },
    {
     "name": "stdout",
     "output_type": "stream",
     "text": [
      "Epoch  6/20 | Train: Loss=1.8618 Acc=0.3367 | Val: Loss=2.0845 Acc=0.3043\n"
     ]
    },
    {
     "name": "stderr",
     "output_type": "stream",
     "text": [
      "                                                                                           \r"
     ]
    },
    {
     "name": "stdout",
     "output_type": "stream",
     "text": [
      "Epoch  7/20 | Train: Loss=1.8310 Acc=0.3572 | Val: Loss=1.6638 Acc=0.4712\n",
      "  ✓ Best saved! Val=0.4712, Test=0.4783\n"
     ]
    },
    {
     "name": "stderr",
     "output_type": "stream",
     "text": [
      "                                                                                           \r"
     ]
    },
    {
     "name": "stdout",
     "output_type": "stream",
     "text": [
      "Epoch  8/20 | Train: Loss=1.7666 Acc=0.3791 | Val: Loss=1.7450 Acc=0.3871\n"
     ]
    },
    {
     "name": "stderr",
     "output_type": "stream",
     "text": [
      "                                                                                           \r"
     ]
    },
    {
     "name": "stdout",
     "output_type": "stream",
     "text": [
      "Epoch  9/20 | Train: Loss=1.7340 Acc=0.4107 | Val: Loss=1.5204 Acc=0.5302\n",
      "  ✓ Best saved! Val=0.5302, Test=0.5175\n"
     ]
    },
    {
     "name": "stderr",
     "output_type": "stream",
     "text": [
      "                                                                                            \r"
     ]
    },
    {
     "name": "stdout",
     "output_type": "stream",
     "text": [
      "Epoch 10/20 | Train: Loss=1.6636 Acc=0.4321 | Val: Loss=1.7252 Acc=0.4236\n"
     ]
    },
    {
     "name": "stderr",
     "output_type": "stream",
     "text": [
      "                                                                                            \r"
     ]
    },
    {
     "name": "stdout",
     "output_type": "stream",
     "text": [
      "Epoch 11/20 | Train: Loss=1.6498 Acc=0.4336 | Val: Loss=1.6053 Acc=0.4951\n"
     ]
    },
    {
     "name": "stderr",
     "output_type": "stream",
     "text": [
      "                                                                                            \r"
     ]
    },
    {
     "name": "stdout",
     "output_type": "stream",
     "text": [
      "Epoch 12/20 | Train: Loss=1.6249 Acc=0.4522 | Val: Loss=1.5088 Acc=0.5386\n",
      "  ✓ Best saved! Val=0.5386, Test=0.5512\n"
     ]
    },
    {
     "name": "stderr",
     "output_type": "stream",
     "text": [
      "                                                                                            \r"
     ]
    },
    {
     "name": "stdout",
     "output_type": "stream",
     "text": [
      "Epoch 13/20 | Train: Loss=1.6056 Acc=0.4645 | Val: Loss=1.5148 Acc=0.4881\n"
     ]
    },
    {
     "name": "stderr",
     "output_type": "stream",
     "text": [
      "                                                                                            \r"
     ]
    },
    {
     "name": "stdout",
     "output_type": "stream",
     "text": [
      "Epoch 14/20 | Train: Loss=1.5934 Acc=0.4675 | Val: Loss=1.4459 Acc=0.5512\n",
      "  ✓ Best saved! Val=0.5512, Test=0.5414\n"
     ]
    },
    {
     "name": "stderr",
     "output_type": "stream",
     "text": [
      "                                                                                            \r"
     ]
    },
    {
     "name": "stdout",
     "output_type": "stream",
     "text": [
      "Epoch 15/20 | Train: Loss=1.5542 Acc=0.4922 | Val: Loss=1.4341 Acc=0.5554\n",
      "  ✓ Best saved! Val=0.5554, Test=0.5512\n"
     ]
    },
    {
     "name": "stderr",
     "output_type": "stream",
     "text": [
      "                                                                                            \r"
     ]
    },
    {
     "name": "stdout",
     "output_type": "stream",
     "text": [
      "Epoch 16/20 | Train: Loss=1.5377 Acc=0.4931 | Val: Loss=1.4916 Acc=0.5400\n"
     ]
    },
    {
     "name": "stderr",
     "output_type": "stream",
     "text": [
      "                                                                                            \r"
     ]
    },
    {
     "name": "stdout",
     "output_type": "stream",
     "text": [
      "Epoch 17/20 | Train: Loss=1.5182 Acc=0.5222 | Val: Loss=1.4479 Acc=0.5624\n",
      "  ✓ Best saved! Val=0.5624, Test=0.5358\n"
     ]
    },
    {
     "name": "stderr",
     "output_type": "stream",
     "text": [
      "                                                                                            \r"
     ]
    },
    {
     "name": "stdout",
     "output_type": "stream",
     "text": [
      "Epoch 18/20 | Train: Loss=1.5121 Acc=0.5123 | Val: Loss=1.5347 Acc=0.5035\n"
     ]
    },
    {
     "name": "stderr",
     "output_type": "stream",
     "text": [
      "                                                                                            \r"
     ]
    },
    {
     "name": "stdout",
     "output_type": "stream",
     "text": [
      "Epoch 19/20 | Train: Loss=1.5133 Acc=0.5129 | Val: Loss=1.5493 Acc=0.5344\n"
     ]
    },
    {
     "name": "stderr",
     "output_type": "stream",
     "text": [
      "                                                                                            \r"
     ]
    },
    {
     "name": "stdout",
     "output_type": "stream",
     "text": [
      "Epoch 20/20 | Train: Loss=1.4828 Acc=0.5132 | Val: Loss=1.5615 Acc=0.5091\n",
      "\n",
      "==========================================================================================\n",
      "RESULTS - CONFIG 6:\n",
      "  Best Val Acc:   56.24%\n",
      "  Final Test Acc: 53.58%\n",
      "  Training Time:  55.2 minutes\n",
      "==========================================================================================\n",
      "\n",
      "\n",
      "******************************************************************************************\n",
      "* RUNNING CONFIG 7/10\n",
      "******************************************************************************************\n",
      "\n",
      "==========================================================================================\n",
      "CONFIG 7: BigCNN_LowLR_AdamW\n",
      "==========================================================================================\n",
      "  Model:          BigCNN\n",
      "  Learning Rate:  0.0005\n",
      "  Batch Size:     16\n",
      "  Optimizer:      AdamW\n",
      "  Scheduler:      CosineAnnealing\n",
      "  Weight Decay:   0.0005\n",
      "  Label Smooth:   0.1\n",
      "  Epochs:         20\n",
      "==========================================================================================\n",
      "\n",
      "Model parameters: 28,867,593\n"
     ]
    },
    {
     "name": "stderr",
     "output_type": "stream",
     "text": [
      "                                                                                           \r"
     ]
    },
    {
     "name": "stdout",
     "output_type": "stream",
     "text": [
      "Epoch  1/20 | Train: Loss=2.4979 Acc=0.1666 | Val: Loss=2.3303 Acc=0.1711\n",
      "  ✓ Best saved! Val=0.1711, Test=0.1627\n"
     ]
    },
    {
     "name": "stderr",
     "output_type": "stream",
     "text": [
      "                                                                                           \r"
     ]
    },
    {
     "name": "stdout",
     "output_type": "stream",
     "text": [
      "Epoch  2/20 | Train: Loss=1.9891 Acc=0.2613 | Val: Loss=1.7969 Acc=0.3296\n",
      "  ✓ Best saved! Val=0.3296, Test=0.3184\n"
     ]
    },
    {
     "name": "stderr",
     "output_type": "stream",
     "text": [
      "                                                                                           \r"
     ]
    },
    {
     "name": "stdout",
     "output_type": "stream",
     "text": [
      "Epoch  3/20 | Train: Loss=1.8536 Acc=0.3340 | Val: Loss=1.6363 Acc=0.4151\n",
      "  ✓ Best saved! Val=0.4151, Test=0.4039\n"
     ]
    },
    {
     "name": "stderr",
     "output_type": "stream",
     "text": [
      "                                                                                           \r"
     ]
    },
    {
     "name": "stdout",
     "output_type": "stream",
     "text": [
      "Epoch  4/20 | Train: Loss=1.7664 Acc=0.3677 | Val: Loss=2.0562 Acc=0.2819\n"
     ]
    },
    {
     "name": "stderr",
     "output_type": "stream",
     "text": [
      "                                                                                           \r"
     ]
    },
    {
     "name": "stdout",
     "output_type": "stream",
     "text": [
      "Epoch  5/20 | Train: Loss=1.7303 Acc=0.3879 | Val: Loss=1.6750 Acc=0.4558\n",
      "  ✓ Best saved! Val=0.4558, Test=0.4250\n"
     ]
    },
    {
     "name": "stderr",
     "output_type": "stream",
     "text": [
      "                                                                                           \r"
     ]
    },
    {
     "name": "stdout",
     "output_type": "stream",
     "text": [
      "Epoch  6/20 | Train: Loss=1.6736 Acc=0.4260 | Val: Loss=1.6693 Acc=0.4783\n",
      "  ✓ Best saved! Val=0.4783, Test=0.4979\n"
     ]
    },
    {
     "name": "stderr",
     "output_type": "stream",
     "text": [
      "                                                                                           \r"
     ]
    },
    {
     "name": "stdout",
     "output_type": "stream",
     "text": [
      "Epoch  7/20 | Train: Loss=1.6392 Acc=0.4447 | Val: Loss=1.5507 Acc=0.5217\n",
      "  ✓ Best saved! Val=0.5217, Test=0.4881\n"
     ]
    },
    {
     "name": "stderr",
     "output_type": "stream",
     "text": [
      "                                                                                           \r"
     ]
    },
    {
     "name": "stdout",
     "output_type": "stream",
     "text": [
      "Epoch  8/20 | Train: Loss=1.6003 Acc=0.4702 | Val: Loss=1.6005 Acc=0.5035\n"
     ]
    },
    {
     "name": "stderr",
     "output_type": "stream",
     "text": [
      "                                                                                           \r"
     ]
    },
    {
     "name": "stdout",
     "output_type": "stream",
     "text": [
      "Epoch  9/20 | Train: Loss=1.5539 Acc=0.4747 | Val: Loss=1.4949 Acc=0.5428\n",
      "  ✓ Best saved! Val=0.5428, Test=0.5175\n"
     ]
    },
    {
     "name": "stderr",
     "output_type": "stream",
     "text": [
      "                                                                                            \r"
     ]
    },
    {
     "name": "stdout",
     "output_type": "stream",
     "text": [
      "Epoch 10/20 | Train: Loss=1.5298 Acc=0.5069 | Val: Loss=1.4591 Acc=0.5835\n",
      "  ✓ Best saved! Val=0.5835, Test=0.5891\n"
     ]
    },
    {
     "name": "stderr",
     "output_type": "stream",
     "text": [
      "                                                                                            \r"
     ]
    },
    {
     "name": "stdout",
     "output_type": "stream",
     "text": [
      "Epoch 11/20 | Train: Loss=1.5111 Acc=0.5138 | Val: Loss=1.4267 Acc=0.5764\n"
     ]
    },
    {
     "name": "stderr",
     "output_type": "stream",
     "text": [
      "                                                                                            \r"
     ]
    },
    {
     "name": "stdout",
     "output_type": "stream",
     "text": [
      "Epoch 12/20 | Train: Loss=1.4834 Acc=0.5250 | Val: Loss=1.5196 Acc=0.5456\n"
     ]
    },
    {
     "name": "stderr",
     "output_type": "stream",
     "text": [
      "                                                                                            \r"
     ]
    },
    {
     "name": "stdout",
     "output_type": "stream",
     "text": [
      "Epoch 13/20 | Train: Loss=1.4493 Acc=0.5421 | Val: Loss=1.3598 Acc=0.6157\n",
      "  ✓ Best saved! Val=0.6157, Test=0.6087\n"
     ]
    },
    {
     "name": "stderr",
     "output_type": "stream",
     "text": [
      "                                                                                            \r"
     ]
    },
    {
     "name": "stdout",
     "output_type": "stream",
     "text": [
      "Epoch 14/20 | Train: Loss=1.4431 Acc=0.5496 | Val: Loss=1.3293 Acc=0.6213\n",
      "  ✓ Best saved! Val=0.6213, Test=0.5947\n"
     ]
    },
    {
     "name": "stderr",
     "output_type": "stream",
     "text": [
      "                                                                                            \r"
     ]
    },
    {
     "name": "stdout",
     "output_type": "stream",
     "text": [
      "Epoch 15/20 | Train: Loss=1.4031 Acc=0.5643 | Val: Loss=1.3935 Acc=0.5933\n"
     ]
    },
    {
     "name": "stderr",
     "output_type": "stream",
     "text": [
      "                                                                                            \r"
     ]
    },
    {
     "name": "stdout",
     "output_type": "stream",
     "text": [
      "Epoch 16/20 | Train: Loss=1.3851 Acc=0.5761 | Val: Loss=1.3274 Acc=0.6241\n",
      "  ✓ Best saved! Val=0.6241, Test=0.6171\n"
     ]
    },
    {
     "name": "stderr",
     "output_type": "stream",
     "text": [
      "                                                                                            \r"
     ]
    },
    {
     "name": "stdout",
     "output_type": "stream",
     "text": [
      "Epoch 17/20 | Train: Loss=1.3602 Acc=0.5884 | Val: Loss=1.3179 Acc=0.6157\n"
     ]
    },
    {
     "name": "stderr",
     "output_type": "stream",
     "text": [
      "                                                                                            \r"
     ]
    },
    {
     "name": "stdout",
     "output_type": "stream",
     "text": [
      "Epoch 18/20 | Train: Loss=1.3432 Acc=0.5902 | Val: Loss=1.2904 Acc=0.6367\n",
      "  ✓ Best saved! Val=0.6367, Test=0.6396\n"
     ]
    },
    {
     "name": "stderr",
     "output_type": "stream",
     "text": [
      "                                                                                            \r"
     ]
    },
    {
     "name": "stdout",
     "output_type": "stream",
     "text": [
      "Epoch 19/20 | Train: Loss=1.3425 Acc=0.6127 | Val: Loss=1.2892 Acc=0.6438\n",
      "  ✓ Best saved! Val=0.6438, Test=0.6283\n"
     ]
    },
    {
     "name": "stderr",
     "output_type": "stream",
     "text": [
      "                                                                                            \r"
     ]
    },
    {
     "name": "stdout",
     "output_type": "stream",
     "text": [
      "Epoch 20/20 | Train: Loss=1.3332 Acc=0.5977 | Val: Loss=1.3041 Acc=0.6410\n",
      "\n",
      "==========================================================================================\n",
      "RESULTS - CONFIG 7:\n",
      "  Best Val Acc:   64.38%\n",
      "  Final Test Acc: 62.83%\n",
      "  Training Time:  55.7 minutes\n",
      "==========================================================================================\n",
      "\n",
      "\n",
      "******************************************************************************************\n",
      "* RUNNING CONFIG 8/10\n",
      "******************************************************************************************\n",
      "\n",
      "==========================================================================================\n",
      "CONFIG 8: BigCNN_HighReg\n",
      "==========================================================================================\n",
      "  Model:          BigCNN\n",
      "  Learning Rate:  0.0003\n",
      "  Batch Size:     24\n",
      "  Optimizer:      AdamW\n",
      "  Scheduler:      CosineAnnealing\n",
      "  Weight Decay:   0.001\n",
      "  Label Smooth:   0.15\n",
      "  Epochs:         20\n",
      "==========================================================================================\n",
      "\n",
      "Model parameters: 28,867,593\n"
     ]
    },
    {
     "name": "stderr",
     "output_type": "stream",
     "text": [
      "                                                                                           \r"
     ]
    },
    {
     "name": "stdout",
     "output_type": "stream",
     "text": [
      "Epoch  1/20 | Train: Loss=2.3619 Acc=0.2087 | Val: Loss=1.8847 Acc=0.3058\n",
      "  ✓ Best saved! Val=0.3058, Test=0.2987\n"
     ]
    },
    {
     "name": "stderr",
     "output_type": "stream",
     "text": [
      "                                                                                           \r"
     ]
    },
    {
     "name": "stdout",
     "output_type": "stream",
     "text": [
      "Epoch  2/20 | Train: Loss=1.9001 Acc=0.3202 | Val: Loss=1.8945 Acc=0.3787\n",
      "  ✓ Best saved! Val=0.3787, Test=0.3576\n"
     ]
    },
    {
     "name": "stderr",
     "output_type": "stream",
     "text": [
      "                                                                                           \r"
     ]
    },
    {
     "name": "stdout",
     "output_type": "stream",
     "text": [
      "Epoch  3/20 | Train: Loss=1.7860 Acc=0.3812 | Val: Loss=1.6933 Acc=0.4755\n",
      "  ✓ Best saved! Val=0.4755, Test=0.4867\n"
     ]
    },
    {
     "name": "stderr",
     "output_type": "stream",
     "text": [
      "                                                                                           \r"
     ]
    },
    {
     "name": "stdout",
     "output_type": "stream",
     "text": [
      "Epoch  4/20 | Train: Loss=1.7328 Acc=0.4161 | Val: Loss=1.6747 Acc=0.4376\n"
     ]
    },
    {
     "name": "stderr",
     "output_type": "stream",
     "text": [
      "                                                                                           \r"
     ]
    },
    {
     "name": "stdout",
     "output_type": "stream",
     "text": [
      "Epoch  5/20 | Train: Loss=1.7117 Acc=0.4281 | Val: Loss=1.6411 Acc=0.5147\n",
      "  ✓ Best saved! Val=0.5147, Test=0.5288\n"
     ]
    },
    {
     "name": "stderr",
     "output_type": "stream",
     "text": [
      "                                                                                           \r"
     ]
    },
    {
     "name": "stdout",
     "output_type": "stream",
     "text": [
      "Epoch  6/20 | Train: Loss=1.6740 Acc=0.4522 | Val: Loss=1.5693 Acc=0.4965\n"
     ]
    },
    {
     "name": "stderr",
     "output_type": "stream",
     "text": [
      "                                                                                           \r"
     ]
    },
    {
     "name": "stdout",
     "output_type": "stream",
     "text": [
      "Epoch  7/20 | Train: Loss=1.6359 Acc=0.4759 | Val: Loss=1.6559 Acc=0.4965\n"
     ]
    },
    {
     "name": "stderr",
     "output_type": "stream",
     "text": [
      "                                                                                           \r"
     ]
    },
    {
     "name": "stdout",
     "output_type": "stream",
     "text": [
      "Epoch  8/20 | Train: Loss=1.6221 Acc=0.4931 | Val: Loss=1.5994 Acc=0.5442\n",
      "  ✓ Best saved! Val=0.5442, Test=0.5119\n"
     ]
    },
    {
     "name": "stderr",
     "output_type": "stream",
     "text": [
      "                                                                                           \r"
     ]
    },
    {
     "name": "stdout",
     "output_type": "stream",
     "text": [
      "Epoch  9/20 | Train: Loss=1.5792 Acc=0.5189 | Val: Loss=1.5997 Acc=0.5386\n"
     ]
    },
    {
     "name": "stderr",
     "output_type": "stream",
     "text": [
      "                                                                                            \r"
     ]
    },
    {
     "name": "stdout",
     "output_type": "stream",
     "text": [
      "Epoch 10/20 | Train: Loss=1.5777 Acc=0.5268 | Val: Loss=1.4879 Acc=0.5961\n",
      "  ✓ Best saved! Val=0.5961, Test=0.5624\n"
     ]
    },
    {
     "name": "stderr",
     "output_type": "stream",
     "text": [
      "                                                                                            \r"
     ]
    },
    {
     "name": "stdout",
     "output_type": "stream",
     "text": [
      "Epoch 11/20 | Train: Loss=1.5555 Acc=0.5286 | Val: Loss=1.5095 Acc=0.6101\n",
      "  ✓ Best saved! Val=0.6101, Test=0.5736\n"
     ]
    },
    {
     "name": "stderr",
     "output_type": "stream",
     "text": [
      "                                                                                            \r"
     ]
    },
    {
     "name": "stdout",
     "output_type": "stream",
     "text": [
      "Epoch 12/20 | Train: Loss=1.5190 Acc=0.5556 | Val: Loss=1.4704 Acc=0.5877\n"
     ]
    },
    {
     "name": "stderr",
     "output_type": "stream",
     "text": [
      "                                                                                            \r"
     ]
    },
    {
     "name": "stdout",
     "output_type": "stream",
     "text": [
      "Epoch 13/20 | Train: Loss=1.5070 Acc=0.5526 | Val: Loss=1.5353 Acc=0.5442\n"
     ]
    },
    {
     "name": "stderr",
     "output_type": "stream",
     "text": [
      "                                                                                            \r"
     ]
    },
    {
     "name": "stdout",
     "output_type": "stream",
     "text": [
      "Epoch 14/20 | Train: Loss=1.4845 Acc=0.5719 | Val: Loss=1.4225 Acc=0.6241\n",
      "  ✓ Best saved! Val=0.6241, Test=0.6059\n"
     ]
    },
    {
     "name": "stderr",
     "output_type": "stream",
     "text": [
      "                                                                                            \r"
     ]
    },
    {
     "name": "stdout",
     "output_type": "stream",
     "text": [
      "Epoch 15/20 | Train: Loss=1.4560 Acc=0.5911 | Val: Loss=1.3827 Acc=0.6452\n",
      "  ✓ Best saved! Val=0.6452, Test=0.6241\n"
     ]
    },
    {
     "name": "stderr",
     "output_type": "stream",
     "text": [
      "                                                                                            \r"
     ]
    },
    {
     "name": "stdout",
     "output_type": "stream",
     "text": [
      "Epoch 16/20 | Train: Loss=1.4472 Acc=0.5890 | Val: Loss=1.3870 Acc=0.6115\n"
     ]
    },
    {
     "name": "stderr",
     "output_type": "stream",
     "text": [
      "                                                                                            \r"
     ]
    },
    {
     "name": "stdout",
     "output_type": "stream",
     "text": [
      "Epoch 17/20 | Train: Loss=1.4232 Acc=0.6058 | Val: Loss=1.3652 Acc=0.6466\n",
      "  ✓ Best saved! Val=0.6466, Test=0.6227\n"
     ]
    },
    {
     "name": "stderr",
     "output_type": "stream",
     "text": [
      "                                                                                            \r"
     ]
    },
    {
     "name": "stdout",
     "output_type": "stream",
     "text": [
      "Epoch 18/20 | Train: Loss=1.4230 Acc=0.6109 | Val: Loss=1.3551 Acc=0.6367\n"
     ]
    },
    {
     "name": "stderr",
     "output_type": "stream",
     "text": [
      "                                                                                            \r"
     ]
    },
    {
     "name": "stdout",
     "output_type": "stream",
     "text": [
      "Epoch 19/20 | Train: Loss=1.4102 Acc=0.6137 | Val: Loss=1.3389 Acc=0.6438\n"
     ]
    },
    {
     "name": "stderr",
     "output_type": "stream",
     "text": [
      "                                                                                            \r"
     ]
    },
    {
     "name": "stdout",
     "output_type": "stream",
     "text": [
      "Epoch 20/20 | Train: Loss=1.4164 Acc=0.6088 | Val: Loss=1.3417 Acc=0.6466\n",
      "\n",
      "==========================================================================================\n",
      "RESULTS - CONFIG 8:\n",
      "  Best Val Acc:   64.66%\n",
      "  Final Test Acc: 62.27%\n",
      "  Training Time:  57.7 minutes\n",
      "==========================================================================================\n",
      "\n",
      "\n",
      "******************************************************************************************\n",
      "* RUNNING CONFIG 9/10\n",
      "******************************************************************************************\n",
      "\n",
      "==========================================================================================\n",
      "CONFIG 9: BigCNN_LessAugment\n",
      "==========================================================================================\n",
      "  Model:          BigCNN\n",
      "  Learning Rate:  0.0005\n",
      "  Batch Size:     20\n",
      "  Optimizer:      AdamW\n",
      "  Scheduler:      CosineAnnealing\n",
      "  Weight Decay:   0.0005\n",
      "  Label Smooth:   0.1\n",
      "  Epochs:         20\n",
      "==========================================================================================\n",
      "\n",
      "Model parameters: 28,867,593\n"
     ]
    },
    {
     "name": "stderr",
     "output_type": "stream",
     "text": [
      "                                                                                           \r"
     ]
    },
    {
     "name": "stdout",
     "output_type": "stream",
     "text": [
      "Epoch  1/20 | Train: Loss=2.6604 Acc=0.1780 | Val: Loss=2.1268 Acc=0.2132\n",
      "  ✓ Best saved! Val=0.2132, Test=0.2048\n"
     ]
    },
    {
     "name": "stderr",
     "output_type": "stream",
     "text": [
      "                                                                                           \r"
     ]
    },
    {
     "name": "stdout",
     "output_type": "stream",
     "text": [
      "Epoch  2/20 | Train: Loss=1.9463 Acc=0.2706 | Val: Loss=1.6752 Acc=0.3787\n",
      "  ✓ Best saved! Val=0.3787, Test=0.4039\n"
     ]
    },
    {
     "name": "stderr",
     "output_type": "stream",
     "text": [
      "                                                                                           \r"
     ]
    },
    {
     "name": "stdout",
     "output_type": "stream",
     "text": [
      "Epoch  3/20 | Train: Loss=1.7909 Acc=0.3340 | Val: Loss=1.8250 Acc=0.3633\n"
     ]
    },
    {
     "name": "stderr",
     "output_type": "stream",
     "text": [
      "                                                                                           \r"
     ]
    },
    {
     "name": "stdout",
     "output_type": "stream",
     "text": [
      "Epoch  4/20 | Train: Loss=1.7181 Acc=0.3936 | Val: Loss=1.5588 Acc=0.4839\n",
      "  ✓ Best saved! Val=0.4839, Test=0.4825\n"
     ]
    },
    {
     "name": "stderr",
     "output_type": "stream",
     "text": [
      "                                                                                           \r"
     ]
    },
    {
     "name": "stdout",
     "output_type": "stream",
     "text": [
      "Epoch  5/20 | Train: Loss=1.6642 Acc=0.4143 | Val: Loss=1.5221 Acc=0.4909\n",
      "  ✓ Best saved! Val=0.4909, Test=0.5049\n"
     ]
    },
    {
     "name": "stderr",
     "output_type": "stream",
     "text": [
      "                                                                                           \r"
     ]
    },
    {
     "name": "stdout",
     "output_type": "stream",
     "text": [
      "Epoch  6/20 | Train: Loss=1.6026 Acc=0.4426 | Val: Loss=1.6297 Acc=0.4727\n"
     ]
    },
    {
     "name": "stderr",
     "output_type": "stream",
     "text": [
      "                                                                                           \r"
     ]
    },
    {
     "name": "stdout",
     "output_type": "stream",
     "text": [
      "Epoch  7/20 | Train: Loss=1.5758 Acc=0.4585 | Val: Loss=1.8743 Acc=0.3857\n"
     ]
    },
    {
     "name": "stderr",
     "output_type": "stream",
     "text": [
      "                                                                                           \r"
     ]
    },
    {
     "name": "stdout",
     "output_type": "stream",
     "text": [
      "Epoch  8/20 | Train: Loss=1.5478 Acc=0.4829 | Val: Loss=1.6388 Acc=0.4348\n"
     ]
    },
    {
     "name": "stderr",
     "output_type": "stream",
     "text": [
      "                                                                                           \r"
     ]
    },
    {
     "name": "stdout",
     "output_type": "stream",
     "text": [
      "Epoch  9/20 | Train: Loss=1.5035 Acc=0.4991 | Val: Loss=1.4534 Acc=0.5414\n",
      "  ✓ Best saved! Val=0.5414, Test=0.5568\n"
     ]
    },
    {
     "name": "stderr",
     "output_type": "stream",
     "text": [
      "                                                                                            \r"
     ]
    },
    {
     "name": "stdout",
     "output_type": "stream",
     "text": [
      "Epoch 10/20 | Train: Loss=1.5026 Acc=0.5213 | Val: Loss=1.3460 Acc=0.5820\n",
      "  ✓ Best saved! Val=0.5820, Test=0.5722\n"
     ]
    },
    {
     "name": "stderr",
     "output_type": "stream",
     "text": [
      "                                                                                            \r"
     ]
    },
    {
     "name": "stdout",
     "output_type": "stream",
     "text": [
      "Epoch 11/20 | Train: Loss=1.4714 Acc=0.5153 | Val: Loss=1.5126 Acc=0.5358\n"
     ]
    },
    {
     "name": "stderr",
     "output_type": "stream",
     "text": [
      "                                                                                            \r"
     ]
    },
    {
     "name": "stdout",
     "output_type": "stream",
     "text": [
      "Epoch 12/20 | Train: Loss=1.4448 Acc=0.5403 | Val: Loss=1.4461 Acc=0.5694\n"
     ]
    },
    {
     "name": "stderr",
     "output_type": "stream",
     "text": [
      "                                                                                            \r"
     ]
    },
    {
     "name": "stdout",
     "output_type": "stream",
     "text": [
      "Epoch 13/20 | Train: Loss=1.4120 Acc=0.5643 | Val: Loss=1.3239 Acc=0.5905\n",
      "  ✓ Best saved! Val=0.5905, Test=0.5919\n"
     ]
    },
    {
     "name": "stderr",
     "output_type": "stream",
     "text": [
      "                                                                                            \r"
     ]
    },
    {
     "name": "stdout",
     "output_type": "stream",
     "text": [
      "Epoch 14/20 | Train: Loss=1.3774 Acc=0.5689 | Val: Loss=1.4751 Acc=0.5792\n"
     ]
    },
    {
     "name": "stderr",
     "output_type": "stream",
     "text": [
      "                                                                                            \r"
     ]
    },
    {
     "name": "stdout",
     "output_type": "stream",
     "text": [
      "Epoch 15/20 | Train: Loss=1.3551 Acc=0.5965 | Val: Loss=1.2584 Acc=0.6367\n",
      "  ✓ Best saved! Val=0.6367, Test=0.6410\n"
     ]
    },
    {
     "name": "stderr",
     "output_type": "stream",
     "text": [
      "                                                                                            \r"
     ]
    },
    {
     "name": "stdout",
     "output_type": "stream",
     "text": [
      "Epoch 16/20 | Train: Loss=1.3463 Acc=0.5944 | Val: Loss=1.2774 Acc=0.6339\n"
     ]
    },
    {
     "name": "stderr",
     "output_type": "stream",
     "text": [
      "                                                                                            \r"
     ]
    },
    {
     "name": "stdout",
     "output_type": "stream",
     "text": [
      "Epoch 17/20 | Train: Loss=1.3214 Acc=0.6028 | Val: Loss=1.2632 Acc=0.6508\n",
      "  ✓ Best saved! Val=0.6508, Test=0.6438\n"
     ]
    },
    {
     "name": "stderr",
     "output_type": "stream",
     "text": [
      "                                                                                            \r"
     ]
    },
    {
     "name": "stdout",
     "output_type": "stream",
     "text": [
      "Epoch 18/20 | Train: Loss=1.3199 Acc=0.6079 | Val: Loss=1.2333 Acc=0.6620\n",
      "  ✓ Best saved! Val=0.6620, Test=0.6480\n"
     ]
    },
    {
     "name": "stderr",
     "output_type": "stream",
     "text": [
      "                                                                                            \r"
     ]
    },
    {
     "name": "stdout",
     "output_type": "stream",
     "text": [
      "Epoch 19/20 | Train: Loss=1.2983 Acc=0.6127 | Val: Loss=1.2303 Acc=0.6592\n"
     ]
    },
    {
     "name": "stderr",
     "output_type": "stream",
     "text": [
      "                                                                                            \r"
     ]
    },
    {
     "name": "stdout",
     "output_type": "stream",
     "text": [
      "Epoch 20/20 | Train: Loss=1.2744 Acc=0.6239 | Val: Loss=1.2570 Acc=0.6550\n",
      "\n",
      "==========================================================================================\n",
      "RESULTS - CONFIG 9:\n",
      "  Best Val Acc:   66.20%\n",
      "  Final Test Acc: 64.80%\n",
      "  Training Time:  62.8 minutes\n",
      "==========================================================================================\n",
      "\n",
      "\n",
      "******************************************************************************************\n",
      "* RUNNING CONFIG 10/10\n",
      "******************************************************************************************\n",
      "\n",
      "==========================================================================================\n",
      "CONFIG 10: BigCNN_SGD_Momentum\n",
      "==========================================================================================\n",
      "  Model:          BigCNN\n",
      "  Learning Rate:  0.01\n",
      "  Batch Size:     32\n",
      "  Optimizer:      SGD\n",
      "  Scheduler:      CosineAnnealing\n",
      "  Weight Decay:   0.0005\n",
      "  Label Smooth:   0.1\n",
      "  Epochs:         20\n",
      "==========================================================================================\n",
      "\n",
      "Model parameters: 28,867,593\n"
     ]
    },
    {
     "name": "stderr",
     "output_type": "stream",
     "text": [
      "                                                                                           \r"
     ]
    },
    {
     "name": "stdout",
     "output_type": "stream",
     "text": [
      "Epoch  1/20 | Train: Loss=2.0424 Acc=0.2468 | Val: Loss=1.8010 Acc=0.3590\n",
      "  ✓ Best saved! Val=0.3590, Test=0.3787\n"
     ]
    },
    {
     "name": "stderr",
     "output_type": "stream",
     "text": [
      "                                                                                           \r"
     ]
    },
    {
     "name": "stdout",
     "output_type": "stream",
     "text": [
      "Epoch  2/20 | Train: Loss=1.7587 Acc=0.3809 | Val: Loss=1.5343 Acc=0.5063\n",
      "  ✓ Best saved! Val=0.5063, Test=0.5358\n"
     ]
    },
    {
     "name": "stderr",
     "output_type": "stream",
     "text": [
      "                                                                                           \r"
     ]
    },
    {
     "name": "stdout",
     "output_type": "stream",
     "text": [
      "Epoch  3/20 | Train: Loss=1.6345 Acc=0.4378 | Val: Loss=1.4916 Acc=0.5161\n",
      "  ✓ Best saved! Val=0.5161, Test=0.5273\n"
     ]
    },
    {
     "name": "stderr",
     "output_type": "stream",
     "text": [
      "                                                                                           \r"
     ]
    },
    {
     "name": "stdout",
     "output_type": "stream",
     "text": [
      "Epoch  4/20 | Train: Loss=1.5811 Acc=0.4612 | Val: Loss=1.4346 Acc=0.5428\n",
      "  ✓ Best saved! Val=0.5428, Test=0.5358\n"
     ]
    },
    {
     "name": "stderr",
     "output_type": "stream",
     "text": [
      "                                                                                           \r"
     ]
    },
    {
     "name": "stdout",
     "output_type": "stream",
     "text": [
      "Epoch  5/20 | Train: Loss=1.5168 Acc=0.4988 | Val: Loss=1.4355 Acc=0.5470\n",
      "  ✓ Best saved! Val=0.5470, Test=0.5540\n"
     ]
    },
    {
     "name": "stderr",
     "output_type": "stream",
     "text": [
      "                                                                                           \r"
     ]
    },
    {
     "name": "stdout",
     "output_type": "stream",
     "text": [
      "Epoch  6/20 | Train: Loss=1.4928 Acc=0.5009 | Val: Loss=1.5077 Acc=0.5035\n"
     ]
    },
    {
     "name": "stderr",
     "output_type": "stream",
     "text": [
      "                                                                                           \r"
     ]
    },
    {
     "name": "stdout",
     "output_type": "stream",
     "text": [
      "Epoch  7/20 | Train: Loss=1.4434 Acc=0.5310 | Val: Loss=1.5636 Acc=0.5203\n"
     ]
    },
    {
     "name": "stderr",
     "output_type": "stream",
     "text": [
      "                                                                                          \r"
     ]
    },
    {
     "name": "stdout",
     "output_type": "stream",
     "text": [
      "Epoch  8/20 | Train: Loss=1.3989 Acc=0.5529 | Val: Loss=1.5710 Acc=0.5175\n"
     ]
    },
    {
     "name": "stderr",
     "output_type": "stream",
     "text": [
      "                                                                                           \r"
     ]
    },
    {
     "name": "stdout",
     "output_type": "stream",
     "text": [
      "Epoch  9/20 | Train: Loss=1.3907 Acc=0.5562 | Val: Loss=1.6379 Acc=0.5147\n"
     ]
    },
    {
     "name": "stderr",
     "output_type": "stream",
     "text": [
      "                                                                                            \r"
     ]
    },
    {
     "name": "stdout",
     "output_type": "stream",
     "text": [
      "Epoch 10/20 | Train: Loss=1.3462 Acc=0.5869 | Val: Loss=1.4674 Acc=0.5470\n"
     ]
    },
    {
     "name": "stderr",
     "output_type": "stream",
     "text": [
      "                                                                                            \r"
     ]
    },
    {
     "name": "stdout",
     "output_type": "stream",
     "text": [
      "Epoch 11/20 | Train: Loss=1.3255 Acc=0.5896 | Val: Loss=1.2619 Acc=0.6494\n",
      "  ✓ Best saved! Val=0.6494, Test=0.6396\n"
     ]
    },
    {
     "name": "stderr",
     "output_type": "stream",
     "text": [
      "                                                                                            \r"
     ]
    },
    {
     "name": "stdout",
     "output_type": "stream",
     "text": [
      "Epoch 12/20 | Train: Loss=1.2865 Acc=0.6073 | Val: Loss=1.2484 Acc=0.6704\n",
      "  ✓ Best saved! Val=0.6704, Test=0.6522\n"
     ]
    },
    {
     "name": "stderr",
     "output_type": "stream",
     "text": [
      "                                                                                            \r"
     ]
    },
    {
     "name": "stdout",
     "output_type": "stream",
     "text": [
      "Epoch 13/20 | Train: Loss=1.2700 Acc=0.6269 | Val: Loss=1.2183 Acc=0.6746\n",
      "  ✓ Best saved! Val=0.6746, Test=0.6676\n"
     ]
    },
    {
     "name": "stderr",
     "output_type": "stream",
     "text": [
      "                                                                                            \r"
     ]
    },
    {
     "name": "stdout",
     "output_type": "stream",
     "text": [
      "Epoch 14/20 | Train: Loss=1.2443 Acc=0.6380 | Val: Loss=1.2719 Acc=0.6620\n"
     ]
    },
    {
     "name": "stderr",
     "output_type": "stream",
     "text": [
      "                                                                                            \r"
     ]
    },
    {
     "name": "stdout",
     "output_type": "stream",
     "text": [
      "Epoch 15/20 | Train: Loss=1.2053 Acc=0.6488 | Val: Loss=1.2241 Acc=0.6690\n"
     ]
    },
    {
     "name": "stderr",
     "output_type": "stream",
     "text": [
      "                                                                                            \r"
     ]
    },
    {
     "name": "stdout",
     "output_type": "stream",
     "text": [
      "Epoch 16/20 | Train: Loss=1.1990 Acc=0.6545 | Val: Loss=1.1907 Acc=0.6816\n",
      "  ✓ Best saved! Val=0.6816, Test=0.6816\n"
     ]
    },
    {
     "name": "stderr",
     "output_type": "stream",
     "text": [
      "                                                                                            \r"
     ]
    },
    {
     "name": "stdout",
     "output_type": "stream",
     "text": [
      "Epoch 17/20 | Train: Loss=1.1921 Acc=0.6621 | Val: Loss=1.1607 Acc=0.7055\n",
      "  ✓ Best saved! Val=0.7055, Test=0.6844\n"
     ]
    },
    {
     "name": "stderr",
     "output_type": "stream",
     "text": [
      "                                                                                            \r"
     ]
    },
    {
     "name": "stdout",
     "output_type": "stream",
     "text": [
      "Epoch 18/20 | Train: Loss=1.1628 Acc=0.6789 | Val: Loss=1.1404 Acc=0.7251\n",
      "  ✓ Best saved! Val=0.7251, Test=0.6872\n"
     ]
    },
    {
     "name": "stderr",
     "output_type": "stream",
     "text": [
      "                                                                                            \r"
     ]
    },
    {
     "name": "stdout",
     "output_type": "stream",
     "text": [
      "Epoch 19/20 | Train: Loss=1.1448 Acc=0.6867 | Val: Loss=1.1340 Acc=0.7265\n",
      "  ✓ Best saved! Val=0.7265, Test=0.6928\n"
     ]
    },
    {
     "name": "stderr",
     "output_type": "stream",
     "text": [
      "                                                                                            \r"
     ]
    },
    {
     "name": "stdout",
     "output_type": "stream",
     "text": [
      "Epoch 20/20 | Train: Loss=1.1503 Acc=0.6840 | Val: Loss=1.1508 Acc=0.7209\n",
      "\n",
      "==========================================================================================\n",
      "RESULTS - CONFIG 10:\n",
      "  Best Val Acc:   72.65%\n",
      "  Final Test Acc: 69.28%\n",
      "  Training Time:  73.7 minutes\n",
      "==========================================================================================\n",
      "\n",
      "\n",
      "\n",
      "##########################################################################################\n",
      "# FINAL RESULTS - ALL CONFIGURATIONS\n",
      "##########################################################################################\n",
      "\n",
      "ID   Model        Configuration                  Val Acc    Test Acc   Params     Time    \n",
      "------------------------------------------------------------------------------------------\n",
      "10   BigCNN       BigCNN_SGD_Momentum               72.65%    69.28%    28.9M    73.7m\n",
      "5    BetterCNN    BetterCNN_StrongReg               70.41%    68.02%     9.0M    25.9m\n",
      "4    BetterCNN    BetterCNN_LessAugment             70.13%    67.18%     9.0M    28.4m\n",
      "9    BigCNN       BigCNN_LessAugment                66.20%    64.80%    28.9M    62.8m\n",
      "3    BetterCNN    BetterCNN_LargeBatch_OneCycle     66.34%    63.81%     9.0M    25.8m\n",
      "2    BetterCNN    BetterCNN_LowLR_AdamW             65.36%    63.39%     9.0M    27.5m\n",
      "7    BigCNN       BigCNN_LowLR_AdamW                64.38%    62.83%    28.9M    55.7m\n",
      "8    BigCNN       BigCNN_HighReg                    64.66%    62.27%    28.9M    57.7m\n",
      "1    BetterCNN    BetterCNN_Baseline                58.77%    59.89%     9.0M    26.6m\n",
      "6    BigCNN       BigCNN_Baseline                   56.24%    53.58%    28.9M    55.2m\n",
      "\n",
      "✓ Results saved to 'all_configurations_comparison.csv'\n",
      "\n",
      "==========================================================================================\n",
      "🏆 BEST CONFIGURATION: CONFIG 10\n",
      "==========================================================================================\n",
      "\n",
      "Model: BigCNN\n",
      "Name: BigCNN_SGD_Momentum\n",
      "Parameters: 28,867,593 (28.9M)\n",
      "\n",
      "Hyperparameters:\n",
      "  Learning Rate:    0.01\n",
      "  Batch Size:       32\n",
      "  Optimizer:        SGD\n",
      "  Scheduler:        CosineAnnealing\n",
      "  Weight Decay:     0.0005\n",
      "  Label Smoothing:  0.1\n",
      "\n",
      "Performance:\n",
      "  Best Val Acc:     72.65%\n",
      "  Final Test Acc:   69.28%\n",
      "  Training Time:    73.7 minutes\n",
      "  Epochs Trained:   20\n",
      "\n",
      "Per-Class Accuracy:\n",
      "  Glass               :  87.30%\n",
      "  Vegetation          :  86.15%\n",
      "  Textile Trash       :  77.08%\n",
      "  Food Organics       :  74.19%\n",
      "  Cardboard           :  71.01%\n",
      "  Paper               :  69.33%\n",
      "  Plastic             :  68.12%\n",
      "  Metal               :  65.55%\n",
      "  Miscellaneous Trash :  36.49%\n",
      "\n",
      "==========================================================================================\n",
      "🥇 TOP 3 CONFIGURATIONS\n",
      "==========================================================================================\n",
      "\n",
      "1. CONFIG 10: BigCNN_SGD_Momentum\n",
      "   Model: BigCNN (28.9M params)\n",
      "   Test Accuracy: 69.28%\n",
      "   Val Accuracy:  72.65%\n",
      "   Training Time: 73.7 min\n",
      "\n",
      "2. CONFIG 5: BetterCNN_StrongReg\n",
      "   Model: BetterCNN (9.0M params)\n",
      "   Test Accuracy: 68.02%\n",
      "   Val Accuracy:  70.41%\n",
      "   Training Time: 25.9 min\n",
      "\n",
      "3. CONFIG 4: BetterCNN_LessAugment\n",
      "   Model: BetterCNN (9.0M params)\n",
      "   Test Accuracy: 67.18%\n",
      "   Val Accuracy:  70.13%\n",
      "   Training Time: 28.4 min\n",
      "\n",
      "==========================================================================================\n",
      "📊 MODEL COMPARISON\n",
      "==========================================================================================\n",
      "\n",
      "BetterCNN (~8M parameters):\n",
      "  Best Test Acc:  68.02%\n",
      "  Avg Test Acc:   64.46%\n",
      "  Avg Train Time: 26.8 min\n",
      "\n",
      "BigCNN (~20M parameters):\n",
      "  Best Test Acc:  69.28%\n",
      "  Avg Test Acc:   62.55%\n",
      "  Avg Train Time: 61.0 min\n",
      "\n",
      "✓ All results saved to 'all_configurations_results.json'\n",
      "\n",
      "📈 Generating comparison visualizations...\n",
      "✓ Saved visualization to 'all_configurations_comparison.png'\n"
     ]
    },
    {
     "data": {
      "image/png": "[encoded data removed]",
      "text/plain": [
       "<Figure size 2000x1200 with 6 Axes>"
      ]
     },
     "metadata": {},
     "output_type": "display_data"
    },
    {
     "name": "stdout",
     "output_type": "stream",
     "text": [
      "\n",
      "==========================================================================================\n",
      "📈 SUMMARY STATISTICS\n",
      "==========================================================================================\n",
      "Best Test Accuracy:      69.28%\n",
      "Worst Test Accuracy:     53.58%\n",
      "Average Test Accuracy:   63.51%\n",
      "Std Dev Test Accuracy:   4.27%\n",
      "\n",
      "Configs reaching 70%:    0/10\n",
      "Configs reaching 75%:    0/10\n",
      "\n",
      "##########################################################################################\n",
      "# ✅ MODEL & HYPERPARAMETER COMPARISON COMPLETE!\n",
      "##########################################################################################\n",
      "\n",
      "📁 Generated Files:\n",
      "  - all_configurations_comparison.csv\n",
      "  - all_configurations_results.json\n",
      "  - all_configurations_comparison.png\n",
      "  - config_X_results.json (for each configuration)\n",
      "  - model_config_X.pth (best model for each configuration)\n",
      "\n",
      "🎯 Choose the best configuration based on:\n",
      "  1. Test accuracy (target: 70%+)\n",
      "  2. Training time (your constraint)\n",
      "  3. Model size (BetterCNN=8M, BigCNN=20M)\n",
      "  4. Per-class performance (if specific classes matter)\n"
     ]
    }
   ],
   "source": [
    "import numpy as np\n",
    "import torch\n",
    "import torch.nn as nn\n",
    "import torch.nn.functional as F\n",
    "import torch.optim as optim\n",
    "from torch.utils.data import Dataset, DataLoader\n",
    "from sklearn.utils.class_weight import compute_class_weight\n",
    "import torchvision.transforms as transforms\n",
    "import matplotlib.pyplot as plt\n",
    "import seaborn as sns\n",
    "from sklearn.metrics import confusion_matrix, classification_report\n",
    "from tqdm import tqdm\n",
    "import warnings\n",
    "import json\n",
    "import time\n",
    "import pandas as pd\n",
    "warnings.filterwarnings('ignore')\n",
    "\n",
    "# ---------------------------\n",
    "# 0. Device\n",
    "# ---------------------------\n",
    "device = torch.device(\"cuda\" if torch.cuda.is_available() else \"cpu\")\n",
    "print(\"Using device:\", device)\n",
    "\n",
    "# ---------------------------\n",
    "# 1. Load data\n",
    "# ---------------------------\n",
    "image_array = np.load(\"images.npy\", allow_pickle=True)\n",
    "labels = np.load(\"labels.npy\", allow_pickle=True)\n",
    "\n",
    "# Load class names\n",
    "class_names = np.load(\"class_names.npy\", allow_pickle=True)\n",
    "num_classes = len(class_names)\n",
    "\n",
    "# Labels are already encoded\n",
    "y = labels.astype(np.int64)\n",
    "\n",
    "print(f\"Number of classes: {num_classes}\")\n",
    "print(f\"Classes: {class_names}\")\n",
    "print(f\"Class distribution: {np.bincount(y)}\")\n",
    "\n",
    "# Load pre-computed splits\n",
    "train_idx = np.load(\"split_train.npy\")\n",
    "val_idx = np.load(\"split_val.npy\")\n",
    "test_idx = np.load(\"split_test.npy\")\n",
    "\n",
    "print(f\"Train size: {len(train_idx)}, Val size: {len(val_idx)}, Test size: {len(test_idx)}\")\n",
    "\n",
    "# ---------------------------\n",
    "# 2. Dataset class\n",
    "# ---------------------------\n",
    "class WasteDataset(Dataset):\n",
    "    def __init__(self, images, labels, indices, transform=None):\n",
    "        self.images = images\n",
    "        self.labels = labels\n",
    "        self.indices = indices\n",
    "        self.transform = transform\n",
    "\n",
    "    def __len__(self):\n",
    "        return len(self.indices)\n",
    "\n",
    "    def __getitem__(self, idx):\n",
    "        i = self.indices[idx]\n",
    "        img = self.images[i].astype(np.uint8)\n",
    "        label = int(self.labels[i])\n",
    "        if self.transform:\n",
    "            img = self.transform(img)\n",
    "        return img, label\n",
    "\n",
    "# ---------------------------\n",
    "# 3. Model Architectures\n",
    "# ---------------------------\n",
    "class ResidualBlock(nn.Module):\n",
    "    def __init__(self, in_channels, out_channels, stride=1):\n",
    "        super().__init__()\n",
    "        self.conv1 = nn.Conv2d(in_channels, out_channels, 3, stride=stride, padding=1)\n",
    "        self.bn1 = nn.BatchNorm2d(out_channels)\n",
    "        self.conv2 = nn.Conv2d(out_channels, out_channels, 3, stride=1, padding=1)\n",
    "        self.bn2 = nn.BatchNorm2d(out_channels)\n",
    "        self.relu = nn.ReLU(inplace=True)\n",
    "        self.skip = nn.Sequential()\n",
    "        if stride != 1 or in_channels != out_channels:\n",
    "            self.skip = nn.Sequential(\n",
    "                nn.Conv2d(in_channels, out_channels, 1, stride=stride),\n",
    "                nn.BatchNorm2d(out_channels)\n",
    "            )\n",
    "\n",
    "    def forward(self, x):\n",
    "        out = self.relu(self.bn1(self.conv1(x)))\n",
    "        out = self.bn2(self.conv2(out))\n",
    "        out += self.skip(x)\n",
    "        out = self.relu(out)\n",
    "        return out\n",
    "\n",
    "# MODEL 1: BetterCNN (From Code 1 & 2)\n",
    "class BetterCNN(nn.Module):\n",
    "    def __init__(self, num_classes, input_channels=3):\n",
    "        super().__init__()\n",
    "        self.layer1 = nn.Sequential(\n",
    "            nn.Conv2d(input_channels, 64, 3, padding=1),\n",
    "            nn.BatchNorm2d(64),\n",
    "            nn.ReLU(inplace=True)\n",
    "        )\n",
    "        self.layer2 = ResidualBlock(64, 128, stride=2)\n",
    "        self.layer3 = ResidualBlock(128, 256, stride=2)\n",
    "        self.layer4 = ResidualBlock(256, 512, stride=2)\n",
    "        self.pool = nn.AdaptiveAvgPool2d((4,4))\n",
    "        self.dropout = nn.Dropout(0.5)\n",
    "        self.fc1 = nn.Linear(512*4*4, 512)\n",
    "        self.fc2 = nn.Linear(512, num_classes)\n",
    "\n",
    "    def forward(self, x):\n",
    "        x = self.layer1(x)\n",
    "        x = self.layer2(x)\n",
    "        x = self.layer3(x)\n",
    "        x = self.layer4(x)\n",
    "        x = self.pool(x)\n",
    "        x = x.view(x.size(0), -1)\n",
    "        x = self.dropout(F.relu(self.fc1(x)))\n",
    "        x = self.fc2(x)\n",
    "        return x\n",
    "\n",
    "# MODEL 2: BigCNN (From Code 3)\n",
    "class BigCNN(nn.Module):\n",
    "    def __init__(self, num_classes, input_channels=3):\n",
    "        super().__init__()\n",
    "        self.layer1 = nn.Sequential(\n",
    "            nn.Conv2d(input_channels, 64, 3, padding=1),\n",
    "            nn.BatchNorm2d(64),\n",
    "            nn.ReLU(inplace=True)\n",
    "        )\n",
    "        self.layer2 = nn.Sequential(\n",
    "            ResidualBlock(64, 128, stride=2),\n",
    "            ResidualBlock(128, 128)\n",
    "        )\n",
    "        self.layer3 = nn.Sequential(\n",
    "            ResidualBlock(128, 256, stride=2),\n",
    "            ResidualBlock(256, 256)\n",
    "        )\n",
    "        self.layer4 = nn.Sequential(\n",
    "            ResidualBlock(256, 512, stride=2),\n",
    "            ResidualBlock(512, 512)\n",
    "        )\n",
    "        self.layer5 = nn.Sequential(\n",
    "            ResidualBlock(512, 512),\n",
    "            ResidualBlock(512, 512)\n",
    "        )\n",
    "        self.pool = nn.AdaptiveAvgPool2d((4,4))\n",
    "        self.dropout = nn.Dropout(0.5)\n",
    "        self.fc1 = nn.Linear(512*4*4, 1024)\n",
    "        self.fc2 = nn.Linear(1024, num_classes)\n",
    "\n",
    "    def forward(self, x):\n",
    "        x = self.layer1(x)\n",
    "        x = self.layer2(x)\n",
    "        x = self.layer3(x)\n",
    "        x = self.layer4(x)\n",
    "        x = self.layer5(x)\n",
    "        x = self.pool(x)\n",
    "        x = x.view(x.size(0), -1)\n",
    "        x = self.dropout(F.relu(self.fc1(x)))\n",
    "        x = self.fc2(x)\n",
    "        return x\n",
    "\n",
    "# ---------------------------\n",
    "# 4. Label Smoothing Loss\n",
    "# ---------------------------\n",
    "class LabelSmoothingCrossEntropy(nn.Module):\n",
    "    def __init__(self, epsilon=0.1, weight=None):\n",
    "        super().__init__()\n",
    "        self.epsilon = epsilon\n",
    "        self.weight = weight\n",
    "    \n",
    "    def forward(self, output, target):\n",
    "        n_class = output.size(1)\n",
    "        log_preds = F.log_softmax(output, dim=1)\n",
    "        loss = -log_preds.sum(dim=1).mean()\n",
    "        nll = F.nll_loss(log_preds, target, weight=self.weight)\n",
    "        return (1 - self.epsilon) * nll + self.epsilon * loss / n_class\n",
    "\n",
    "# ---------------------------\n",
    "# 5. Training Function\n",
    "# ---------------------------\n",
    "def train_with_config(config, image_array, y, train_idx, val_idx, test_idx, class_names, device):\n",
    "    \"\"\"Train model with given configuration\"\"\"\n",
    "    \n",
    "    print(f\"\\n{'='*90}\")\n",
    "    print(f\"CONFIG {config['config_id']}: {config['name']}\")\n",
    "    print(f\"{'='*90}\")\n",
    "    print(f\"  Model:          {config['model_name']}\")\n",
    "    print(f\"  Learning Rate:  {config['learning_rate']}\")\n",
    "    print(f\"  Batch Size:     {config['batch_size']}\")\n",
    "    print(f\"  Optimizer:      {config['optimizer']}\")\n",
    "    print(f\"  Scheduler:      {config['scheduler']}\")\n",
    "    print(f\"  Weight Decay:   {config['weight_decay']}\")\n",
    "    print(f\"  Label Smooth:   {config['label_smoothing']}\")\n",
    "    print(f\"  Epochs:         {config['epochs']}\")\n",
    "    print(f\"{'='*90}\\n\")\n",
    "    \n",
    "    start_time = time.time()\n",
    "    \n",
    "    # Create transforms\n",
    "    train_transform = transforms.Compose([\n",
    "        transforms.ToPILImage(),\n",
    "        transforms.Resize((256, 256)),\n",
    "        transforms.RandomCrop(224),\n",
    "        transforms.RandomHorizontalFlip(p=config['hflip_prob']),\n",
    "        transforms.RandomVerticalFlip(p=config['vflip_prob']),\n",
    "        transforms.RandomRotation(config['rotation_degrees']),\n",
    "        transforms.RandomAffine(degrees=0, translate=(0.1, 0.1), scale=(0.9, 1.1)),\n",
    "        transforms.ColorJitter(brightness=config['color_jitter'], \n",
    "                              contrast=config['color_jitter'], \n",
    "                              saturation=config['color_jitter']*0.7),\n",
    "        transforms.ToTensor(),\n",
    "        transforms.Normalize(mean=[0.485, 0.456, 0.406], std=[0.229, 0.224, 0.225]),\n",
    "        transforms.RandomErasing(p=config['random_erasing'])\n",
    "    ])\n",
    "    \n",
    "    val_transform = transforms.Compose([\n",
    "        transforms.ToPILImage(),\n",
    "        transforms.Resize((224, 224)),\n",
    "        transforms.ToTensor(),\n",
    "        transforms.Normalize(mean=[0.485, 0.456, 0.406], std=[0.229, 0.224, 0.225])\n",
    "    ])\n",
    "    \n",
    "    # Create datasets\n",
    "    train_dataset = WasteDataset(image_array, y, train_idx, transform=train_transform)\n",
    "    val_dataset = WasteDataset(image_array, y, val_idx, transform=val_transform)\n",
    "    test_dataset = WasteDataset(image_array, y, test_idx, transform=val_transform)\n",
    "    \n",
    "    # Create dataloaders\n",
    "    train_loader = DataLoader(train_dataset, batch_size=config['batch_size'], \n",
    "                             shuffle=True, num_workers=0, pin_memory=True)\n",
    "    val_loader = DataLoader(val_dataset, batch_size=config['batch_size'], \n",
    "                           num_workers=0, pin_memory=True)\n",
    "    test_loader = DataLoader(test_dataset, batch_size=config['batch_size'], \n",
    "                            num_workers=0, pin_memory=True)\n",
    "    \n",
    "    # Create model\n",
    "    if config['model_name'] == 'BetterCNN':\n",
    "        model = BetterCNN(num_classes=num_classes, input_channels=3).to(device)\n",
    "    else:  # BigCNN\n",
    "        model = BigCNN(num_classes=num_classes, input_channels=3).to(device)\n",
    "    \n",
    "    num_params = sum(p.numel() for p in model.parameters() if p.requires_grad)\n",
    "    print(f\"Model parameters: {num_params:,}\")\n",
    "    \n",
    "    # Class weights\n",
    "    class_weights = compute_class_weight(\n",
    "        class_weight=\"balanced\",\n",
    "        classes=np.unique(y[train_idx]),\n",
    "        y=y[train_idx]\n",
    "    )\n",
    "    class_weights = torch.tensor(class_weights, dtype=torch.float32).to(device)\n",
    "    \n",
    "    # Loss function\n",
    "    criterion = LabelSmoothingCrossEntropy(epsilon=config['label_smoothing'], weight=class_weights)\n",
    "    \n",
    "    # Optimizer\n",
    "    if config['optimizer'] == 'Adam':\n",
    "        optimizer = optim.Adam(model.parameters(), lr=config['learning_rate'], \n",
    "                              weight_decay=config['weight_decay'])\n",
    "    elif config['optimizer'] == 'AdamW':\n",
    "        optimizer = optim.AdamW(model.parameters(), lr=config['learning_rate'], \n",
    "                               weight_decay=config['weight_decay'])\n",
    "    else:  # SGD\n",
    "        optimizer = optim.SGD(model.parameters(), lr=config['learning_rate'], \n",
    "                             momentum=0.9, weight_decay=config['weight_decay'])\n",
    "    \n",
    "    # Scheduler\n",
    "    if config['scheduler'] == 'ReduceLROnPlateau':\n",
    "        scheduler = optim.lr_scheduler.ReduceLROnPlateau(\n",
    "            optimizer, mode='max', factor=0.5, patience=3, min_lr=1e-7\n",
    "        )\n",
    "    elif config['scheduler'] == 'CosineAnnealing':\n",
    "        scheduler = optim.lr_scheduler.CosineAnnealingLR(\n",
    "            optimizer, T_max=config['epochs'], eta_min=1e-6\n",
    "        )\n",
    "    else:  # OneCycleLR\n",
    "        scheduler = optim.lr_scheduler.OneCycleLR(\n",
    "            optimizer, max_lr=config['learning_rate']*3, \n",
    "            epochs=config['epochs'], steps_per_epoch=len(train_loader)\n",
    "        )\n",
    "    \n",
    "    # Training\n",
    "    best_val_acc = 0\n",
    "    best_test_acc = 0\n",
    "    patience_counter = 0\n",
    "    train_losses, val_losses = [], []\n",
    "    train_accs, val_accs = [], []\n",
    "    \n",
    "    for epoch in range(config['epochs']):\n",
    "        # Training phase\n",
    "        model.train()\n",
    "        running_loss, correct, total = 0, 0, 0\n",
    "        \n",
    "        train_loop = tqdm(train_loader, desc=f\"Epoch {epoch+1}/{config['epochs']} [Train]\", leave=False)\n",
    "        for X_batch, y_batch in train_loop:\n",
    "            X_batch, y_batch = X_batch.to(device), y_batch.to(device)\n",
    "            optimizer.zero_grad()\n",
    "            outputs = model(X_batch)\n",
    "            loss = criterion(outputs, y_batch)\n",
    "            loss.backward()\n",
    "            torch.nn.utils.clip_grad_norm_(model.parameters(), max_norm=1.0)\n",
    "            optimizer.step()\n",
    "            \n",
    "            if config['scheduler'] == 'OneCycleLR':\n",
    "                scheduler.step()\n",
    "            \n",
    "            running_loss += loss.item() * X_batch.size(0)\n",
    "            _, predicted = torch.max(outputs, 1)\n",
    "            correct += (predicted == y_batch).sum().item()\n",
    "            total += y_batch.size(0)\n",
    "            \n",
    "            train_loop.set_postfix({'loss': running_loss/total, 'acc': correct/total})\n",
    "        \n",
    "        train_loss = running_loss / total\n",
    "        train_acc = correct / total\n",
    "        train_losses.append(train_loss)\n",
    "        train_accs.append(train_acc)\n",
    "        \n",
    "        # Validation phase\n",
    "        model.eval()\n",
    "        val_loss, correct, total = 0, 0, 0\n",
    "        \n",
    "        val_loop = tqdm(val_loader, desc=f\"Epoch {epoch+1}/{config['epochs']} [Val]\", leave=False)\n",
    "        with torch.no_grad():\n",
    "            for X_batch, y_batch in val_loop:\n",
    "                X_batch, y_batch = X_batch.to(device), y_batch.to(device)\n",
    "                outputs = model(X_batch)\n",
    "                loss = criterion(outputs, y_batch)\n",
    "                val_loss += loss.item() * X_batch.size(0)\n",
    "                _, predicted = torch.max(outputs, 1)\n",
    "                correct += (predicted == y_batch).sum().item()\n",
    "                total += y_batch.size(0)\n",
    "                \n",
    "                val_loop.set_postfix({'loss': val_loss/total, 'acc': correct/total})\n",
    "        \n",
    "        val_loss = val_loss / total\n",
    "        val_acc = correct / total\n",
    "        val_losses.append(val_loss)\n",
    "        val_accs.append(val_acc)\n",
    "        \n",
    "        print(f\"Epoch {epoch+1:2d}/{config['epochs']} | \"\n",
    "              f\"Train: Loss={train_loss:.4f} Acc={train_acc:.4f} | \"\n",
    "              f\"Val: Loss={val_loss:.4f} Acc={val_acc:.4f}\")\n",
    "        \n",
    "        # Step scheduler\n",
    "        if config['scheduler'] == 'ReduceLROnPlateau':\n",
    "            scheduler.step(val_acc)\n",
    "        elif config['scheduler'] == 'CosineAnnealing':\n",
    "            scheduler.step()\n",
    "        \n",
    "        # Save best model\n",
    "        if val_acc > best_val_acc:\n",
    "            best_val_acc = val_acc\n",
    "            patience_counter = 0\n",
    "            \n",
    "            # Test on best validation model\n",
    "            model.eval()\n",
    "            correct, total = 0, 0\n",
    "            with torch.no_grad():\n",
    "                for X_batch, y_batch in test_loader:\n",
    "                    X_batch, y_batch = X_batch.to(device), y_batch.to(device)\n",
    "                    outputs = model(X_batch)\n",
    "                    _, predicted = torch.max(outputs, 1)\n",
    "                    correct += (predicted == y_batch).sum().item()\n",
    "                    total += y_batch.size(0)\n",
    "            best_test_acc = correct / total\n",
    "            \n",
    "            torch.save({\n",
    "                'model_state_dict': model.state_dict(),\n",
    "                'optimizer_state_dict': optimizer.state_dict(),\n",
    "                'epoch': epoch,\n",
    "                'val_acc': val_acc,\n",
    "                'test_acc': best_test_acc,\n",
    "                'config': config\n",
    "            }, f\"model_config_{config['config_id']}.pth\")\n",
    "            \n",
    "            print(f\"  ✓ Best saved! Val={val_acc:.4f}, Test={best_test_acc:.4f}\")\n",
    "        else:\n",
    "            patience_counter += 1\n",
    "            if patience_counter >= config['patience']:\n",
    "                print(f\"  ✗ Early stopping at epoch {epoch+1}\")\n",
    "                break\n",
    "    \n",
    "    training_time = (time.time() - start_time) / 60\n",
    "    \n",
    "    # Final test evaluation\n",
    "    checkpoint = torch.load(f\"model_config_{config['config_id']}.pth\")\n",
    "    model.load_state_dict(checkpoint['model_state_dict'])\n",
    "    model.eval()\n",
    "    \n",
    "    y_true, y_pred = [], []\n",
    "    with torch.no_grad():\n",
    "        for X_batch, y_batch in test_loader:\n",
    "            X_batch, y_batch = X_batch.to(device), y_batch.to(device)\n",
    "            outputs = model(X_batch)\n",
    "            _, predicted = torch.max(outputs, 1)\n",
    "            y_true.extend(y_batch.cpu().numpy())\n",
    "            y_pred.extend(predicted.cpu().numpy())\n",
    "    \n",
    "    final_test_acc = np.mean(np.array(y_true) == np.array(y_pred))\n",
    "    \n",
    "    # Per-class accuracy\n",
    "    per_class_acc = {}\n",
    "    for i, class_name in enumerate(class_names):\n",
    "        class_mask = np.array(y_true) == i\n",
    "        if class_mask.sum() > 0:\n",
    "            class_acc = np.mean(np.array(y_pred)[class_mask] == i)\n",
    "            per_class_acc[str(class_name)] = float(class_acc)\n",
    "    \n",
    "    results = {\n",
    "        'config_id': config['config_id'],\n",
    "        'config_name': config['name'],\n",
    "        'model_name': config['model_name'],\n",
    "        'model_parameters': num_params,\n",
    "        'config': config,\n",
    "        'best_val_acc': float(best_val_acc),\n",
    "        'final_test_acc': float(final_test_acc),\n",
    "        'per_class_acc': per_class_acc,\n",
    "        'training_time_min': float(training_time),\n",
    "        'epochs_trained': len(train_losses),\n",
    "        'history': {\n",
    "            'train_loss': [float(x) for x in train_losses],\n",
    "            'train_acc': [float(x) for x in train_accs],\n",
    "            'val_loss': [float(x) for x in val_losses],\n",
    "            'val_acc': [float(x) for x in val_accs]\n",
    "        }\n",
    "    }\n",
    "    \n",
    "    print(f\"\\n{'='*90}\")\n",
    "    print(f\"RESULTS - CONFIG {config['config_id']}:\")\n",
    "    print(f\"  Best Val Acc:   {best_val_acc*100:.2f}%\")\n",
    "    print(f\"  Final Test Acc: {final_test_acc*100:.2f}%\")\n",
    "    print(f\"  Training Time:  {training_time:.1f} minutes\")\n",
    "    print(f\"{'='*90}\\n\")\n",
    "    \n",
    "    return results\n",
    "\n",
    "# ---------------------------\n",
    "# 6. Configuration Definitions\n",
    "# ---------------------------\n",
    "configurations = [\n",
    "    # BetterCNN Configurations (Smaller, Faster Model)\n",
    "    {\n",
    "        'config_id': 1,\n",
    "        'name': 'BetterCNN_Baseline',\n",
    "        'model_name': 'BetterCNN',\n",
    "        'learning_rate': 0.001,\n",
    "        'batch_size': 16,\n",
    "        'optimizer': 'Adam',\n",
    "        'scheduler': 'ReduceLROnPlateau',\n",
    "        'weight_decay': 1e-4,\n",
    "        'label_smoothing': 0.1,\n",
    "        'epochs': 20,\n",
    "        'patience': 10,\n",
    "        'hflip_prob': 0.5,\n",
    "        'vflip_prob': 0.3,\n",
    "        'rotation_degrees': 30,\n",
    "        'color_jitter': 0.3,\n",
    "        'random_erasing': 0.2\n",
    "    },\n",
    "    {\n",
    "        'config_id': 2,\n",
    "        'name': 'BetterCNN_LowLR_AdamW',\n",
    "        'model_name': 'BetterCNN',\n",
    "        'learning_rate': 0.0005,\n",
    "        'batch_size': 16,\n",
    "        'optimizer': 'AdamW',\n",
    "        'scheduler': 'CosineAnnealing',\n",
    "        'weight_decay': 5e-4,\n",
    "        'label_smoothing': 0.1,\n",
    "        'epochs': 20,\n",
    "        'patience': 12,\n",
    "        'hflip_prob': 0.5,\n",
    "        'vflip_prob': 0.3,\n",
    "        'rotation_degrees': 30,\n",
    "        'color_jitter': 0.3,\n",
    "        'random_erasing': 0.2\n",
    "    },\n",
    "    {\n",
    "        'config_id': 3,\n",
    "        'name': 'BetterCNN_LargeBatch_OneCycle',\n",
    "        'model_name': 'BetterCNN',\n",
    "        'learning_rate': 0.001,\n",
    "        'batch_size': 32,\n",
    "        'optimizer': 'AdamW',\n",
    "        'scheduler': 'OneCycleLR',\n",
    "        'weight_decay': 1e-3,\n",
    "        'label_smoothing': 0.1,\n",
    "        'epochs': 20,\n",
    "        'patience': 10,\n",
    "        'hflip_prob': 0.5,\n",
    "        'vflip_prob': 0.3,\n",
    "        'rotation_degrees': 30,\n",
    "        'color_jitter': 0.3,\n",
    "        'random_erasing': 0.2\n",
    "    },\n",
    "    {\n",
    "        'config_id': 4,\n",
    "        'name': 'BetterCNN_LessAugment',\n",
    "        'model_name': 'BetterCNN',\n",
    "        'learning_rate': 0.0005,\n",
    "        'batch_size': 24,\n",
    "        'optimizer': 'AdamW',\n",
    "        'scheduler': 'CosineAnnealing',\n",
    "        'weight_decay': 5e-4,\n",
    "        'label_smoothing': 0.1,\n",
    "        'epochs': 20,\n",
    "        'patience': 12,\n",
    "        'hflip_prob': 0.5,\n",
    "        'vflip_prob': 0.2,\n",
    "        'rotation_degrees': 15,\n",
    "        'color_jitter': 0.2,\n",
    "        'random_erasing': 0.1\n",
    "    },\n",
    "    {\n",
    "        'config_id': 5,\n",
    "        'name': 'BetterCNN_StrongReg',\n",
    "        'model_name': 'BetterCNN',\n",
    "        'learning_rate': 0.0003,\n",
    "        'batch_size': 32,\n",
    "        'optimizer': 'AdamW',\n",
    "        'scheduler': 'CosineAnnealing',\n",
    "        'weight_decay': 1e-3,\n",
    "        'label_smoothing': 0.15,\n",
    "        'epochs': 20,\n",
    "        'patience': 15,\n",
    "        'hflip_prob': 0.5,\n",
    "        'vflip_prob': 0.3,\n",
    "        'rotation_degrees': 20,\n",
    "        'color_jitter': 0.25,\n",
    "        'random_erasing': 0.15\n",
    "    },\n",
    "    \n",
    "    # BigCNN Configurations (Larger, More Powerful Model)\n",
    "    {\n",
    "        'config_id': 6,\n",
    "        'name': 'BigCNN_Baseline',\n",
    "        'model_name': 'BigCNN',\n",
    "        'learning_rate': 0.001,\n",
    "        'batch_size': 16,\n",
    "        'optimizer': 'Adam',\n",
    "        'scheduler': 'ReduceLROnPlateau',\n",
    "        'weight_decay': 1e-4,\n",
    "        'label_smoothing': 0.1,\n",
    "        'epochs': 20,\n",
    "        'patience': 10,\n",
    "        'hflip_prob': 0.5,\n",
    "        'vflip_prob': 0.3,\n",
    "        'rotation_degrees': 30,\n",
    "        'color_jitter': 0.3,\n",
    "        'random_erasing': 0.2\n",
    "    },\n",
    "    {\n",
    "        'config_id': 7,\n",
    "        'name': 'BigCNN_LowLR_AdamW',\n",
    "        'model_name': 'BigCNN',\n",
    "        'learning_rate': 0.0005,\n",
    "        'batch_size': 16,\n",
    "        'optimizer': 'AdamW',\n",
    "        'scheduler': 'CosineAnnealing',\n",
    "        'weight_decay': 5e-4,\n",
    "        'label_smoothing': 0.1,\n",
    "        'epochs': 20,\n",
    "        'patience': 12,\n",
    "        'hflip_prob': 0.5,\n",
    "        'vflip_prob': 0.3,\n",
    "        'rotation_degrees': 30,\n",
    "        'color_jitter': 0.3,\n",
    "        'random_erasing': 0.2\n",
    "    },\n",
    "    {\n",
    "        'config_id': 8,\n",
    "        'name': 'BigCNN_HighReg',\n",
    "        'model_name': 'BigCNN',\n",
    "        'learning_rate': 0.0003,\n",
    "        'batch_size': 24,\n",
    "        'optimizer': 'AdamW',\n",
    "        'scheduler': 'CosineAnnealing',\n",
    "        'weight_decay': 1e-3,\n",
    "        'label_smoothing': 0.15,\n",
    "        'epochs': 20,\n",
    "        'patience': 12,\n",
    "        'hflip_prob': 0.5,\n",
    "        'vflip_prob': 0.3,\n",
    "        'rotation_degrees': 25,\n",
    "        'color_jitter': 0.25,\n",
    "        'random_erasing': 0.15\n",
    "    },\n",
    "    {\n",
    "        'config_id': 9,\n",
    "        'name': 'BigCNN_LessAugment',\n",
    "        'model_name': 'BigCNN',\n",
    "        'learning_rate': 0.0005,\n",
    "        'batch_size': 20,\n",
    "        'optimizer': 'AdamW',\n",
    "        'scheduler': 'CosineAnnealing',\n",
    "        'weight_decay': 5e-4,\n",
    "        'label_smoothing': 0.1,\n",
    "        'epochs': 20,\n",
    "        'patience': 12,\n",
    "        'hflip_prob': 0.5,\n",
    "        'vflip_prob': 0.2,\n",
    "        'rotation_degrees': 15,\n",
    "        'color_jitter': 0.2,\n",
    "        'random_erasing': 0.1\n",
    "    },\n",
    "    {\n",
    "        'config_id': 10,\n",
    "        'name': 'BigCNN_SGD_Momentum',\n",
    "        'model_name': 'BigCNN',\n",
    "        'learning_rate': 0.01,\n",
    "        'batch_size': 32,\n",
    "        'optimizer': 'SGD',\n",
    "        'scheduler': 'CosineAnnealing',\n",
    "        'weight_decay': 5e-4,\n",
    "        'label_smoothing': 0.1,\n",
    "        'epochs': 20,\n",
    "        'patience': 12,\n",
    "        'hflip_prob': 0.5,\n",
    "        'vflip_prob': 0.3,\n",
    "        'rotation_degrees': 25,\n",
    "        'color_jitter': 0.25,\n",
    "        'random_erasing': 0.15\n",
    "    }\n",
    "]\n",
    "\n",
    "# ---------------------------\n",
    "# 7. Run All Experiments\n",
    "# ---------------------------\n",
    "print(f\"\\n{'#'*90}\")\n",
    "print(f\"# MODEL & HYPERPARAMETER COMPARISON\")\n",
    "print(f\"# Models: BetterCNN (~8M params) vs BigCNN (~20M params)\")\n",
    "print(f\"# Total Configurations: {len(configurations)}\")\n",
    "print(f\"{'#'*90}\\n\")\n",
    "\n",
    "all_results = []\n",
    "\n",
    "for config in configurations:\n",
    "    print(f\"\\n{'*'*90}\")\n",
    "    print(f\"* RUNNING CONFIG {config['config_id']}/{len(configurations)}\")\n",
    "    print(f\"{'*'*90}\")\n",
    "    \n",
    "    try:\n",
    "        results = train_with_config(config, image_array, y, train_idx, val_idx, \n",
    "                                   test_idx, class_names, device)\n",
    "        all_results.append(results)\n",
    "        \n",
    "        # Save individual result\n",
    "        with open(f\"config_{config['config_id']}_results.json\", 'w') as f:\n",
    "            json.dump(results, f, indent=2)\n",
    "        \n",
    "    except Exception as e:\n",
    "        print(f\"✗ Error in Config {config['config_id']}: {e}\")\n",
    "        import traceback\n",
    "        traceback.print_exc()\n",
    "\n",
    "# ---------------------------\n",
    "# 8. Results Summary & Comparison\n",
    "# ---------------------------\n",
    "print(f\"\\n\\n{'#'*90}\")\n",
    "print(f\"# FINAL RESULTS - ALL CONFIGURATIONS\")\n",
    "print(f\"{'#'*90}\\n\")\n",
    "\n",
    "if len(all_results) == 0:\n",
    "    print(\"No successful experiments!\")\n",
    "else:\n",
    "    # Sort by test accuracy\n",
    "    all_results.sort(key=lambda x: x['final_test_acc'], reverse=True)\n",
    "    \n",
    "    # Detailed comparison table\n",
    "    print(f\"{'ID':<4} {'Model':<12} {'Configuration':<30} {'Val Acc':<10} {'Test Acc':<10} {'Params':<10} {'Time':<8}\")\n",
    "    print(\"-\" * 90)\n",
    "    \n",
    "    for result in all_results:\n",
    "        print(f\"{result['config_id']:<4} \"\n",
    "              f\"{result['model_name']:<12} \"\n",
    "              f\"{result['config_name']:<30} \"\n",
    "              f\"{result['best_val_acc']*100:>8.2f}% \"\n",
    "              f\"{result['final_test_acc']*100:>8.2f}% \"\n",
    "              f\"{result['model_parameters']/1e6:>7.1f}M \"\n",
    "              f\"{result['training_time_min']:>7.1f}m\")\n",
    "    \n",
    "    # Save comparison table as CSV\n",
    "    df_results = pd.DataFrame([{\n",
    "        'Config_ID': r['config_id'],\n",
    "        'Model': r['model_name'],\n",
    "        'Configuration': r['config_name'],\n",
    "        'Val_Accuracy_%': round(r['best_val_acc']*100, 2),\n",
    "        'Test_Accuracy_%': round(r['final_test_acc']*100, 2),\n",
    "        'Parameters_M': round(r['model_parameters']/1e6, 2),\n",
    "        'Training_Time_min': round(r['training_time_min'], 1),\n",
    "        'Learning_Rate': r['config']['learning_rate'],\n",
    "        'Batch_Size': r['config']['batch_size'],\n",
    "        'Optimizer': r['config']['optimizer']\n",
    "    } for r in all_results])\n",
    "    \n",
    "    df_results.to_csv('all_configurations_comparison.csv', index=False)\n",
    "    print(f\"\\n✓ Results saved to 'all_configurations_comparison.csv'\")\n",
    "    \n",
    "    # Best configuration details\n",
    "    print(f\"\\n{'='*90}\")\n",
    "    print(f\"🏆 BEST CONFIGURATION: CONFIG {all_results[0]['config_id']}\")\n",
    "    print(f\"{'='*90}\")\n",
    "    \n",
    "    best = all_results[0]\n",
    "    print(f\"\\nModel: {best['model_name']}\")\n",
    "    print(f\"Name: {best['config_name']}\")\n",
    "    print(f\"Parameters: {best['model_parameters']:,} ({best['model_parameters']/1e6:.1f}M)\")\n",
    "    \n",
    "    print(f\"\\nHyperparameters:\")\n",
    "    print(f\"  Learning Rate:    {best['config']['learning_rate']}\")\n",
    "    print(f\"  Batch Size:       {best['config']['batch_size']}\")\n",
    "    print(f\"  Optimizer:        {best['config']['optimizer']}\")\n",
    "    print(f\"  Scheduler:        {best['config']['scheduler']}\")\n",
    "    print(f\"  Weight Decay:     {best['config']['weight_decay']}\")\n",
    "    print(f\"  Label Smoothing:  {best['config']['label_smoothing']}\")\n",
    "    \n",
    "    print(f\"\\nPerformance:\")\n",
    "    print(f\"  Best Val Acc:     {best['best_val_acc']*100:.2f}%\")\n",
    "    print(f\"  Final Test Acc:   {best['final_test_acc']*100:.2f}%\")\n",
    "    print(f\"  Training Time:    {best['training_time_min']:.1f} minutes\")\n",
    "    print(f\"  Epochs Trained:   {best['epochs_trained']}\")\n",
    "    \n",
    "    print(f\"\\nPer-Class Accuracy:\")\n",
    "    for cls, acc in sorted(best['per_class_acc'].items(), key=lambda x: x[1], reverse=True):\n",
    "        print(f\"  {cls:20s}: {acc*100:6.2f}%\")\n",
    "    \n",
    "    # Top 3 configurations\n",
    "    print(f\"\\n{'='*90}\")\n",
    "    print(f\"🥇 TOP 3 CONFIGURATIONS\")\n",
    "    print(f\"{'='*90}\")\n",
    "    for i, result in enumerate(all_results[:3], 1):\n",
    "        print(f\"\\n{i}. CONFIG {result['config_id']}: {result['config_name']}\")\n",
    "        print(f\"   Model: {result['model_name']} ({result['model_parameters']/1e6:.1f}M params)\")\n",
    "        print(f\"   Test Accuracy: {result['final_test_acc']*100:.2f}%\")\n",
    "        print(f\"   Val Accuracy:  {result['best_val_acc']*100:.2f}%\")\n",
    "        print(f\"   Training Time: {result['training_time_min']:.1f} min\")\n",
    "    \n",
    "    # Model comparison (BetterCNN vs BigCNN)\n",
    "    print(f\"\\n{'='*90}\")\n",
    "    print(f\"📊 MODEL COMPARISON\")\n",
    "    print(f\"{'='*90}\")\n",
    "    \n",
    "    better_cnn_results = [r for r in all_results if r['model_name'] == 'BetterCNN']\n",
    "    big_cnn_results = [r for r in all_results if r['model_name'] == 'BigCNN']\n",
    "    \n",
    "    if better_cnn_results:\n",
    "        print(f\"\\nBetterCNN (~8M parameters):\")\n",
    "        print(f\"  Best Test Acc:  {max(r['final_test_acc'] for r in better_cnn_results)*100:.2f}%\")\n",
    "        print(f\"  Avg Test Acc:   {np.mean([r['final_test_acc'] for r in better_cnn_results])*100:.2f}%\")\n",
    "        print(f\"  Avg Train Time: {np.mean([r['training_time_min'] for r in better_cnn_results]):.1f} min\")\n",
    "    \n",
    "    if big_cnn_results:\n",
    "        print(f\"\\nBigCNN (~20M parameters):\")\n",
    "        print(f\"  Best Test Acc:  {max(r['final_test_acc'] for r in big_cnn_results)*100:.2f}%\")\n",
    "        print(f\"  Avg Test Acc:   {np.mean([r['final_test_acc'] for r in big_cnn_results])*100:.2f}%\")\n",
    "        print(f\"  Avg Train Time: {np.mean([r['training_time_min'] for r in big_cnn_results]):.1f} min\")\n",
    "    \n",
    "    # Save all results\n",
    "    with open('all_configurations_results.json', 'w') as f:\n",
    "        json.dump(all_results, f, indent=2)\n",
    "    print(f\"\\n✓ All results saved to 'all_configurations_results.json'\")\n",
    "    \n",
    "    # ---------------------------\n",
    "    # 9. Visualizations\n",
    "    # ---------------------------\n",
    "    print(\"\\n📈 Generating comparison visualizations...\")\n",
    "    \n",
    "    fig = plt.figure(figsize=(20, 12))\n",
    "    gs = fig.add_gridspec(3, 3, hspace=0.3, wspace=0.3)\n",
    "    \n",
    "    # 1. Test Accuracy by Model\n",
    "    ax1 = fig.add_subplot(gs[0, :2])\n",
    "    better_ids = [r['config_id'] for r in all_results if r['model_name'] == 'BetterCNN']\n",
    "    better_accs = [r['final_test_acc']*100 for r in all_results if r['model_name'] == 'BetterCNN']\n",
    "    big_ids = [r['config_id'] for r in all_results if r['model_name'] == 'BigCNN']\n",
    "    big_accs = [r['final_test_acc']*100 for r in all_results if r['model_name'] == 'BigCNN']\n",
    "    \n",
    "    x = np.arange(len(all_results))\n",
    "    colors = ['steelblue' if r['model_name'] == 'BetterCNN' else 'coral' for r in all_results]\n",
    "    bars = ax1.bar(x, [r['final_test_acc']*100 for r in all_results], color=colors, edgecolor='black', linewidth=1.5)\n",
    "    ax1.axhline(70, color='red', linestyle='--', linewidth=2, label='Target: 70%')\n",
    "    ax1.set_xlabel('Configuration ID', fontsize=12, fontweight='bold')\n",
    "    ax1.set_ylabel('Test Accuracy (%)', fontsize=12, fontweight='bold')\n",
    "    ax1.set_title('Test Accuracy - All Configurations', fontsize=14, fontweight='bold')\n",
    "    ax1.set_xticks(x)\n",
    "    ax1.set_xticklabels([r['config_id'] for r in all_results])\n",
    "    ax1.legend(['Target: 70%', 'BetterCNN', 'BigCNN'])\n",
    "    ax1.grid(axis='y', alpha=0.3)\n",
    "    \n",
    "    # Add value labels\n",
    "    for bar in bars:\n",
    "        height = bar.get_height()\n",
    "        ax1.text(bar.get_x() + bar.get_width()/2., height,\n",
    "                f'{height:.1f}%', ha='center', va='bottom', fontsize=8, fontweight='bold')\n",
    "    \n",
    "    # 2. Model Size Comparison\n",
    "    ax2 = fig.add_subplot(gs[0, 2])\n",
    "    model_types = ['BetterCNN', 'BigCNN']\n",
    "    avg_accs = [\n",
    "        np.mean([r['final_test_acc']*100 for r in all_results if r['model_name'] == 'BetterCNN']),\n",
    "        np.mean([r['final_test_acc']*100 for r in all_results if r['model_name'] == 'BigCNN'])\n",
    "    ]\n",
    "    params = [8, 20]  # in millions\n",
    "    \n",
    "    scatter = ax2.scatter(params, avg_accs, s=[p*50 for p in params], \n",
    "                         c=['steelblue', 'coral'], alpha=0.6, edgecolors='black', linewidths=2)\n",
    "    for i, model in enumerate(model_types):\n",
    "        ax2.annotate(f'{model}\\n{avg_accs[i]:.2f}%', \n",
    "                    (params[i], avg_accs[i]), fontsize=10, ha='center', fontweight='bold')\n",
    "    ax2.set_xlabel('Parameters (Millions)', fontsize=12, fontweight='bold')\n",
    "    ax2.set_ylabel('Avg Test Accuracy (%)', fontsize=12, fontweight='bold')\n",
    "    ax2.set_title('Model Size vs Accuracy', fontsize=14, fontweight='bold')\n",
    "    ax2.grid(alpha=0.3)\n",
    "    \n",
    "    # 3. Val vs Test Accuracy\n",
    "    ax3 = fig.add_subplot(gs[1, 0])\n",
    "    val_accs = [r['best_val_acc']*100 for r in all_results]\n",
    "    test_accs = [r['final_test_acc']*100 for r in all_results]\n",
    "    colors_scatter = ['steelblue' if r['model_name'] == 'BetterCNN' else 'coral' for r in all_results]\n",
    "    \n",
    "    for i, (val, test, color, config_id) in enumerate(zip(val_accs, test_accs, colors_scatter, \n",
    "                                                           [r['config_id'] for r in all_results])):\n",
    "        ax3.scatter(val, test, s=150, c=color, alpha=0.6, edgecolors='black', linewidths=1.5)\n",
    "        ax3.annotate(str(config_id), (val, test), fontsize=9, ha='center', va='center', fontweight='bold')\n",
    "    \n",
    "    min_val = min(val_accs + test_accs) - 2\n",
    "    max_val = max(val_accs + test_accs) + 2\n",
    "    ax3.plot([min_val, max_val], [min_val, max_val], 'r--', alpha=0.5, linewidth=2, label='Perfect Agreement')\n",
    "    ax3.set_xlabel('Validation Accuracy (%)', fontsize=12, fontweight='bold')\n",
    "    ax3.set_ylabel('Test Accuracy (%)', fontsize=12, fontweight='bold')\n",
    "    ax3.set_title('Val vs Test Accuracy', fontsize=14, fontweight='bold')\n",
    "    ax3.legend()\n",
    "    ax3.grid(alpha=0.3)\n",
    "    \n",
    "    # 4. Training Time Comparison\n",
    "    ax4 = fig.add_subplot(gs[1, 1])\n",
    "    times = [r['training_time_min'] for r in all_results]\n",
    "    colors_time = ['steelblue' if r['model_name'] == 'BetterCNN' else 'coral' for r in all_results]\n",
    "    bars = ax4.bar([r['config_id'] for r in all_results], times, color=colors_time, \n",
    "                   edgecolor='black', linewidth=1.5)\n",
    "    ax4.set_xlabel('Configuration ID', fontsize=12, fontweight='bold')\n",
    "    ax4.set_ylabel('Training Time (minutes)', fontsize=12, fontweight='bold')\n",
    "    ax4.set_title('Training Time', fontsize=14, fontweight='bold')\n",
    "    ax4.grid(axis='y', alpha=0.3)\n",
    "    \n",
    "    # 5. Learning Curves - Best Model\n",
    "    ax5 = fig.add_subplot(gs[1, 2])\n",
    "    best_hist = all_results[0]['history']\n",
    "    epochs = range(1, len(best_hist['train_acc']) + 1)\n",
    "    ax5.plot(epochs, [x*100 for x in best_hist['train_acc']], \n",
    "            label='Train', linewidth=2, marker='o', markersize=5, color='steelblue')\n",
    "    ax5.plot(epochs, [x*100 for x in best_hist['val_acc']], \n",
    "            label='Val', linewidth=2, marker='s', markersize=5, color='coral')\n",
    "    ax5.axhline(70, color='red', linestyle='--', linewidth=2, alpha=0.5)\n",
    "    ax5.set_xlabel('Epoch', fontsize=12, fontweight='bold')\n",
    "    ax5.set_ylabel('Accuracy (%)', fontsize=12, fontweight='bold')\n",
    "    ax5.set_title(f'Best Model (Config {all_results[0][\"config_id\"]})', fontsize=14, fontweight='bold')\n",
    "    ax5.legend()\n",
    "    ax5.grid(alpha=0.3)\n",
    "    \n",
    "    # 6. Top 5 Configurations\n",
    "    ax6 = fig.add_subplot(gs[2, :])\n",
    "    top_5 = all_results[:5]\n",
    "    y_pos = np.arange(len(top_5))\n",
    "    test_accs_top5 = [r['final_test_acc']*100 for r in top_5]\n",
    "    colors_top5 = ['steelblue' if r['model_name'] == 'BetterCNN' else 'coral' for r in top_5]\n",
    "    labels_top5 = [f\"Config {r['config_id']}: {r['config_name'][:30]}\" for r in top_5]\n",
    "    \n",
    "    bars = ax6.barh(y_pos, test_accs_top5, color=colors_top5, edgecolor='black', linewidth=1.5)\n",
    "    ax6.set_yticks(y_pos)\n",
    "    ax6.set_yticklabels(labels_top5, fontsize=10)\n",
    "    ax6.set_xlabel('Test Accuracy (%)', fontsize=12, fontweight='bold')\n",
    "    ax6.set_title('🏆 Top 5 Configurations', fontsize=14, fontweight='bold')\n",
    "    ax6.axvline(70, color='red', linestyle='--', linewidth=2, alpha=0.5, label='Target: 70%')\n",
    "    ax6.legend()\n",
    "    ax6.grid(axis='x', alpha=0.3)\n",
    "    \n",
    "    # Add value labels\n",
    "    for i, (bar, acc) in enumerate(zip(bars, test_accs_top5)):\n",
    "        ax6.text(acc + 0.5, bar.get_y() + bar.get_height()/2, \n",
    "                f'{acc:.2f}%', va='center', fontweight='bold')\n",
    "    \n",
    "    plt.suptitle('Model & Hyperparameter Comparison Dashboard', \n",
    "                 fontsize=16, fontweight='bold', y=0.995)\n",
    "    plt.savefig('all_configurations_comparison.png', dpi=300, bbox_inches='tight')\n",
    "    print(\"✓ Saved visualization to 'all_configurations_comparison.png'\")\n",
    "    plt.show()\n",
    "    \n",
    "    # Summary Statistics\n",
    "    print(f\"\\n{'='*90}\")\n",
    "    print(\"📈 SUMMARY STATISTICS\")\n",
    "    print(f\"{'='*90}\")\n",
    "    test_accs_all = [r['final_test_acc']*100 for r in all_results]\n",
    "    print(f\"Best Test Accuracy:      {max(test_accs_all):.2f}%\")\n",
    "    print(f\"Worst Test Accuracy:     {min(test_accs_all):.2f}%\")\n",
    "    print(f\"Average Test Accuracy:   {np.mean(test_accs_all):.2f}%\")\n",
    "    print(f\"Std Dev Test Accuracy:   {np.std(test_accs_all):.2f}%\")\n",
    "    print(f\"\\nConfigs reaching 70%:    {sum(1 for acc in test_accs_all if acc >= 70)}/{len(test_accs_all)}\")\n",
    "    print(f\"Configs reaching 75%:    {sum(1 for acc in test_accs_all if acc >= 75)}/{len(test_accs_all)}\")\n",
    "\n",
    "print(f\"\\n{'#'*90}\")\n",
    "print(\"# ✅ MODEL & HYPERPARAMETER COMPARISON COMPLETE!\")\n",
    "print(f\"{'#'*90}\\n\")\n",
    "print(\"📁 Generated Files:\")\n",
    "print(\"  - all_configurations_comparison.csv\")\n",
    "print(\"  - all_configurations_results.json\")\n",
    "print(\"  - all_configurations_comparison.png\")\n",
    "print(\"  - config_X_results.json (for each configuration)\")\n",
    "print(\"  - model_config_X.pth (best model for each configuration)\")\n",
    "print(f\"\\n🎯 Choose the best configuration based on:\")\n",
    "print(\"  1. Test accuracy (target: 70%+)\")\n",
    "print(\"  2. Training time (your constraint)\")\n",
    "print(\"  3. Model size (BetterCNN=8M, BigCNN=20M)\")\n",
    "print(\"  4. Per-class performance (if specific classes matter)\")"
   ]
  }
 ],
 "metadata": {
  "kernelspec": {
   "display_name": "env",
   "language": "python",
   "name": "python3"
  },
  "language_info": {
   "codemirror_mode": {
    "name": "ipython",
    "version": 3
   },
   "file_extension": ".py",
   "mimetype": "text/x-python",
   "name": "python",
   "nbconvert_exporter": "python",
   "pygments_lexer": "ipython3",
   "version": "3.10.11"
  }
 },
 "nbformat": 4,
 "nbformat_minor": 5
}
