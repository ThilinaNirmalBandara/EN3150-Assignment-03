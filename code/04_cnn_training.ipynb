{
 "cells": [
  {
   "cell_type": "code",
   "execution_count": 3,
   "id": "080596da",
   "metadata": {},
   "outputs": [
    {
     "name": "stdout",
     "output_type": "stream",
     "text": [
      "Using device: cuda\n",
      "Number of classes: 9\n",
      "Classes: [0 1 2 3 4 5 6 7 8]\n",
      "Class distribution: [461 411 420 790 495 500 921 318 436]\n",
      "Train size: 3326, Val size: 713, Test size: 713\n",
      "Mean: [0.05387205 0.05387205 0.05387205]\n",
      "Std: [0.23210354 0.23210354 0.23210354]\n",
      "Using Custom Improved CNN\n",
      "Model parameters: 8,242,185\n",
      "Class weights: tensor([1.1441, 1.2876, 1.2570, 0.6683, 1.0650, 1.0559, 0.5730, 1.6647, 1.2117],\n",
      "       device='cuda:0')\n",
      "\n",
      "Starting training...\n"
     ]
    },
    {
     "name": "stderr",
     "output_type": "stream",
     "text": [
      "Epoch 1/20 [Train]: 100%|██████████| 208/208 [00:20<00:00, 10.28it/s, acc=0.143, loss=2.44]\n",
      "Epoch 1/20 [Val]: 100%|██████████| 45/45 [00:01<00:00, 24.42it/s, acc=0.137, loss=2.15]\n"
     ]
    },
    {
     "name": "stdout",
     "output_type": "stream",
     "text": [
      "Epoch 1/20 | Train Loss: 2.4447 | Train Acc: 0.1428 | Val Loss: 2.1482 | Val Acc: 0.1374\n",
      "✓ Best model saved with val_acc: 0.1374\n"
     ]
    },
    {
     "name": "stderr",
     "output_type": "stream",
     "text": [
      "Epoch 2/20 [Train]: 100%|██████████| 208/208 [00:20<00:00, 10.30it/s, acc=0.148, loss=2.19]\n",
      "Epoch 2/20 [Val]: 100%|██████████| 45/45 [00:01<00:00, 24.97it/s, acc=0.158, loss=2.15]\n"
     ]
    },
    {
     "name": "stdout",
     "output_type": "stream",
     "text": [
      "Epoch 2/20 | Train Loss: 2.1865 | Train Acc: 0.1476 | Val Loss: 2.1478 | Val Acc: 0.1585\n",
      "✓ Best model saved with val_acc: 0.1585\n"
     ]
    },
    {
     "name": "stderr",
     "output_type": "stream",
     "text": [
      "Epoch 3/20 [Train]: 100%|██████████| 208/208 [00:20<00:00, 10.26it/s, acc=0.183, loss=2.18]\n",
      "Epoch 3/20 [Val]: 100%|██████████| 45/45 [00:01<00:00, 24.78it/s, acc=0.233, loss=2.14]\n"
     ]
    },
    {
     "name": "stdout",
     "output_type": "stream",
     "text": [
      "Epoch 3/20 | Train Loss: 2.1760 | Train Acc: 0.1825 | Val Loss: 2.1373 | Val Acc: 0.2328\n",
      "✓ Best model saved with val_acc: 0.2328\n"
     ]
    },
    {
     "name": "stderr",
     "output_type": "stream",
     "text": [
      "Epoch 4/20 [Train]: 100%|██████████| 208/208 [00:20<00:00, 10.03it/s, acc=0.173, loss=2.15]\n",
      "Epoch 4/20 [Val]: 100%|██████████| 45/45 [00:01<00:00, 23.38it/s, acc=0.233, loss=2.14]\n"
     ]
    },
    {
     "name": "stdout",
     "output_type": "stream",
     "text": [
      "Epoch 4/20 | Train Loss: 2.1536 | Train Acc: 0.1726 | Val Loss: 2.1407 | Val Acc: 0.2328\n"
     ]
    },
    {
     "name": "stderr",
     "output_type": "stream",
     "text": [
      "Epoch 5/20 [Train]: 100%|██████████| 208/208 [00:20<00:00, 10.27it/s, acc=0.207, loss=2.13]\n",
      "Epoch 5/20 [Val]: 100%|██████████| 45/45 [00:01<00:00, 22.96it/s, acc=0.261, loss=2.08]\n"
     ]
    },
    {
     "name": "stdout",
     "output_type": "stream",
     "text": [
      "Epoch 5/20 | Train Loss: 2.1254 | Train Acc: 0.2069 | Val Loss: 2.0774 | Val Acc: 0.2609\n",
      "✓ Best model saved with val_acc: 0.2609\n"
     ]
    },
    {
     "name": "stderr",
     "output_type": "stream",
     "text": [
      "Epoch 6/20 [Train]: 100%|██████████| 208/208 [00:20<00:00, 10.14it/s, acc=0.187, loss=2.12]\n",
      "Epoch 6/20 [Val]: 100%|██████████| 45/45 [00:01<00:00, 23.11it/s, acc=0.192, loss=2.2] \n"
     ]
    },
    {
     "name": "stdout",
     "output_type": "stream",
     "text": [
      "Epoch 6/20 | Train Loss: 2.1179 | Train Acc: 0.1870 | Val Loss: 2.1971 | Val Acc: 0.1921\n"
     ]
    },
    {
     "name": "stderr",
     "output_type": "stream",
     "text": [
      "Epoch 7/20 [Train]: 100%|██████████| 208/208 [00:20<00:00, 10.12it/s, acc=0.185, loss=2.1] \n",
      "Epoch 7/20 [Val]: 100%|██████████| 45/45 [00:01<00:00, 23.26it/s, acc=0.238, loss=2.01]\n"
     ]
    },
    {
     "name": "stdout",
     "output_type": "stream",
     "text": [
      "Epoch 7/20 | Train Loss: 2.0984 | Train Acc: 0.1846 | Val Loss: 2.0128 | Val Acc: 0.2384\n"
     ]
    },
    {
     "name": "stderr",
     "output_type": "stream",
     "text": [
      "Epoch 8/20 [Train]: 100%|██████████| 208/208 [00:19<00:00, 10.44it/s, acc=0.184, loss=2.11]\n",
      "Epoch 8/20 [Val]: 100%|██████████| 45/45 [00:01<00:00, 24.84it/s, acc=0.189, loss=2.03]\n"
     ]
    },
    {
     "name": "stdout",
     "output_type": "stream",
     "text": [
      "Epoch 8/20 | Train Loss: 2.1141 | Train Acc: 0.1840 | Val Loss: 2.0324 | Val Acc: 0.1893\n"
     ]
    },
    {
     "name": "stderr",
     "output_type": "stream",
     "text": [
      "Epoch 9/20 [Train]: 100%|██████████| 208/208 [00:20<00:00, 10.31it/s, acc=0.191, loss=2.08]\n",
      "Epoch 9/20 [Val]: 100%|██████████| 45/45 [00:01<00:00, 24.34it/s, acc=0.21, loss=2.08] \n"
     ]
    },
    {
     "name": "stdout",
     "output_type": "stream",
     "text": [
      "Epoch 9/20 | Train Loss: 2.0803 | Train Acc: 0.1912 | Val Loss: 2.0816 | Val Acc: 0.2104\n"
     ]
    },
    {
     "name": "stderr",
     "output_type": "stream",
     "text": [
      "Epoch 10/20 [Train]: 100%|██████████| 208/208 [00:19<00:00, 10.50it/s, acc=0.204, loss=2.01]\n",
      "Epoch 10/20 [Val]: 100%|██████████| 45/45 [00:01<00:00, 25.00it/s, acc=0.309, loss=1.95]\n"
     ]
    },
    {
     "name": "stdout",
     "output_type": "stream",
     "text": [
      "Epoch 10/20 | Train Loss: 2.0137 | Train Acc: 0.2041 | Val Loss: 1.9467 | Val Acc: 0.3086\n",
      "✓ Best model saved with val_acc: 0.3086\n"
     ]
    },
    {
     "name": "stderr",
     "output_type": "stream",
     "text": [
      "Epoch 11/20 [Train]: 100%|██████████| 208/208 [00:19<00:00, 10.49it/s, acc=0.219, loss=1.98]\n",
      "Epoch 11/20 [Val]: 100%|██████████| 45/45 [00:01<00:00, 25.18it/s, acc=0.321, loss=1.94]\n"
     ]
    },
    {
     "name": "stdout",
     "output_type": "stream",
     "text": [
      "Epoch 11/20 | Train Loss: 1.9803 | Train Acc: 0.2186 | Val Loss: 1.9360 | Val Acc: 0.3212\n",
      "✓ Best model saved with val_acc: 0.3212\n"
     ]
    },
    {
     "name": "stderr",
     "output_type": "stream",
     "text": [
      "Epoch 12/20 [Train]: 100%|██████████| 208/208 [00:19<00:00, 10.51it/s, acc=0.281, loss=1.92]\n",
      "Epoch 12/20 [Val]: 100%|██████████| 45/45 [00:01<00:00, 25.65it/s, acc=0.229, loss=1.96]\n"
     ]
    },
    {
     "name": "stdout",
     "output_type": "stream",
     "text": [
      "Epoch 12/20 | Train Loss: 1.9225 | Train Acc: 0.2811 | Val Loss: 1.9578 | Val Acc: 0.2286\n"
     ]
    },
    {
     "name": "stderr",
     "output_type": "stream",
     "text": [
      "Epoch 13/20 [Train]: 100%|██████████| 208/208 [00:19<00:00, 10.56it/s, acc=0.281, loss=1.9] \n",
      "Epoch 13/20 [Val]: 100%|██████████| 45/45 [00:01<00:00, 25.23it/s, acc=0.405, loss=1.78]\n"
     ]
    },
    {
     "name": "stdout",
     "output_type": "stream",
     "text": [
      "Epoch 13/20 | Train Loss: 1.9048 | Train Acc: 0.2811 | Val Loss: 1.7762 | Val Acc: 0.4053\n",
      "✓ Best model saved with val_acc: 0.4053\n"
     ]
    },
    {
     "name": "stderr",
     "output_type": "stream",
     "text": [
      "Epoch 14/20 [Train]: 100%|██████████| 208/208 [00:19<00:00, 10.55it/s, acc=0.294, loss=1.86]\n",
      "Epoch 14/20 [Val]: 100%|██████████| 45/45 [00:01<00:00, 25.54it/s, acc=0.384, loss=1.81]\n"
     ]
    },
    {
     "name": "stdout",
     "output_type": "stream",
     "text": [
      "Epoch 14/20 | Train Loss: 1.8642 | Train Acc: 0.2943 | Val Loss: 1.8146 | Val Acc: 0.3843\n"
     ]
    },
    {
     "name": "stderr",
     "output_type": "stream",
     "text": [
      "Epoch 15/20 [Train]: 100%|██████████| 208/208 [00:19<00:00, 10.58it/s, acc=0.319, loss=1.83]\n",
      "Epoch 15/20 [Val]: 100%|██████████| 45/45 [00:01<00:00, 25.20it/s, acc=0.419, loss=1.65]\n"
     ]
    },
    {
     "name": "stdout",
     "output_type": "stream",
     "text": [
      "Epoch 15/20 | Train Loss: 1.8331 | Train Acc: 0.3187 | Val Loss: 1.6460 | Val Acc: 0.4194\n",
      "✓ Best model saved with val_acc: 0.4194\n"
     ]
    },
    {
     "name": "stderr",
     "output_type": "stream",
     "text": [
      "Epoch 16/20 [Train]: 100%|██████████| 208/208 [00:19<00:00, 10.51it/s, acc=0.329, loss=1.82]\n",
      "Epoch 16/20 [Val]: 100%|██████████| 45/45 [00:01<00:00, 25.48it/s, acc=0.411, loss=1.69]\n"
     ]
    },
    {
     "name": "stdout",
     "output_type": "stream",
     "text": [
      "Epoch 16/20 | Train Loss: 1.8157 | Train Acc: 0.3292 | Val Loss: 1.6910 | Val Acc: 0.4109\n"
     ]
    },
    {
     "name": "stderr",
     "output_type": "stream",
     "text": [
      "Epoch 17/20 [Train]: 100%|██████████| 208/208 [00:19<00:00, 10.51it/s, acc=0.362, loss=1.77]\n",
      "Epoch 17/20 [Val]: 100%|██████████| 45/45 [00:01<00:00, 25.34it/s, acc=0.419, loss=1.65]\n"
     ]
    },
    {
     "name": "stdout",
     "output_type": "stream",
     "text": [
      "Epoch 17/20 | Train Loss: 1.7724 | Train Acc: 0.3617 | Val Loss: 1.6481 | Val Acc: 0.4194\n"
     ]
    },
    {
     "name": "stderr",
     "output_type": "stream",
     "text": [
      "Epoch 18/20 [Train]: 100%|██████████| 208/208 [00:20<00:00, 10.07it/s, acc=0.359, loss=1.77]\n",
      "Epoch 18/20 [Val]: 100%|██████████| 45/45 [00:01<00:00, 24.63it/s, acc=0.471, loss=1.61]\n"
     ]
    },
    {
     "name": "stdout",
     "output_type": "stream",
     "text": [
      "Epoch 18/20 | Train Loss: 1.7665 | Train Acc: 0.3590 | Val Loss: 1.6148 | Val Acc: 0.4712\n",
      "✓ Best model saved with val_acc: 0.4712\n"
     ]
    },
    {
     "name": "stderr",
     "output_type": "stream",
     "text": [
      "Epoch 19/20 [Train]: 100%|██████████| 208/208 [00:20<00:00, 10.24it/s, acc=0.396, loss=1.74]\n",
      "Epoch 19/20 [Val]: 100%|██████████| 45/45 [00:01<00:00, 24.66it/s, acc=0.48, loss=1.62] \n"
     ]
    },
    {
     "name": "stdout",
     "output_type": "stream",
     "text": [
      "Epoch 19/20 | Train Loss: 1.7440 | Train Acc: 0.3957 | Val Loss: 1.6163 | Val Acc: 0.4797\n",
      "✓ Best model saved with val_acc: 0.4797\n"
     ]
    },
    {
     "name": "stderr",
     "output_type": "stream",
     "text": [
      "Epoch 20/20 [Train]: 100%|██████████| 208/208 [00:19<00:00, 10.46it/s, acc=0.406, loss=1.71]\n",
      "Epoch 20/20 [Val]: 100%|██████████| 45/45 [00:01<00:00, 24.17it/s, acc=0.508, loss=1.59]\n"
     ]
    },
    {
     "name": "stdout",
     "output_type": "stream",
     "text": [
      "Epoch 20/20 | Train Loss: 1.7057 | Train Acc: 0.4059 | Val Loss: 1.5929 | Val Acc: 0.5077\n",
      "✓ Best model saved with val_acc: 0.5077\n"
     ]
    },
    {
     "data": {
      "image/png": "[encoded data removed]",
      "text/plain": [
       "<Figure size 1400x500 with 2 Axes>"
      ]
     },
     "metadata": {},
     "output_type": "display_data"
    },
    {
     "name": "stdout",
     "output_type": "stream",
     "text": [
      "\n",
      "Loaded best model from epoch 20\n"
     ]
    },
    {
     "name": "stderr",
     "output_type": "stream",
     "text": [
      "Testing: 100%|██████████| 45/45 [00:01<00:00, 23.11it/s]\n"
     ]
    },
    {
     "name": "stdout",
     "output_type": "stream",
     "text": [
      "\n",
      "==================================================\n",
      "Test Accuracy: 51.75%\n",
      "==================================================\n",
      "\n"
     ]
    },
    {
     "data": {
      "image/png": "[encoded data removed]",
      "text/plain": [
       "<Figure size 1200x1000 with 2 Axes>"
      ]
     },
     "metadata": {},
     "output_type": "display_data"
    },
    {
     "name": "stdout",
     "output_type": "stream",
     "text": [
      "\n",
      "Classification Report:\n",
      "======================================================================\n",
      "              precision    recall  f1-score   support\n",
      "\n",
      "           0     0.8485    0.4058    0.5490        69\n",
      "           1     0.6447    0.7903    0.7101        62\n",
      "           2     0.7037    0.6032    0.6496        63\n",
      "           3     0.5354    0.4454    0.4862       119\n",
      "           4     0.2474    0.3243    0.2807        74\n",
      "           5     0.5870    0.3600    0.4463        75\n",
      "           6     0.5000    0.6304    0.5577       138\n",
      "           7     0.2742    0.3542    0.3091        48\n",
      "           8     0.6389    0.7077    0.6715        65\n",
      "\n",
      "    accuracy                         0.5175       713\n",
      "   macro avg     0.5533    0.5135    0.5178       713\n",
      "weighted avg     0.5506    0.5175    0.5195       713\n",
      "\n",
      "\n",
      "Per-Class Accuracy:\n",
      "======================================================================\n",
      "0                   :  40.58% (69 samples)\n",
      "1                   :  79.03% (62 samples)\n",
      "2                   :  60.32% (63 samples)\n",
      "3                   :  44.54% (119 samples)\n",
      "4                   :  32.43% (74 samples)\n",
      "5                   :  36.00% (75 samples)\n",
      "6                   :  63.04% (138 samples)\n",
      "7                   :  35.42% (48 samples)\n",
      "8                   :  70.77% (65 samples)\n",
      "\n",
      "✓ Training complete!\n",
      "Best validation accuracy: 50.77%\n",
      "Final test accuracy: 51.75%\n"
     ]
    }
   ],
   "source": [
    "import numpy as np\n",
    "import torch\n",
    "import torch.nn as nn\n",
    "import torch.nn.functional as F\n",
    "import torch.optim as optim\n",
    "from torch.utils.data import Dataset, DataLoader\n",
    "from sklearn.preprocessing import LabelEncoder\n",
    "from sklearn.model_selection import train_test_split\n",
    "from sklearn.utils.class_weight import compute_class_weight\n",
    "import torchvision.transforms as transforms\n",
    "import matplotlib.pyplot as plt\n",
    "import seaborn as sns\n",
    "from sklearn.metrics import confusion_matrix, classification_report\n",
    "from tqdm import tqdm\n",
    "import warnings\n",
    "warnings.filterwarnings('ignore')\n",
    "\n",
    "# ---------------------------\n",
    "# 0. Device\n",
    "# ---------------------------\n",
    "device = torch.device(\"cuda\" if torch.cuda.is_available() else \"cpu\")\n",
    "print(\"Using device:\", device)\n",
    "\n",
    "# ---------------------------\n",
    "# 1. Load data\n",
    "# ---------------------------\n",
    "image_array = np.load(\"images.npy\", allow_pickle=True)\n",
    "labels = np.load(\"labels.npy\", allow_pickle=True)\n",
    "\n",
    "# Encode labels\n",
    "encoder = LabelEncoder()\n",
    "y = encoder.fit_transform(labels)\n",
    "num_classes = len(np.unique(y))\n",
    "print(f\"Number of classes: {num_classes}\")\n",
    "print(f\"Classes: {encoder.classes_}\")\n",
    "print(f\"Class distribution: {np.bincount(y)}\")\n",
    "\n",
    "# Train/Val/Test split\n",
    "train_idx, test_idx = train_test_split(\n",
    "    np.arange(len(y)), test_size=0.15, random_state=42, stratify=y\n",
    ")\n",
    "train_idx, val_idx = train_test_split(\n",
    "    train_idx, test_size=(0.15/0.85), random_state=42, stratify=y[train_idx]\n",
    ")\n",
    "\n",
    "print(f\"Train size: {len(train_idx)}, Val size: {len(val_idx)}, Test size: {len(test_idx)}\")\n",
    "\n",
    "# ---------------------------\n",
    "# 2. Dataset class\n",
    "# ---------------------------\n",
    "class WasteDataset(Dataset):\n",
    "    def __init__(self, images, labels, indices, transform=None):\n",
    "        self.images = images\n",
    "        self.labels = labels\n",
    "        self.indices = indices\n",
    "        self.transform = transform\n",
    "\n",
    "    def __len__(self):\n",
    "        return len(self.indices)\n",
    "\n",
    "    def __getitem__(self, idx):\n",
    "        i = self.indices[idx]\n",
    "        img = self.images[i].astype(np.uint8)\n",
    "        label = self.labels[i]\n",
    "        if self.transform:\n",
    "            img = self.transform(img)\n",
    "        return img, label\n",
    "\n",
    "# ---------------------------\n",
    "# 3. Enhanced Transforms\n",
    "# ---------------------------\n",
    "\n",
    "# Compute mean and std from the training dataset\n",
    "images = np.load(\"images.npy\", allow_pickle=True).astype(np.float32) / 255.0  # scale 0-1\n",
    "mean = images.mean(axis=(0,1,2))   # per channel mean\n",
    "std = images.std(axis=(0,1,2))     # per channel std\n",
    "print(\"Mean:\", mean)\n",
    "print(\"Std:\", std)\n",
    "\n",
    "train_transform = transforms.Compose([\n",
    "    transforms.ToPILImage(),\n",
    "    transforms.Resize((256, 256)),\n",
    "    transforms.RandomCrop(224),\n",
    "    transforms.RandomHorizontalFlip(),\n",
    "    transforms.RandomVerticalFlip(),\n",
    "    transforms.RandomRotation(30),\n",
    "    transforms.RandomAffine(degrees=0, translate=(0.1, 0.1), scale=(0.9, 1.1)),\n",
    "    transforms.ColorJitter(brightness=0.3, contrast=0.3, saturation=0.2),\n",
    "    transforms.ToTensor(),\n",
    "    transforms.Normalize(mean=[0.485, 0.456, 0.406], std=[0.229, 0.224, 0.225]),\n",
    "    transforms.RandomErasing(p=0.2)\n",
    "])\n",
    "\n",
    "val_transform = transforms.Compose([\n",
    "    transforms.ToPILImage(),\n",
    "    transforms.Resize((224, 224)),\n",
    "    transforms.ToTensor(),\n",
    "    transforms.Normalize(mean=[0.485, 0.456, 0.406], std=[0.229, 0.224, 0.225])\n",
    "])\n",
    "\n",
    "train_dataset = WasteDataset(image_array, y, train_idx, transform=train_transform)\n",
    "val_dataset = WasteDataset(image_array, y, val_idx, transform=val_transform)\n",
    "test_dataset = WasteDataset(image_array, y, test_idx, transform=val_transform)\n",
    "\n",
    "train_loader = DataLoader(train_dataset, batch_size=16, shuffle=True, num_workers=0, pin_memory=True)\n",
    "val_loader = DataLoader(val_dataset, batch_size=16, num_workers=0, pin_memory=True)\n",
    "test_loader = DataLoader(test_dataset, batch_size=16, num_workers=0, pin_memory=True)\n",
    "\n",
    "# ---------------------------\n",
    "# 4. Custom CNN Model\n",
    "# ---------------------------\n",
    "class ImprovedCNN(nn.Module):\n",
    "    def __init__(self, num_classes, input_channels=3):\n",
    "        super(ImprovedCNN, self).__init__()\n",
    "        self.conv1 = nn.Conv2d(input_channels, 64, 3, padding=1)\n",
    "        self.bn1 = nn.BatchNorm2d(64)\n",
    "        self.conv2 = nn.Conv2d(64, 128, 3, padding=1)\n",
    "        self.bn2 = nn.BatchNorm2d(128)\n",
    "        self.conv3 = nn.Conv2d(128, 256, 3, padding=1)\n",
    "        self.bn3 = nn.BatchNorm2d(256)\n",
    "        self.conv4 = nn.Conv2d(256, 512, 3, padding=1)\n",
    "        self.bn4 = nn.BatchNorm2d(512)\n",
    "        self.conv5 = nn.Conv2d(512, 512, 3, padding=1)\n",
    "        self.bn5 = nn.BatchNorm2d(512)\n",
    "        \n",
    "        self.pool = nn.MaxPool2d(2, 2)\n",
    "        self.adapt_pool = nn.AdaptiveAvgPool2d((4, 4))\n",
    "        \n",
    "        self.fc1 = nn.Linear(512*4*4, 512)\n",
    "        self.dropout1 = nn.Dropout(0.5)\n",
    "        self.fc2 = nn.Linear(512, 256)\n",
    "        self.dropout2 = nn.Dropout(0.5)\n",
    "        self.fc3 = nn.Linear(256, num_classes)\n",
    "\n",
    "    def forward(self, x):\n",
    "        x = F.relu(self.bn1(self.conv1(x)))\n",
    "        x = self.pool(x)\n",
    "        x = F.relu(self.bn2(self.conv2(x)))\n",
    "        x = self.pool(x)\n",
    "        x = F.relu(self.bn3(self.conv3(x)))\n",
    "        x = self.pool(x)\n",
    "        x = F.relu(self.bn4(self.conv4(x)))\n",
    "        x = self.pool(x)\n",
    "        x = F.relu(self.bn5(self.conv5(x)))\n",
    "        x = self.pool(x)\n",
    "        x = self.adapt_pool(x)\n",
    "        x = x.view(x.size(0), -1)\n",
    "        x = F.relu(self.fc1(x))\n",
    "        x = self.dropout1(x)\n",
    "        x = F.relu(self.fc2(x))\n",
    "        x = self.dropout2(x)\n",
    "        x = self.fc3(x)\n",
    "        return x\n",
    "\n",
    "print(\"Using Custom Improved CNN\")\n",
    "model = ImprovedCNN(num_classes, input_channels=3)\n",
    "model = model.to(device)\n",
    "print(f\"Model parameters: {sum(p.numel() for p in model.parameters() if p.requires_grad):,}\")\n",
    "\n",
    "# ---------------------------\n",
    "# 5. Label Smoothing Loss\n",
    "# ---------------------------\n",
    "class LabelSmoothingCrossEntropy(nn.Module):\n",
    "    def __init__(self, epsilon=0.1, weight=None):\n",
    "        super().__init__()\n",
    "        self.epsilon = epsilon\n",
    "        self.weight = weight\n",
    "    \n",
    "    def forward(self, output, target):\n",
    "        n_class = output.size(1)\n",
    "        log_preds = F.log_softmax(output, dim=1)\n",
    "        loss = -log_preds.sum(dim=1).mean()\n",
    "        nll = F.nll_loss(log_preds, target, weight=self.weight)\n",
    "        return (1 - self.epsilon) * nll + self.epsilon * loss / n_class\n",
    "\n",
    "# Compute class weights\n",
    "class_weights = compute_class_weight(\n",
    "    class_weight=\"balanced\",\n",
    "    classes=np.unique(y[train_idx]),\n",
    "    y=y[train_idx]\n",
    ")\n",
    "class_weights = torch.tensor(class_weights, dtype=torch.float32).to(device)\n",
    "print(f\"Class weights: {class_weights}\")\n",
    "\n",
    "criterion = LabelSmoothingCrossEntropy(epsilon=0.1, weight=class_weights)\n",
    "\n",
    "# ---------------------------\n",
    "# 6. Optimizer and Scheduler\n",
    "# ---------------------------\n",
    "optimizer = optim.Adam(model.parameters(), lr=0.001, weight_decay=1e-4)\n",
    "scheduler = optim.lr_scheduler.ReduceLROnPlateau(\n",
    "    optimizer, mode='max', factor=0.5, patience=3, min_lr=1e-7\n",
    ")\n",
    "\n",
    "# ---------------------------\n",
    "# 7. Training loop\n",
    "# ---------------------------\n",
    "num_epochs = 20\n",
    "best_val_acc = 0\n",
    "patience = 10\n",
    "trigger_times = 0\n",
    "train_losses, val_losses = [], []\n",
    "train_accs, val_accs = [], []\n",
    "\n",
    "print(\"\\nStarting training...\")\n",
    "for epoch in range(num_epochs):\n",
    "    # Training\n",
    "    model.train()\n",
    "    running_loss, correct, total = 0, 0, 0\n",
    "    loop = tqdm(enumerate(train_loader), total=len(train_loader), \n",
    "                desc=f\"Epoch {epoch+1}/{num_epochs} [Train]\")\n",
    "    \n",
    "    for i, (X_batch, y_batch) in loop:\n",
    "        X_batch, y_batch = X_batch.to(device), y_batch.to(device)\n",
    "        optimizer.zero_grad()\n",
    "        outputs = model(X_batch)\n",
    "        loss = criterion(outputs, y_batch)\n",
    "        loss.backward()\n",
    "        \n",
    "        # Gradient clipping\n",
    "        torch.nn.utils.clip_grad_norm_(model.parameters(), max_norm=1.0)\n",
    "        \n",
    "        optimizer.step()\n",
    "\n",
    "        running_loss += loss.item() * X_batch.size(0)\n",
    "        _, predicted = torch.max(outputs, 1)\n",
    "        correct += (predicted == y_batch).sum().item()\n",
    "        total += y_batch.size(0)\n",
    "\n",
    "        loop.set_postfix(loss=running_loss/total, acc=correct/total)\n",
    "\n",
    "    train_loss = running_loss / total\n",
    "    train_acc = correct / total\n",
    "    train_losses.append(train_loss)\n",
    "    train_accs.append(train_acc)\n",
    "\n",
    "    # Validation\n",
    "    model.eval()\n",
    "    val_loss, correct, total = 0, 0, 0\n",
    "    loop_val = tqdm(val_loader, desc=f\"Epoch {epoch+1}/{num_epochs} [Val]\")\n",
    "    \n",
    "    with torch.no_grad():\n",
    "        for X_batch, y_batch in loop_val:\n",
    "            X_batch, y_batch = X_batch.to(device), y_batch.to(device)\n",
    "            outputs = model(X_batch)\n",
    "            loss = criterion(outputs, y_batch)\n",
    "            val_loss += loss.item() * X_batch.size(0)\n",
    "            _, predicted = torch.max(outputs, 1)\n",
    "            correct += (predicted == y_batch).sum().item()\n",
    "            total += y_batch.size(0)\n",
    "            loop_val.set_postfix(loss=val_loss/total, acc=correct/total)\n",
    "\n",
    "    val_loss = val_loss / total\n",
    "    val_acc = correct / total\n",
    "    val_losses.append(val_loss)\n",
    "    val_accs.append(val_acc)\n",
    "\n",
    "    print(f\"Epoch {epoch+1}/{num_epochs} | Train Loss: {train_loss:.4f} | Train Acc: {train_acc:.4f} | Val Loss: {val_loss:.4f} | Val Acc: {val_acc:.4f}\")\n",
    "\n",
    "    # Learning rate scheduling\n",
    "    scheduler.step(val_acc)\n",
    "    \n",
    "    # Early stopping\n",
    "    if val_acc > best_val_acc:\n",
    "        best_val_acc = val_acc\n",
    "        trigger_times = 0\n",
    "        torch.save({\n",
    "            'epoch': epoch,\n",
    "            'model_state_dict': model.state_dict(),\n",
    "            'optimizer_state_dict': optimizer.state_dict(),\n",
    "            'val_acc': val_acc,\n",
    "        }, \"best_model.pth\")\n",
    "        print(f\"✓ Best model saved with val_acc: {val_acc:.4f}\")\n",
    "    else:\n",
    "        trigger_times += 1\n",
    "        if trigger_times >= patience:\n",
    "            print(f\"Early stopping triggered at epoch {epoch+1}!\")\n",
    "            break\n",
    "\n",
    "# ---------------------------\n",
    "# 8. Plot training history\n",
    "# ---------------------------\n",
    "plt.figure(figsize=(14, 5))\n",
    "\n",
    "plt.subplot(1, 2, 1)\n",
    "plt.plot(train_losses, label='Train Loss')\n",
    "plt.plot(val_losses, label='Val Loss')\n",
    "plt.xlabel('Epoch')\n",
    "plt.ylabel('Loss')\n",
    "plt.title('Training and Validation Loss')\n",
    "plt.legend()\n",
    "plt.grid(True)\n",
    "\n",
    "plt.subplot(1, 2, 2)\n",
    "plt.plot(train_accs, label='Train Accuracy')\n",
    "plt.plot(val_accs, label='Val Accuracy')\n",
    "plt.xlabel('Epoch')\n",
    "plt.ylabel('Accuracy')\n",
    "plt.title('Training and Validation Accuracy')\n",
    "plt.legend()\n",
    "plt.grid(True)\n",
    "\n",
    "plt.tight_layout()\n",
    "plt.savefig('training_history.png', dpi=300, bbox_inches='tight')\n",
    "plt.show()\n",
    "\n",
    "# ---------------------------\n",
    "# 9. Test evaluation\n",
    "# ---------------------------\n",
    "checkpoint = torch.load(\"best_model.pth\")\n",
    "model.load_state_dict(checkpoint['model_state_dict'])\n",
    "print(f\"\\nLoaded best model from epoch {checkpoint['epoch']+1}\")\n",
    "\n",
    "model.eval()\n",
    "y_true, y_pred, y_probs = [], [], []\n",
    "\n",
    "with torch.no_grad():\n",
    "    loop_test = tqdm(test_loader, desc=\"Testing\")\n",
    "    for X_batch, y_batch in loop_test:\n",
    "        X_batch, y_batch = X_batch.to(device), y_batch.to(device)\n",
    "        outputs = model(X_batch)\n",
    "        probs = F.softmax(outputs, dim=1)\n",
    "        _, predicted = torch.max(outputs, 1)\n",
    "        y_true.extend(y_batch.cpu().numpy())\n",
    "        y_pred.extend(predicted.cpu().numpy())\n",
    "        y_probs.extend(probs.cpu().numpy())\n",
    "\n",
    "test_acc = np.mean(np.array(y_true) == np.array(y_pred))\n",
    "print(f\"\\n{'='*50}\")\n",
    "print(f\"Test Accuracy: {test_acc*100:.2f}%\")\n",
    "print(f\"{'='*50}\\n\")\n",
    "\n",
    "# ---------------------------\n",
    "# 10. Confusion matrix\n",
    "# ---------------------------\n",
    "cm = confusion_matrix(y_true, y_pred)\n",
    "plt.figure(figsize=(12, 10))\n",
    "sns.heatmap(cm, annot=True, fmt=\"d\", cmap='Blues',\n",
    "            xticklabels=encoder.classes_, yticklabels=encoder.classes_)\n",
    "plt.xlabel(\"Predicted\", fontsize=12)\n",
    "plt.ylabel(\"True\", fontsize=12)\n",
    "plt.title(f\"Confusion Matrix (Test Accuracy: {test_acc*100:.2f}%)\", fontsize=14)\n",
    "plt.xticks(rotation=45, ha='right')\n",
    "plt.yticks(rotation=0)\n",
    "plt.tight_layout()\n",
    "plt.savefig('confusion_matrix.png', dpi=300, bbox_inches='tight')\n",
    "plt.show()\n",
    "\n",
    "# ---------------------------\n",
    "# 11. Classification report\n",
    "# ---------------------------\n",
    "print(\"\\nClassification Report:\")\n",
    "print(\"=\"*70)\n",
    "print(classification_report(y_true, y_pred, target_names=[str(c) for c in encoder.classes_], digits=4))\n",
    "\n",
    "# ---------------------------\n",
    "# 12. Per-class accuracy\n",
    "# ---------------------------\n",
    "print(\"\\nPer-Class Accuracy:\")\n",
    "print(\"=\"*70)\n",
    "for i, class_name in enumerate(encoder.classes_):\n",
    "    class_mask = np.array(y_true) == i\n",
    "    if class_mask.sum() > 0:\n",
    "        class_acc = np.mean(np.array(y_pred)[class_mask] == i)\n",
    "        print(f\"{str(class_name):20s}: {class_acc*100:6.2f}% ({class_mask.sum()} samples)\")\n",
    "\n",
    "print(\"\\n✓ Training complete!\")\n",
    "print(f\"Best validation accuracy: {best_val_acc*100:.2f}%\")\n",
    "print(f\"Final test accuracy: {test_acc*100:.2f}%\")"
   ]
  },
  {
   "cell_type": "code",
   "execution_count": null,
   "id": "680c5ae2",
   "metadata": {},
   "outputs": [
    {
     "name": "stdout",
     "output_type": "stream",
     "text": [
      "Using device: cuda\n",
      "Number of classes: 9\n",
      "Classes: [0 1 2 3 4 5 6 7 8]\n",
      "Class distribution: [461 411 420 790 495 500 921 318 436]\n",
      "Train size: 3326, Val size: 713, Test size: 713\n",
      "Mean: [0.05387205 0.05387205 0.05387205]\n",
      "Std: [0.23210354 0.23210354 0.23210354]\n",
      "Using Residual-style BetterCNN\n",
      "BetterCNN parameters: 9,026,313\n",
      "\n",
      "Starting training...\n"
     ]
    },
    {
     "name": "stderr",
     "output_type": "stream",
     "text": [
      "Epoch 1/20 [Train]: 100%|██████████| 208/208 [00:33<00:00,  6.15it/s, acc=0.186, loss=2.22]\n",
      "Epoch 1/20 [Val]: 100%|██████████| 45/45 [00:02<00:00, 16.16it/s, acc=0.215, loss=2.06]\n"
     ]
    },
    {
     "name": "stdout",
     "output_type": "stream",
     "text": [
      "Epoch 1/20 | Train Loss: 2.2187 | Train Acc: 0.1855 | Val Loss: 2.0558 | Val Acc: 0.2146\n",
      "✓ Best model saved with val_acc: 0.2146\n"
     ]
    },
    {
     "name": "stderr",
     "output_type": "stream",
     "text": [
      "Epoch 2/20 [Train]: 100%|██████████| 208/208 [00:33<00:00,  6.26it/s, acc=0.258, loss=1.98]\n",
      "Epoch 2/20 [Val]: 100%|██████████| 45/45 [00:02<00:00, 16.04it/s, acc=0.303, loss=1.87]\n"
     ]
    },
    {
     "name": "stdout",
     "output_type": "stream",
     "text": [
      "Epoch 2/20 | Train Loss: 1.9816 | Train Acc: 0.2577 | Val Loss: 1.8692 | Val Acc: 0.3029\n",
      "✓ Best model saved with val_acc: 0.3029\n"
     ]
    },
    {
     "name": "stderr",
     "output_type": "stream",
     "text": [
      "Epoch 3/20 [Train]: 100%|██████████| 208/208 [00:33<00:00,  6.28it/s, acc=0.302, loss=1.91]\n",
      "Epoch 3/20 [Val]: 100%|██████████| 45/45 [00:02<00:00, 16.01it/s, acc=0.358, loss=1.75]\n"
     ]
    },
    {
     "name": "stdout",
     "output_type": "stream",
     "text": [
      "Epoch 3/20 | Train Loss: 1.9081 | Train Acc: 0.3025 | Val Loss: 1.7456 | Val Acc: 0.3576\n",
      "✓ Best model saved with val_acc: 0.3576\n"
     ]
    },
    {
     "name": "stderr",
     "output_type": "stream",
     "text": [
      "Epoch 4/20 [Train]: 100%|██████████| 208/208 [00:33<00:00,  6.22it/s, acc=0.347, loss=1.86]\n",
      "Epoch 4/20 [Val]: 100%|██████████| 45/45 [00:02<00:00, 15.71it/s, acc=0.38, loss=1.78] \n"
     ]
    },
    {
     "name": "stdout",
     "output_type": "stream",
     "text": [
      "Epoch 4/20 | Train Loss: 1.8569 | Train Acc: 0.3473 | Val Loss: 1.7829 | Val Acc: 0.3801\n",
      "✓ Best model saved with val_acc: 0.3801\n"
     ]
    },
    {
     "name": "stderr",
     "output_type": "stream",
     "text": [
      "Epoch 5/20 [Train]: 100%|██████████| 208/208 [00:33<00:00,  6.17it/s, acc=0.345, loss=1.83]\n",
      "Epoch 5/20 [Val]: 100%|██████████| 45/45 [00:02<00:00, 15.83it/s, acc=0.431, loss=1.65]\n"
     ]
    },
    {
     "name": "stdout",
     "output_type": "stream",
     "text": [
      "Epoch 5/20 | Train Loss: 1.8278 | Train Acc: 0.3446 | Val Loss: 1.6544 | Val Acc: 0.4306\n",
      "✓ Best model saved with val_acc: 0.4306\n"
     ]
    },
    {
     "name": "stderr",
     "output_type": "stream",
     "text": [
      "Epoch 6/20 [Train]: 100%|██████████| 208/208 [00:33<00:00,  6.15it/s, acc=0.374, loss=1.81]\n",
      "Epoch 6/20 [Val]: 100%|██████████| 45/45 [00:02<00:00, 15.68it/s, acc=0.407, loss=1.68]\n"
     ]
    },
    {
     "name": "stdout",
     "output_type": "stream",
     "text": [
      "Epoch 6/20 | Train Loss: 1.8056 | Train Acc: 0.3740 | Val Loss: 1.6826 | Val Acc: 0.4067\n"
     ]
    },
    {
     "name": "stderr",
     "output_type": "stream",
     "text": [
      "Epoch 7/20 [Train]: 100%|██████████| 208/208 [00:33<00:00,  6.25it/s, acc=0.388, loss=1.77]\n",
      "Epoch 7/20 [Val]: 100%|██████████| 45/45 [00:02<00:00, 15.97it/s, acc=0.518, loss=1.55]\n"
     ]
    },
    {
     "name": "stdout",
     "output_type": "stream",
     "text": [
      "Epoch 7/20 | Train Loss: 1.7658 | Train Acc: 0.3882 | Val Loss: 1.5544 | Val Acc: 0.5175\n",
      "✓ Best model saved with val_acc: 0.5175\n"
     ]
    },
    {
     "name": "stderr",
     "output_type": "stream",
     "text": [
      "Epoch 8/20 [Train]: 100%|██████████| 208/208 [00:33<00:00,  6.15it/s, acc=0.39, loss=1.75] \n",
      "Epoch 8/20 [Val]: 100%|██████████| 45/45 [00:03<00:00, 14.62it/s, acc=0.403, loss=1.67]\n"
     ]
    },
    {
     "name": "stdout",
     "output_type": "stream",
     "text": [
      "Epoch 8/20 | Train Loss: 1.7480 | Train Acc: 0.3903 | Val Loss: 1.6734 | Val Acc: 0.4025\n"
     ]
    },
    {
     "name": "stderr",
     "output_type": "stream",
     "text": [
      "Epoch 9/20 [Train]: 100%|██████████| 208/208 [00:33<00:00,  6.14it/s, acc=0.41, loss=1.74] \n",
      "Epoch 9/20 [Val]: 100%|██████████| 45/45 [00:02<00:00, 16.30it/s, acc=0.484, loss=1.62]\n"
     ]
    },
    {
     "name": "stdout",
     "output_type": "stream",
     "text": [
      "Epoch 9/20 | Train Loss: 1.7404 | Train Acc: 0.4098 | Val Loss: 1.6232 | Val Acc: 0.4839\n"
     ]
    },
    {
     "name": "stderr",
     "output_type": "stream",
     "text": [
      "Epoch 10/20 [Train]: 100%|██████████| 208/208 [00:33<00:00,  6.27it/s, acc=0.428, loss=1.7] \n",
      "Epoch 10/20 [Val]: 100%|██████████| 45/45 [00:02<00:00, 16.14it/s, acc=0.45, loss=1.61] \n"
     ]
    },
    {
     "name": "stdout",
     "output_type": "stream",
     "text": [
      "Epoch 10/20 | Train Loss: 1.6988 | Train Acc: 0.4281 | Val Loss: 1.6074 | Val Acc: 0.4502\n"
     ]
    },
    {
     "name": "stderr",
     "output_type": "stream",
     "text": [
      "Epoch 11/20 [Train]: 100%|██████████| 208/208 [00:33<00:00,  6.26it/s, acc=0.43, loss=1.67] \n",
      "Epoch 11/20 [Val]: 100%|██████████| 45/45 [00:02<00:00, 16.23it/s, acc=0.349, loss=2.14]\n"
     ]
    },
    {
     "name": "stdout",
     "output_type": "stream",
     "text": [
      "Epoch 11/20 | Train Loss: 1.6658 | Train Acc: 0.4299 | Val Loss: 2.1376 | Val Acc: 0.3492\n"
     ]
    },
    {
     "name": "stderr",
     "output_type": "stream",
     "text": [
      "Epoch 12/20 [Train]: 100%|██████████| 208/208 [00:33<00:00,  6.24it/s, acc=0.461, loss=1.63]\n",
      "Epoch 12/20 [Val]: 100%|██████████| 45/45 [00:02<00:00, 15.42it/s, acc=0.496, loss=1.56]\n"
     ]
    },
    {
     "name": "stdout",
     "output_type": "stream",
     "text": [
      "Epoch 12/20 | Train Loss: 1.6331 | Train Acc: 0.4606 | Val Loss: 1.5564 | Val Acc: 0.4965\n"
     ]
    },
    {
     "name": "stderr",
     "output_type": "stream",
     "text": [
      "Epoch 13/20 [Train]: 100%|██████████| 208/208 [00:33<00:00,  6.27it/s, acc=0.484, loss=1.57]\n",
      "Epoch 13/20 [Val]: 100%|██████████| 45/45 [00:02<00:00, 16.37it/s, acc=0.498, loss=1.52]\n"
     ]
    },
    {
     "name": "stdout",
     "output_type": "stream",
     "text": [
      "Epoch 13/20 | Train Loss: 1.5747 | Train Acc: 0.4838 | Val Loss: 1.5222 | Val Acc: 0.4979\n"
     ]
    },
    {
     "name": "stderr",
     "output_type": "stream",
     "text": [
      "Epoch 14/20 [Train]: 100%|██████████| 208/208 [00:33<00:00,  6.27it/s, acc=0.471, loss=1.56]\n",
      "Epoch 14/20 [Val]: 100%|██████████| 45/45 [00:02<00:00, 16.37it/s, acc=0.562, loss=1.44]\n"
     ]
    },
    {
     "name": "stdout",
     "output_type": "stream",
     "text": [
      "Epoch 14/20 | Train Loss: 1.5556 | Train Acc: 0.4714 | Val Loss: 1.4370 | Val Acc: 0.5624\n",
      "✓ Best model saved with val_acc: 0.5624\n"
     ]
    },
    {
     "name": "stderr",
     "output_type": "stream",
     "text": [
      "Epoch 15/20 [Train]: 100%|██████████| 208/208 [00:33<00:00,  6.29it/s, acc=0.49, loss=1.57] \n",
      "Epoch 15/20 [Val]: 100%|██████████| 45/45 [00:02<00:00, 16.05it/s, acc=0.551, loss=1.4] \n"
     ]
    },
    {
     "name": "stdout",
     "output_type": "stream",
     "text": [
      "Epoch 15/20 | Train Loss: 1.5710 | Train Acc: 0.4898 | Val Loss: 1.3986 | Val Acc: 0.5512\n"
     ]
    },
    {
     "name": "stderr",
     "output_type": "stream",
     "text": [
      "Epoch 16/20 [Train]: 100%|██████████| 208/208 [00:33<00:00,  6.29it/s, acc=0.495, loss=1.55]\n",
      "Epoch 16/20 [Val]: 100%|██████████| 45/45 [00:02<00:00, 16.38it/s, acc=0.553, loss=1.43]\n"
     ]
    },
    {
     "name": "stdout",
     "output_type": "stream",
     "text": [
      "Epoch 16/20 | Train Loss: 1.5459 | Train Acc: 0.4952 | Val Loss: 1.4282 | Val Acc: 0.5526\n"
     ]
    },
    {
     "name": "stderr",
     "output_type": "stream",
     "text": [
      "Epoch 17/20 [Train]: 100%|██████████| 208/208 [00:33<00:00,  6.28it/s, acc=0.505, loss=1.53]\n",
      "Epoch 17/20 [Val]: 100%|██████████| 45/45 [00:02<00:00, 16.01it/s, acc=0.537, loss=1.53]\n"
     ]
    },
    {
     "name": "stdout",
     "output_type": "stream",
     "text": [
      "Epoch 17/20 | Train Loss: 1.5301 | Train Acc: 0.5054 | Val Loss: 1.5343 | Val Acc: 0.5372\n"
     ]
    },
    {
     "name": "stderr",
     "output_type": "stream",
     "text": [
      "Epoch 18/20 [Train]: 100%|██████████| 208/208 [00:33<00:00,  6.30it/s, acc=0.519, loss=1.51]\n",
      "Epoch 18/20 [Val]: 100%|██████████| 45/45 [00:02<00:00, 16.40it/s, acc=0.522, loss=1.5] \n"
     ]
    },
    {
     "name": "stdout",
     "output_type": "stream",
     "text": [
      "Epoch 18/20 | Train Loss: 1.5097 | Train Acc: 0.5189 | Val Loss: 1.4983 | Val Acc: 0.5217\n"
     ]
    },
    {
     "name": "stderr",
     "output_type": "stream",
     "text": [
      "Epoch 19/20 [Train]: 100%|██████████| 208/208 [00:33<00:00,  6.27it/s, acc=0.523, loss=1.49]\n",
      "Epoch 19/20 [Val]: 100%|██████████| 45/45 [00:02<00:00, 16.22it/s, acc=0.595, loss=1.37]\n"
     ]
    },
    {
     "name": "stdout",
     "output_type": "stream",
     "text": [
      "Epoch 19/20 | Train Loss: 1.4894 | Train Acc: 0.5235 | Val Loss: 1.3693 | Val Acc: 0.5947\n",
      "✓ Best model saved with val_acc: 0.5947\n"
     ]
    },
    {
     "name": "stderr",
     "output_type": "stream",
     "text": [
      "Epoch 20/20 [Train]: 100%|██████████| 208/208 [00:33<00:00,  6.28it/s, acc=0.531, loss=1.47]\n",
      "Epoch 20/20 [Val]: 100%|██████████| 45/45 [00:02<00:00, 16.08it/s, acc=0.55, loss=1.54] \n"
     ]
    },
    {
     "name": "stdout",
     "output_type": "stream",
     "text": [
      "Epoch 20/20 | Train Loss: 1.4663 | Train Acc: 0.5313 | Val Loss: 1.5383 | Val Acc: 0.5498\n"
     ]
    },
    {
     "data": {
      "image/png": "[encoded data removed]",
      "text/plain": [
       "<Figure size 1400x500 with 2 Axes>"
      ]
     },
     "metadata": {},
     "output_type": "display_data"
    },
    {
     "name": "stdout",
     "output_type": "stream",
     "text": [
      "\n",
      "Loaded best model from epoch 19\n"
     ]
    },
    {
     "name": "stderr",
     "output_type": "stream",
     "text": [
      "Testing: 100%|██████████| 45/45 [00:02<00:00, 16.05it/s]\n"
     ]
    },
    {
     "name": "stdout",
     "output_type": "stream",
     "text": [
      "\n",
      "==================================================\n",
      "Test Accuracy: 60.31%\n",
      "==================================================\n",
      "\n"
     ]
    },
    {
     "data": {
      "image/png": "[encoded data removed]",
      "text/plain": [
       "<Figure size 1200x1000 with 2 Axes>"
      ]
     },
     "metadata": {},
     "output_type": "display_data"
    },
    {
     "name": "stdout",
     "output_type": "stream",
     "text": [
      "\n",
      "Classification Report:\n",
      "======================================================================\n",
      "              precision    recall  f1-score   support\n",
      "\n",
      "           0     0.5204    0.7391    0.6108        69\n",
      "           1     0.8400    0.6774    0.7500        62\n",
      "           2     0.6056    0.6825    0.6418        63\n",
      "           3     0.7262    0.5126    0.6010       119\n",
      "           4     0.3521    0.3378    0.3448        74\n",
      "           5     0.7500    0.4000    0.5217        75\n",
      "           6     0.5322    0.6594    0.5890       138\n",
      "           7     0.5094    0.5625    0.5347        48\n",
      "           8     0.8000    0.9231    0.8571        65\n",
      "\n",
      "    accuracy                         0.6031       713\n",
      "   macro avg     0.6262    0.6105    0.6057       713\n",
      "weighted avg     0.6238    0.6031    0.6001       713\n",
      "\n",
      "\n",
      "Per-Class Accuracy:\n",
      "======================================================================\n",
      "0                   :  73.91% (69 samples)\n",
      "1                   :  67.74% (62 samples)\n",
      "2                   :  68.25% (63 samples)\n",
      "3                   :  51.26% (119 samples)\n",
      "4                   :  33.78% (74 samples)\n",
      "5                   :  40.00% (75 samples)\n",
      "6                   :  65.94% (138 samples)\n",
      "7                   :  56.25% (48 samples)\n",
      "8                   :  92.31% (65 samples)\n",
      "\n",
      "✓ Training complete!\n",
      "Best validation accuracy: 59.47%\n",
      "Final test accuracy: 60.31%\n"
     ]
    }
   ],
   "source": [
    "import numpy as np\n",
    "import torch\n",
    "import torch.nn as nn\n",
    "import torch.nn.functional as F\n",
    "import torch.optim as optim\n",
    "from torch.utils.data import Dataset, DataLoader\n",
    "from sklearn.preprocessing import LabelEncoder\n",
    "from sklearn.model_selection import train_test_split\n",
    "from sklearn.utils.class_weight import compute_class_weight\n",
    "import torchvision.transforms as transforms\n",
    "import matplotlib.pyplot as plt\n",
    "import seaborn as sns\n",
    "from sklearn.metrics import confusion_matrix, classification_report\n",
    "from tqdm import tqdm\n",
    "import warnings\n",
    "warnings.filterwarnings('ignore')\n",
    "\n",
    "# ---------------------------\n",
    "# 0. Device\n",
    "# ---------------------------\n",
    "device = torch.device(\"cuda\" if torch.cuda.is_available() else \"cpu\")\n",
    "print(\"Using device:\", device)\n",
    "\n",
    "# ---------------------------\n",
    "# 1. Load data\n",
    "# ---------------------------\n",
    "image_array = np.load(\"images.npy\", allow_pickle=True)\n",
    "labels = np.load(\"labels.npy\", allow_pickle=True)\n",
    "\n",
    "# Encode labels\n",
    "encoder = LabelEncoder()\n",
    "y = encoder.fit_transform(labels)\n",
    "num_classes = len(np.unique(y))\n",
    "print(f\"Number of classes: {num_classes}\")\n",
    "print(f\"Classes: {encoder.classes_}\")\n",
    "print(f\"Class distribution: {np.bincount(y)}\")\n",
    "\n",
    "# Train/Val/Test split\n",
    "train_idx, test_idx = train_test_split(\n",
    "    np.arange(len(y)), test_size=0.15, random_state=42, stratify=y\n",
    ")\n",
    "train_idx, val_idx = train_test_split(\n",
    "    train_idx, test_size=(0.15/0.85), random_state=42, stratify=y[train_idx]\n",
    ")\n",
    "print(f\"Train size: {len(train_idx)}, Val size: {len(val_idx)}, Test size: {len(test_idx)}\")\n",
    "\n",
    "# ---------------------------\n",
    "# 2. Dataset class\n",
    "# ---------------------------\n",
    "class WasteDataset(Dataset):\n",
    "    def __init__(self, images, labels, indices, transform=None):\n",
    "        self.images = images\n",
    "        self.labels = labels\n",
    "        self.indices = indices\n",
    "        self.transform = transform\n",
    "\n",
    "    def __len__(self):\n",
    "        return len(self.indices)\n",
    "\n",
    "    def __getitem__(self, idx):\n",
    "        i = self.indices[idx]\n",
    "        img = self.images[i].astype(np.uint8)\n",
    "        label = self.labels[i]\n",
    "        if self.transform:\n",
    "            img = self.transform(img)\n",
    "        return img, label\n",
    "\n",
    "# ---------------------------\n",
    "# 3. Enhanced Transforms\n",
    "# ---------------------------\n",
    "images = np.load(\"images.npy\", allow_pickle=True).astype(np.float32) / 255.0\n",
    "mean = images.mean(axis=(0,1,2))\n",
    "std = images.std(axis=(0,1,2))\n",
    "print(\"Mean:\", mean)\n",
    "print(\"Std:\", std)\n",
    "\n",
    "train_transform = transforms.Compose([\n",
    "    transforms.ToPILImage(),\n",
    "    transforms.Resize((256, 256)),\n",
    "    transforms.RandomCrop(224),\n",
    "    transforms.RandomHorizontalFlip(),\n",
    "    transforms.RandomVerticalFlip(),\n",
    "    transforms.RandomRotation(30),\n",
    "    transforms.RandomAffine(degrees=0, translate=(0.1, 0.1), scale=(0.9, 1.1)),\n",
    "    transforms.ColorJitter(brightness=0.3, contrast=0.3, saturation=0.2),\n",
    "    transforms.ToTensor(),\n",
    "    transforms.Normalize(mean=[0.485, 0.456, 0.406], std=[0.229, 0.224, 0.225]),\n",
    "    transforms.RandomErasing(p=0.2)\n",
    "])\n",
    "\n",
    "val_transform = transforms.Compose([\n",
    "    transforms.ToPILImage(),\n",
    "    transforms.Resize((224, 224)),\n",
    "    transforms.ToTensor(),\n",
    "    transforms.Normalize(mean=[0.485, 0.456, 0.406], std=[0.229, 0.224, 0.225])\n",
    "])\n",
    "\n",
    "train_dataset = WasteDataset(image_array, y, train_idx, transform=train_transform)\n",
    "val_dataset = WasteDataset(image_array, y, val_idx, transform=val_transform)\n",
    "test_dataset = WasteDataset(image_array, y, test_idx, transform=val_transform)\n",
    "\n",
    "train_loader = DataLoader(train_dataset, batch_size=16, shuffle=True, num_workers=0, pin_memory=True)\n",
    "val_loader = DataLoader(val_dataset, batch_size=16, num_workers=0, pin_memory=True)\n",
    "test_loader = DataLoader(test_dataset, batch_size=16, num_workers=0, pin_memory=True)\n",
    "\n",
    "# ---------------------------\n",
    "# 4. Custom Residual-style CNN\n",
    "# ---------------------------\n",
    "class ResidualBlock(nn.Module):\n",
    "    def __init__(self, in_channels, out_channels, stride=1):\n",
    "        super().__init__()\n",
    "        self.conv1 = nn.Conv2d(in_channels, out_channels, 3, stride=stride, padding=1)\n",
    "        self.bn1 = nn.BatchNorm2d(out_channels)\n",
    "        self.conv2 = nn.Conv2d(out_channels, out_channels, 3, stride=1, padding=1)\n",
    "        self.bn2 = nn.BatchNorm2d(out_channels)\n",
    "        self.relu = nn.ReLU(inplace=True)\n",
    "        self.skip = nn.Sequential()\n",
    "        if stride != 1 or in_channels != out_channels:\n",
    "            self.skip = nn.Sequential(\n",
    "                nn.Conv2d(in_channels, out_channels, 1, stride=stride),\n",
    "                nn.BatchNorm2d(out_channels)\n",
    "            )\n",
    "\n",
    "    def forward(self, x):\n",
    "        out = self.relu(self.bn1(self.conv1(x)))\n",
    "        out = self.bn2(self.conv2(out))\n",
    "        out += self.skip(x)\n",
    "        out = self.relu(out)\n",
    "        return out\n",
    "\n",
    "class BetterCNN(nn.Module):\n",
    "    def __init__(self, num_classes, input_channels=3):\n",
    "        super().__init__()\n",
    "        self.layer1 = nn.Sequential(\n",
    "            nn.Conv2d(input_channels, 64, 3, padding=1),\n",
    "            nn.BatchNorm2d(64),\n",
    "            nn.ReLU(inplace=True)\n",
    "        )\n",
    "        self.layer2 = ResidualBlock(64, 128, stride=2)\n",
    "        self.layer3 = ResidualBlock(128, 256, stride=2)\n",
    "        self.layer4 = ResidualBlock(256, 512, stride=2)\n",
    "        self.pool = nn.AdaptiveAvgPool2d((4,4))\n",
    "        self.dropout = nn.Dropout(0.5)\n",
    "        self.fc1 = nn.Linear(512*4*4, 512)\n",
    "        self.fc2 = nn.Linear(512, num_classes)\n",
    "\n",
    "    def forward(self, x):\n",
    "        x = self.layer1(x)\n",
    "        x = self.layer2(x)\n",
    "        x = self.layer3(x)\n",
    "        x = self.layer4(x)\n",
    "        x = self.pool(x)\n",
    "        x = x.view(x.size(0), -1)\n",
    "        x = self.dropout(F.relu(self.fc1(x)))\n",
    "        x = self.fc2(x)\n",
    "        return x\n",
    "\n",
    "print(\"Using Residual-style BetterCNN\")\n",
    "model = BetterCNN(num_classes=num_classes, input_channels=3).to(device)\n",
    "print(f\"BetterCNN parameters: {sum(p.numel() for p in model.parameters() if p.requires_grad):,}\")\n",
    "\n",
    "# ---------------------------\n",
    "# 5. Label Smoothing Loss\n",
    "# ---------------------------\n",
    "class LabelSmoothingCrossEntropy(nn.Module):\n",
    "    def __init__(self, epsilon=0.1, weight=None):\n",
    "        super().__init__()\n",
    "        self.epsilon = epsilon\n",
    "        self.weight = weight\n",
    "    \n",
    "    def forward(self, output, target):\n",
    "        n_class = output.size(1)\n",
    "        log_preds = F.log_softmax(output, dim=1)\n",
    "        loss = -log_preds.sum(dim=1).mean()\n",
    "        nll = F.nll_loss(log_preds, target, weight=self.weight)\n",
    "        return (1 - self.epsilon) * nll + self.epsilon * loss / n_class\n",
    "\n",
    "class_weights = compute_class_weight(\n",
    "    class_weight=\"balanced\",\n",
    "    classes=np.unique(y[train_idx]),\n",
    "    y=y[train_idx]\n",
    ")\n",
    "class_weights = torch.tensor(class_weights, dtype=torch.float32).to(device)\n",
    "criterion = LabelSmoothingCrossEntropy(epsilon=0.1, weight=class_weights)\n",
    "\n",
    "# ---------------------------\n",
    "# 6. Optimizer and Scheduler\n",
    "# ---------------------------\n",
    "optimizer = optim.Adam(model.parameters(), lr=0.001, weight_decay=1e-4)\n",
    "scheduler = optim.lr_scheduler.ReduceLROnPlateau(\n",
    "    optimizer, mode='max', factor=0.5, patience=3, min_lr=1e-7\n",
    ")\n",
    "\n",
    "# ---------------------------\n",
    "# 7. Training loop\n",
    "# ---------------------------\n",
    "num_epochs = 20\n",
    "best_val_acc = 0\n",
    "patience = 10\n",
    "trigger_times = 0\n",
    "train_losses, val_losses = [], []\n",
    "train_accs, val_accs = [], []\n",
    "\n",
    "print(\"\\nStarting training...\")\n",
    "for epoch in range(num_epochs):\n",
    "    model.train()\n",
    "    running_loss, correct, total = 0, 0, 0\n",
    "    loop = tqdm(enumerate(train_loader), total=len(train_loader), desc=f\"Epoch {epoch+1}/{num_epochs} [Train]\")\n",
    "    for i, (X_batch, y_batch) in loop:\n",
    "        X_batch, y_batch = X_batch.to(device), y_batch.to(device)\n",
    "        optimizer.zero_grad()\n",
    "        outputs = model(X_batch)\n",
    "        loss = criterion(outputs, y_batch)\n",
    "        loss.backward()\n",
    "        torch.nn.utils.clip_grad_norm_(model.parameters(), max_norm=1.0)\n",
    "        optimizer.step()\n",
    "\n",
    "        running_loss += loss.item() * X_batch.size(0)\n",
    "        _, predicted = torch.max(outputs, 1)\n",
    "        correct += (predicted == y_batch).sum().item()\n",
    "        total += y_batch.size(0)\n",
    "        loop.set_postfix(loss=running_loss/total, acc=correct/total)\n",
    "\n",
    "    train_loss = running_loss / total\n",
    "    train_acc = correct / total\n",
    "    train_losses.append(train_loss)\n",
    "    train_accs.append(train_acc)\n",
    "\n",
    "    model.eval()\n",
    "    val_loss, correct, total = 0, 0, 0\n",
    "    loop_val = tqdm(val_loader, desc=f\"Epoch {epoch+1}/{num_epochs} [Val]\")\n",
    "    with torch.no_grad():\n",
    "        for X_batch, y_batch in loop_val:\n",
    "            X_batch, y_batch = X_batch.to(device), y_batch.to(device)\n",
    "            outputs = model(X_batch)\n",
    "            loss = criterion(outputs, y_batch)\n",
    "            val_loss += loss.item() * X_batch.size(0)\n",
    "            _, predicted = torch.max(outputs, 1)\n",
    "            correct += (predicted == y_batch).sum().item()\n",
    "            total += y_batch.size(0)\n",
    "            loop_val.set_postfix(loss=val_loss/total, acc=correct/total)\n",
    "\n",
    "    val_loss = val_loss / total\n",
    "    val_acc = correct / total\n",
    "    val_losses.append(val_loss)\n",
    "    val_accs.append(val_acc)\n",
    "\n",
    "    print(f\"Epoch {epoch+1}/{num_epochs} | Train Loss: {train_loss:.4f} | Train Acc: {train_acc:.4f} | Val Loss: {val_loss:.4f} | Val Acc: {val_acc:.4f}\")\n",
    "\n",
    "    scheduler.step(val_acc)\n",
    "\n",
    "    if val_acc > best_val_acc:\n",
    "        best_val_acc = val_acc\n",
    "        trigger_times = 0\n",
    "        torch.save({\n",
    "            'epoch': epoch,\n",
    "            'model_state_dict': model.state_dict(),\n",
    "            'optimizer_state_dict': optimizer.state_dict(),\n",
    "            'val_acc': val_acc,\n",
    "        }, \"best_model.pth\")\n",
    "        print(f\"✓ Best model saved with val_acc: {val_acc:.4f}\")\n",
    "    else:\n",
    "        trigger_times += 1\n",
    "        if trigger_times >= patience:\n",
    "            print(f\"Early stopping triggered at epoch {epoch+1}!\")\n",
    "            break\n",
    "\n",
    "# ---------------------------\n",
    "# 8. Plot training history\n",
    "# ---------------------------\n",
    "plt.figure(figsize=(14, 5))\n",
    "plt.subplot(1, 2, 1)\n",
    "plt.plot(train_losses, label='Train Loss')\n",
    "plt.plot(val_losses, label='Val Loss')\n",
    "plt.xlabel('Epoch')\n",
    "plt.ylabel('Loss')\n",
    "plt.title('Training and Validation Loss')\n",
    "plt.legend()\n",
    "plt.grid(True)\n",
    "\n",
    "plt.subplot(1, 2, 2)\n",
    "plt.plot(train_accs, label='Train Accuracy')\n",
    "plt.plot(val_accs, label='Val Accuracy')\n",
    "plt.xlabel('Epoch')\n",
    "plt.ylabel('Accuracy')\n",
    "plt.title('Training and Validation Accuracy')\n",
    "plt.legend()\n",
    "plt.grid(True)\n",
    "plt.tight_layout()\n",
    "plt.savefig('training_history.png', dpi=300, bbox_inches='tight')\n",
    "plt.show()\n",
    "\n",
    "# ---------------------------\n",
    "# 9. Test evaluation\n",
    "# ---------------------------\n",
    "checkpoint = torch.load(\"best_model.pth\")\n",
    "model.load_state_dict(checkpoint['model_state_dict'])\n",
    "print(f\"\\nLoaded best model from epoch {checkpoint['epoch']+1}\")\n",
    "\n",
    "model.eval()\n",
    "y_true, y_pred, y_probs = [], [], []\n",
    "\n",
    "with torch.no_grad():\n",
    "    loop_test = tqdm(test_loader, desc=\"Testing\")\n",
    "    for X_batch, y_batch in loop_test:\n",
    "        X_batch, y_batch = X_batch.to(device), y_batch.to(device)\n",
    "        outputs = model(X_batch)\n",
    "        probs = F.softmax(outputs, dim=1)\n",
    "        _, predicted = torch.max(outputs, 1)\n",
    "        y_true.extend(y_batch.cpu().numpy())\n",
    "        y_pred.extend(predicted.cpu().numpy())\n",
    "        y_probs.extend(probs.cpu().numpy())\n",
    "\n",
    "test_acc = np.mean(np.array(y_true) == np.array(y_pred))\n",
    "print(f\"\\n{'='*50}\")\n",
    "print(f\"Test Accuracy: {test_acc*100:.2f}%\")\n",
    "print(f\"{'='*50}\\n\")\n",
    "\n",
    "# ---------------------------\n",
    "# 10. Confusion matrix\n",
    "# ---------------------------\n",
    "cm = confusion_matrix(y_true, y_pred)\n",
    "plt.figure(figsize=(12, 10))\n",
    "sns.heatmap(cm, annot=True, fmt=\"d\", cmap='Blues',\n",
    "            xticklabels=encoder.classes_, yticklabels=encoder.classes_)\n",
    "plt.xlabel(\"Predicted\", fontsize=12)\n",
    "plt.ylabel(\"True\", fontsize=12)\n",
    "plt.title(f\"Confusion Matrix (Test Accuracy: {test_acc*100:.2f}%)\", fontsize=14)\n",
    "plt.xticks(rotation=45, ha='right')\n",
    "plt.yticks(rotation=0)\n",
    "plt.tight_layout()\n",
    "plt.savefig('confusion_matrix.png', dpi=300, bbox_inches='tight')\n",
    "plt.show()\n",
    "\n",
    "# ---------------------------\n",
    "# 11. Classification report\n",
    "# ---------------------------\n",
    "print(\"\\nClassification Report:\")\n",
    "print(\"=\"*70)\n",
    "print(classification_report(y_true, y_pred, target_names=[str(c) for c in encoder.classes_], digits=4))\n",
    "\n",
    "# ---------------------------\n",
    "# 12. Per-class accuracy\n",
    "# ---------------------------\n",
    "print(\"\\nPer-Class Accuracy:\")\n",
    "print(\"=\"*70)\n",
    "for i, class_name in enumerate(encoder.classes_):\n",
    "    class_mask = np.array(y_true) == i\n",
    "    if class_mask.sum() > 0:\n",
    "        class_acc = np.mean(np.array(y_pred)[class_mask] == i)\n",
    "        print(f\"{str(class_name):20s}: {class_acc*100:6.2f}% ({class_mask.sum()} samples)\")\n",
    "\n",
    "print(\"\\n✓ Training complete!\")\n",
    "print(f\"Best validation accuracy: {best_val_acc*100:.2f}%\")\n",
    "print(f\"Final test accuracy: {test_acc*100:.2f}%\")\n"
   ]
  },
  {
   "cell_type": "code",
   "execution_count": 5,
   "id": "a2dd229b",
   "metadata": {},
   "outputs": [
    {
     "name": "stdout",
     "output_type": "stream",
     "text": [
      "Using device: cuda\n",
      "Number of classes: 9\n",
      "Classes: [0 1 2 3 4 5 6 7 8]\n",
      "Class distribution: [461 411 420 790 495 500 921 318 436]\n",
      "Train size: 3326, Val size: 713, Test size: 713\n",
      "Mean: [0.05387205 0.05387205 0.05387205]\n",
      "Std: [0.23210354 0.23210354 0.23210354]\n",
      "Using Bigger Residual-style CNN\n",
      "BigCNN parameters: 28,867,593\n",
      "\n",
      "Starting training...\n"
     ]
    },
    {
     "name": "stderr",
     "output_type": "stream",
     "text": [
      "Epoch 1/20 [Train]: 100%|██████████| 208/208 [01:03<00:00,  3.26it/s, acc=0.154, loss=2.86]\n",
      "Epoch 1/20 [Val]: 100%|██████████| 45/45 [00:05<00:00,  8.84it/s, acc=0.325, loss=2.03]\n"
     ]
    },
    {
     "name": "stdout",
     "output_type": "stream",
     "text": [
      "Epoch 1/20 | Train Loss: 2.8638 | Train Acc: 0.1542 | Val Loss: 2.0289 | Val Acc: 0.3254\n",
      "✓ Best model saved with val_acc: 0.3254\n"
     ]
    },
    {
     "name": "stderr",
     "output_type": "stream",
     "text": [
      "Epoch 2/20 [Train]: 100%|██████████| 208/208 [01:03<00:00,  3.26it/s, acc=0.214, loss=2.1] \n",
      "Epoch 2/20 [Val]: 100%|██████████| 45/45 [00:05<00:00,  8.86it/s, acc=0.177, loss=2.15]\n"
     ]
    },
    {
     "name": "stdout",
     "output_type": "stream",
     "text": [
      "Epoch 2/20 | Train Loss: 2.0967 | Train Acc: 0.2144 | Val Loss: 2.1458 | Val Acc: 0.1767\n"
     ]
    },
    {
     "name": "stderr",
     "output_type": "stream",
     "text": [
      "Epoch 3/20 [Train]: 100%|██████████| 208/208 [01:03<00:00,  3.26it/s, acc=0.247, loss=2.01]\n",
      "Epoch 3/20 [Val]: 100%|██████████| 45/45 [00:05<00:00,  8.91it/s, acc=0.337, loss=1.81]\n"
     ]
    },
    {
     "name": "stdout",
     "output_type": "stream",
     "text": [
      "Epoch 3/20 | Train Loss: 2.0115 | Train Acc: 0.2471 | Val Loss: 1.8118 | Val Acc: 0.3366\n",
      "✓ Best model saved with val_acc: 0.3366\n"
     ]
    },
    {
     "name": "stderr",
     "output_type": "stream",
     "text": [
      "Epoch 4/20 [Train]: 100%|██████████| 208/208 [01:03<00:00,  3.25it/s, acc=0.301, loss=1.98]\n",
      "Epoch 4/20 [Val]: 100%|██████████| 45/45 [00:05<00:00,  8.87it/s, acc=0.327, loss=1.87]\n"
     ]
    },
    {
     "name": "stdout",
     "output_type": "stream",
     "text": [
      "Epoch 4/20 | Train Loss: 1.9774 | Train Acc: 0.3013 | Val Loss: 1.8681 | Val Acc: 0.3268\n"
     ]
    },
    {
     "name": "stderr",
     "output_type": "stream",
     "text": [
      "Epoch 5/20 [Train]: 100%|██████████| 208/208 [01:03<00:00,  3.26it/s, acc=0.32, loss=1.93] \n",
      "Epoch 5/20 [Val]: 100%|██████████| 45/45 [00:05<00:00,  8.92it/s, acc=0.29, loss=1.81] \n"
     ]
    },
    {
     "name": "stdout",
     "output_type": "stream",
     "text": [
      "Epoch 5/20 | Train Loss: 1.9265 | Train Acc: 0.3202 | Val Loss: 1.8100 | Val Acc: 0.2903\n"
     ]
    },
    {
     "name": "stderr",
     "output_type": "stream",
     "text": [
      "Epoch 6/20 [Train]: 100%|██████████| 208/208 [01:04<00:00,  3.21it/s, acc=0.344, loss=1.84]\n",
      "Epoch 6/20 [Val]: 100%|██████████| 45/45 [00:05<00:00,  8.74it/s, acc=0.398, loss=1.67]\n"
     ]
    },
    {
     "name": "stdout",
     "output_type": "stream",
     "text": [
      "Epoch 6/20 | Train Loss: 1.8372 | Train Acc: 0.3440 | Val Loss: 1.6742 | Val Acc: 0.3983\n",
      "✓ Best model saved with val_acc: 0.3983\n"
     ]
    },
    {
     "name": "stderr",
     "output_type": "stream",
     "text": [
      "Epoch 7/20 [Train]: 100%|██████████| 208/208 [01:03<00:00,  3.27it/s, acc=0.368, loss=1.8] \n",
      "Epoch 7/20 [Val]: 100%|██████████| 45/45 [00:05<00:00,  8.87it/s, acc=0.415, loss=1.67]\n"
     ]
    },
    {
     "name": "stdout",
     "output_type": "stream",
     "text": [
      "Epoch 7/20 | Train Loss: 1.8048 | Train Acc: 0.3677 | Val Loss: 1.6674 | Val Acc: 0.4151\n",
      "✓ Best model saved with val_acc: 0.4151\n"
     ]
    },
    {
     "name": "stderr",
     "output_type": "stream",
     "text": [
      "Epoch 8/20 [Train]: 100%|██████████| 208/208 [01:03<00:00,  3.27it/s, acc=0.396, loss=1.74]\n",
      "Epoch 8/20 [Val]: 100%|██████████| 45/45 [00:05<00:00,  8.79it/s, acc=0.376, loss=1.88]\n"
     ]
    },
    {
     "name": "stdout",
     "output_type": "stream",
     "text": [
      "Epoch 8/20 | Train Loss: 1.7432 | Train Acc: 0.3960 | Val Loss: 1.8846 | Val Acc: 0.3759\n"
     ]
    },
    {
     "name": "stderr",
     "output_type": "stream",
     "text": [
      "Epoch 9/20 [Train]: 100%|██████████| 208/208 [01:03<00:00,  3.27it/s, acc=0.416, loss=1.72]\n",
      "Epoch 9/20 [Val]: 100%|██████████| 45/45 [00:05<00:00,  8.74it/s, acc=0.447, loss=1.55]\n"
     ]
    },
    {
     "name": "stdout",
     "output_type": "stream",
     "text": [
      "Epoch 9/20 | Train Loss: 1.7176 | Train Acc: 0.4161 | Val Loss: 1.5529 | Val Acc: 0.4474\n",
      "✓ Best model saved with val_acc: 0.4474\n"
     ]
    },
    {
     "name": "stderr",
     "output_type": "stream",
     "text": [
      "Epoch 10/20 [Train]: 100%|██████████| 208/208 [01:03<00:00,  3.27it/s, acc=0.429, loss=1.69]\n",
      "Epoch 10/20 [Val]: 100%|██████████| 45/45 [00:05<00:00,  8.82it/s, acc=0.463, loss=1.62]\n"
     ]
    },
    {
     "name": "stdout",
     "output_type": "stream",
     "text": [
      "Epoch 10/20 | Train Loss: 1.6927 | Train Acc: 0.4287 | Val Loss: 1.6226 | Val Acc: 0.4628\n",
      "✓ Best model saved with val_acc: 0.4628\n"
     ]
    },
    {
     "name": "stderr",
     "output_type": "stream",
     "text": [
      "Epoch 11/20 [Train]: 100%|██████████| 208/208 [01:03<00:00,  3.27it/s, acc=0.45, loss=1.66] \n",
      "Epoch 11/20 [Val]: 100%|██████████| 45/45 [00:05<00:00,  8.90it/s, acc=0.415, loss=1.77]\n"
     ]
    },
    {
     "name": "stdout",
     "output_type": "stream",
     "text": [
      "Epoch 11/20 | Train Loss: 1.6634 | Train Acc: 0.4504 | Val Loss: 1.7669 | Val Acc: 0.4151\n"
     ]
    },
    {
     "name": "stderr",
     "output_type": "stream",
     "text": [
      "Epoch 12/20 [Train]: 100%|██████████| 208/208 [01:04<00:00,  3.24it/s, acc=0.446, loss=1.65]\n",
      "Epoch 12/20 [Val]: 100%|██████████| 45/45 [00:05<00:00,  8.89it/s, acc=0.56, loss=1.4]  \n"
     ]
    },
    {
     "name": "stdout",
     "output_type": "stream",
     "text": [
      "Epoch 12/20 | Train Loss: 1.6466 | Train Acc: 0.4459 | Val Loss: 1.4033 | Val Acc: 0.5596\n",
      "✓ Best model saved with val_acc: 0.5596\n"
     ]
    },
    {
     "name": "stderr",
     "output_type": "stream",
     "text": [
      "Epoch 13/20 [Train]: 100%|██████████| 208/208 [01:03<00:00,  3.27it/s, acc=0.454, loss=1.62]\n",
      "Epoch 13/20 [Val]: 100%|██████████| 45/45 [00:05<00:00,  8.93it/s, acc=0.544, loss=1.5] \n"
     ]
    },
    {
     "name": "stdout",
     "output_type": "stream",
     "text": [
      "Epoch 13/20 | Train Loss: 1.6222 | Train Acc: 0.4540 | Val Loss: 1.4985 | Val Acc: 0.5442\n"
     ]
    },
    {
     "name": "stderr",
     "output_type": "stream",
     "text": [
      "Epoch 14/20 [Train]: 100%|██████████| 208/208 [01:03<00:00,  3.26it/s, acc=0.474, loss=1.57]\n",
      "Epoch 14/20 [Val]: 100%|██████████| 45/45 [00:05<00:00,  8.79it/s, acc=0.548, loss=1.43]\n"
     ]
    },
    {
     "name": "stdout",
     "output_type": "stream",
     "text": [
      "Epoch 14/20 | Train Loss: 1.5676 | Train Acc: 0.4741 | Val Loss: 1.4343 | Val Acc: 0.5484\n"
     ]
    },
    {
     "name": "stderr",
     "output_type": "stream",
     "text": [
      "Epoch 15/20 [Train]: 100%|██████████| 208/208 [01:03<00:00,  3.27it/s, acc=0.489, loss=1.57]\n",
      "Epoch 15/20 [Val]: 100%|██████████| 45/45 [00:05<00:00,  8.84it/s, acc=0.435, loss=2.01]\n"
     ]
    },
    {
     "name": "stdout",
     "output_type": "stream",
     "text": [
      "Epoch 15/20 | Train Loss: 1.5664 | Train Acc: 0.4889 | Val Loss: 2.0117 | Val Acc: 0.4348\n"
     ]
    },
    {
     "name": "stderr",
     "output_type": "stream",
     "text": [
      "Epoch 16/20 [Train]: 100%|██████████| 208/208 [01:03<00:00,  3.27it/s, acc=0.492, loss=1.57]\n",
      "Epoch 16/20 [Val]: 100%|██████████| 45/45 [00:05<00:00,  8.90it/s, acc=0.464, loss=1.69]\n"
     ]
    },
    {
     "name": "stdout",
     "output_type": "stream",
     "text": [
      "Epoch 16/20 | Train Loss: 1.5653 | Train Acc: 0.4922 | Val Loss: 1.6908 | Val Acc: 0.4642\n"
     ]
    },
    {
     "name": "stderr",
     "output_type": "stream",
     "text": [
      "Epoch 17/20 [Train]: 100%|██████████| 208/208 [01:03<00:00,  3.27it/s, acc=0.531, loss=1.47]\n",
      "Epoch 17/20 [Val]: 100%|██████████| 45/45 [00:05<00:00,  8.92it/s, acc=0.597, loss=1.37]\n"
     ]
    },
    {
     "name": "stdout",
     "output_type": "stream",
     "text": [
      "Epoch 17/20 | Train Loss: 1.4678 | Train Acc: 0.5310 | Val Loss: 1.3718 | Val Acc: 0.5975\n",
      "✓ Best model saved with val_acc: 0.5975\n"
     ]
    },
    {
     "name": "stderr",
     "output_type": "stream",
     "text": [
      "Epoch 18/20 [Train]: 100%|██████████| 208/208 [01:04<00:00,  3.24it/s, acc=0.534, loss=1.46]\n",
      "Epoch 18/20 [Val]: 100%|██████████| 45/45 [00:05<00:00,  8.88it/s, acc=0.589, loss=1.39]\n"
     ]
    },
    {
     "name": "stdout",
     "output_type": "stream",
     "text": [
      "Epoch 18/20 | Train Loss: 1.4564 | Train Acc: 0.5343 | Val Loss: 1.3868 | Val Acc: 0.5891\n"
     ]
    },
    {
     "name": "stderr",
     "output_type": "stream",
     "text": [
      "Epoch 19/20 [Train]: 100%|██████████| 208/208 [01:03<00:00,  3.25it/s, acc=0.535, loss=1.46]\n",
      "Epoch 19/20 [Val]: 100%|██████████| 45/45 [00:05<00:00,  8.91it/s, acc=0.568, loss=1.45]\n"
     ]
    },
    {
     "name": "stdout",
     "output_type": "stream",
     "text": [
      "Epoch 19/20 | Train Loss: 1.4557 | Train Acc: 0.5355 | Val Loss: 1.4526 | Val Acc: 0.5680\n"
     ]
    },
    {
     "name": "stderr",
     "output_type": "stream",
     "text": [
      "Epoch 20/20 [Train]: 100%|██████████| 208/208 [01:03<00:00,  3.28it/s, acc=0.55, loss=1.41] \n",
      "Epoch 20/20 [Val]: 100%|██████████| 45/45 [00:05<00:00,  8.83it/s, acc=0.586, loss=1.35]\n"
     ]
    },
    {
     "name": "stdout",
     "output_type": "stream",
     "text": [
      "Epoch 20/20 | Train Loss: 1.4065 | Train Acc: 0.5496 | Val Loss: 1.3488 | Val Acc: 0.5863\n"
     ]
    },
    {
     "data": {
      "image/png": "[encoded data removed]",
      "text/plain": [
       "<Figure size 1400x500 with 2 Axes>"
      ]
     },
     "metadata": {},
     "output_type": "display_data"
    },
    {
     "name": "stdout",
     "output_type": "stream",
     "text": [
      "\n",
      "Loaded best model from epoch 17\n"
     ]
    },
    {
     "name": "stderr",
     "output_type": "stream",
     "text": [
      "Testing: 100%|██████████| 45/45 [00:05<00:00,  8.76it/s]\n"
     ]
    },
    {
     "name": "stdout",
     "output_type": "stream",
     "text": [
      "\n",
      "==================================================\n",
      "Test Accuracy: 62.69%\n",
      "==================================================\n",
      "\n"
     ]
    },
    {
     "data": {
      "image/png": "[encoded data removed]",
      "text/plain": [
       "<Figure size 1200x1000 with 2 Axes>"
      ]
     },
     "metadata": {},
     "output_type": "display_data"
    },
    {
     "name": "stdout",
     "output_type": "stream",
     "text": [
      "\n",
      "Classification Report:\n",
      "======================================================================\n",
      "              precision    recall  f1-score   support\n",
      "\n",
      "           0     0.7636    0.6087    0.6774        69\n",
      "           1     0.8214    0.7419    0.7797        62\n",
      "           2     0.6528    0.7460    0.6963        63\n",
      "           3     0.6638    0.6471    0.6553       119\n",
      "           4     0.4000    0.2162    0.2807        74\n",
      "           5     0.7143    0.3333    0.4545        75\n",
      "           6     0.5279    0.7536    0.6209       138\n",
      "           7     0.4412    0.6250    0.5172        48\n",
      "           8     0.8108    0.9231    0.8633        65\n",
      "\n",
      "    accuracy                         0.6269       713\n",
      "   macro avg     0.6440    0.6217    0.6162       713\n",
      "weighted avg     0.6362    0.6269    0.6149       713\n",
      "\n",
      "\n",
      "Per-Class Accuracy:\n",
      "======================================================================\n",
      "0                   :  60.87% (69 samples)\n",
      "1                   :  74.19% (62 samples)\n",
      "2                   :  74.60% (63 samples)\n",
      "3                   :  64.71% (119 samples)\n",
      "4                   :  21.62% (74 samples)\n",
      "5                   :  33.33% (75 samples)\n",
      "6                   :  75.36% (138 samples)\n",
      "7                   :  62.50% (48 samples)\n",
      "8                   :  92.31% (65 samples)\n",
      "\n",
      "✓ Training complete!\n",
      "Best validation accuracy: 59.75%\n",
      "Final test accuracy: 62.69%\n"
     ]
    }
   ],
   "source": [
    "import numpy as np\n",
    "import torch\n",
    "import torch.nn as nn\n",
    "import torch.nn.functional as F\n",
    "import torch.optim as optim\n",
    "from torch.utils.data import Dataset, DataLoader\n",
    "from sklearn.preprocessing import LabelEncoder\n",
    "from sklearn.model_selection import train_test_split\n",
    "from sklearn.utils.class_weight import compute_class_weight\n",
    "import torchvision.transforms as transforms\n",
    "import matplotlib.pyplot as plt\n",
    "import seaborn as sns\n",
    "from sklearn.metrics import confusion_matrix, classification_report\n",
    "from tqdm import tqdm\n",
    "import warnings\n",
    "warnings.filterwarnings('ignore')\n",
    "\n",
    "# ---------------------------\n",
    "# 0. Device\n",
    "# ---------------------------\n",
    "device = torch.device(\"cuda\" if torch.cuda.is_available() else \"cpu\")\n",
    "print(\"Using device:\", device)\n",
    "\n",
    "# ---------------------------\n",
    "# 1. Load data\n",
    "# ---------------------------\n",
    "image_array = np.load(\"images.npy\", allow_pickle=True)\n",
    "labels = np.load(\"labels.npy\", allow_pickle=True)\n",
    "\n",
    "# Encode labels\n",
    "encoder = LabelEncoder()\n",
    "y = encoder.fit_transform(labels)\n",
    "num_classes = len(np.unique(y))\n",
    "print(f\"Number of classes: {num_classes}\")\n",
    "print(f\"Classes: {encoder.classes_}\")\n",
    "print(f\"Class distribution: {np.bincount(y)}\")\n",
    "\n",
    "# Train/Val/Test split\n",
    "train_idx, test_idx = train_test_split(\n",
    "    np.arange(len(y)), test_size=0.15, random_state=42, stratify=y\n",
    ")\n",
    "train_idx, val_idx = train_test_split(\n",
    "    train_idx, test_size=(0.15/0.85), random_state=42, stratify=y[train_idx]\n",
    ")\n",
    "print(f\"Train size: {len(train_idx)}, Val size: {len(val_idx)}, Test size: {len(test_idx)}\")\n",
    "\n",
    "# ---------------------------\n",
    "# 2. Dataset class\n",
    "# ---------------------------\n",
    "class WasteDataset(Dataset):\n",
    "    def __init__(self, images, labels, indices, transform=None):\n",
    "        self.images = images\n",
    "        self.labels = labels\n",
    "        self.indices = indices\n",
    "        self.transform = transform\n",
    "\n",
    "    def __len__(self):\n",
    "        return len(self.indices)\n",
    "\n",
    "    def __getitem__(self, idx):\n",
    "        i = self.indices[idx]\n",
    "        img = self.images[i].astype(np.uint8)\n",
    "        label = self.labels[i]\n",
    "        if self.transform:\n",
    "            img = self.transform(img)\n",
    "        return img, label\n",
    "\n",
    "# ---------------------------\n",
    "# 3. Enhanced Transforms\n",
    "# ---------------------------\n",
    "images = np.load(\"images.npy\", allow_pickle=True).astype(np.float32) / 255.0\n",
    "mean = images.mean(axis=(0,1,2))\n",
    "std = images.std(axis=(0,1,2))\n",
    "print(\"Mean:\", mean)\n",
    "print(\"Std:\", std)\n",
    "\n",
    "train_transform = transforms.Compose([\n",
    "    transforms.ToPILImage(),\n",
    "    transforms.Resize((256, 256)),\n",
    "    transforms.RandomCrop(224),\n",
    "    transforms.RandomHorizontalFlip(),\n",
    "    transforms.RandomVerticalFlip(),\n",
    "    transforms.RandomRotation(30),\n",
    "    transforms.RandomAffine(degrees=0, translate=(0.1, 0.1), scale=(0.9, 1.1)),\n",
    "    transforms.ColorJitter(brightness=0.3, contrast=0.3, saturation=0.2),\n",
    "    transforms.ToTensor(),\n",
    "    transforms.Normalize(mean=[0.485, 0.456, 0.406], std=[0.229, 0.224, 0.225]),\n",
    "    transforms.RandomErasing(p=0.2)\n",
    "])\n",
    "\n",
    "val_transform = transforms.Compose([\n",
    "    transforms.ToPILImage(),\n",
    "    transforms.Resize((224, 224)),\n",
    "    transforms.ToTensor(),\n",
    "    transforms.Normalize(mean=[0.485, 0.456, 0.406], std=[0.229, 0.224, 0.225])\n",
    "])\n",
    "\n",
    "train_dataset = WasteDataset(image_array, y, train_idx, transform=train_transform)\n",
    "val_dataset = WasteDataset(image_array, y, val_idx, transform=val_transform)\n",
    "test_dataset = WasteDataset(image_array, y, test_idx, transform=val_transform)\n",
    "\n",
    "train_loader = DataLoader(train_dataset, batch_size=16, shuffle=True, num_workers=0, pin_memory=True)\n",
    "val_loader = DataLoader(val_dataset, batch_size=16, num_workers=0, pin_memory=True)\n",
    "test_loader = DataLoader(test_dataset, batch_size=16, num_workers=0, pin_memory=True)\n",
    "\n",
    "# ---------------------------\n",
    "# 4. Bigger Residual-style CNN\n",
    "# ---------------------------\n",
    "class ResidualBlock(nn.Module):\n",
    "    def __init__(self, in_channels, out_channels, stride=1):\n",
    "        super().__init__()\n",
    "        self.conv1 = nn.Conv2d(in_channels, out_channels, 3, stride=stride, padding=1)\n",
    "        self.bn1 = nn.BatchNorm2d(out_channels)\n",
    "        self.conv2 = nn.Conv2d(out_channels, out_channels, 3, stride=1, padding=1)\n",
    "        self.bn2 = nn.BatchNorm2d(out_channels)\n",
    "        self.relu = nn.ReLU(inplace=True)\n",
    "        self.skip = nn.Sequential()\n",
    "        if stride != 1 or in_channels != out_channels:\n",
    "            self.skip = nn.Sequential(\n",
    "                nn.Conv2d(in_channels, out_channels, 1, stride=stride),\n",
    "                nn.BatchNorm2d(out_channels)\n",
    "            )\n",
    "\n",
    "    def forward(self, x):\n",
    "        out = self.relu(self.bn1(self.conv1(x)))\n",
    "        out = self.bn2(self.conv2(out))\n",
    "        out += self.skip(x)\n",
    "        out = self.relu(out)\n",
    "        return out\n",
    "\n",
    "class BigCNN(nn.Module):\n",
    "    def __init__(self, num_classes, input_channels=3):\n",
    "        super().__init__()\n",
    "        self.layer1 = nn.Sequential(\n",
    "            nn.Conv2d(input_channels, 64, 3, padding=1),\n",
    "            nn.BatchNorm2d(64),\n",
    "            nn.ReLU(inplace=True)\n",
    "        )\n",
    "        self.layer2 = nn.Sequential(\n",
    "            ResidualBlock(64, 128, stride=2),\n",
    "            ResidualBlock(128, 128)\n",
    "        )\n",
    "        self.layer3 = nn.Sequential(\n",
    "            ResidualBlock(128, 256, stride=2),\n",
    "            ResidualBlock(256, 256)\n",
    "        )\n",
    "        self.layer4 = nn.Sequential(\n",
    "            ResidualBlock(256, 512, stride=2),\n",
    "            ResidualBlock(512, 512)\n",
    "        )\n",
    "        self.layer5 = nn.Sequential(\n",
    "            ResidualBlock(512, 512),\n",
    "            ResidualBlock(512, 512)\n",
    "        )\n",
    "        self.pool = nn.AdaptiveAvgPool2d((4,4))\n",
    "        self.dropout = nn.Dropout(0.5)\n",
    "        self.fc1 = nn.Linear(512*4*4, 1024)\n",
    "        self.fc2 = nn.Linear(1024, num_classes)\n",
    "\n",
    "    def forward(self, x):\n",
    "        x = self.layer1(x)\n",
    "        x = self.layer2(x)\n",
    "        x = self.layer3(x)\n",
    "        x = self.layer4(x)\n",
    "        x = self.layer5(x)\n",
    "        x = self.pool(x)\n",
    "        x = x.view(x.size(0), -1)\n",
    "        x = self.dropout(F.relu(self.fc1(x)))\n",
    "        x = self.fc2(x)\n",
    "        return x\n",
    "\n",
    "print(\"Using Bigger Residual-style CNN\")\n",
    "model = BigCNN(num_classes=num_classes, input_channels=3).to(device)\n",
    "print(f\"BigCNN parameters: {sum(p.numel() for p in model.parameters() if p.requires_grad):,}\")\n",
    "\n",
    "# ---------------------------\n",
    "# 5. Label Smoothing Loss\n",
    "# ---------------------------\n",
    "class LabelSmoothingCrossEntropy(nn.Module):\n",
    "    def __init__(self, epsilon=0.1, weight=None):\n",
    "        super().__init__()\n",
    "        self.epsilon = epsilon\n",
    "        self.weight = weight\n",
    "    \n",
    "    def forward(self, output, target):\n",
    "        n_class = output.size(1)\n",
    "        log_preds = F.log_softmax(output, dim=1)\n",
    "        loss = -log_preds.sum(dim=1).mean()\n",
    "        nll = F.nll_loss(log_preds, target, weight=self.weight)\n",
    "        return (1 - self.epsilon) * nll + self.epsilon * loss / n_class\n",
    "\n",
    "class_weights = compute_class_weight(\n",
    "    class_weight=\"balanced\",\n",
    "    classes=np.unique(y[train_idx]),\n",
    "    y=y[train_idx]\n",
    ")\n",
    "class_weights = torch.tensor(class_weights, dtype=torch.float32).to(device)\n",
    "criterion = LabelSmoothingCrossEntropy(epsilon=0.1, weight=class_weights)\n",
    "\n",
    "# ---------------------------\n",
    "# 6. Optimizer and Scheduler\n",
    "# ---------------------------\n",
    "optimizer = optim.Adam(model.parameters(), lr=0.001, weight_decay=1e-4)\n",
    "scheduler = optim.lr_scheduler.ReduceLROnPlateau(\n",
    "    optimizer, mode='max', factor=0.5, patience=3, min_lr=1e-7\n",
    ")\n",
    "\n",
    "# ---------------------------\n",
    "# 7. Training loop\n",
    "# ---------------------------\n",
    "num_epochs = 20\n",
    "best_val_acc = 0\n",
    "patience = 10\n",
    "trigger_times = 0\n",
    "train_losses, val_losses = [], []\n",
    "train_accs, val_accs = [], []\n",
    "\n",
    "print(\"\\nStarting training...\")\n",
    "for epoch in range(num_epochs):\n",
    "    model.train()\n",
    "    running_loss, correct, total = 0, 0, 0\n",
    "    loop = tqdm(enumerate(train_loader), total=len(train_loader), desc=f\"Epoch {epoch+1}/{num_epochs} [Train]\")\n",
    "    for i, (X_batch, y_batch) in loop:\n",
    "        X_batch, y_batch = X_batch.to(device), y_batch.to(device)\n",
    "        optimizer.zero_grad()\n",
    "        outputs = model(X_batch)\n",
    "        loss = criterion(outputs, y_batch)\n",
    "        loss.backward()\n",
    "        torch.nn.utils.clip_grad_norm_(model.parameters(), max_norm=1.0)\n",
    "        optimizer.step()\n",
    "\n",
    "        running_loss += loss.item() * X_batch.size(0)\n",
    "        _, predicted = torch.max(outputs, 1)\n",
    "        correct += (predicted == y_batch).sum().item()\n",
    "        total += y_batch.size(0)\n",
    "        loop.set_postfix(loss=running_loss/total, acc=correct/total)\n",
    "\n",
    "    train_loss = running_loss / total\n",
    "    train_acc = correct / total\n",
    "    train_losses.append(train_loss)\n",
    "    train_accs.append(train_acc)\n",
    "\n",
    "    model.eval()\n",
    "    val_loss, correct, total = 0, 0, 0\n",
    "    loop_val = tqdm(val_loader, desc=f\"Epoch {epoch+1}/{num_epochs} [Val]\")\n",
    "    with torch.no_grad():\n",
    "        for X_batch, y_batch in loop_val:\n",
    "            X_batch, y_batch = X_batch.to(device), y_batch.to(device)\n",
    "            outputs = model(X_batch)\n",
    "            loss = criterion(outputs, y_batch)\n",
    "            val_loss += loss.item() * X_batch.size(0)\n",
    "            _, predicted = torch.max(outputs, 1)\n",
    "            correct += (predicted == y_batch).sum().item()\n",
    "            total += y_batch.size(0)\n",
    "            loop_val.set_postfix(loss=val_loss/total, acc=correct/total)\n",
    "\n",
    "    val_loss = val_loss / total\n",
    "    val_acc = correct / total\n",
    "    val_losses.append(val_loss)\n",
    "    val_accs.append(val_acc)\n",
    "\n",
    "    print(f\"Epoch {epoch+1}/{num_epochs} | Train Loss: {train_loss:.4f} | Train Acc: {train_acc:.4f} | Val Loss: {val_loss:.4f} | Val Acc: {val_acc:.4f}\")\n",
    "\n",
    "    scheduler.step(val_acc)\n",
    "\n",
    "    if val_acc > best_val_acc:\n",
    "        best_val_acc = val_acc\n",
    "        trigger_times = 0\n",
    "        torch.save({\n",
    "            'epoch': epoch,\n",
    "            'model_state_dict': model.state_dict(),\n",
    "            'optimizer_state_dict': optimizer.state_dict(),\n",
    "            'val_acc': val_acc,\n",
    "        }, \"best_model.pth\")\n",
    "        print(f\"✓ Best model saved with val_acc: {val_acc:.4f}\")\n",
    "    else:\n",
    "        trigger_times += 1\n",
    "        if trigger_times >= patience:\n",
    "            print(f\"Early stopping triggered at epoch {epoch+1}!\")\n",
    "            break\n",
    "\n",
    "# ---------------------------\n",
    "# 8. Plot training history\n",
    "# ---------------------------\n",
    "plt.figure(figsize=(14, 5))\n",
    "plt.subplot(1, 2, 1)\n",
    "plt.plot(train_losses, label='Train Loss')\n",
    "plt.plot(val_losses, label='Val Loss')\n",
    "plt.xlabel('Epoch')\n",
    "plt.ylabel('Loss')\n",
    "plt.title('Training and Validation Loss')\n",
    "plt.legend()\n",
    "plt.grid(True)\n",
    "\n",
    "plt.subplot(1, 2, 2)\n",
    "plt.plot(train_accs, label='Train Accuracy')\n",
    "plt.plot(val_accs, label='Val Accuracy')\n",
    "plt.xlabel('Epoch')\n",
    "plt.ylabel('Accuracy')\n",
    "plt.title('Training and Validation Accuracy')\n",
    "plt.legend()\n",
    "plt.grid(True)\n",
    "plt.tight_layout()\n",
    "plt.savefig('training_history.png', dpi=300, bbox_inches='tight')\n",
    "plt.show()\n",
    "\n",
    "# ---------------------------\n",
    "# 9. Test evaluation\n",
    "# ---------------------------\n",
    "checkpoint = torch.load(\"best_model.pth\")\n",
    "model.load_state_dict(checkpoint['model_state_dict'])\n",
    "print(f\"\\nLoaded best model from epoch {checkpoint['epoch']+1}\")\n",
    "\n",
    "model.eval()\n",
    "y_true, y_pred, y_probs = [], [], []\n",
    "\n",
    "with torch.no_grad():\n",
    "    loop_test = tqdm(test_loader, desc=\"Testing\")\n",
    "    for X_batch, y_batch in loop_test:\n",
    "        X_batch, y_batch = X_batch.to(device), y_batch.to(device)\n",
    "        outputs = model(X_batch)\n",
    "        probs = F.softmax(outputs, dim=1)\n",
    "        _, predicted = torch.max(outputs, 1)\n",
    "        y_true.extend(y_batch.cpu().numpy())\n",
    "        y_pred.extend(predicted.cpu().numpy())\n",
    "        y_probs.extend(probs.cpu().numpy())\n",
    "\n",
    "test_acc = np.mean(np.array(y_true) == np.array(y_pred))\n",
    "print(f\"\\n{'='*50}\")\n",
    "print(f\"Test Accuracy: {test_acc*100:.2f}%\")\n",
    "print(f\"{'='*50}\\n\")\n",
    "\n",
    "# ---------------------------\n",
    "# 10. Confusion matrix\n",
    "# ---------------------------\n",
    "cm = confusion_matrix(y_true, y_pred)\n",
    "plt.figure(figsize=(12, 10))\n",
    "sns.heatmap(cm, annot=True, fmt=\"d\", cmap='Blues',\n",
    "            xticklabels=encoder.classes_, yticklabels=encoder.classes_)\n",
    "plt.xlabel(\"Predicted\", fontsize=12)\n",
    "plt.ylabel(\"True\", fontsize=12)\n",
    "plt.title(f\"Confusion Matrix (Test Accuracy: {test_acc*100:.2f}%)\", fontsize=14)\n",
    "plt.xticks(rotation=45, ha='right')\n",
    "plt.yticks(rotation=0)\n",
    "plt.tight_layout()\n",
    "plt.savefig('confusion_matrix.png', dpi=300, bbox_inches='tight')\n",
    "plt.show()\n",
    "\n",
    "# ---------------------------\n",
    "# 11. Classification report\n",
    "# ---------------------------\n",
    "print(\"\\nClassification Report:\")\n",
    "print(\"=\"*70)\n",
    "print(classification_report(y_true, y_pred, target_names=[str(c) for c in encoder.classes_], digits=4))\n",
    "\n",
    "# ---------------------------\n",
    "# 12. Per-class accuracy\n",
    "# ---------------------------\n",
    "print(\"\\nPer-Class Accuracy:\")\n",
    "print(\"=\"*70)\n",
    "for i, class_name in enumerate(encoder.classes_):\n",
    "    class_mask = np.array(y_true) == i\n",
    "    if class_mask.sum() > 0:\n",
    "        class_acc = np.mean(np.array(y_pred)[class_mask] == i)\n",
    "        print(f\"{str(class_name):20s}: {class_acc*100:6.2f}% ({class_mask.sum()} samples)\")\n",
    "\n",
    "print(\"\\n✓ Training complete!\")\n",
    "print(f\"Best validation accuracy: {best_val_acc*100:.2f}%\")\n",
    "print(f\"Final test accuracy: {test_acc*100:.2f}%\")\n"
   ]
  },
  {
   "cell_type": "code",
   "execution_count": null,
   "id": "7600d869",
   "metadata": {},
   "outputs": [
    {
     "name": "stdout",
     "output_type": "stream",
     "text": [
      "Using device: cuda\n",
      "Number of classes: 9\n",
      "Classes: [0 1 2 3 4 5 6 7 8]\n",
      "Class distribution: [461 411 420 790 495 500 921 318 436]\n",
      "Train size: 3326, Val size: 713, Test size: 713\n",
      "Mean: [0.05387205 0.05387205 0.05387205]\n",
      "Std: [0.23210354 0.23210354 0.23210354]\n",
      "Using MASSIVE Custom CNN from Scratch (30+ layers)\n",
      "MegaCNN parameters: 200,360,591\n",
      "\n",
      "Starting training...\n"
     ]
    },
    {
     "name": "stderr",
     "output_type": "stream",
     "text": [
      "Epoch 1/30 [Train]: 100%|██████████| 208/208 [01:42<00:00,  2.04it/s, acc=0.115, loss=2.4] \n",
      "Epoch 1/30 [Val]: 100%|██████████| 45/45 [00:05<00:00,  7.70it/s, acc=0.0968, loss=2.43]\n"
     ]
    },
    {
     "name": "stdout",
     "output_type": "stream",
     "text": [
      "Epoch 1/30 | Train Loss: 2.3958 | Train Acc: 0.1152 | Val Loss: 2.4261 | Val Acc: 0.0968\n",
      "✓ Best model saved with val_acc: 0.0968\n"
     ]
    },
    {
     "name": "stderr",
     "output_type": "stream",
     "text": [
      "Epoch 2/30 [Train]: 100%|██████████| 208/208 [01:31<00:00,  2.28it/s, acc=0.112, loss=2.33]\n",
      "Epoch 2/30 [Val]: 100%|██████████| 45/45 [00:05<00:00,  7.73it/s, acc=0.105, loss=2.22] \n"
     ]
    },
    {
     "name": "stdout",
     "output_type": "stream",
     "text": [
      "Epoch 2/30 | Train Loss: 2.3303 | Train Acc: 0.1115 | Val Loss: 2.2189 | Val Acc: 0.1052\n",
      "✓ Best model saved with val_acc: 0.1052\n"
     ]
    },
    {
     "name": "stderr",
     "output_type": "stream",
     "text": [
      "Epoch 3/30 [Train]: 100%|██████████| 208/208 [01:31<00:00,  2.28it/s, acc=0.107, loss=2.31]\n",
      "Epoch 3/30 [Val]: 100%|██████████| 45/45 [00:05<00:00,  7.72it/s, acc=0.0561, loss=2.29]\n"
     ]
    },
    {
     "name": "stdout",
     "output_type": "stream",
     "text": [
      "Epoch 3/30 | Train Loss: 2.3087 | Train Acc: 0.1067 | Val Loss: 2.2935 | Val Acc: 0.0561\n"
     ]
    },
    {
     "name": "stderr",
     "output_type": "stream",
     "text": [
      "Epoch 4/30 [Train]: 100%|██████████| 208/208 [01:31<00:00,  2.27it/s, acc=0.114, loss=2.3] \n",
      "Epoch 4/30 [Val]: 100%|██████████| 45/45 [00:06<00:00,  7.40it/s, acc=0.144, loss=2.21]\n"
     ]
    },
    {
     "name": "stdout",
     "output_type": "stream",
     "text": [
      "Epoch 4/30 | Train Loss: 2.3031 | Train Acc: 0.1137 | Val Loss: 2.2096 | Val Acc: 0.1445\n",
      "✓ Best model saved with val_acc: 0.1445\n"
     ]
    },
    {
     "name": "stderr",
     "output_type": "stream",
     "text": [
      "Epoch 5/30 [Train]: 100%|██████████| 208/208 [01:33<00:00,  2.23it/s, acc=0.0959, loss=2.31]\n",
      "Epoch 5/30 [Val]: 100%|██████████| 45/45 [00:06<00:00,  7.29it/s, acc=0.125, loss=2.28]\n"
     ]
    },
    {
     "name": "stdout",
     "output_type": "stream",
     "text": [
      "Epoch 5/30 | Train Loss: 2.3062 | Train Acc: 0.0959 | Val Loss: 2.2799 | Val Acc: 0.1248\n"
     ]
    },
    {
     "name": "stderr",
     "output_type": "stream",
     "text": [
      "Epoch 6/30 [Train]: 100%|██████████| 208/208 [01:32<00:00,  2.25it/s, acc=0.12, loss=2.27] \n",
      "Epoch 6/30 [Val]: 100%|██████████| 45/45 [00:05<00:00,  7.64it/s, acc=0.151, loss=2.68]\n"
     ]
    },
    {
     "name": "stdout",
     "output_type": "stream",
     "text": [
      "Epoch 6/30 | Train Loss: 2.2656 | Train Acc: 0.1200 | Val Loss: 2.6833 | Val Acc: 0.1515\n",
      "✓ Best model saved with val_acc: 0.1515\n"
     ]
    },
    {
     "name": "stderr",
     "output_type": "stream",
     "text": [
      "Epoch 7/30 [Train]: 100%|██████████| 208/208 [01:36<00:00,  2.16it/s, acc=0.13, loss=2.26] \n",
      "Epoch 7/30 [Val]: 100%|██████████| 45/45 [00:05<00:00,  7.66it/s, acc=0.128, loss=2.19]\n"
     ]
    },
    {
     "name": "stdout",
     "output_type": "stream",
     "text": [
      "Epoch 7/30 | Train Loss: 2.2566 | Train Acc: 0.1299 | Val Loss: 2.1933 | Val Acc: 0.1276\n"
     ]
    },
    {
     "name": "stderr",
     "output_type": "stream",
     "text": [
      "Epoch 8/30 [Train]:  15%|█▍        | 31/208 [00:14<01:20,  2.19it/s, acc=0.123, loss=2.28]\n"
     ]
    },
    {
     "ename": "KeyboardInterrupt",
     "evalue": "",
     "output_type": "error",
     "traceback": [
      "\u001b[1;31m---------------------------------------------------------------------------\u001b[0m",
      "\u001b[1;31mKeyboardInterrupt\u001b[0m                         Traceback (most recent call last)",
      "Cell \u001b[1;32mIn[7], line 345\u001b[0m\n\u001b[0;32m    343\u001b[0m outputs \u001b[38;5;241m=\u001b[39m model(X_batch)\n\u001b[0;32m    344\u001b[0m loss \u001b[38;5;241m=\u001b[39m criterion(outputs, y_batch)\n\u001b[1;32m--> 345\u001b[0m \u001b[43mloss\u001b[49m\u001b[38;5;241;43m.\u001b[39;49m\u001b[43mbackward\u001b[49m\u001b[43m(\u001b[49m\u001b[43m)\u001b[49m\n\u001b[0;32m    346\u001b[0m torch\u001b[38;5;241m.\u001b[39mnn\u001b[38;5;241m.\u001b[39mutils\u001b[38;5;241m.\u001b[39mclip_grad_norm_(model\u001b[38;5;241m.\u001b[39mparameters(), max_norm\u001b[38;5;241m=\u001b[39m\u001b[38;5;241m1.0\u001b[39m)\n\u001b[0;32m    347\u001b[0m optimizer\u001b[38;5;241m.\u001b[39mstep()\n",
      "File \u001b[1;32mc:\\Users\\User\\Desktop\\CNN asignment\\env\\lib\\site-packages\\torch\\_tensor.py:625\u001b[0m, in \u001b[0;36mTensor.backward\u001b[1;34m(self, gradient, retain_graph, create_graph, inputs)\u001b[0m\n\u001b[0;32m    615\u001b[0m \u001b[38;5;28;01mif\u001b[39;00m has_torch_function_unary(\u001b[38;5;28mself\u001b[39m):\n\u001b[0;32m    616\u001b[0m     \u001b[38;5;28;01mreturn\u001b[39;00m handle_torch_function(\n\u001b[0;32m    617\u001b[0m         Tensor\u001b[38;5;241m.\u001b[39mbackward,\n\u001b[0;32m    618\u001b[0m         (\u001b[38;5;28mself\u001b[39m,),\n\u001b[1;32m   (...)\u001b[0m\n\u001b[0;32m    623\u001b[0m         inputs\u001b[38;5;241m=\u001b[39minputs,\n\u001b[0;32m    624\u001b[0m     )\n\u001b[1;32m--> 625\u001b[0m \u001b[43mtorch\u001b[49m\u001b[38;5;241;43m.\u001b[39;49m\u001b[43mautograd\u001b[49m\u001b[38;5;241;43m.\u001b[39;49m\u001b[43mbackward\u001b[49m\u001b[43m(\u001b[49m\n\u001b[0;32m    626\u001b[0m \u001b[43m    \u001b[49m\u001b[38;5;28;43mself\u001b[39;49m\u001b[43m,\u001b[49m\u001b[43m \u001b[49m\u001b[43mgradient\u001b[49m\u001b[43m,\u001b[49m\u001b[43m \u001b[49m\u001b[43mretain_graph\u001b[49m\u001b[43m,\u001b[49m\u001b[43m \u001b[49m\u001b[43mcreate_graph\u001b[49m\u001b[43m,\u001b[49m\u001b[43m \u001b[49m\u001b[43minputs\u001b[49m\u001b[38;5;241;43m=\u001b[39;49m\u001b[43minputs\u001b[49m\n\u001b[0;32m    627\u001b[0m \u001b[43m\u001b[49m\u001b[43m)\u001b[49m\n",
      "File \u001b[1;32mc:\\Users\\User\\Desktop\\CNN asignment\\env\\lib\\site-packages\\torch\\autograd\\__init__.py:354\u001b[0m, in \u001b[0;36mbackward\u001b[1;34m(tensors, grad_tensors, retain_graph, create_graph, grad_variables, inputs)\u001b[0m\n\u001b[0;32m    349\u001b[0m     retain_graph \u001b[38;5;241m=\u001b[39m create_graph\n\u001b[0;32m    351\u001b[0m \u001b[38;5;66;03m# The reason we repeat the same comment below is that\u001b[39;00m\n\u001b[0;32m    352\u001b[0m \u001b[38;5;66;03m# some Python versions print out the first line of a multi-line function\u001b[39;00m\n\u001b[0;32m    353\u001b[0m \u001b[38;5;66;03m# calls in the traceback and some print out the last line\u001b[39;00m\n\u001b[1;32m--> 354\u001b[0m \u001b[43m_engine_run_backward\u001b[49m\u001b[43m(\u001b[49m\n\u001b[0;32m    355\u001b[0m \u001b[43m    \u001b[49m\u001b[43mtensors\u001b[49m\u001b[43m,\u001b[49m\n\u001b[0;32m    356\u001b[0m \u001b[43m    \u001b[49m\u001b[43mgrad_tensors_\u001b[49m\u001b[43m,\u001b[49m\n\u001b[0;32m    357\u001b[0m \u001b[43m    \u001b[49m\u001b[43mretain_graph\u001b[49m\u001b[43m,\u001b[49m\n\u001b[0;32m    358\u001b[0m \u001b[43m    \u001b[49m\u001b[43mcreate_graph\u001b[49m\u001b[43m,\u001b[49m\n\u001b[0;32m    359\u001b[0m \u001b[43m    \u001b[49m\u001b[43minputs_tuple\u001b[49m\u001b[43m,\u001b[49m\n\u001b[0;32m    360\u001b[0m \u001b[43m    \u001b[49m\u001b[43mallow_unreachable\u001b[49m\u001b[38;5;241;43m=\u001b[39;49m\u001b[38;5;28;43;01mTrue\u001b[39;49;00m\u001b[43m,\u001b[49m\n\u001b[0;32m    361\u001b[0m \u001b[43m    \u001b[49m\u001b[43maccumulate_grad\u001b[49m\u001b[38;5;241;43m=\u001b[39;49m\u001b[38;5;28;43;01mTrue\u001b[39;49;00m\u001b[43m,\u001b[49m\n\u001b[0;32m    362\u001b[0m \u001b[43m\u001b[49m\u001b[43m)\u001b[49m\n",
      "File \u001b[1;32mc:\\Users\\User\\Desktop\\CNN asignment\\env\\lib\\site-packages\\torch\\autograd\\graph.py:841\u001b[0m, in \u001b[0;36m_engine_run_backward\u001b[1;34m(t_outputs, *args, **kwargs)\u001b[0m\n\u001b[0;32m    839\u001b[0m     unregister_hooks \u001b[38;5;241m=\u001b[39m _register_logging_hooks_on_whole_graph(t_outputs)\n\u001b[0;32m    840\u001b[0m \u001b[38;5;28;01mtry\u001b[39;00m:\n\u001b[1;32m--> 841\u001b[0m     \u001b[38;5;28;01mreturn\u001b[39;00m Variable\u001b[38;5;241m.\u001b[39m_execution_engine\u001b[38;5;241m.\u001b[39mrun_backward(  \u001b[38;5;66;03m# Calls into the C++ engine to run the backward pass\u001b[39;00m\n\u001b[0;32m    842\u001b[0m         t_outputs, \u001b[38;5;241m*\u001b[39margs, \u001b[38;5;241m*\u001b[39m\u001b[38;5;241m*\u001b[39mkwargs\n\u001b[0;32m    843\u001b[0m     )  \u001b[38;5;66;03m# Calls into the C++ engine to run the backward pass\u001b[39;00m\n\u001b[0;32m    844\u001b[0m \u001b[38;5;28;01mfinally\u001b[39;00m:\n\u001b[0;32m    845\u001b[0m     \u001b[38;5;28;01mif\u001b[39;00m attach_logging_hooks:\n",
      "\u001b[1;31mKeyboardInterrupt\u001b[0m: "
     ]
    }
   ],
   "source": [
    "import numpy as np\n",
    "import torch\n",
    "import torch.nn as nn\n",
    "import torch.nn.functional as F\n",
    "import torch.optim as optim\n",
    "from torch.utils.data import Dataset, DataLoader\n",
    "from sklearn.preprocessing import LabelEncoder\n",
    "from sklearn.model_selection import train_test_split\n",
    "from sklearn.utils.class_weight import compute_class_weight\n",
    "import torchvision.transforms as transforms\n",
    "import matplotlib.pyplot as plt\n",
    "import seaborn as sns\n",
    "from sklearn.metrics import confusion_matrix, classification_report\n",
    "from tqdm import tqdm\n",
    "import warnings\n",
    "warnings.filterwarnings('ignore')\n",
    "\n",
    "# ---------------------------\n",
    "# 0. Device\n",
    "# ---------------------------\n",
    "device = torch.device(\"cuda\" if torch.cuda.is_available() else \"cpu\")\n",
    "print(\"Using device:\", device)\n",
    "\n",
    "# ---------------------------\n",
    "# 1. Load data\n",
    "# ---------------------------\n",
    "image_array = np.load(\"images.npy\", allow_pickle=True)\n",
    "labels = np.load(\"labels.npy\", allow_pickle=True)\n",
    "\n",
    "# Encode labels\n",
    "encoder = LabelEncoder()\n",
    "y = encoder.fit_transform(labels)\n",
    "num_classes = len(np.unique(y))\n",
    "print(f\"Number of classes: {num_classes}\")\n",
    "print(f\"Classes: {encoder.classes_}\")\n",
    "print(f\"Class distribution: {np.bincount(y)}\")\n",
    "\n",
    "# Train/Val/Test split\n",
    "train_idx, test_idx = train_test_split(\n",
    "    np.arange(len(y)), test_size=0.15, random_state=42, stratify=y\n",
    ")\n",
    "train_idx, val_idx = train_test_split(\n",
    "    train_idx, test_size=(0.15/0.85), random_state=42, stratify=y[train_idx]\n",
    ")\n",
    "print(f\"Train size: {len(train_idx)}, Val size: {len(val_idx)}, Test size: {len(test_idx)}\")\n",
    "\n",
    "# ---------------------------\n",
    "# 2. Dataset class\n",
    "# ---------------------------\n",
    "class WasteDataset(Dataset):\n",
    "    def __init__(self, images, labels, indices, transform=None):\n",
    "        self.images = images\n",
    "        self.labels = labels\n",
    "        self.indices = indices\n",
    "        self.transform = transform\n",
    "\n",
    "    def __len__(self):\n",
    "        return len(self.indices)\n",
    "\n",
    "    def __getitem__(self, idx):\n",
    "        i = self.indices[idx]\n",
    "        img = self.images[i].astype(np.uint8)\n",
    "        label = self.labels[i]\n",
    "        if self.transform:\n",
    "            img = self.transform(img)\n",
    "        return img, label\n",
    "\n",
    "# ---------------------------\n",
    "# 3. Enhanced Transforms\n",
    "# ---------------------------\n",
    "images = np.load(\"images.npy\", allow_pickle=True).astype(np.float32) / 255.0\n",
    "mean = images.mean(axis=(0,1,2))\n",
    "std = images.std(axis=(0,1,2))\n",
    "print(\"Mean:\", mean)\n",
    "print(\"Std:\", std)\n",
    "\n",
    "train_transform = transforms.Compose([\n",
    "    transforms.ToPILImage(),\n",
    "    transforms.Resize((256, 256)),\n",
    "    transforms.RandomResizedCrop(224, scale=(0.75, 1.0)),\n",
    "    transforms.RandomHorizontalFlip(p=0.5),\n",
    "    transforms.RandomVerticalFlip(p=0.3),\n",
    "    transforms.RandomRotation(40),\n",
    "    transforms.RandomAffine(degrees=0, translate=(0.15, 0.15), scale=(0.85, 1.15)),\n",
    "    transforms.ColorJitter(brightness=0.4, contrast=0.4, saturation=0.3, hue=0.1),\n",
    "    transforms.ToTensor(),\n",
    "    transforms.Normalize(mean=[0.485, 0.456, 0.406], std=[0.229, 0.224, 0.225]),\n",
    "    transforms.RandomErasing(p=0.3)\n",
    "])\n",
    "\n",
    "val_transform = transforms.Compose([\n",
    "    transforms.ToPILImage(),\n",
    "    transforms.Resize((224, 224)),\n",
    "    transforms.ToTensor(),\n",
    "    transforms.Normalize(mean=[0.485, 0.456, 0.406], std=[0.229, 0.224, 0.225])\n",
    "])\n",
    "\n",
    "train_dataset = WasteDataset(image_array, y, train_idx, transform=train_transform)\n",
    "val_dataset = WasteDataset(image_array, y, val_idx, transform=val_transform)\n",
    "test_dataset = WasteDataset(image_array, y, test_idx, transform=val_transform)\n",
    "\n",
    "train_loader = DataLoader(train_dataset, batch_size=16, shuffle=True, num_workers=0, pin_memory=True)\n",
    "val_loader = DataLoader(val_dataset, batch_size=16, num_workers=0, pin_memory=True)\n",
    "test_loader = DataLoader(test_dataset, batch_size=16, num_workers=0, pin_memory=True)\n",
    "\n",
    "# ---------------------------\n",
    "# 4. Improved Residual CNN with SE Attention\n",
    "# ---------------------------\n",
    "class SEBlock(nn.Module):\n",
    "    \"\"\"Squeeze-and-Excitation block\"\"\"\n",
    "    def __init__(self, channels, reduction=16):\n",
    "        super().__init__()\n",
    "        self.squeeze = nn.AdaptiveAvgPool2d(1)\n",
    "        self.excitation = nn.Sequential(\n",
    "            nn.Linear(channels, channels // reduction, bias=False),\n",
    "            nn.ReLU(inplace=True),\n",
    "            nn.Linear(channels // reduction, channels, bias=False),\n",
    "            nn.Sigmoid()\n",
    "        )\n",
    "\n",
    "    def forward(self, x):\n",
    "        b, c, _, _ = x.size()\n",
    "        y = self.squeeze(x).view(b, c)\n",
    "        y = self.excitation(y).view(b, c, 1, 1)\n",
    "        return x * y\n",
    "\n",
    "class ResidualBlock(nn.Module):\n",
    "    def __init__(self, in_channels, out_channels, stride=1, use_se=True):\n",
    "        super().__init__()\n",
    "        self.conv1 = nn.Conv2d(in_channels, out_channels, 3, stride=stride, padding=1, bias=False)\n",
    "        self.bn1 = nn.BatchNorm2d(out_channels)\n",
    "        self.conv2 = nn.Conv2d(out_channels, out_channels, 3, stride=1, padding=1, bias=False)\n",
    "        self.bn2 = nn.BatchNorm2d(out_channels)\n",
    "        self.relu = nn.ReLU(inplace=True)\n",
    "        \n",
    "        self.use_se = use_se\n",
    "        if use_se:\n",
    "            self.se = SEBlock(out_channels)\n",
    "        \n",
    "        self.skip = nn.Sequential()\n",
    "        if stride != 1 or in_channels != out_channels:\n",
    "            self.skip = nn.Sequential(\n",
    "                nn.Conv2d(in_channels, out_channels, 1, stride=stride, bias=False),\n",
    "                nn.BatchNorm2d(out_channels)\n",
    "            )\n",
    "\n",
    "    def forward(self, x):\n",
    "        out = self.relu(self.bn1(self.conv1(x)))\n",
    "        out = self.bn2(self.conv2(out))\n",
    "        \n",
    "        if self.use_se:\n",
    "            out = self.se(out)\n",
    "        \n",
    "        out += self.skip(x)\n",
    "        out = self.relu(out)\n",
    "        return out\n",
    "\n",
    "class ImprovedCNN(nn.Module):\n",
    "    def __init__(self, num_classes, input_channels=3):\n",
    "        super().__init__()\n",
    "        # Initial layer\n",
    "        self.layer1 = nn.Sequential(\n",
    "            nn.Conv2d(input_channels, 64, 7, stride=2, padding=3, bias=False),\n",
    "            nn.BatchNorm2d(64),\n",
    "            nn.ReLU(inplace=True),\n",
    "            nn.MaxPool2d(3, stride=2, padding=1)\n",
    "        )\n",
    "        \n",
    "        # Block 2: 64 -> 128 (3 residual blocks)\n",
    "        self.layer2 = nn.Sequential(\n",
    "            ResidualBlock(64, 128, stride=2, use_se=True),\n",
    "            ResidualBlock(128, 128, use_se=False),\n",
    "            ResidualBlock(128, 128, use_se=True)\n",
    "        )\n",
    "        \n",
    "        # Block 3: 128 -> 256 (4 residual blocks)\n",
    "        self.layer3 = nn.Sequential(\n",
    "            ResidualBlock(128, 256, stride=2, use_se=True),\n",
    "            ResidualBlock(256, 256, use_se=False),\n",
    "            ResidualBlock(256, 256, use_se=True),\n",
    "            ResidualBlock(256, 256, use_se=False)\n",
    "        )\n",
    "        \n",
    "        # Block 4: 256 -> 512 (4 residual blocks)\n",
    "        self.layer4 = nn.Sequential(\n",
    "            ResidualBlock(256, 512, stride=2, use_se=True),\n",
    "            ResidualBlock(512, 512, use_se=True),\n",
    "            ResidualBlock(512, 512, use_se=False),\n",
    "            ResidualBlock(512, 512, use_se=True)\n",
    "        )\n",
    "        \n",
    "        # Block 5: 512 -> 512 (3 residual blocks)\n",
    "        self.layer5 = nn.Sequential(\n",
    "            ResidualBlock(512, 512, use_se=True),\n",
    "            ResidualBlock(512, 512, use_se=True),\n",
    "            ResidualBlock(512, 512, use_se=True)\n",
    "        )\n",
    "        \n",
    "        # Global pooling\n",
    "        self.global_avg_pool = nn.AdaptiveAvgPool2d((1, 1))\n",
    "        self.global_max_pool = nn.AdaptiveMaxPool2d((1, 1))\n",
    "        \n",
    "        # Enhanced classifier\n",
    "        self.dropout1 = nn.Dropout(0.5)\n",
    "        self.fc1 = nn.Linear(512 * 2, 1024)\n",
    "        self.bn1 = nn.BatchNorm1d(1024)\n",
    "        self.dropout2 = nn.Dropout(0.4)\n",
    "        self.fc2 = nn.Linear(1024, 512)\n",
    "        self.bn2 = nn.BatchNorm1d(512)\n",
    "        self.dropout3 = nn.Dropout(0.3)\n",
    "        self.fc3 = nn.Linear(512, num_classes)\n",
    "\n",
    "    def forward(self, x):\n",
    "        x = self.layer1(x)\n",
    "        x = self.layer2(x)\n",
    "        x = self.layer3(x)\n",
    "        x = self.layer4(x)\n",
    "        x = self.layer5(x)\n",
    "        \n",
    "        # Dual pooling\n",
    "        x_avg = self.global_avg_pool(x).view(x.size(0), -1)\n",
    "        x_max = self.global_max_pool(x).view(x.size(0), -1)\n",
    "        x = torch.cat([x_avg, x_max], dim=1)\n",
    "        \n",
    "        # Classifier\n",
    "        x = self.dropout1(x)\n",
    "        x = F.relu(self.bn1(self.fc1(x)))\n",
    "        x = self.dropout2(x)\n",
    "        x = F.relu(self.bn2(self.fc2(x)))\n",
    "        x = self.dropout3(x)\n",
    "        x = self.fc3(x)\n",
    "        return x\n",
    "\n",
    "print(\"Using Improved Residual CNN with SE Attention\")\n",
    "model = ImprovedCNN(num_classes=num_classes, input_channels=3).to(device)\n",
    "print(f\"Model parameters: {sum(p.numel() for p in model.parameters() if p.requires_grad):,}\")\n",
    "\n",
    "# ---------------------------\n",
    "# 5. Label Smoothing Loss\n",
    "# ---------------------------\n",
    "class LabelSmoothingCrossEntropy(nn.Module):\n",
    "    def __init__(self, epsilon=0.1, weight=None):\n",
    "        super().__init__()\n",
    "        self.epsilon = epsilon\n",
    "        self.weight = weight\n",
    "    \n",
    "    def forward(self, output, target):\n",
    "        n_class = output.size(1)\n",
    "        log_preds = F.log_softmax(output, dim=1)\n",
    "        loss = -log_preds.sum(dim=1).mean()\n",
    "        nll = F.nll_loss(log_preds, target, weight=self.weight)\n",
    "        return (1 - self.epsilon) * nll + self.epsilon * loss / n_class\n",
    "\n",
    "class_weights = compute_class_weight(\n",
    "    class_weight=\"balanced\",\n",
    "    classes=np.unique(y[train_idx]),\n",
    "    y=y[train_idx]\n",
    ")\n",
    "class_weights = torch.tensor(class_weights, dtype=torch.float32).to(device)\n",
    "criterion = LabelSmoothingCrossEntropy(epsilon=0.1, weight=class_weights)\n",
    "\n",
    "# ---------------------------\n",
    "# 6. Optimizer and Scheduler\n",
    "# ---------------------------\n",
    "optimizer = optim.AdamW(model.parameters(), lr=0.001, weight_decay=1e-4)\n",
    "scheduler = optim.lr_scheduler.ReduceLROnPlateau(\n",
    "    optimizer, mode='max', factor=0.5, patience=3, min_lr=1e-7\n",
    ")\n",
    "\n",
    "# ---------------------------\n",
    "# 7. Training loop\n",
    "# ---------------------------\n",
    "num_epochs = 20\n",
    "best_val_acc = 0\n",
    "patience = 10\n",
    "trigger_times = 0\n",
    "train_losses, val_losses = [], []\n",
    "train_accs, val_accs = [], []\n",
    "\n",
    "print(\"\\nStarting training...\")\n",
    "for epoch in range(num_epochs):\n",
    "    model.train()\n",
    "    running_loss, correct, total = 0, 0, 0\n",
    "    loop = tqdm(enumerate(train_loader), total=len(train_loader), desc=f\"Epoch {epoch+1}/{num_epochs} [Train]\")\n",
    "    for i, (X_batch, y_batch) in loop:\n",
    "        X_batch, y_batch = X_batch.to(device), y_batch.to(device)\n",
    "        optimizer.zero_grad()\n",
    "        outputs = model(X_batch)\n",
    "        loss = criterion(outputs, y_batch)\n",
    "        loss.backward()\n",
    "        torch.nn.utils.clip_grad_norm_(model.parameters(), max_norm=1.0)\n",
    "        optimizer.step()\n",
    "\n",
    "        running_loss += loss.item() * X_batch.size(0)\n",
    "        _, predicted = torch.max(outputs, 1)\n",
    "        correct += (predicted == y_batch).sum().item()\n",
    "        total += y_batch.size(0)\n",
    "        loop.set_postfix(loss=running_loss/total, acc=correct/total)\n",
    "\n",
    "    train_loss = running_loss / total\n",
    "    train_acc = correct / total\n",
    "    train_losses.append(train_loss)\n",
    "    train_accs.append(train_acc)\n",
    "\n",
    "    model.eval()\n",
    "    val_loss, correct, total = 0, 0, 0\n",
    "    loop_val = tqdm(val_loader, desc=f\"Epoch {epoch+1}/{num_epochs} [Val]\")\n",
    "    with torch.no_grad():\n",
    "        for X_batch, y_batch in loop_val:\n",
    "            X_batch, y_batch = X_batch.to(device), y_batch.to(device)\n",
    "            outputs = model(X_batch)\n",
    "            loss = criterion(outputs, y_batch)\n",
    "            val_loss += loss.item() * X_batch.size(0)\n",
    "            _, predicted = torch.max(outputs, 1)\n",
    "            correct += (predicted == y_batch).sum().item()\n",
    "            total += y_batch.size(0)\n",
    "            loop_val.set_postfix(loss=val_loss/total, acc=correct/total)\n",
    "\n",
    "    val_loss = val_loss / total\n",
    "    val_acc = correct / total\n",
    "    val_losses.append(val_loss)\n",
    "    val_accs.append(val_acc)\n",
    "\n",
    "    print(f\"Epoch {epoch+1}/{num_epochs} | Train Loss: {train_loss:.4f} | Train Acc: {train_acc:.4f} | Val Loss: {val_loss:.4f} | Val Acc: {val_acc:.4f}\")\n",
    "\n",
    "    scheduler.step(val_acc)\n",
    "\n",
    "    if val_acc > best_val_acc:\n",
    "        best_val_acc = val_acc\n",
    "        trigger_times = 0\n",
    "        torch.save({\n",
    "            'epoch': epoch,\n",
    "            'model_state_dict': model.state_dict(),\n",
    "            'optimizer_state_dict': optimizer.state_dict(),\n",
    "            'val_acc': val_acc,\n",
    "        }, \"best_model.pth\")\n",
    "        print(f\"✓ Best model saved with val_acc: {val_acc:.4f}\")\n",
    "    else:\n",
    "        trigger_times += 1\n",
    "        if trigger_times >= patience:\n",
    "            print(f\"Early stopping triggered at epoch {epoch+1}!\")\n",
    "            break\n",
    "\n",
    "# ---------------------------\n",
    "# 8. Plot training history\n",
    "# ---------------------------\n",
    "plt.figure(figsize=(14, 5))\n",
    "plt.subplot(1, 2, 1)\n",
    "plt.plot(train_losses, label='Train Loss')\n",
    "plt.plot(val_losses, label='Val Loss')\n",
    "plt.xlabel('Epoch')\n",
    "plt.ylabel('Loss')\n",
    "plt.title('Training and Validation Loss')\n",
    "plt.legend()\n",
    "plt.grid(True)\n",
    "\n",
    "plt.subplot(1, 2, 2)\n",
    "plt.plot(train_accs, label='Train Accuracy')\n",
    "plt.plot(val_accs, label='Val Accuracy')\n",
    "plt.xlabel('Epoch')\n",
    "plt.ylabel('Accuracy')\n",
    "plt.title('Training and Validation Accuracy')\n",
    "plt.legend()\n",
    "plt.grid(True)\n",
    "plt.tight_layout()\n",
    "plt.savefig('training_history.png', dpi=300, bbox_inches='tight')\n",
    "plt.show()\n",
    "\n",
    "# ---------------------------\n",
    "# 9. Test evaluation\n",
    "# ---------------------------\n",
    "checkpoint = torch.load(\"best_model.pth\")\n",
    "model.load_state_dict(checkpoint['model_state_dict'])\n",
    "print(f\"\\nLoaded best model from epoch {checkpoint['epoch']+1}\")\n",
    "\n",
    "model.eval()\n",
    "y_true, y_pred, y_probs = [], [], []\n",
    "\n",
    "with torch.no_grad():\n",
    "    loop_test = tqdm(test_loader, desc=\"Testing\")\n",
    "    for X_batch, y_batch in loop_test:\n",
    "        X_batch, y_batch = X_batch.to(device), y_batch.to(device)\n",
    "        outputs = model(X_batch)\n",
    "        probs = F.softmax(outputs, dim=1)\n",
    "        _, predicted = torch.max(outputs, 1)\n",
    "        y_true.extend(y_batch.cpu().numpy())\n",
    "        y_pred.extend(predicted.cpu().numpy())\n",
    "        y_probs.extend(probs.cpu().numpy())\n",
    "\n",
    "test_acc = np.mean(np.array(y_true) == np.array(y_pred))\n",
    "print(f\"\\n{'='*50}\")\n",
    "print(f\"Test Accuracy: {test_acc*100:.2f}%\")\n",
    "print(f\"{'='*50}\\n\")\n",
    "\n",
    "# ---------------------------\n",
    "# 10. Confusion matrix\n",
    "# ---------------------------\n",
    "cm = confusion_matrix(y_true, y_pred)\n",
    "plt.figure(figsize=(12, 10))\n",
    "sns.heatmap(cm, annot=True, fmt=\"d\", cmap='Blues',\n",
    "            xticklabels=encoder.classes_, yticklabels=encoder.classes_)\n",
    "plt.xlabel(\"Predicted\", fontsize=12)\n",
    "plt.ylabel(\"True\", fontsize=12)\n",
    "plt.title(f\"Confusion Matrix (Test Accuracy: {test_acc*100:.2f}%)\", fontsize=14)\n",
    "plt.xticks(rotation=45, ha='right')\n",
    "plt.yticks(rotation=0)\n",
    "plt.tight_layout()\n",
    "plt.savefig('confusion_matrix.png', dpi=300, bbox_inches='tight')\n",
    "plt.show()\n",
    "\n",
    "# ---------------------------\n",
    "# 11. Classification report\n",
    "# ---------------------------\n",
    "print(\"\\nClassification Report:\")\n",
    "print(\"=\"*70)\n",
    "print(classification_report(y_true, y_pred, target_names=[str(c) for c in encoder.classes_], digits=4))\n",
    "\n",
    "# ---------------------------\n",
    "# 12. Per-class accuracy\n",
    "# ---------------------------\n",
    "print(\"\\nPer-Class Accuracy:\")\n",
    "print(\"=\"*70)\n",
    "for i, class_name in enumerate(encoder.classes_):\n",
    "    class_mask = np.array(y_true) == i\n",
    "    if class_mask.sum() > 0:\n",
    "        class_acc = np.mean(np.array(y_pred)[class_mask] == i)\n",
    "        print(f\"{str(class_name):20s}: {class_acc*100:6.2f}% ({class_mask.sum()} samples)\")\n",
    "\n",
    "print(\"\\n✓ Training complete!\")\n",
    "print(f\"Best validation accuracy: {best_val_acc*100:.2f}%\")\n",
    "print(f\"Final test accuracy: {test_acc*100:.2f}%\")"
   ]
  }
 ],
 "metadata": {
  "kernelspec": {
   "display_name": "env",
   "language": "python",
   "name": "python3"
  },
  "language_info": {
   "codemirror_mode": {
    "name": "ipython",
    "version": 3
   },
   "file_extension": ".py",
   "mimetype": "text/x-python",
   "name": "python",
   "nbconvert_exporter": "python",
   "pygments_lexer": "ipython3",
   "version": "3.10.11"
  }
 },
 "nbformat": 4,
 "nbformat_minor": 5
}
