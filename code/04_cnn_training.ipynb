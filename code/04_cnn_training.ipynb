{
 "cells": [
  {
   "cell_type": "code",
   "execution_count": 4,
   "id": "ff051d05",
   "metadata": {},
   "outputs": [
    {
     "name": "stdout",
     "output_type": "stream",
     "text": [
      "Using device: cuda\n",
      "Number of classes: 9\n",
      "Classes: [0 1 2 3 4 5 6 7 8]\n",
      "Class distribution: [461 411 420 790 495 500 921 318 436]\n",
      "Train size: 3230, Val size: 571, Test size: 951\n",
      "Using ResNet50 with Transfer Learning\n",
      "Model parameters: 23,116,809\n",
      "Class weights: tensor([1.1430, 1.2817, 1.2593, 0.6683, 1.0681, 1.0556, 0.5742, 1.6615, 1.2084],\n",
      "       device='cuda:0')\n",
      "\n",
      "Starting training...\n"
     ]
    },
    {
     "name": "stderr",
     "output_type": "stream",
     "text": [
      "Epoch 1/50 [Train]: 100%|██████████| 202/202 [00:20<00:00,  9.95it/s, acc=0.463, loss=1.63]\n",
      "Epoch 1/50 [Val]: 100%|██████████| 36/36 [00:01<00:00, 20.09it/s, acc=0.683, loss=1.38]\n"
     ]
    },
    {
     "name": "stdout",
     "output_type": "stream",
     "text": [
      "Epoch 1/50 | Train Loss: 1.6287 | Train Acc: 0.4632 | Val Loss: 1.3790 | Val Acc: 0.6830\n",
      "✓ Best model saved with val_acc: 0.6830\n"
     ]
    },
    {
     "name": "stderr",
     "output_type": "stream",
     "text": [
      "Epoch 2/50 [Train]: 100%|██████████| 202/202 [00:39<00:00,  5.06it/s, acc=0.644, loss=1.29]\n",
      "Epoch 2/50 [Val]: 100%|██████████| 36/36 [00:04<00:00,  8.58it/s, acc=0.734, loss=1.06]\n"
     ]
    },
    {
     "name": "stdout",
     "output_type": "stream",
     "text": [
      "Epoch 2/50 | Train Loss: 1.2874 | Train Acc: 0.6443 | Val Loss: 1.0562 | Val Acc: 0.7338\n",
      "✓ Best model saved with val_acc: 0.7338\n"
     ]
    },
    {
     "name": "stderr",
     "output_type": "stream",
     "text": [
      "Epoch 3/50 [Train]: 100%|██████████| 202/202 [00:47<00:00,  4.29it/s, acc=0.705, loss=1.18]\n",
      "Epoch 3/50 [Val]: 100%|██████████| 36/36 [00:01<00:00, 18.29it/s, acc=0.783, loss=1.04]\n"
     ]
    },
    {
     "name": "stdout",
     "output_type": "stream",
     "text": [
      "Epoch 3/50 | Train Loss: 1.1799 | Train Acc: 0.7046 | Val Loss: 1.0395 | Val Acc: 0.7828\n",
      "✓ Best model saved with val_acc: 0.7828\n"
     ]
    },
    {
     "name": "stderr",
     "output_type": "stream",
     "text": [
      "Epoch 4/50 [Train]: 100%|██████████| 202/202 [00:20<00:00,  9.88it/s, acc=0.737, loss=1.14]\n",
      "Epoch 4/50 [Val]: 100%|██████████| 36/36 [00:01<00:00, 20.64it/s, acc=0.797, loss=1.03] \n"
     ]
    },
    {
     "name": "stdout",
     "output_type": "stream",
     "text": [
      "Epoch 4/50 | Train Loss: 1.1371 | Train Acc: 0.7375 | Val Loss: 1.0322 | Val Acc: 0.7968\n",
      "✓ Best model saved with val_acc: 0.7968\n"
     ]
    },
    {
     "name": "stderr",
     "output_type": "stream",
     "text": [
      "Epoch 5/50 [Train]: 100%|██████████| 202/202 [00:20<00:00, 10.02it/s, acc=0.752, loss=1.11]\n",
      "Epoch 5/50 [Val]: 100%|██████████| 36/36 [00:01<00:00, 20.50it/s, acc=0.781, loss=1.06]\n"
     ]
    },
    {
     "name": "stdout",
     "output_type": "stream",
     "text": [
      "Epoch 5/50 | Train Loss: 1.1124 | Train Acc: 0.7517 | Val Loss: 1.0645 | Val Acc: 0.7811\n"
     ]
    },
    {
     "name": "stderr",
     "output_type": "stream",
     "text": [
      "Epoch 6/50 [Train]: 100%|██████████| 202/202 [00:20<00:00, 10.06it/s, acc=0.765, loss=1.05]\n",
      "Epoch 6/50 [Val]: 100%|██████████| 36/36 [00:01<00:00, 20.60it/s, acc=0.832, loss=0.97] \n"
     ]
    },
    {
     "name": "stdout",
     "output_type": "stream",
     "text": [
      "Epoch 6/50 | Train Loss: 1.0455 | Train Acc: 0.7650 | Val Loss: 0.9699 | Val Acc: 0.8319\n",
      "✓ Best model saved with val_acc: 0.8319\n"
     ]
    },
    {
     "name": "stderr",
     "output_type": "stream",
     "text": [
      "Epoch 7/50 [Train]: 100%|██████████| 202/202 [00:20<00:00,  9.92it/s, acc=0.788, loss=1]    \n",
      "Epoch 7/50 [Val]: 100%|██████████| 36/36 [00:01<00:00, 20.41it/s, acc=0.79, loss=0.97]  \n"
     ]
    },
    {
     "name": "stdout",
     "output_type": "stream",
     "text": [
      "Epoch 7/50 | Train Loss: 1.0043 | Train Acc: 0.7879 | Val Loss: 0.9700 | Val Acc: 0.7898\n"
     ]
    },
    {
     "name": "stderr",
     "output_type": "stream",
     "text": [
      "Epoch 8/50 [Train]: 100%|██████████| 202/202 [00:20<00:00, 10.03it/s, acc=0.808, loss=0.982]\n",
      "Epoch 8/50 [Val]: 100%|██████████| 36/36 [00:01<00:00, 20.78it/s, acc=0.806, loss=0.995]\n"
     ]
    },
    {
     "name": "stdout",
     "output_type": "stream",
     "text": [
      "Epoch 8/50 | Train Loss: 0.9816 | Train Acc: 0.8080 | Val Loss: 0.9949 | Val Acc: 0.8056\n"
     ]
    },
    {
     "name": "stderr",
     "output_type": "stream",
     "text": [
      "Epoch 9/50 [Train]: 100%|██████████| 202/202 [00:20<00:00, 10.02it/s, acc=0.818, loss=0.959]\n",
      "Epoch 9/50 [Val]: 100%|██████████| 36/36 [00:01<00:00, 20.63it/s, acc=0.762, loss=1.03]\n"
     ]
    },
    {
     "name": "stdout",
     "output_type": "stream",
     "text": [
      "Epoch 9/50 | Train Loss: 0.9591 | Train Acc: 0.8183 | Val Loss: 1.0255 | Val Acc: 0.7618\n"
     ]
    },
    {
     "name": "stderr",
     "output_type": "stream",
     "text": [
      "Epoch 10/50 [Train]: 100%|██████████| 202/202 [00:20<00:00,  9.98it/s, acc=0.823, loss=0.95] \n",
      "Epoch 10/50 [Val]: 100%|██████████| 36/36 [00:01<00:00, 20.40it/s, acc=0.811, loss=0.99] \n"
     ]
    },
    {
     "name": "stdout",
     "output_type": "stream",
     "text": [
      "Epoch 10/50 | Train Loss: 0.9501 | Train Acc: 0.8226 | Val Loss: 0.9898 | Val Acc: 0.8109\n"
     ]
    },
    {
     "name": "stderr",
     "output_type": "stream",
     "text": [
      "Epoch 11/50 [Train]: 100%|██████████| 202/202 [00:20<00:00, 10.01it/s, acc=0.877, loss=0.817]\n",
      "Epoch 11/50 [Val]: 100%|██████████| 36/36 [00:01<00:00, 21.00it/s, acc=0.86, loss=0.847] \n"
     ]
    },
    {
     "name": "stdout",
     "output_type": "stream",
     "text": [
      "Epoch 11/50 | Train Loss: 0.8172 | Train Acc: 0.8771 | Val Loss: 0.8467 | Val Acc: 0.8599\n",
      "✓ Best model saved with val_acc: 0.8599\n"
     ]
    },
    {
     "name": "stderr",
     "output_type": "stream",
     "text": [
      "Epoch 12/50 [Train]: 100%|██████████| 202/202 [00:20<00:00,  9.98it/s, acc=0.873, loss=0.821]\n",
      "Epoch 12/50 [Val]: 100%|██████████| 36/36 [00:01<00:00, 20.81it/s, acc=0.855, loss=0.858]\n"
     ]
    },
    {
     "name": "stdout",
     "output_type": "stream",
     "text": [
      "Epoch 12/50 | Train Loss: 0.8212 | Train Acc: 0.8728 | Val Loss: 0.8576 | Val Acc: 0.8546\n"
     ]
    },
    {
     "name": "stderr",
     "output_type": "stream",
     "text": [
      "Epoch 13/50 [Train]: 100%|██████████| 202/202 [00:20<00:00,  9.99it/s, acc=0.893, loss=0.79] \n",
      "Epoch 13/50 [Val]: 100%|██████████| 36/36 [00:01<00:00, 20.50it/s, acc=0.834, loss=0.887]\n"
     ]
    },
    {
     "name": "stdout",
     "output_type": "stream",
     "text": [
      "Epoch 13/50 | Train Loss: 0.7898 | Train Acc: 0.8935 | Val Loss: 0.8874 | Val Acc: 0.8336\n"
     ]
    },
    {
     "name": "stderr",
     "output_type": "stream",
     "text": [
      "Epoch 14/50 [Train]: 100%|██████████| 202/202 [00:20<00:00, 10.01it/s, acc=0.902, loss=0.759]\n",
      "Epoch 14/50 [Val]: 100%|██████████| 36/36 [00:01<00:00, 20.44it/s, acc=0.848, loss=0.908]\n"
     ]
    },
    {
     "name": "stdout",
     "output_type": "stream",
     "text": [
      "Epoch 14/50 | Train Loss: 0.7589 | Train Acc: 0.9015 | Val Loss: 0.9080 | Val Acc: 0.8476\n"
     ]
    },
    {
     "name": "stderr",
     "output_type": "stream",
     "text": [
      "Epoch 15/50 [Train]: 100%|██████████| 202/202 [00:20<00:00, 10.03it/s, acc=0.906, loss=0.759]\n",
      "Epoch 15/50 [Val]: 100%|██████████| 36/36 [00:01<00:00, 20.21it/s, acc=0.846, loss=0.878]\n"
     ]
    },
    {
     "name": "stdout",
     "output_type": "stream",
     "text": [
      "Epoch 15/50 | Train Loss: 0.7587 | Train Acc: 0.9059 | Val Loss: 0.8778 | Val Acc: 0.8459\n"
     ]
    },
    {
     "name": "stderr",
     "output_type": "stream",
     "text": [
      "Epoch 16/50 [Train]: 100%|██████████| 202/202 [00:20<00:00, 10.06it/s, acc=0.931, loss=0.701]\n",
      "Epoch 16/50 [Val]: 100%|██████████| 36/36 [00:01<00:00, 20.37it/s, acc=0.856, loss=0.852]\n"
     ]
    },
    {
     "name": "stdout",
     "output_type": "stream",
     "text": [
      "Epoch 16/50 | Train Loss: 0.7008 | Train Acc: 0.9313 | Val Loss: 0.8519 | Val Acc: 0.8564\n"
     ]
    },
    {
     "name": "stderr",
     "output_type": "stream",
     "text": [
      "Epoch 17/50 [Train]: 100%|██████████| 202/202 [00:20<00:00, 10.07it/s, acc=0.938, loss=0.673]\n",
      "Epoch 17/50 [Val]: 100%|██████████| 36/36 [00:01<00:00, 20.52it/s, acc=0.855, loss=0.864]\n"
     ]
    },
    {
     "name": "stdout",
     "output_type": "stream",
     "text": [
      "Epoch 17/50 | Train Loss: 0.6733 | Train Acc: 0.9384 | Val Loss: 0.8638 | Val Acc: 0.8546\n"
     ]
    },
    {
     "name": "stderr",
     "output_type": "stream",
     "text": [
      "Epoch 18/50 [Train]: 100%|██████████| 202/202 [00:20<00:00,  9.80it/s, acc=0.933, loss=0.678]\n",
      "Epoch 18/50 [Val]: 100%|██████████| 36/36 [00:01<00:00, 20.02it/s, acc=0.855, loss=0.855]\n"
     ]
    },
    {
     "name": "stdout",
     "output_type": "stream",
     "text": [
      "Epoch 18/50 | Train Loss: 0.6780 | Train Acc: 0.9325 | Val Loss: 0.8547 | Val Acc: 0.8546\n"
     ]
    },
    {
     "name": "stderr",
     "output_type": "stream",
     "text": [
      "Epoch 19/50 [Train]: 100%|██████████| 202/202 [00:20<00:00,  9.94it/s, acc=0.942, loss=0.666]\n",
      "Epoch 19/50 [Val]: 100%|██████████| 36/36 [00:01<00:00, 20.28it/s, acc=0.87, loss=0.812] \n"
     ]
    },
    {
     "name": "stdout",
     "output_type": "stream",
     "text": [
      "Epoch 19/50 | Train Loss: 0.6664 | Train Acc: 0.9424 | Val Loss: 0.8117 | Val Acc: 0.8704\n",
      "✓ Best model saved with val_acc: 0.8704\n"
     ]
    },
    {
     "name": "stderr",
     "output_type": "stream",
     "text": [
      "Epoch 20/50 [Train]: 100%|██████████| 202/202 [00:20<00:00,  9.80it/s, acc=0.936, loss=0.67] \n",
      "Epoch 20/50 [Val]: 100%|██████████| 36/36 [00:02<00:00, 16.94it/s, acc=0.867, loss=0.824]\n"
     ]
    },
    {
     "name": "stdout",
     "output_type": "stream",
     "text": [
      "Epoch 20/50 | Train Loss: 0.6704 | Train Acc: 0.9362 | Val Loss: 0.8238 | Val Acc: 0.8669\n"
     ]
    },
    {
     "name": "stderr",
     "output_type": "stream",
     "text": [
      "Epoch 21/50 [Train]: 100%|██████████| 202/202 [00:20<00:00,  9.75it/s, acc=0.946, loss=0.656]\n",
      "Epoch 21/50 [Val]: 100%|██████████| 36/36 [00:01<00:00, 20.14it/s, acc=0.869, loss=0.824]\n"
     ]
    },
    {
     "name": "stdout",
     "output_type": "stream",
     "text": [
      "Epoch 21/50 | Train Loss: 0.6556 | Train Acc: 0.9455 | Val Loss: 0.8243 | Val Acc: 0.8687\n"
     ]
    },
    {
     "name": "stderr",
     "output_type": "stream",
     "text": [
      "Epoch 22/50 [Train]: 100%|██████████| 202/202 [00:20<00:00,  9.96it/s, acc=0.946, loss=0.641]\n",
      "Epoch 22/50 [Val]: 100%|██████████| 36/36 [00:01<00:00, 19.85it/s, acc=0.872, loss=0.826]\n"
     ]
    },
    {
     "name": "stdout",
     "output_type": "stream",
     "text": [
      "Epoch 22/50 | Train Loss: 0.6405 | Train Acc: 0.9458 | Val Loss: 0.8263 | Val Acc: 0.8722\n",
      "✓ Best model saved with val_acc: 0.8722\n"
     ]
    },
    {
     "name": "stderr",
     "output_type": "stream",
     "text": [
      "Epoch 23/50 [Train]: 100%|██████████| 202/202 [00:20<00:00,  9.98it/s, acc=0.945, loss=0.647]\n",
      "Epoch 23/50 [Val]: 100%|██████████| 36/36 [00:01<00:00, 20.30it/s, acc=0.876, loss=0.81] \n"
     ]
    },
    {
     "name": "stdout",
     "output_type": "stream",
     "text": [
      "Epoch 23/50 | Train Loss: 0.6466 | Train Acc: 0.9452 | Val Loss: 0.8099 | Val Acc: 0.8757\n",
      "✓ Best model saved with val_acc: 0.8757\n"
     ]
    },
    {
     "name": "stderr",
     "output_type": "stream",
     "text": [
      "Epoch 24/50 [Train]: 100%|██████████| 202/202 [00:20<00:00,  9.99it/s, acc=0.948, loss=0.647]\n",
      "Epoch 24/50 [Val]: 100%|██████████| 36/36 [00:01<00:00, 20.28it/s, acc=0.895, loss=0.773]\n"
     ]
    },
    {
     "name": "stdout",
     "output_type": "stream",
     "text": [
      "Epoch 24/50 | Train Loss: 0.6466 | Train Acc: 0.9480 | Val Loss: 0.7732 | Val Acc: 0.8949\n",
      "✓ Best model saved with val_acc: 0.8949\n"
     ]
    },
    {
     "name": "stderr",
     "output_type": "stream",
     "text": [
      "Epoch 25/50 [Train]: 100%|██████████| 202/202 [00:21<00:00,  9.60it/s, acc=0.951, loss=0.635]\n",
      "Epoch 25/50 [Val]: 100%|██████████| 36/36 [00:01<00:00, 20.79it/s, acc=0.876, loss=0.828]\n"
     ]
    },
    {
     "name": "stdout",
     "output_type": "stream",
     "text": [
      "Epoch 25/50 | Train Loss: 0.6351 | Train Acc: 0.9508 | Val Loss: 0.8283 | Val Acc: 0.8757\n"
     ]
    },
    {
     "name": "stderr",
     "output_type": "stream",
     "text": [
      "Epoch 26/50 [Train]: 100%|██████████| 202/202 [00:20<00:00,  9.87it/s, acc=0.959, loss=0.625]\n",
      "Epoch 26/50 [Val]: 100%|██████████| 36/36 [00:01<00:00, 19.90it/s, acc=0.874, loss=0.808]\n"
     ]
    },
    {
     "name": "stdout",
     "output_type": "stream",
     "text": [
      "Epoch 26/50 | Train Loss: 0.6249 | Train Acc: 0.9594 | Val Loss: 0.8079 | Val Acc: 0.8739\n"
     ]
    },
    {
     "name": "stderr",
     "output_type": "stream",
     "text": [
      "Epoch 27/50 [Train]: 100%|██████████| 202/202 [00:20<00:00,  9.95it/s, acc=0.961, loss=0.634]\n",
      "Epoch 27/50 [Val]: 100%|██████████| 36/36 [00:01<00:00, 20.03it/s, acc=0.877, loss=0.817]\n"
     ]
    },
    {
     "name": "stdout",
     "output_type": "stream",
     "text": [
      "Epoch 27/50 | Train Loss: 0.6338 | Train Acc: 0.9613 | Val Loss: 0.8172 | Val Acc: 0.8774\n"
     ]
    },
    {
     "name": "stderr",
     "output_type": "stream",
     "text": [
      "Epoch 28/50 [Train]: 100%|██████████| 202/202 [00:20<00:00,  9.77it/s, acc=0.961, loss=0.613]\n",
      "Epoch 28/50 [Val]: 100%|██████████| 36/36 [00:01<00:00, 19.29it/s, acc=0.865, loss=0.845]\n"
     ]
    },
    {
     "name": "stdout",
     "output_type": "stream",
     "text": [
      "Epoch 28/50 | Train Loss: 0.6128 | Train Acc: 0.9613 | Val Loss: 0.8451 | Val Acc: 0.8651\n"
     ]
    },
    {
     "name": "stderr",
     "output_type": "stream",
     "text": [
      "Epoch 29/50 [Train]: 100%|██████████| 202/202 [00:21<00:00,  9.31it/s, acc=0.961, loss=0.612]\n",
      "Epoch 29/50 [Val]: 100%|██████████| 36/36 [00:01<00:00, 19.81it/s, acc=0.883, loss=0.804]\n"
     ]
    },
    {
     "name": "stdout",
     "output_type": "stream",
     "text": [
      "Epoch 29/50 | Train Loss: 0.6119 | Train Acc: 0.9613 | Val Loss: 0.8037 | Val Acc: 0.8827\n"
     ]
    },
    {
     "name": "stderr",
     "output_type": "stream",
     "text": [
      "Epoch 30/50 [Train]: 100%|██████████| 202/202 [00:20<00:00,  9.69it/s, acc=0.967, loss=0.599]\n",
      "Epoch 30/50 [Val]: 100%|██████████| 36/36 [00:01<00:00, 19.84it/s, acc=0.905, loss=0.763]\n"
     ]
    },
    {
     "name": "stdout",
     "output_type": "stream",
     "text": [
      "Epoch 30/50 | Train Loss: 0.5990 | Train Acc: 0.9669 | Val Loss: 0.7626 | Val Acc: 0.9054\n",
      "✓ Best model saved with val_acc: 0.9054\n"
     ]
    },
    {
     "name": "stderr",
     "output_type": "stream",
     "text": [
      "Epoch 31/50 [Train]: 100%|██████████| 202/202 [00:20<00:00,  9.93it/s, acc=0.975, loss=0.586]\n",
      "Epoch 31/50 [Val]: 100%|██████████| 36/36 [00:01<00:00, 19.67it/s, acc=0.897, loss=0.758]\n"
     ]
    },
    {
     "name": "stdout",
     "output_type": "stream",
     "text": [
      "Epoch 31/50 | Train Loss: 0.5858 | Train Acc: 0.9749 | Val Loss: 0.7576 | Val Acc: 0.8967\n"
     ]
    },
    {
     "name": "stderr",
     "output_type": "stream",
     "text": [
      "Epoch 32/50 [Train]: 100%|██████████| 202/202 [00:21<00:00,  9.62it/s, acc=0.968, loss=0.596]\n",
      "Epoch 32/50 [Val]: 100%|██████████| 36/36 [00:01<00:00, 20.49it/s, acc=0.897, loss=0.785]\n"
     ]
    },
    {
     "name": "stdout",
     "output_type": "stream",
     "text": [
      "Epoch 32/50 | Train Loss: 0.5961 | Train Acc: 0.9684 | Val Loss: 0.7852 | Val Acc: 0.8967\n"
     ]
    },
    {
     "name": "stderr",
     "output_type": "stream",
     "text": [
      "Epoch 33/50 [Train]: 100%|██████████| 202/202 [00:20<00:00, 10.05it/s, acc=0.971, loss=0.59] \n",
      "Epoch 33/50 [Val]: 100%|██████████| 36/36 [00:01<00:00, 20.40it/s, acc=0.902, loss=0.768]\n"
     ]
    },
    {
     "name": "stdout",
     "output_type": "stream",
     "text": [
      "Epoch 33/50 | Train Loss: 0.5896 | Train Acc: 0.9712 | Val Loss: 0.7681 | Val Acc: 0.9019\n"
     ]
    },
    {
     "name": "stderr",
     "output_type": "stream",
     "text": [
      "Epoch 34/50 [Train]: 100%|██████████| 202/202 [00:20<00:00,  9.98it/s, acc=0.972, loss=0.586]\n",
      "Epoch 34/50 [Val]: 100%|██████████| 36/36 [00:01<00:00, 20.32it/s, acc=0.898, loss=0.756]\n"
     ]
    },
    {
     "name": "stdout",
     "output_type": "stream",
     "text": [
      "Epoch 34/50 | Train Loss: 0.5855 | Train Acc: 0.9715 | Val Loss: 0.7564 | Val Acc: 0.8984\n"
     ]
    },
    {
     "name": "stderr",
     "output_type": "stream",
     "text": [
      "Epoch 35/50 [Train]: 100%|██████████| 202/202 [00:20<00:00,  9.99it/s, acc=0.97, loss=0.59]  \n",
      "Epoch 35/50 [Val]: 100%|██████████| 36/36 [00:01<00:00, 20.28it/s, acc=0.891, loss=0.765]\n"
     ]
    },
    {
     "name": "stdout",
     "output_type": "stream",
     "text": [
      "Epoch 35/50 | Train Loss: 0.5901 | Train Acc: 0.9700 | Val Loss: 0.7655 | Val Acc: 0.8914\n"
     ]
    },
    {
     "name": "stderr",
     "output_type": "stream",
     "text": [
      "Epoch 36/50 [Train]: 100%|██████████| 202/202 [00:20<00:00,  9.99it/s, acc=0.974, loss=0.585]\n",
      "Epoch 36/50 [Val]: 100%|██████████| 36/36 [00:01<00:00, 20.61it/s, acc=0.895, loss=0.759]\n"
     ]
    },
    {
     "name": "stdout",
     "output_type": "stream",
     "text": [
      "Epoch 36/50 | Train Loss: 0.5846 | Train Acc: 0.9737 | Val Loss: 0.7590 | Val Acc: 0.8949\n"
     ]
    },
    {
     "name": "stderr",
     "output_type": "stream",
     "text": [
      "Epoch 37/50 [Train]: 100%|██████████| 202/202 [00:20<00:00, 10.03it/s, acc=0.972, loss=0.578]\n",
      "Epoch 37/50 [Val]: 100%|██████████| 36/36 [00:01<00:00, 20.24it/s, acc=0.898, loss=0.76] \n"
     ]
    },
    {
     "name": "stdout",
     "output_type": "stream",
     "text": [
      "Epoch 37/50 | Train Loss: 0.5777 | Train Acc: 0.9724 | Val Loss: 0.7604 | Val Acc: 0.8984\n"
     ]
    },
    {
     "name": "stderr",
     "output_type": "stream",
     "text": [
      "Epoch 38/50 [Train]: 100%|██████████| 202/202 [00:20<00:00, 10.05it/s, acc=0.976, loss=0.57] \n",
      "Epoch 38/50 [Val]: 100%|██████████| 36/36 [00:01<00:00, 20.43it/s, acc=0.884, loss=0.769]\n"
     ]
    },
    {
     "name": "stdout",
     "output_type": "stream",
     "text": [
      "Epoch 38/50 | Train Loss: 0.5698 | Train Acc: 0.9765 | Val Loss: 0.7693 | Val Acc: 0.8844\n"
     ]
    },
    {
     "name": "stderr",
     "output_type": "stream",
     "text": [
      "Epoch 39/50 [Train]: 100%|██████████| 202/202 [00:20<00:00, 10.02it/s, acc=0.979, loss=0.572]\n",
      "Epoch 39/50 [Val]: 100%|██████████| 36/36 [00:01<00:00, 20.26it/s, acc=0.888, loss=0.773]\n"
     ]
    },
    {
     "name": "stdout",
     "output_type": "stream",
     "text": [
      "Epoch 39/50 | Train Loss: 0.5720 | Train Acc: 0.9793 | Val Loss: 0.7728 | Val Acc: 0.8879\n"
     ]
    },
    {
     "name": "stderr",
     "output_type": "stream",
     "text": [
      "Epoch 40/50 [Train]: 100%|██████████| 202/202 [00:20<00:00,  9.98it/s, acc=0.974, loss=0.582]\n",
      "Epoch 40/50 [Val]: 100%|██████████| 36/36 [00:01<00:00, 20.68it/s, acc=0.891, loss=0.767]\n"
     ]
    },
    {
     "name": "stdout",
     "output_type": "stream",
     "text": [
      "Epoch 40/50 | Train Loss: 0.5820 | Train Acc: 0.9737 | Val Loss: 0.7668 | Val Acc: 0.8914\n",
      "Early stopping triggered at epoch 40!\n"
     ]
    },
    {
     "data": {
      "image/png": "[encoded data removed]",
      "text/plain": [
       "<Figure size 1400x500 with 2 Axes>"
      ]
     },
     "metadata": {},
     "output_type": "display_data"
    },
    {
     "name": "stdout",
     "output_type": "stream",
     "text": [
      "\n",
      "Loaded best model from epoch 30\n"
     ]
    },
    {
     "name": "stderr",
     "output_type": "stream",
     "text": [
      "Testing: 100%|██████████| 60/60 [00:02<00:00, 20.07it/s]\n"
     ]
    },
    {
     "name": "stdout",
     "output_type": "stream",
     "text": [
      "\n",
      "==================================================\n",
      "Test Accuracy: 88.85%\n",
      "==================================================\n",
      "\n"
     ]
    },
    {
     "data": {
      "image/png": "[encoded data removed]",
      "text/plain": [
       "<Figure size 1200x1000 with 2 Axes>"
      ]
     },
     "metadata": {},
     "output_type": "display_data"
    },
    {
     "name": "stdout",
     "output_type": "stream",
     "text": [
      "\n",
      "Classification Report:\n",
      "======================================================================\n",
      "              precision    recall  f1-score   support\n",
      "\n",
      "           0     0.8700    0.9457    0.9062        92\n",
      "           1     0.9079    0.8415    0.8734        82\n",
      "           2     0.9059    0.9167    0.9112        84\n",
      "           3     0.9597    0.9051    0.9316       158\n",
      "           4     0.8171    0.6768    0.7403        99\n",
      "           5     0.9348    0.8600    0.8958       100\n",
      "           6     0.8413    0.9459    0.8906       185\n",
      "           7     0.8056    0.9062    0.8529        64\n",
      "           8     0.9540    0.9540    0.9540        87\n",
      "\n",
      "    accuracy                         0.8885       951\n",
      "   macro avg     0.8885    0.8835    0.8840       951\n",
      "weighted avg     0.8904    0.8885    0.8874       951\n",
      "\n",
      "\n",
      "Per-Class Accuracy:\n",
      "======================================================================\n",
      "0                   :  94.57% (92 samples)\n",
      "1                   :  84.15% (82 samples)\n",
      "2                   :  91.67% (84 samples)\n",
      "3                   :  90.51% (158 samples)\n",
      "4                   :  67.68% (99 samples)\n",
      "5                   :  86.00% (100 samples)\n",
      "6                   :  94.59% (185 samples)\n",
      "7                   :  90.62% (64 samples)\n",
      "8                   :  95.40% (87 samples)\n",
      "\n",
      "✓ Training complete!\n",
      "Best validation accuracy: 90.54%\n",
      "Final test accuracy: 88.85%\n"
     ]
    }
   ],
   "source": [
    "import numpy as np\n",
    "import torch\n",
    "import torch.nn as nn\n",
    "import torch.nn.functional as F\n",
    "import torch.optim as optim\n",
    "from torch.utils.data import Dataset, DataLoader\n",
    "from sklearn.preprocessing import LabelEncoder\n",
    "from sklearn.model_selection import train_test_split\n",
    "from sklearn.utils.class_weight import compute_class_weight\n",
    "import torchvision.transforms as transforms\n",
    "import torchvision.models as models\n",
    "import matplotlib.pyplot as plt\n",
    "import seaborn as sns\n",
    "from sklearn.metrics import confusion_matrix, classification_report\n",
    "from tqdm import tqdm\n",
    "import warnings\n",
    "warnings.filterwarnings('ignore')\n",
    "\n",
    "# ---------------------------\n",
    "# 0. Device\n",
    "# ---------------------------\n",
    "device = torch.device(\"cuda\" if torch.cuda.is_available() else \"cpu\")\n",
    "print(\"Using device:\", device)\n",
    "\n",
    "# ---------------------------\n",
    "# 1. Load data\n",
    "# ---------------------------\n",
    "image_array = np.load(\"images.npy\", allow_pickle=True)\n",
    "labels = np.load(\"labels.npy\", allow_pickle=True)\n",
    "\n",
    "# Encode labels\n",
    "encoder = LabelEncoder()\n",
    "y = encoder.fit_transform(labels)\n",
    "num_classes = len(np.unique(y))\n",
    "print(f\"Number of classes: {num_classes}\")\n",
    "print(f\"Classes: {encoder.classes_}\")\n",
    "print(f\"Class distribution: {np.bincount(y)}\")\n",
    "\n",
    "# Train/Val/Test split\n",
    "train_idx, test_idx = train_test_split(\n",
    "    np.arange(len(y)), test_size=0.2, random_state=42, stratify=y\n",
    ")\n",
    "train_idx, val_idx = train_test_split(\n",
    "    train_idx, test_size=0.15, random_state=42, stratify=y[train_idx]\n",
    ")\n",
    "\n",
    "print(f\"Train size: {len(train_idx)}, Val size: {len(val_idx)}, Test size: {len(test_idx)}\")\n",
    "\n",
    "# ---------------------------\n",
    "# 2. Dataset class\n",
    "# ---------------------------\n",
    "class WasteDataset(Dataset):\n",
    "    def __init__(self, images, labels, indices, transform=None):\n",
    "        self.images = images\n",
    "        self.labels = labels\n",
    "        self.indices = indices\n",
    "        self.transform = transform\n",
    "\n",
    "    def __len__(self):\n",
    "        return len(self.indices)\n",
    "\n",
    "    def __getitem__(self, idx):\n",
    "        i = self.indices[idx]\n",
    "        img = self.images[i].astype(np.uint8)\n",
    "        label = self.labels[i]\n",
    "        img = np.expand_dims(img, axis=-1)  # (H,W,1)\n",
    "        if self.transform:\n",
    "            img = self.transform(img)\n",
    "        return img, label\n",
    "\n",
    "# ---------------------------\n",
    "# 3. Enhanced Transforms\n",
    "# ---------------------------\n",
    "train_transform = transforms.Compose([\n",
    "    transforms.ToPILImage(),\n",
    "    transforms.Resize((256, 256)),\n",
    "    transforms.RandomCrop(224),\n",
    "    transforms.Grayscale(num_output_channels=3),  # Convert to RGB for pretrained models\n",
    "    transforms.RandomHorizontalFlip(),\n",
    "    transforms.RandomVerticalFlip(),\n",
    "    transforms.RandomRotation(30),\n",
    "    transforms.RandomAffine(degrees=0, translate=(0.1, 0.1), scale=(0.9, 1.1)),\n",
    "    transforms.ColorJitter(brightness=0.3, contrast=0.3, saturation=0.2),\n",
    "    transforms.ToTensor(),\n",
    "    transforms.Normalize(mean=[0.485, 0.456, 0.406], std=[0.229, 0.224, 0.225]),\n",
    "    transforms.RandomErasing(p=0.2)\n",
    "])\n",
    "\n",
    "val_transform = transforms.Compose([\n",
    "    transforms.ToPILImage(),\n",
    "    transforms.Resize((224, 224)),\n",
    "    transforms.Grayscale(num_output_channels=3),\n",
    "    transforms.ToTensor(),\n",
    "    transforms.Normalize(mean=[0.485, 0.456, 0.406], std=[0.229, 0.224, 0.225])\n",
    "])\n",
    "\n",
    "train_dataset = WasteDataset(image_array, y, train_idx, transform=train_transform)\n",
    "val_dataset = WasteDataset(image_array, y, val_idx, transform=val_transform)\n",
    "test_dataset = WasteDataset(image_array, y, test_idx, transform=val_transform)\n",
    "\n",
    "# Increase batch size and add workers\n",
    "train_loader = DataLoader(train_dataset, batch_size=16, shuffle=True, num_workers=0, pin_memory=True)\n",
    "val_loader = DataLoader(val_dataset, batch_size=16, num_workers=0, pin_memory=True)\n",
    "test_loader = DataLoader(test_dataset, batch_size=16, num_workers=0, pin_memory=True)\n",
    "\n",
    "# ---------------------------\n",
    "# 4. Model Selection\n",
    "# ---------------------------\n",
    "# Option 1: Custom Improved CNN\n",
    "class ImprovedCNN(nn.Module):\n",
    "    def __init__(self, num_classes, input_channels=3):\n",
    "        super(ImprovedCNN, self).__init__()\n",
    "        self.conv1 = nn.Conv2d(input_channels, 64, 3, padding=1)\n",
    "        self.bn1 = nn.BatchNorm2d(64)\n",
    "        self.conv2 = nn.Conv2d(64, 128, 3, padding=1)\n",
    "        self.bn2 = nn.BatchNorm2d(128)\n",
    "        self.conv3 = nn.Conv2d(128, 256, 3, padding=1)\n",
    "        self.bn3 = nn.BatchNorm2d(256)\n",
    "        self.conv4 = nn.Conv2d(256, 512, 3, padding=1)\n",
    "        self.bn4 = nn.BatchNorm2d(512)\n",
    "        self.conv5 = nn.Conv2d(512, 512, 3, padding=1)\n",
    "        self.bn5 = nn.BatchNorm2d(512)\n",
    "        \n",
    "        self.pool = nn.MaxPool2d(2, 2)\n",
    "        self.adapt_pool = nn.AdaptiveAvgPool2d((4, 4))\n",
    "        \n",
    "        self.fc1 = nn.Linear(512*4*4, 512)\n",
    "        self.dropout1 = nn.Dropout(0.5)\n",
    "        self.fc2 = nn.Linear(512, 256)\n",
    "        self.dropout2 = nn.Dropout(0.3)\n",
    "        self.fc3 = nn.Linear(256, num_classes)\n",
    "\n",
    "    def forward(self, x):\n",
    "        x = F.relu(self.bn1(self.conv1(x)))\n",
    "        x = self.pool(x)\n",
    "        x = F.relu(self.bn2(self.conv2(x)))\n",
    "        x = self.pool(x)\n",
    "        x = F.relu(self.bn3(self.conv3(x)))\n",
    "        x = self.pool(x)\n",
    "        x = F.relu(self.bn4(self.conv4(x)))\n",
    "        x = self.pool(x)\n",
    "        x = F.relu(self.bn5(self.conv5(x)))\n",
    "        x = self.pool(x)\n",
    "        x = self.adapt_pool(x)\n",
    "        x = x.view(x.size(0), -1)\n",
    "        x = F.relu(self.fc1(x))\n",
    "        x = self.dropout1(x)\n",
    "        x = F.relu(self.fc2(x))\n",
    "        x = self.dropout2(x)\n",
    "        x = self.fc3(x)\n",
    "        return x\n",
    "\n",
    "# Option 2: Transfer Learning with ResNet50 (RECOMMENDED)\n",
    "def create_resnet_model(num_classes, pretrained=True):\n",
    "    model = models.resnet50(pretrained=pretrained)\n",
    "    # Freeze early layers\n",
    "    for param in model.parameters():\n",
    "        param.requires_grad = False\n",
    "    \n",
    "    # Unfreeze last few layers for fine-tuning\n",
    "    for param in model.layer4.parameters():\n",
    "        param.requires_grad = True\n",
    "    for param in model.layer3.parameters():\n",
    "        param.requires_grad = True\n",
    "    \n",
    "    # Replace final layer\n",
    "    model.fc = nn.Sequential(\n",
    "        nn.Linear(model.fc.in_features, 512),\n",
    "        nn.ReLU(),\n",
    "        nn.Dropout(0.5),\n",
    "        nn.Linear(512, num_classes)\n",
    "    )\n",
    "    return model\n",
    "\n",
    "# Option 3: EfficientNet (Alternative)\n",
    "def create_efficientnet_model(num_classes, pretrained=True):\n",
    "    model = models.efficientnet_b0(pretrained=pretrained)\n",
    "    for param in model.parameters():\n",
    "        param.requires_grad = False\n",
    "    \n",
    "    # Unfreeze last layers\n",
    "    for param in model.features[-3:].parameters():\n",
    "        param.requires_grad = True\n",
    "    \n",
    "    model.classifier = nn.Sequential(\n",
    "        nn.Dropout(0.5),\n",
    "        nn.Linear(model.classifier[1].in_features, 512),\n",
    "        nn.ReLU(),\n",
    "        nn.Dropout(0.3),\n",
    "        nn.Linear(512, num_classes)\n",
    "    )\n",
    "    return model\n",
    "\n",
    "# Choose model (change here to try different models)\n",
    "USE_TRANSFER_LEARNING = True\n",
    "\n",
    "if USE_TRANSFER_LEARNING:\n",
    "    print(\"Using ResNet50 with Transfer Learning\")\n",
    "    model = create_resnet_model(num_classes, pretrained=True)\n",
    "else:\n",
    "    print(\"Using Custom Improved CNN\")\n",
    "    model = ImprovedCNN(num_classes, input_channels=3)\n",
    "\n",
    "model = model.to(device)\n",
    "print(f\"Model parameters: {sum(p.numel() for p in model.parameters() if p.requires_grad):,}\")\n",
    "\n",
    "# ---------------------------\n",
    "# 5. Label Smoothing Loss\n",
    "# ---------------------------\n",
    "class LabelSmoothingCrossEntropy(nn.Module):\n",
    "    def __init__(self, epsilon=0.1, weight=None):\n",
    "        super().__init__()\n",
    "        self.epsilon = epsilon\n",
    "        self.weight = weight\n",
    "    \n",
    "    def forward(self, output, target):\n",
    "        n_class = output.size(1)\n",
    "        log_preds = F.log_softmax(output, dim=1)\n",
    "        loss = -log_preds.sum(dim=1).mean()\n",
    "        nll = F.nll_loss(log_preds, target, weight=self.weight)\n",
    "        return (1 - self.epsilon) * nll + self.epsilon * loss / n_class\n",
    "\n",
    "# Compute class weights\n",
    "class_weights = compute_class_weight(\n",
    "    class_weight=\"balanced\",\n",
    "    classes=np.unique(y[train_idx]),\n",
    "    y=y[train_idx]\n",
    ")\n",
    "class_weights = torch.tensor(class_weights, dtype=torch.float32).to(device)\n",
    "print(f\"Class weights: {class_weights}\")\n",
    "\n",
    "# Use label smoothing\n",
    "criterion = LabelSmoothingCrossEntropy(epsilon=0.1, weight=class_weights)\n",
    "\n",
    "# ---------------------------\n",
    "# 6. Optimizer with different learning rates\n",
    "# ---------------------------\n",
    "if USE_TRANSFER_LEARNING:\n",
    "    # Different learning rates for different layers\n",
    "    optimizer = optim.Adam([\n",
    "        {'params': model.fc.parameters(), 'lr': 0.001},\n",
    "        {'params': model.layer4.parameters(), 'lr': 0.0001},\n",
    "        {'params': model.layer3.parameters(), 'lr': 0.00005}\n",
    "    ], weight_decay=1e-4)\n",
    "else:\n",
    "    optimizer = optim.Adam(model.parameters(), lr=0.001, weight_decay=1e-4)\n",
    "\n",
    "# Learning rate scheduler\n",
    "scheduler = optim.lr_scheduler.ReduceLROnPlateau(\n",
    "    optimizer, mode='max', factor=0.5, patience=3, min_lr=1e-7\n",
    ")\n",
    "\n",
    "# Cosine annealing (alternative scheduler)\n",
    "# scheduler = optim.lr_scheduler.CosineAnnealingLR(optimizer, T_max=50, eta_min=1e-6)\n",
    "\n",
    "# ---------------------------\n",
    "# 7. Training loop with all improvements\n",
    "# ---------------------------\n",
    "num_epochs = 50\n",
    "best_val_acc = 0\n",
    "patience = 10\n",
    "trigger_times = 0\n",
    "train_losses, val_losses = [], []\n",
    "train_accs, val_accs = [], []\n",
    "\n",
    "print(\"\\nStarting training...\")\n",
    "for epoch in range(num_epochs):\n",
    "    # Training\n",
    "    model.train()\n",
    "    running_loss, correct, total = 0, 0, 0\n",
    "    loop = tqdm(enumerate(train_loader), total=len(train_loader), \n",
    "                desc=f\"Epoch {epoch+1}/{num_epochs} [Train]\")\n",
    "    \n",
    "    for i, (X_batch, y_batch) in loop:\n",
    "        X_batch, y_batch = X_batch.to(device), y_batch.to(device)\n",
    "        optimizer.zero_grad()\n",
    "        outputs = model(X_batch)\n",
    "        loss = criterion(outputs, y_batch)\n",
    "        loss.backward()\n",
    "        \n",
    "        # Gradient clipping\n",
    "        torch.nn.utils.clip_grad_norm_(model.parameters(), max_norm=1.0)\n",
    "        \n",
    "        optimizer.step()\n",
    "\n",
    "        running_loss += loss.item() * X_batch.size(0)\n",
    "        _, predicted = torch.max(outputs, 1)\n",
    "        correct += (predicted == y_batch).sum().item()\n",
    "        total += y_batch.size(0)\n",
    "\n",
    "        loop.set_postfix(loss=running_loss/total, acc=correct/total)\n",
    "\n",
    "    train_loss = running_loss / total\n",
    "    train_acc = correct / total\n",
    "    train_losses.append(train_loss)\n",
    "    train_accs.append(train_acc)\n",
    "\n",
    "    # Validation\n",
    "    model.eval()\n",
    "    val_loss, correct, total = 0, 0, 0\n",
    "    loop_val = tqdm(val_loader, desc=f\"Epoch {epoch+1}/{num_epochs} [Val]\")\n",
    "    \n",
    "    with torch.no_grad():\n",
    "        for X_batch, y_batch in loop_val:\n",
    "            X_batch, y_batch = X_batch.to(device), y_batch.to(device)\n",
    "            outputs = model(X_batch)\n",
    "            loss = criterion(outputs, y_batch)\n",
    "            val_loss += loss.item() * X_batch.size(0)\n",
    "            _, predicted = torch.max(outputs, 1)\n",
    "            correct += (predicted == y_batch).sum().item()\n",
    "            total += y_batch.size(0)\n",
    "            loop_val.set_postfix(loss=val_loss/total, acc=correct/total)\n",
    "\n",
    "    val_loss = val_loss / total\n",
    "    val_acc = correct / total\n",
    "    val_losses.append(val_loss)\n",
    "    val_accs.append(val_acc)\n",
    "\n",
    "    print(f\"Epoch {epoch+1}/{num_epochs} | Train Loss: {train_loss:.4f} | Train Acc: {train_acc:.4f} | Val Loss: {val_loss:.4f} | Val Acc: {val_acc:.4f}\")\n",
    "\n",
    "    # Learning rate scheduling\n",
    "    scheduler.step(val_acc)\n",
    "    \n",
    "    # Early stopping\n",
    "    if val_acc > best_val_acc:\n",
    "        best_val_acc = val_acc\n",
    "        trigger_times = 0\n",
    "        torch.save({\n",
    "            'epoch': epoch,\n",
    "            'model_state_dict': model.state_dict(),\n",
    "            'optimizer_state_dict': optimizer.state_dict(),\n",
    "            'val_acc': val_acc,\n",
    "        }, \"best_model.pth\")\n",
    "        print(f\"✓ Best model saved with val_acc: {val_acc:.4f}\")\n",
    "    else:\n",
    "        trigger_times += 1\n",
    "        if trigger_times >= patience:\n",
    "            print(f\"Early stopping triggered at epoch {epoch+1}!\")\n",
    "            break\n",
    "\n",
    "# ---------------------------\n",
    "# 8. Plot training history\n",
    "# ---------------------------\n",
    "plt.figure(figsize=(14, 5))\n",
    "\n",
    "plt.subplot(1, 2, 1)\n",
    "plt.plot(train_losses, label='Train Loss')\n",
    "plt.plot(val_losses, label='Val Loss')\n",
    "plt.xlabel('Epoch')\n",
    "plt.ylabel('Loss')\n",
    "plt.title('Training and Validation Loss')\n",
    "plt.legend()\n",
    "plt.grid(True)\n",
    "\n",
    "plt.subplot(1, 2, 2)\n",
    "plt.plot(train_accs, label='Train Accuracy')\n",
    "plt.plot(val_accs, label='Val Accuracy')\n",
    "plt.xlabel('Epoch')\n",
    "plt.ylabel('Accuracy')\n",
    "plt.title('Training and Validation Accuracy')\n",
    "plt.legend()\n",
    "plt.grid(True)\n",
    "\n",
    "plt.tight_layout()\n",
    "plt.savefig('training_history.png', dpi=300, bbox_inches='tight')\n",
    "plt.show()\n",
    "\n",
    "# ---------------------------\n",
    "# 9. Test evaluation\n",
    "# ---------------------------\n",
    "checkpoint = torch.load(\"best_model.pth\")\n",
    "model.load_state_dict(checkpoint['model_state_dict'])\n",
    "print(f\"\\nLoaded best model from epoch {checkpoint['epoch']+1}\")\n",
    "\n",
    "model.eval()\n",
    "y_true, y_pred, y_probs = [], [], []\n",
    "\n",
    "with torch.no_grad():\n",
    "    loop_test = tqdm(test_loader, desc=\"Testing\")\n",
    "    for X_batch, y_batch in loop_test:\n",
    "        X_batch, y_batch = X_batch.to(device), y_batch.to(device)\n",
    "        outputs = model(X_batch)\n",
    "        probs = F.softmax(outputs, dim=1)\n",
    "        _, predicted = torch.max(outputs, 1)\n",
    "        y_true.extend(y_batch.cpu().numpy())\n",
    "        y_pred.extend(predicted.cpu().numpy())\n",
    "        y_probs.extend(probs.cpu().numpy())\n",
    "\n",
    "test_acc = np.mean(np.array(y_true) == np.array(y_pred))\n",
    "print(f\"\\n{'='*50}\")\n",
    "print(f\"Test Accuracy: {test_acc*100:.2f}%\")\n",
    "print(f\"{'='*50}\\n\")\n",
    "\n",
    "# ---------------------------\n",
    "# 10. Confusion matrix\n",
    "# ---------------------------\n",
    "cm = confusion_matrix(y_true, y_pred)\n",
    "plt.figure(figsize=(12, 10))\n",
    "sns.heatmap(cm, annot=True, fmt=\"d\", cmap='Blues',\n",
    "            xticklabels=encoder.classes_, yticklabels=encoder.classes_)\n",
    "plt.xlabel(\"Predicted\", fontsize=12)\n",
    "plt.ylabel(\"True\", fontsize=12)\n",
    "plt.title(f\"Confusion Matrix (Test Accuracy: {test_acc*100:.2f}%)\", fontsize=14)\n",
    "plt.xticks(rotation=45, ha='right')\n",
    "plt.yticks(rotation=0)\n",
    "plt.tight_layout()\n",
    "plt.savefig('confusion_matrix.png', dpi=300, bbox_inches='tight')\n",
    "plt.show()\n",
    "\n",
    "# ---------------------------\n",
    "# 11. Classification report\n",
    "# ---------------------------\n",
    "print(\"\\nClassification Report:\")\n",
    "print(\"=\"*70)\n",
    "print(classification_report(y_true, y_pred, target_names=[str(c) for c in encoder.classes_], digits=4))\n",
    "\n",
    "# ---------------------------\n",
    "# 12. Per-class accuracy\n",
    "# ---------------------------\n",
    "print(\"\\nPer-Class Accuracy:\")\n",
    "print(\"=\"*70)\n",
    "for i, class_name in enumerate(encoder.classes_):\n",
    "    class_mask = np.array(y_true) == i\n",
    "    if class_mask.sum() > 0:\n",
    "        class_acc = np.mean(np.array(y_pred)[class_mask] == i)\n",
    "        print(f\"{str(class_name):20s}: {class_acc*100:6.2f}% ({class_mask.sum()} samples)\")\n",
    "\n",
    "print(\"\\n✓ Training complete!\")\n",
    "print(f\"Best validation accuracy: {best_val_acc*100:.2f}%\")\n",
    "print(f\"Final test accuracy: {test_acc*100:.2f}%\")"
   ]
  },
  {
   "cell_type": "code",
   "execution_count": 5,
   "id": "6b67cb07",
   "metadata": {},
   "outputs": [
    {
     "name": "stdout",
     "output_type": "stream",
     "text": [
      "Using device: cuda\n",
      "Number of classes: 9\n",
      "Classes: [0 1 2 3 4 5 6 7 8]\n",
      "Class distribution: [461 411 420 790 495 500 921 318 436]\n",
      "Train size: 3230, Val size: 571, Test size: 951\n",
      "Using Custom Improved CNN\n",
      "Model parameters: 8,242,185\n",
      "Class weights: tensor([1.1430, 1.2817, 1.2593, 0.6683, 1.0681, 1.0556, 0.5742, 1.6615, 1.2084],\n",
      "       device='cuda:0')\n",
      "\n",
      "Starting training...\n"
     ]
    },
    {
     "name": "stderr",
     "output_type": "stream",
     "text": [
      "Epoch 1/50 [Train]: 100%|██████████| 202/202 [00:22<00:00,  9.13it/s, acc=0.106, loss=2.34]\n",
      "Epoch 1/50 [Val]: 100%|██████████| 36/36 [00:01<00:00, 22.61it/s, acc=0.0858, loss=2.3] \n"
     ]
    },
    {
     "name": "stdout",
     "output_type": "stream",
     "text": [
      "Epoch 1/50 | Train Loss: 2.3357 | Train Acc: 0.1056 | Val Loss: 2.3017 | Val Acc: 0.0858\n",
      "✓ Best model saved with val_acc: 0.0858\n"
     ]
    },
    {
     "name": "stderr",
     "output_type": "stream",
     "text": [
      "Epoch 2/50 [Train]: 100%|██████████| 202/202 [00:21<00:00,  9.33it/s, acc=0.113, loss=2.19] \n",
      "Epoch 2/50 [Val]: 100%|██████████| 36/36 [00:01<00:00, 22.65it/s, acc=0.109, loss=2.11]\n"
     ]
    },
    {
     "name": "stdout",
     "output_type": "stream",
     "text": [
      "Epoch 2/50 | Train Loss: 2.1874 | Train Acc: 0.1133 | Val Loss: 2.1107 | Val Acc: 0.1086\n",
      "✓ Best model saved with val_acc: 0.1086\n"
     ]
    },
    {
     "name": "stderr",
     "output_type": "stream",
     "text": [
      "Epoch 3/50 [Train]: 100%|██████████| 202/202 [00:21<00:00,  9.27it/s, acc=0.145, loss=2.15]\n",
      "Epoch 3/50 [Val]: 100%|██████████| 36/36 [00:01<00:00, 23.26it/s, acc=0.17, loss=2.08] \n"
     ]
    },
    {
     "name": "stdout",
     "output_type": "stream",
     "text": [
      "Epoch 3/50 | Train Loss: 2.1525 | Train Acc: 0.1449 | Val Loss: 2.0773 | Val Acc: 0.1699\n",
      "✓ Best model saved with val_acc: 0.1699\n"
     ]
    },
    {
     "name": "stderr",
     "output_type": "stream",
     "text": [
      "Epoch 4/50 [Train]: 100%|██████████| 202/202 [00:21<00:00,  9.25it/s, acc=0.145, loss=2.18]\n",
      "Epoch 4/50 [Val]: 100%|██████████| 36/36 [00:01<00:00, 23.40it/s, acc=0.0981, loss=2.21]\n"
     ]
    },
    {
     "name": "stdout",
     "output_type": "stream",
     "text": [
      "Epoch 4/50 | Train Loss: 2.1802 | Train Acc: 0.1446 | Val Loss: 2.2144 | Val Acc: 0.0981\n"
     ]
    },
    {
     "name": "stderr",
     "output_type": "stream",
     "text": [
      "Epoch 5/50 [Train]: 100%|██████████| 202/202 [00:21<00:00,  9.32it/s, acc=0.0966, loss=2.19]\n",
      "Epoch 5/50 [Val]: 100%|██████████| 36/36 [00:01<00:00, 23.08it/s, acc=0.133, loss=2.13]\n"
     ]
    },
    {
     "name": "stdout",
     "output_type": "stream",
     "text": [
      "Epoch 5/50 | Train Loss: 2.1866 | Train Acc: 0.0966 | Val Loss: 2.1313 | Val Acc: 0.1331\n"
     ]
    },
    {
     "name": "stderr",
     "output_type": "stream",
     "text": [
      "Epoch 6/50 [Train]: 100%|██████████| 202/202 [00:21<00:00,  9.28it/s, acc=0.149, loss=2.15]\n",
      "Epoch 6/50 [Val]: 100%|██████████| 36/36 [00:01<00:00, 22.75it/s, acc=0.0963, loss=2.14]\n"
     ]
    },
    {
     "name": "stdout",
     "output_type": "stream",
     "text": [
      "Epoch 6/50 | Train Loss: 2.1519 | Train Acc: 0.1486 | Val Loss: 2.1419 | Val Acc: 0.0963\n"
     ]
    },
    {
     "name": "stderr",
     "output_type": "stream",
     "text": [
      "Epoch 7/50 [Train]: 100%|██████████| 202/202 [00:21<00:00,  9.28it/s, acc=0.143, loss=2.13]\n",
      "Epoch 7/50 [Val]: 100%|██████████| 36/36 [00:01<00:00, 22.36it/s, acc=0.243, loss=2.04]\n"
     ]
    },
    {
     "name": "stdout",
     "output_type": "stream",
     "text": [
      "Epoch 7/50 | Train Loss: 2.1296 | Train Acc: 0.1427 | Val Loss: 2.0413 | Val Acc: 0.2434\n",
      "✓ Best model saved with val_acc: 0.2434\n"
     ]
    },
    {
     "name": "stderr",
     "output_type": "stream",
     "text": [
      "Epoch 8/50 [Train]: 100%|██████████| 202/202 [00:21<00:00,  9.30it/s, acc=0.153, loss=2.11]\n",
      "Epoch 8/50 [Val]: 100%|██████████| 36/36 [00:01<00:00, 23.08it/s, acc=0.159, loss=2.08]\n"
     ]
    },
    {
     "name": "stdout",
     "output_type": "stream",
     "text": [
      "Epoch 8/50 | Train Loss: 2.1106 | Train Acc: 0.1526 | Val Loss: 2.0798 | Val Acc: 0.1594\n"
     ]
    },
    {
     "name": "stderr",
     "output_type": "stream",
     "text": [
      "Epoch 9/50 [Train]: 100%|██████████| 202/202 [00:21<00:00,  9.19it/s, acc=0.193, loss=2.1] \n",
      "Epoch 9/50 [Val]: 100%|██████████| 36/36 [00:01<00:00, 23.41it/s, acc=0.158, loss=2.06]\n"
     ]
    },
    {
     "name": "stdout",
     "output_type": "stream",
     "text": [
      "Epoch 9/50 | Train Loss: 2.0956 | Train Acc: 0.1935 | Val Loss: 2.0620 | Val Acc: 0.1576\n"
     ]
    },
    {
     "name": "stderr",
     "output_type": "stream",
     "text": [
      "Epoch 10/50 [Train]: 100%|██████████| 202/202 [00:21<00:00,  9.30it/s, acc=0.202, loss=2.09]\n",
      "Epoch 10/50 [Val]: 100%|██████████| 36/36 [00:01<00:00, 22.62it/s, acc=0.228, loss=2.08]\n"
     ]
    },
    {
     "name": "stdout",
     "output_type": "stream",
     "text": [
      "Epoch 10/50 | Train Loss: 2.0884 | Train Acc: 0.2015 | Val Loss: 2.0828 | Val Acc: 0.2277\n"
     ]
    },
    {
     "name": "stderr",
     "output_type": "stream",
     "text": [
      "Epoch 11/50 [Train]: 100%|██████████| 202/202 [00:48<00:00,  4.16it/s, acc=0.182, loss=2.1] \n",
      "Epoch 11/50 [Val]: 100%|██████████| 36/36 [00:04<00:00,  8.09it/s, acc=0.219, loss=2.01]\n"
     ]
    },
    {
     "name": "stdout",
     "output_type": "stream",
     "text": [
      "Epoch 11/50 | Train Loss: 2.1035 | Train Acc: 0.1817 | Val Loss: 2.0130 | Val Acc: 0.2189\n"
     ]
    },
    {
     "name": "stderr",
     "output_type": "stream",
     "text": [
      "Epoch 12/50 [Train]: 100%|██████████| 202/202 [00:51<00:00,  3.90it/s, acc=0.201, loss=2.04]\n",
      "Epoch 12/50 [Val]: 100%|██████████| 36/36 [00:04<00:00,  7.34it/s, acc=0.24, loss=1.95] \n"
     ]
    },
    {
     "name": "stdout",
     "output_type": "stream",
     "text": [
      "Epoch 12/50 | Train Loss: 2.0392 | Train Acc: 0.2009 | Val Loss: 1.9537 | Val Acc: 0.2399\n"
     ]
    },
    {
     "name": "stderr",
     "output_type": "stream",
     "text": [
      "Epoch 13/50 [Train]: 100%|██████████| 202/202 [00:53<00:00,  3.77it/s, acc=0.206, loss=2.01]\n",
      "Epoch 13/50 [Val]: 100%|██████████| 36/36 [00:04<00:00,  7.94it/s, acc=0.291, loss=1.9] \n"
     ]
    },
    {
     "name": "stdout",
     "output_type": "stream",
     "text": [
      "Epoch 13/50 | Train Loss: 2.0098 | Train Acc: 0.2062 | Val Loss: 1.9026 | Val Acc: 0.2907\n",
      "✓ Best model saved with val_acc: 0.2907\n"
     ]
    },
    {
     "name": "stderr",
     "output_type": "stream",
     "text": [
      "Epoch 14/50 [Train]: 100%|██████████| 202/202 [00:37<00:00,  5.42it/s, acc=0.227, loss=2]  \n",
      "Epoch 14/50 [Val]: 100%|██████████| 36/36 [00:01<00:00, 22.82it/s, acc=0.278, loss=1.96]\n"
     ]
    },
    {
     "name": "stdout",
     "output_type": "stream",
     "text": [
      "Epoch 14/50 | Train Loss: 1.9996 | Train Acc: 0.2266 | Val Loss: 1.9553 | Val Acc: 0.2785\n"
     ]
    },
    {
     "name": "stderr",
     "output_type": "stream",
     "text": [
      "Epoch 15/50 [Train]: 100%|██████████| 202/202 [00:21<00:00,  9.38it/s, acc=0.235, loss=1.97]\n",
      "Epoch 15/50 [Val]: 100%|██████████| 36/36 [00:01<00:00, 23.35it/s, acc=0.312, loss=1.92]\n"
     ]
    },
    {
     "name": "stdout",
     "output_type": "stream",
     "text": [
      "Epoch 15/50 | Train Loss: 1.9708 | Train Acc: 0.2347 | Val Loss: 1.9173 | Val Acc: 0.3117\n",
      "✓ Best model saved with val_acc: 0.3117\n"
     ]
    },
    {
     "name": "stderr",
     "output_type": "stream",
     "text": [
      "Epoch 16/50 [Train]: 100%|██████████| 202/202 [00:21<00:00,  9.33it/s, acc=0.244, loss=1.97]\n",
      "Epoch 16/50 [Val]: 100%|██████████| 36/36 [00:01<00:00, 23.43it/s, acc=0.215, loss=2.05]\n"
     ]
    },
    {
     "name": "stdout",
     "output_type": "stream",
     "text": [
      "Epoch 16/50 | Train Loss: 1.9702 | Train Acc: 0.2440 | Val Loss: 2.0497 | Val Acc: 0.2154\n"
     ]
    },
    {
     "name": "stderr",
     "output_type": "stream",
     "text": [
      "Epoch 17/50 [Train]: 100%|██████████| 202/202 [00:21<00:00,  9.29it/s, acc=0.249, loss=1.97]\n",
      "Epoch 17/50 [Val]: 100%|██████████| 36/36 [00:01<00:00, 22.85it/s, acc=0.329, loss=1.92]\n"
     ]
    },
    {
     "name": "stdout",
     "output_type": "stream",
     "text": [
      "Epoch 17/50 | Train Loss: 1.9677 | Train Acc: 0.2486 | Val Loss: 1.9214 | Val Acc: 0.3292\n",
      "✓ Best model saved with val_acc: 0.3292\n"
     ]
    },
    {
     "name": "stderr",
     "output_type": "stream",
     "text": [
      "Epoch 18/50 [Train]: 100%|██████████| 202/202 [00:21<00:00,  9.29it/s, acc=0.26, loss=1.95] \n",
      "Epoch 18/50 [Val]: 100%|██████████| 36/36 [00:01<00:00, 23.40it/s, acc=0.31, loss=1.9]  \n"
     ]
    },
    {
     "name": "stdout",
     "output_type": "stream",
     "text": [
      "Epoch 18/50 | Train Loss: 1.9527 | Train Acc: 0.2604 | Val Loss: 1.9023 | Val Acc: 0.3100\n"
     ]
    },
    {
     "name": "stderr",
     "output_type": "stream",
     "text": [
      "Epoch 19/50 [Train]: 100%|██████████| 202/202 [00:21<00:00,  9.31it/s, acc=0.275, loss=1.91]\n",
      "Epoch 19/50 [Val]: 100%|██████████| 36/36 [00:01<00:00, 23.29it/s, acc=0.35, loss=1.86] \n"
     ]
    },
    {
     "name": "stdout",
     "output_type": "stream",
     "text": [
      "Epoch 19/50 | Train Loss: 1.9124 | Train Acc: 0.2746 | Val Loss: 1.8628 | Val Acc: 0.3503\n",
      "✓ Best model saved with val_acc: 0.3503\n"
     ]
    },
    {
     "name": "stderr",
     "output_type": "stream",
     "text": [
      "Epoch 20/50 [Train]: 100%|██████████| 202/202 [00:21<00:00,  9.30it/s, acc=0.28, loss=1.93] \n",
      "Epoch 20/50 [Val]: 100%|██████████| 36/36 [00:01<00:00, 23.42it/s, acc=0.38, loss=1.85] \n"
     ]
    },
    {
     "name": "stdout",
     "output_type": "stream",
     "text": [
      "Epoch 20/50 | Train Loss: 1.9271 | Train Acc: 0.2805 | Val Loss: 1.8454 | Val Acc: 0.3800\n",
      "✓ Best model saved with val_acc: 0.3800\n"
     ]
    },
    {
     "name": "stderr",
     "output_type": "stream",
     "text": [
      "Epoch 21/50 [Train]: 100%|██████████| 202/202 [00:21<00:00,  9.34it/s, acc=0.286, loss=1.91]\n",
      "Epoch 21/50 [Val]: 100%|██████████| 36/36 [00:01<00:00, 22.62it/s, acc=0.352, loss=1.76]\n"
     ]
    },
    {
     "name": "stdout",
     "output_type": "stream",
     "text": [
      "Epoch 21/50 | Train Loss: 1.9087 | Train Acc: 0.2864 | Val Loss: 1.7637 | Val Acc: 0.3520\n"
     ]
    },
    {
     "name": "stderr",
     "output_type": "stream",
     "text": [
      "Epoch 22/50 [Train]: 100%|██████████| 202/202 [00:21<00:00,  9.25it/s, acc=0.276, loss=1.9] \n",
      "Epoch 22/50 [Val]: 100%|██████████| 36/36 [00:01<00:00, 19.90it/s, acc=0.352, loss=1.81]\n"
     ]
    },
    {
     "name": "stdout",
     "output_type": "stream",
     "text": [
      "Epoch 22/50 | Train Loss: 1.9007 | Train Acc: 0.2755 | Val Loss: 1.8080 | Val Acc: 0.3520\n"
     ]
    },
    {
     "name": "stderr",
     "output_type": "stream",
     "text": [
      "Epoch 23/50 [Train]: 100%|██████████| 202/202 [00:21<00:00,  9.22it/s, acc=0.285, loss=1.9] \n",
      "Epoch 23/50 [Val]: 100%|██████████| 36/36 [00:01<00:00, 23.14it/s, acc=0.287, loss=1.95]\n"
     ]
    },
    {
     "name": "stdout",
     "output_type": "stream",
     "text": [
      "Epoch 23/50 | Train Loss: 1.8983 | Train Acc: 0.2854 | Val Loss: 1.9518 | Val Acc: 0.2872\n"
     ]
    },
    {
     "name": "stderr",
     "output_type": "stream",
     "text": [
      "Epoch 24/50 [Train]: 100%|██████████| 202/202 [00:21<00:00,  9.34it/s, acc=0.292, loss=1.89]\n",
      "Epoch 24/50 [Val]: 100%|██████████| 36/36 [00:01<00:00, 23.58it/s, acc=0.254, loss=2.01]\n"
     ]
    },
    {
     "name": "stdout",
     "output_type": "stream",
     "text": [
      "Epoch 24/50 | Train Loss: 1.8857 | Train Acc: 0.2920 | Val Loss: 2.0072 | Val Acc: 0.2539\n"
     ]
    },
    {
     "name": "stderr",
     "output_type": "stream",
     "text": [
      "Epoch 25/50 [Train]: 100%|██████████| 202/202 [00:21<00:00,  9.34it/s, acc=0.319, loss=1.86]\n",
      "Epoch 25/50 [Val]: 100%|██████████| 36/36 [00:01<00:00, 23.21it/s, acc=0.361, loss=1.75]\n"
     ]
    },
    {
     "name": "stdout",
     "output_type": "stream",
     "text": [
      "Epoch 25/50 | Train Loss: 1.8563 | Train Acc: 0.3192 | Val Loss: 1.7487 | Val Acc: 0.3608\n"
     ]
    },
    {
     "name": "stderr",
     "output_type": "stream",
     "text": [
      "Epoch 26/50 [Train]: 100%|██████████| 202/202 [00:21<00:00,  9.38it/s, acc=0.317, loss=1.83]\n",
      "Epoch 26/50 [Val]: 100%|██████████| 36/36 [00:01<00:00, 22.42it/s, acc=0.436, loss=1.72]\n"
     ]
    },
    {
     "name": "stdout",
     "output_type": "stream",
     "text": [
      "Epoch 26/50 | Train Loss: 1.8256 | Train Acc: 0.3173 | Val Loss: 1.7179 | Val Acc: 0.4361\n",
      "✓ Best model saved with val_acc: 0.4361\n"
     ]
    },
    {
     "name": "stderr",
     "output_type": "stream",
     "text": [
      "Epoch 27/50 [Train]: 100%|██████████| 202/202 [00:21<00:00,  9.28it/s, acc=0.33, loss=1.84] \n",
      "Epoch 27/50 [Val]: 100%|██████████| 36/36 [00:01<00:00, 22.76it/s, acc=0.385, loss=1.8] \n"
     ]
    },
    {
     "name": "stdout",
     "output_type": "stream",
     "text": [
      "Epoch 27/50 | Train Loss: 1.8383 | Train Acc: 0.3303 | Val Loss: 1.8015 | Val Acc: 0.3853\n"
     ]
    },
    {
     "name": "stderr",
     "output_type": "stream",
     "text": [
      "Epoch 28/50 [Train]: 100%|██████████| 202/202 [00:21<00:00,  9.32it/s, acc=0.333, loss=1.81]\n",
      "Epoch 28/50 [Val]: 100%|██████████| 36/36 [00:01<00:00, 23.41it/s, acc=0.412, loss=1.68]\n"
     ]
    },
    {
     "name": "stdout",
     "output_type": "stream",
     "text": [
      "Epoch 28/50 | Train Loss: 1.8136 | Train Acc: 0.3328 | Val Loss: 1.6816 | Val Acc: 0.4116\n"
     ]
    },
    {
     "name": "stderr",
     "output_type": "stream",
     "text": [
      "Epoch 29/50 [Train]: 100%|██████████| 202/202 [00:21<00:00,  9.32it/s, acc=0.339, loss=1.8] \n",
      "Epoch 29/50 [Val]: 100%|██████████| 36/36 [00:01<00:00, 22.74it/s, acc=0.429, loss=1.65]\n"
     ]
    },
    {
     "name": "stdout",
     "output_type": "stream",
     "text": [
      "Epoch 29/50 | Train Loss: 1.8017 | Train Acc: 0.3387 | Val Loss: 1.6527 | Val Acc: 0.4291\n"
     ]
    },
    {
     "name": "stderr",
     "output_type": "stream",
     "text": [
      "Epoch 30/50 [Train]: 100%|██████████| 202/202 [00:21<00:00,  9.25it/s, acc=0.338, loss=1.81]\n",
      "Epoch 30/50 [Val]: 100%|██████████| 36/36 [00:01<00:00, 22.78it/s, acc=0.45, loss=1.66] \n"
     ]
    },
    {
     "name": "stdout",
     "output_type": "stream",
     "text": [
      "Epoch 30/50 | Train Loss: 1.8068 | Train Acc: 0.3384 | Val Loss: 1.6622 | Val Acc: 0.4501\n",
      "✓ Best model saved with val_acc: 0.4501\n"
     ]
    },
    {
     "name": "stderr",
     "output_type": "stream",
     "text": [
      "Epoch 31/50 [Train]: 100%|██████████| 202/202 [00:21<00:00,  9.24it/s, acc=0.344, loss=1.79]\n",
      "Epoch 31/50 [Val]: 100%|██████████| 36/36 [00:01<00:00, 22.91it/s, acc=0.45, loss=1.66] \n"
     ]
    },
    {
     "name": "stdout",
     "output_type": "stream",
     "text": [
      "Epoch 31/50 | Train Loss: 1.7947 | Train Acc: 0.3440 | Val Loss: 1.6561 | Val Acc: 0.4501\n"
     ]
    },
    {
     "name": "stderr",
     "output_type": "stream",
     "text": [
      "Epoch 32/50 [Train]: 100%|██████████| 202/202 [00:21<00:00,  9.30it/s, acc=0.354, loss=1.79]\n",
      "Epoch 32/50 [Val]: 100%|██████████| 36/36 [00:01<00:00, 23.18it/s, acc=0.454, loss=1.65]\n"
     ]
    },
    {
     "name": "stdout",
     "output_type": "stream",
     "text": [
      "Epoch 32/50 | Train Loss: 1.7851 | Train Acc: 0.3539 | Val Loss: 1.6474 | Val Acc: 0.4536\n",
      "✓ Best model saved with val_acc: 0.4536\n"
     ]
    },
    {
     "name": "stderr",
     "output_type": "stream",
     "text": [
      "Epoch 33/50 [Train]: 100%|██████████| 202/202 [00:21<00:00,  9.25it/s, acc=0.353, loss=1.78]\n",
      "Epoch 33/50 [Val]: 100%|██████████| 36/36 [00:01<00:00, 22.75it/s, acc=0.401, loss=1.64]\n"
     ]
    },
    {
     "name": "stdout",
     "output_type": "stream",
     "text": [
      "Epoch 33/50 | Train Loss: 1.7762 | Train Acc: 0.3526 | Val Loss: 1.6413 | Val Acc: 0.4011\n"
     ]
    },
    {
     "name": "stderr",
     "output_type": "stream",
     "text": [
      "Epoch 34/50 [Train]: 100%|██████████| 202/202 [00:21<00:00,  9.31it/s, acc=0.366, loss=1.76]\n",
      "Epoch 34/50 [Val]: 100%|██████████| 36/36 [00:01<00:00, 23.01it/s, acc=0.406, loss=1.69]\n"
     ]
    },
    {
     "name": "stdout",
     "output_type": "stream",
     "text": [
      "Epoch 34/50 | Train Loss: 1.7583 | Train Acc: 0.3663 | Val Loss: 1.6854 | Val Acc: 0.4063\n"
     ]
    },
    {
     "name": "stderr",
     "output_type": "stream",
     "text": [
      "Epoch 35/50 [Train]: 100%|██████████| 202/202 [00:21<00:00,  9.31it/s, acc=0.352, loss=1.78]\n",
      "Epoch 35/50 [Val]: 100%|██████████| 36/36 [00:01<00:00, 21.97it/s, acc=0.426, loss=1.71]\n"
     ]
    },
    {
     "name": "stdout",
     "output_type": "stream",
     "text": [
      "Epoch 35/50 | Train Loss: 1.7785 | Train Acc: 0.3523 | Val Loss: 1.7063 | Val Acc: 0.4256\n"
     ]
    },
    {
     "name": "stderr",
     "output_type": "stream",
     "text": [
      "Epoch 36/50 [Train]: 100%|██████████| 202/202 [00:21<00:00,  9.29it/s, acc=0.371, loss=1.76]\n",
      "Epoch 36/50 [Val]: 100%|██████████| 36/36 [00:01<00:00, 23.30it/s, acc=0.466, loss=1.63]\n"
     ]
    },
    {
     "name": "stdout",
     "output_type": "stream",
     "text": [
      "Epoch 36/50 | Train Loss: 1.7646 | Train Acc: 0.3709 | Val Loss: 1.6316 | Val Acc: 0.4658\n",
      "✓ Best model saved with val_acc: 0.4658\n"
     ]
    },
    {
     "name": "stderr",
     "output_type": "stream",
     "text": [
      "Epoch 37/50 [Train]: 100%|██████████| 202/202 [00:21<00:00,  9.27it/s, acc=0.367, loss=1.79]\n",
      "Epoch 37/50 [Val]: 100%|██████████| 36/36 [00:01<00:00, 23.24it/s, acc=0.431, loss=1.65]\n"
     ]
    },
    {
     "name": "stdout",
     "output_type": "stream",
     "text": [
      "Epoch 37/50 | Train Loss: 1.7868 | Train Acc: 0.3666 | Val Loss: 1.6510 | Val Acc: 0.4308\n"
     ]
    },
    {
     "name": "stderr",
     "output_type": "stream",
     "text": [
      "Epoch 38/50 [Train]: 100%|██████████| 202/202 [00:21<00:00,  9.34it/s, acc=0.38, loss=1.76] \n",
      "Epoch 38/50 [Val]: 100%|██████████| 36/36 [00:01<00:00, 23.09it/s, acc=0.454, loss=1.66]\n"
     ]
    },
    {
     "name": "stdout",
     "output_type": "stream",
     "text": [
      "Epoch 38/50 | Train Loss: 1.7562 | Train Acc: 0.3796 | Val Loss: 1.6597 | Val Acc: 0.4536\n"
     ]
    },
    {
     "name": "stderr",
     "output_type": "stream",
     "text": [
      "Epoch 39/50 [Train]: 100%|██████████| 202/202 [00:21<00:00,  9.35it/s, acc=0.394, loss=1.73]\n",
      "Epoch 39/50 [Val]: 100%|██████████| 36/36 [00:01<00:00, 22.87it/s, acc=0.443, loss=1.62]\n"
     ]
    },
    {
     "name": "stdout",
     "output_type": "stream",
     "text": [
      "Epoch 39/50 | Train Loss: 1.7333 | Train Acc: 0.3941 | Val Loss: 1.6210 | Val Acc: 0.4431\n"
     ]
    },
    {
     "name": "stderr",
     "output_type": "stream",
     "text": [
      "Epoch 40/50 [Train]: 100%|██████████| 202/202 [00:21<00:00,  9.28it/s, acc=0.402, loss=1.73]\n",
      "Epoch 40/50 [Val]: 100%|██████████| 36/36 [00:01<00:00, 23.13it/s, acc=0.382, loss=1.77]\n"
     ]
    },
    {
     "name": "stdout",
     "output_type": "stream",
     "text": [
      "Epoch 40/50 | Train Loss: 1.7308 | Train Acc: 0.4015 | Val Loss: 1.7670 | Val Acc: 0.3818\n"
     ]
    },
    {
     "name": "stderr",
     "output_type": "stream",
     "text": [
      "Epoch 41/50 [Train]: 100%|██████████| 202/202 [00:21<00:00,  9.31it/s, acc=0.42, loss=1.7]  \n",
      "Epoch 41/50 [Val]: 100%|██████████| 36/36 [00:01<00:00, 22.84it/s, acc=0.52, loss=1.56] \n"
     ]
    },
    {
     "name": "stdout",
     "output_type": "stream",
     "text": [
      "Epoch 41/50 | Train Loss: 1.7041 | Train Acc: 0.4195 | Val Loss: 1.5599 | Val Acc: 0.5201\n",
      "✓ Best model saved with val_acc: 0.5201\n"
     ]
    },
    {
     "name": "stderr",
     "output_type": "stream",
     "text": [
      "Epoch 42/50 [Train]: 100%|██████████| 202/202 [00:21<00:00,  9.25it/s, acc=0.423, loss=1.68]\n",
      "Epoch 42/50 [Val]: 100%|██████████| 36/36 [00:01<00:00, 23.22it/s, acc=0.515, loss=1.51]\n"
     ]
    },
    {
     "name": "stdout",
     "output_type": "stream",
     "text": [
      "Epoch 42/50 | Train Loss: 1.6815 | Train Acc: 0.4226 | Val Loss: 1.5089 | Val Acc: 0.5149\n"
     ]
    },
    {
     "name": "stderr",
     "output_type": "stream",
     "text": [
      "Epoch 43/50 [Train]: 100%|██████████| 202/202 [00:21<00:00,  9.33it/s, acc=0.434, loss=1.65]\n",
      "Epoch 43/50 [Val]: 100%|██████████| 36/36 [00:01<00:00, 22.30it/s, acc=0.482, loss=1.53]\n"
     ]
    },
    {
     "name": "stdout",
     "output_type": "stream",
     "text": [
      "Epoch 43/50 | Train Loss: 1.6488 | Train Acc: 0.4337 | Val Loss: 1.5326 | Val Acc: 0.4816\n"
     ]
    },
    {
     "name": "stderr",
     "output_type": "stream",
     "text": [
      "Epoch 44/50 [Train]: 100%|██████████| 202/202 [00:21<00:00,  9.31it/s, acc=0.433, loss=1.65]\n",
      "Epoch 44/50 [Val]: 100%|██████████| 36/36 [00:01<00:00, 22.52it/s, acc=0.525, loss=1.5] \n"
     ]
    },
    {
     "name": "stdout",
     "output_type": "stream",
     "text": [
      "Epoch 44/50 | Train Loss: 1.6537 | Train Acc: 0.4334 | Val Loss: 1.5044 | Val Acc: 0.5254\n",
      "✓ Best model saved with val_acc: 0.5254\n"
     ]
    },
    {
     "name": "stderr",
     "output_type": "stream",
     "text": [
      "Epoch 45/50 [Train]: 100%|██████████| 202/202 [00:21<00:00,  9.25it/s, acc=0.443, loss=1.66]\n",
      "Epoch 45/50 [Val]: 100%|██████████| 36/36 [00:01<00:00, 22.72it/s, acc=0.518, loss=1.52]\n"
     ]
    },
    {
     "name": "stdout",
     "output_type": "stream",
     "text": [
      "Epoch 45/50 | Train Loss: 1.6562 | Train Acc: 0.4433 | Val Loss: 1.5178 | Val Acc: 0.5184\n"
     ]
    },
    {
     "name": "stderr",
     "output_type": "stream",
     "text": [
      "Epoch 46/50 [Train]: 100%|██████████| 202/202 [00:21<00:00,  9.35it/s, acc=0.439, loss=1.66]\n",
      "Epoch 46/50 [Val]: 100%|██████████| 36/36 [00:01<00:00, 23.52it/s, acc=0.538, loss=1.47]\n"
     ]
    },
    {
     "name": "stdout",
     "output_type": "stream",
     "text": [
      "Epoch 46/50 | Train Loss: 1.6584 | Train Acc: 0.4393 | Val Loss: 1.4732 | Val Acc: 0.5377\n",
      "✓ Best model saved with val_acc: 0.5377\n"
     ]
    },
    {
     "name": "stderr",
     "output_type": "stream",
     "text": [
      "Epoch 47/50 [Train]: 100%|██████████| 202/202 [00:21<00:00,  9.30it/s, acc=0.456, loss=1.64]\n",
      "Epoch 47/50 [Val]: 100%|██████████| 36/36 [00:01<00:00, 22.66it/s, acc=0.511, loss=1.48]\n"
     ]
    },
    {
     "name": "stdout",
     "output_type": "stream",
     "text": [
      "Epoch 47/50 | Train Loss: 1.6424 | Train Acc: 0.4560 | Val Loss: 1.4821 | Val Acc: 0.5114\n"
     ]
    },
    {
     "name": "stderr",
     "output_type": "stream",
     "text": [
      "Epoch 48/50 [Train]: 100%|██████████| 202/202 [00:21<00:00,  9.33it/s, acc=0.462, loss=1.63]\n",
      "Epoch 48/50 [Val]: 100%|██████████| 36/36 [00:01<00:00, 22.71it/s, acc=0.51, loss=1.51] \n"
     ]
    },
    {
     "name": "stdout",
     "output_type": "stream",
     "text": [
      "Epoch 48/50 | Train Loss: 1.6304 | Train Acc: 0.4619 | Val Loss: 1.5075 | Val Acc: 0.5096\n"
     ]
    },
    {
     "name": "stderr",
     "output_type": "stream",
     "text": [
      "Epoch 49/50 [Train]: 100%|██████████| 202/202 [00:21<00:00,  9.32it/s, acc=0.46, loss=1.61] \n",
      "Epoch 49/50 [Val]: 100%|██████████| 36/36 [00:01<00:00, 23.06it/s, acc=0.562, loss=1.44]\n"
     ]
    },
    {
     "name": "stdout",
     "output_type": "stream",
     "text": [
      "Epoch 49/50 | Train Loss: 1.6139 | Train Acc: 0.4604 | Val Loss: 1.4445 | Val Acc: 0.5622\n",
      "✓ Best model saved with val_acc: 0.5622\n"
     ]
    },
    {
     "name": "stderr",
     "output_type": "stream",
     "text": [
      "Epoch 50/50 [Train]: 100%|██████████| 202/202 [00:21<00:00,  9.25it/s, acc=0.455, loss=1.61]\n",
      "Epoch 50/50 [Val]: 100%|██████████| 36/36 [00:01<00:00, 23.15it/s, acc=0.531, loss=1.48]\n"
     ]
    },
    {
     "name": "stdout",
     "output_type": "stream",
     "text": [
      "Epoch 50/50 | Train Loss: 1.6098 | Train Acc: 0.4548 | Val Loss: 1.4760 | Val Acc: 0.5306\n"
     ]
    },
    {
     "data": {
      "image/png": "[encoded data removed]",
      "text/plain": [
       "<Figure size 1400x500 with 2 Axes>"
      ]
     },
     "metadata": {},
     "output_type": "display_data"
    },
    {
     "name": "stdout",
     "output_type": "stream",
     "text": [
      "\n",
      "Loaded best model from epoch 49\n"
     ]
    },
    {
     "name": "stderr",
     "output_type": "stream",
     "text": [
      "Testing: 100%|██████████| 60/60 [00:02<00:00, 21.26it/s]\n"
     ]
    },
    {
     "name": "stdout",
     "output_type": "stream",
     "text": [
      "\n",
      "==================================================\n",
      "Test Accuracy: 58.36%\n",
      "==================================================\n",
      "\n"
     ]
    },
    {
     "data": {
      "image/png": "[encoded data removed]",
      "text/plain": [
       "<Figure size 1200x1000 with 2 Axes>"
      ]
     },
     "metadata": {},
     "output_type": "display_data"
    },
    {
     "name": "stdout",
     "output_type": "stream",
     "text": [
      "\n",
      "Classification Report:\n",
      "======================================================================\n",
      "              precision    recall  f1-score   support\n",
      "\n",
      "           0     0.6019    0.6739    0.6359        92\n",
      "           1     0.6211    0.7195    0.6667        82\n",
      "           2     0.6111    0.5238    0.5641        84\n",
      "           3     0.6256    0.7722    0.6912       158\n",
      "           4     0.3953    0.1717    0.2394        99\n",
      "           5     0.5114    0.4500    0.4787       100\n",
      "           6     0.6577    0.5297    0.5868       185\n",
      "           7     0.4265    0.4531    0.4394        64\n",
      "           8     0.5725    0.9080    0.7022        87\n",
      "\n",
      "    accuracy                         0.5836       951\n",
      "   macro avg     0.5581    0.5780    0.5561       951\n",
      "weighted avg     0.5737    0.5836    0.5669       951\n",
      "\n",
      "\n",
      "Per-Class Accuracy:\n",
      "======================================================================\n",
      "0                   :  67.39% (92 samples)\n",
      "1                   :  71.95% (82 samples)\n",
      "2                   :  52.38% (84 samples)\n",
      "3                   :  77.22% (158 samples)\n",
      "4                   :  17.17% (99 samples)\n",
      "5                   :  45.00% (100 samples)\n",
      "6                   :  52.97% (185 samples)\n",
      "7                   :  45.31% (64 samples)\n",
      "8                   :  90.80% (87 samples)\n",
      "\n",
      "✓ Training complete!\n",
      "Best validation accuracy: 56.22%\n",
      "Final test accuracy: 58.36%\n"
     ]
    }
   ],
   "source": [
    "import numpy as np\n",
    "import torch\n",
    "import torch.nn as nn\n",
    "import torch.nn.functional as F\n",
    "import torch.optim as optim\n",
    "from torch.utils.data import Dataset, DataLoader\n",
    "from sklearn.preprocessing import LabelEncoder\n",
    "from sklearn.model_selection import train_test_split\n",
    "from sklearn.utils.class_weight import compute_class_weight\n",
    "import torchvision.transforms as transforms\n",
    "import torchvision.models as models\n",
    "import matplotlib.pyplot as plt\n",
    "import seaborn as sns\n",
    "from sklearn.metrics import confusion_matrix, classification_report\n",
    "from tqdm import tqdm\n",
    "import warnings\n",
    "warnings.filterwarnings('ignore')\n",
    "\n",
    "# ---------------------------\n",
    "# 0. Device\n",
    "# ---------------------------\n",
    "device = torch.device(\"cuda\" if torch.cuda.is_available() else \"cpu\")\n",
    "print(\"Using device:\", device)\n",
    "\n",
    "# ---------------------------\n",
    "# 1. Load data\n",
    "# ---------------------------\n",
    "image_array = np.load(\"images.npy\", allow_pickle=True)\n",
    "labels = np.load(\"labels.npy\", allow_pickle=True)\n",
    "\n",
    "# Encode labels\n",
    "encoder = LabelEncoder()\n",
    "y = encoder.fit_transform(labels)\n",
    "num_classes = len(np.unique(y))\n",
    "print(f\"Number of classes: {num_classes}\")\n",
    "print(f\"Classes: {encoder.classes_}\")\n",
    "print(f\"Class distribution: {np.bincount(y)}\")\n",
    "\n",
    "# Train/Val/Test split\n",
    "train_idx, test_idx = train_test_split(\n",
    "    np.arange(len(y)), test_size=0.2, random_state=42, stratify=y\n",
    ")\n",
    "train_idx, val_idx = train_test_split(\n",
    "    train_idx, test_size=0.15, random_state=42, stratify=y[train_idx]\n",
    ")\n",
    "\n",
    "print(f\"Train size: {len(train_idx)}, Val size: {len(val_idx)}, Test size: {len(test_idx)}\")\n",
    "\n",
    "# ---------------------------\n",
    "# 2. Dataset class\n",
    "# ---------------------------\n",
    "class WasteDataset(Dataset):\n",
    "    def __init__(self, images, labels, indices, transform=None):\n",
    "        self.images = images\n",
    "        self.labels = labels\n",
    "        self.indices = indices\n",
    "        self.transform = transform\n",
    "\n",
    "    def __len__(self):\n",
    "        return len(self.indices)\n",
    "\n",
    "    def __getitem__(self, idx):\n",
    "        i = self.indices[idx]\n",
    "        img = self.images[i].astype(np.uint8)\n",
    "        label = self.labels[i]\n",
    "        img = np.expand_dims(img, axis=-1)  # (H,W,1)\n",
    "        if self.transform:\n",
    "            img = self.transform(img)\n",
    "        return img, label\n",
    "\n",
    "# ---------------------------\n",
    "# 3. Enhanced Transforms\n",
    "# ---------------------------\n",
    "train_transform = transforms.Compose([\n",
    "    transforms.ToPILImage(),\n",
    "    transforms.Resize((256, 256)),\n",
    "    transforms.RandomCrop(224),\n",
    "    transforms.Grayscale(num_output_channels=3),  # Convert to RGB for pretrained models\n",
    "    transforms.RandomHorizontalFlip(),\n",
    "    transforms.RandomVerticalFlip(),\n",
    "    transforms.RandomRotation(30),\n",
    "    transforms.RandomAffine(degrees=0, translate=(0.1, 0.1), scale=(0.9, 1.1)),\n",
    "    transforms.ColorJitter(brightness=0.3, contrast=0.3, saturation=0.2),\n",
    "    transforms.ToTensor(),\n",
    "    transforms.Normalize(mean=[0.485, 0.456, 0.406], std=[0.229, 0.224, 0.225]),\n",
    "    transforms.RandomErasing(p=0.2)\n",
    "])\n",
    "\n",
    "val_transform = transforms.Compose([\n",
    "    transforms.ToPILImage(),\n",
    "    transforms.Resize((224, 224)),\n",
    "    transforms.Grayscale(num_output_channels=3),\n",
    "    transforms.ToTensor(),\n",
    "    transforms.Normalize(mean=[0.485, 0.456, 0.406], std=[0.229, 0.224, 0.225])\n",
    "])\n",
    "\n",
    "train_dataset = WasteDataset(image_array, y, train_idx, transform=train_transform)\n",
    "val_dataset = WasteDataset(image_array, y, val_idx, transform=val_transform)\n",
    "test_dataset = WasteDataset(image_array, y, test_idx, transform=val_transform)\n",
    "\n",
    "# Increase batch size and add workers\n",
    "train_loader = DataLoader(train_dataset, batch_size=16, shuffle=True, num_workers=0, pin_memory=True)\n",
    "val_loader = DataLoader(val_dataset, batch_size=16, num_workers=0, pin_memory=True)\n",
    "test_loader = DataLoader(test_dataset, batch_size=16, num_workers=0, pin_memory=True)\n",
    "\n",
    "# ---------------------------\n",
    "# 4. Model Selection\n",
    "# ---------------------------\n",
    "# Option 1: Custom Improved CNN\n",
    "class ImprovedCNN(nn.Module):\n",
    "    def __init__(self, num_classes, input_channels=3):\n",
    "        super(ImprovedCNN, self).__init__()\n",
    "        self.conv1 = nn.Conv2d(input_channels, 64, 3, padding=1)\n",
    "        self.bn1 = nn.BatchNorm2d(64)\n",
    "        self.conv2 = nn.Conv2d(64, 128, 3, padding=1)\n",
    "        self.bn2 = nn.BatchNorm2d(128)\n",
    "        self.conv3 = nn.Conv2d(128, 256, 3, padding=1)\n",
    "        self.bn3 = nn.BatchNorm2d(256)\n",
    "        self.conv4 = nn.Conv2d(256, 512, 3, padding=1)\n",
    "        self.bn4 = nn.BatchNorm2d(512)\n",
    "        self.conv5 = nn.Conv2d(512, 512, 3, padding=1)\n",
    "        self.bn5 = nn.BatchNorm2d(512)\n",
    "        \n",
    "        self.pool = nn.MaxPool2d(2, 2)\n",
    "        self.adapt_pool = nn.AdaptiveAvgPool2d((4, 4))\n",
    "        \n",
    "        self.fc1 = nn.Linear(512*4*4, 512)\n",
    "        self.dropout1 = nn.Dropout(0.5)\n",
    "        self.fc2 = nn.Linear(512, 256)\n",
    "        self.dropout2 = nn.Dropout(0.3)\n",
    "        self.fc3 = nn.Linear(256, num_classes)\n",
    "\n",
    "    def forward(self, x):\n",
    "        x = F.relu(self.bn1(self.conv1(x)))\n",
    "        x = self.pool(x)\n",
    "        x = F.relu(self.bn2(self.conv2(x)))\n",
    "        x = self.pool(x)\n",
    "        x = F.relu(self.bn3(self.conv3(x)))\n",
    "        x = self.pool(x)\n",
    "        x = F.relu(self.bn4(self.conv4(x)))\n",
    "        x = self.pool(x)\n",
    "        x = F.relu(self.bn5(self.conv5(x)))\n",
    "        x = self.pool(x)\n",
    "        x = self.adapt_pool(x)\n",
    "        x = x.view(x.size(0), -1)\n",
    "        x = F.relu(self.fc1(x))\n",
    "        x = self.dropout1(x)\n",
    "        x = F.relu(self.fc2(x))\n",
    "        x = self.dropout2(x)\n",
    "        x = self.fc3(x)\n",
    "        return x\n",
    "\n",
    "# Option 2: Transfer Learning with ResNet50 (RECOMMENDED)\n",
    "def create_resnet_model(num_classes, pretrained=True):\n",
    "    model = models.resnet50(pretrained=pretrained)\n",
    "    # Freeze early layers\n",
    "    for param in model.parameters():\n",
    "        param.requires_grad = False\n",
    "    \n",
    "    # Unfreeze last few layers for fine-tuning\n",
    "    for param in model.layer4.parameters():\n",
    "        param.requires_grad = True\n",
    "    for param in model.layer3.parameters():\n",
    "        param.requires_grad = True\n",
    "    \n",
    "    # Replace final layer\n",
    "    model.fc = nn.Sequential(\n",
    "        nn.Linear(model.fc.in_features, 512),\n",
    "        nn.ReLU(),\n",
    "        nn.Dropout(0.5),\n",
    "        nn.Linear(512, num_classes)\n",
    "    )\n",
    "    return model\n",
    "\n",
    "# Option 3: EfficientNet (Alternative)\n",
    "def create_efficientnet_model(num_classes, pretrained=True):\n",
    "    model = models.efficientnet_b0(pretrained=pretrained)\n",
    "    for param in model.parameters():\n",
    "        param.requires_grad = False\n",
    "    \n",
    "    # Unfreeze last layers\n",
    "    for param in model.features[-3:].parameters():\n",
    "        param.requires_grad = True\n",
    "    \n",
    "    model.classifier = nn.Sequential(\n",
    "        nn.Dropout(0.5),\n",
    "        nn.Linear(model.classifier[1].in_features, 512),\n",
    "        nn.ReLU(),\n",
    "        nn.Dropout(0.3),\n",
    "        nn.Linear(512, num_classes)\n",
    "    )\n",
    "    return model\n",
    "\n",
    "# Choose model (change here to try different models)\n",
    "USE_TRANSFER_LEARNING = False\n",
    "\n",
    "if USE_TRANSFER_LEARNING:\n",
    "    print(\"Using ResNet50 with Transfer Learning\")\n",
    "    model = create_resnet_model(num_classes, pretrained=True)\n",
    "else:\n",
    "    print(\"Using Custom Improved CNN\")\n",
    "    model = ImprovedCNN(num_classes, input_channels=3)\n",
    "\n",
    "model = model.to(device)\n",
    "print(f\"Model parameters: {sum(p.numel() for p in model.parameters() if p.requires_grad):,}\")\n",
    "\n",
    "# ---------------------------\n",
    "# 5. Label Smoothing Loss\n",
    "# ---------------------------\n",
    "class LabelSmoothingCrossEntropy(nn.Module):\n",
    "    def __init__(self, epsilon=0.1, weight=None):\n",
    "        super().__init__()\n",
    "        self.epsilon = epsilon\n",
    "        self.weight = weight\n",
    "    \n",
    "    def forward(self, output, target):\n",
    "        n_class = output.size(1)\n",
    "        log_preds = F.log_softmax(output, dim=1)\n",
    "        loss = -log_preds.sum(dim=1).mean()\n",
    "        nll = F.nll_loss(log_preds, target, weight=self.weight)\n",
    "        return (1 - self.epsilon) * nll + self.epsilon * loss / n_class\n",
    "\n",
    "# Compute class weights\n",
    "class_weights = compute_class_weight(\n",
    "    class_weight=\"balanced\",\n",
    "    classes=np.unique(y[train_idx]),\n",
    "    y=y[train_idx]\n",
    ")\n",
    "class_weights = torch.tensor(class_weights, dtype=torch.float32).to(device)\n",
    "print(f\"Class weights: {class_weights}\")\n",
    "\n",
    "# Use label smoothing\n",
    "criterion = LabelSmoothingCrossEntropy(epsilon=0.1, weight=class_weights)\n",
    "\n",
    "# ---------------------------\n",
    "# 6. Optimizer with different learning rates\n",
    "# ---------------------------\n",
    "if USE_TRANSFER_LEARNING:\n",
    "    # Different learning rates for different layers\n",
    "    optimizer = optim.Adam([\n",
    "        {'params': model.fc.parameters(), 'lr': 0.001},\n",
    "        {'params': model.layer4.parameters(), 'lr': 0.0001},\n",
    "        {'params': model.layer3.parameters(), 'lr': 0.00005}\n",
    "    ], weight_decay=1e-4)\n",
    "else:\n",
    "    optimizer = optim.Adam(model.parameters(), lr=0.001, weight_decay=1e-4)\n",
    "\n",
    "# Learning rate scheduler\n",
    "scheduler = optim.lr_scheduler.ReduceLROnPlateau(\n",
    "    optimizer, mode='max', factor=0.5, patience=3, min_lr=1e-7\n",
    ")\n",
    "\n",
    "# Cosine annealing (alternative scheduler)\n",
    "# scheduler = optim.lr_scheduler.CosineAnnealingLR(optimizer, T_max=50, eta_min=1e-6)\n",
    "\n",
    "# ---------------------------\n",
    "# 7. Training loop with all improvements\n",
    "# ---------------------------\n",
    "num_epochs = 50\n",
    "best_val_acc = 0\n",
    "patience = 10\n",
    "trigger_times = 0\n",
    "train_losses, val_losses = [], []\n",
    "train_accs, val_accs = [], []\n",
    "\n",
    "print(\"\\nStarting training...\")\n",
    "for epoch in range(num_epochs):\n",
    "    # Training\n",
    "    model.train()\n",
    "    running_loss, correct, total = 0, 0, 0\n",
    "    loop = tqdm(enumerate(train_loader), total=len(train_loader), \n",
    "                desc=f\"Epoch {epoch+1}/{num_epochs} [Train]\")\n",
    "    \n",
    "    for i, (X_batch, y_batch) in loop:\n",
    "        X_batch, y_batch = X_batch.to(device), y_batch.to(device)\n",
    "        optimizer.zero_grad()\n",
    "        outputs = model(X_batch)\n",
    "        loss = criterion(outputs, y_batch)\n",
    "        loss.backward()\n",
    "        \n",
    "        # Gradient clipping\n",
    "        torch.nn.utils.clip_grad_norm_(model.parameters(), max_norm=1.0)\n",
    "        \n",
    "        optimizer.step()\n",
    "\n",
    "        running_loss += loss.item() * X_batch.size(0)\n",
    "        _, predicted = torch.max(outputs, 1)\n",
    "        correct += (predicted == y_batch).sum().item()\n",
    "        total += y_batch.size(0)\n",
    "\n",
    "        loop.set_postfix(loss=running_loss/total, acc=correct/total)\n",
    "\n",
    "    train_loss = running_loss / total\n",
    "    train_acc = correct / total\n",
    "    train_losses.append(train_loss)\n",
    "    train_accs.append(train_acc)\n",
    "\n",
    "    # Validation\n",
    "    model.eval()\n",
    "    val_loss, correct, total = 0, 0, 0\n",
    "    loop_val = tqdm(val_loader, desc=f\"Epoch {epoch+1}/{num_epochs} [Val]\")\n",
    "    \n",
    "    with torch.no_grad():\n",
    "        for X_batch, y_batch in loop_val:\n",
    "            X_batch, y_batch = X_batch.to(device), y_batch.to(device)\n",
    "            outputs = model(X_batch)\n",
    "            loss = criterion(outputs, y_batch)\n",
    "            val_loss += loss.item() * X_batch.size(0)\n",
    "            _, predicted = torch.max(outputs, 1)\n",
    "            correct += (predicted == y_batch).sum().item()\n",
    "            total += y_batch.size(0)\n",
    "            loop_val.set_postfix(loss=val_loss/total, acc=correct/total)\n",
    "\n",
    "    val_loss = val_loss / total\n",
    "    val_acc = correct / total\n",
    "    val_losses.append(val_loss)\n",
    "    val_accs.append(val_acc)\n",
    "\n",
    "    print(f\"Epoch {epoch+1}/{num_epochs} | Train Loss: {train_loss:.4f} | Train Acc: {train_acc:.4f} | Val Loss: {val_loss:.4f} | Val Acc: {val_acc:.4f}\")\n",
    "\n",
    "    # Learning rate scheduling\n",
    "    scheduler.step(val_acc)\n",
    "    \n",
    "    # Early stopping\n",
    "    if val_acc > best_val_acc:\n",
    "        best_val_acc = val_acc\n",
    "        trigger_times = 0\n",
    "        torch.save({\n",
    "            'epoch': epoch,\n",
    "            'model_state_dict': model.state_dict(),\n",
    "            'optimizer_state_dict': optimizer.state_dict(),\n",
    "            'val_acc': val_acc,\n",
    "        }, \"best_model.pth\")\n",
    "        print(f\"✓ Best model saved with val_acc: {val_acc:.4f}\")\n",
    "    else:\n",
    "        trigger_times += 1\n",
    "        if trigger_times >= patience:\n",
    "            print(f\"Early stopping triggered at epoch {epoch+1}!\")\n",
    "            break\n",
    "\n",
    "# ---------------------------\n",
    "# 8. Plot training history\n",
    "# ---------------------------\n",
    "plt.figure(figsize=(14, 5))\n",
    "\n",
    "plt.subplot(1, 2, 1)\n",
    "plt.plot(train_losses, label='Train Loss')\n",
    "plt.plot(val_losses, label='Val Loss')\n",
    "plt.xlabel('Epoch')\n",
    "plt.ylabel('Loss')\n",
    "plt.title('Training and Validation Loss')\n",
    "plt.legend()\n",
    "plt.grid(True)\n",
    "\n",
    "plt.subplot(1, 2, 2)\n",
    "plt.plot(train_accs, label='Train Accuracy')\n",
    "plt.plot(val_accs, label='Val Accuracy')\n",
    "plt.xlabel('Epoch')\n",
    "plt.ylabel('Accuracy')\n",
    "plt.title('Training and Validation Accuracy')\n",
    "plt.legend()\n",
    "plt.grid(True)\n",
    "\n",
    "plt.tight_layout()\n",
    "plt.savefig('training_history.png', dpi=300, bbox_inches='tight')\n",
    "plt.show()\n",
    "\n",
    "# ---------------------------\n",
    "# 9. Test evaluation\n",
    "# ---------------------------\n",
    "checkpoint = torch.load(\"best_model.pth\")\n",
    "model.load_state_dict(checkpoint['model_state_dict'])\n",
    "print(f\"\\nLoaded best model from epoch {checkpoint['epoch']+1}\")\n",
    "\n",
    "model.eval()\n",
    "y_true, y_pred, y_probs = [], [], []\n",
    "\n",
    "with torch.no_grad():\n",
    "    loop_test = tqdm(test_loader, desc=\"Testing\")\n",
    "    for X_batch, y_batch in loop_test:\n",
    "        X_batch, y_batch = X_batch.to(device), y_batch.to(device)\n",
    "        outputs = model(X_batch)\n",
    "        probs = F.softmax(outputs, dim=1)\n",
    "        _, predicted = torch.max(outputs, 1)\n",
    "        y_true.extend(y_batch.cpu().numpy())\n",
    "        y_pred.extend(predicted.cpu().numpy())\n",
    "        y_probs.extend(probs.cpu().numpy())\n",
    "\n",
    "test_acc = np.mean(np.array(y_true) == np.array(y_pred))\n",
    "print(f\"\\n{'='*50}\")\n",
    "print(f\"Test Accuracy: {test_acc*100:.2f}%\")\n",
    "print(f\"{'='*50}\\n\")\n",
    "\n",
    "# ---------------------------\n",
    "# 10. Confusion matrix\n",
    "# ---------------------------\n",
    "cm = confusion_matrix(y_true, y_pred)\n",
    "plt.figure(figsize=(12, 10))\n",
    "sns.heatmap(cm, annot=True, fmt=\"d\", cmap='Blues',\n",
    "            xticklabels=encoder.classes_, yticklabels=encoder.classes_)\n",
    "plt.xlabel(\"Predicted\", fontsize=12)\n",
    "plt.ylabel(\"True\", fontsize=12)\n",
    "plt.title(f\"Confusion Matrix (Test Accuracy: {test_acc*100:.2f}%)\", fontsize=14)\n",
    "plt.xticks(rotation=45, ha='right')\n",
    "plt.yticks(rotation=0)\n",
    "plt.tight_layout()\n",
    "plt.savefig('confusion_matrix.png', dpi=300, bbox_inches='tight')\n",
    "plt.show()\n",
    "\n",
    "# ---------------------------\n",
    "# 11. Classification report\n",
    "# ---------------------------\n",
    "print(\"\\nClassification Report:\")\n",
    "print(\"=\"*70)\n",
    "print(classification_report(y_true, y_pred, target_names=[str(c) for c in encoder.classes_], digits=4))\n",
    "\n",
    "# ---------------------------\n",
    "# 12. Per-class accuracy\n",
    "# ---------------------------\n",
    "print(\"\\nPer-Class Accuracy:\")\n",
    "print(\"=\"*70)\n",
    "for i, class_name in enumerate(encoder.classes_):\n",
    "    class_mask = np.array(y_true) == i\n",
    "    if class_mask.sum() > 0:\n",
    "        class_acc = np.mean(np.array(y_pred)[class_mask] == i)\n",
    "        print(f\"{str(class_name):20s}: {class_acc*100:6.2f}% ({class_mask.sum()} samples)\")\n",
    "\n",
    "print(\"\\n✓ Training complete!\")\n",
    "print(f\"Best validation accuracy: {best_val_acc*100:.2f}%\")\n",
    "print(f\"Final test accuracy: {test_acc*100:.2f}%\")"
   ]
  }
 ],
 "metadata": {
  "kernelspec": {
   "display_name": "cmu_faces_env",
   "language": "python",
   "name": "python3"
  },
  "language_info": {
   "codemirror_mode": {
    "name": "ipython",
    "version": 3
   },
   "file_extension": ".py",
   "mimetype": "text/x-python",
   "name": "python",
   "nbconvert_exporter": "python",
   "pygments_lexer": "ipython3",
   "version": "3.10.11"
  }
 },
 "nbformat": 4,
 "nbformat_minor": 5
}
