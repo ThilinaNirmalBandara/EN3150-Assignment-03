{
 "cells": [
  {
   "cell_type": "markdown",
   "id": "2c422a82",
   "metadata": {},
   "source": [
    "# MODEL 1 "
   ]
  },
  {
   "cell_type": "code",
   "execution_count": 3,
   "id": "680c5ae2",
   "metadata": {},
   "outputs": [
    {
     "name": "stdout",
     "output_type": "stream",
     "text": [
      "Using device: cuda\n",
      "Number of classes: 9\n",
      "Classes: ['Cardboard' 'Food Organics' 'Glass' 'Metal' 'Miscellaneous Trash' 'Paper'\n",
      " 'Plastic' 'Textile Trash' 'Vegetation']\n",
      "Class distribution: [783 768 771 882 794 795 921 741 776]\n",
      "Train size: 5805, Val size: 713, Test size: 713\n",
      "Dataset Mean: [0.03540312 0.03540312 0.03540312]\n",
      "Dataset Std: [0.18815719 0.18815719 0.18815719]\n",
      "Using Residual-style BetterCNN\n",
      "BetterCNN parameters: 9,026,313\n",
      "\n",
      "Class weights:\n",
      "  Cardboard           : 1.000\n",
      "  Food Organics       : 1.000\n",
      "  Glass               : 1.000\n",
      "  Metal               : 1.000\n",
      "  Miscellaneous Trash : 1.000\n",
      "  Paper               : 1.000\n",
      "  Plastic             : 1.000\n",
      "  Textile Trash       : 1.000\n",
      "  Vegetation          : 1.000\n",
      "\n",
      "Starting training...\n"
     ]
    },
    {
     "name": "stderr",
     "output_type": "stream",
     "text": [
      "Epoch 1/20 [Train]: 100%|██████████| 363/363 [02:07<00:00,  2.85it/s, acc=0.239, loss=2.12]\n",
      "Epoch 1/20 [Val]: 100%|██████████| 45/45 [00:06<00:00,  7.48it/s, acc=0.292, loss=1.92]\n"
     ]
    },
    {
     "name": "stdout",
     "output_type": "stream",
     "text": [
      "Epoch 1/20 | Train Loss: 2.1200 | Train Acc: 0.2386 | Val Loss: 1.9157 | Val Acc: 0.2917\n",
      "✓ Best model saved with val_acc: 0.2917\n"
     ]
    },
    {
     "name": "stderr",
     "output_type": "stream",
     "text": [
      "Epoch 2/20 [Train]: 100%|██████████| 363/363 [02:07<00:00,  2.85it/s, acc=0.312, loss=1.94]\n",
      "Epoch 2/20 [Val]: 100%|██████████| 45/45 [00:05<00:00,  7.67it/s, acc=0.401, loss=1.85]\n"
     ]
    },
    {
     "name": "stdout",
     "output_type": "stream",
     "text": [
      "Epoch 2/20 | Train Loss: 1.9443 | Train Acc: 0.3125 | Val Loss: 1.8474 | Val Acc: 0.4011\n",
      "✓ Best model saved with val_acc: 0.4011\n"
     ]
    },
    {
     "name": "stderr",
     "output_type": "stream",
     "text": [
      "Epoch 3/20 [Train]: 100%|██████████| 363/363 [02:07<00:00,  2.84it/s, acc=0.354, loss=1.87]\n",
      "Epoch 3/20 [Val]: 100%|██████████| 45/45 [00:05<00:00,  7.52it/s, acc=0.45, loss=1.69] \n"
     ]
    },
    {
     "name": "stdout",
     "output_type": "stream",
     "text": [
      "Epoch 3/20 | Train Loss: 1.8667 | Train Acc: 0.3543 | Val Loss: 1.6930 | Val Acc: 0.4502\n",
      "✓ Best model saved with val_acc: 0.4502\n"
     ]
    },
    {
     "name": "stderr",
     "output_type": "stream",
     "text": [
      "Epoch 4/20 [Train]: 100%|██████████| 363/363 [02:06<00:00,  2.87it/s, acc=0.386, loss=1.82]\n",
      "Epoch 4/20 [Val]: 100%|██████████| 45/45 [00:05<00:00,  7.55it/s, acc=0.369, loss=1.88]\n"
     ]
    },
    {
     "name": "stdout",
     "output_type": "stream",
     "text": [
      "Epoch 4/20 | Train Loss: 1.8211 | Train Acc: 0.3860 | Val Loss: 1.8777 | Val Acc: 0.3689\n"
     ]
    },
    {
     "name": "stderr",
     "output_type": "stream",
     "text": [
      "Epoch 5/20 [Train]: 100%|██████████| 363/363 [02:08<00:00,  2.83it/s, acc=0.401, loss=1.78]\n",
      "Epoch 5/20 [Val]: 100%|██████████| 45/45 [00:05<00:00,  7.75it/s, acc=0.421, loss=1.76]\n"
     ]
    },
    {
     "name": "stdout",
     "output_type": "stream",
     "text": [
      "Epoch 5/20 | Train Loss: 1.7764 | Train Acc: 0.4012 | Val Loss: 1.7615 | Val Acc: 0.4208\n"
     ]
    },
    {
     "name": "stderr",
     "output_type": "stream",
     "text": [
      "Epoch 6/20 [Train]: 100%|██████████| 363/363 [02:06<00:00,  2.86it/s, acc=0.431, loss=1.73]\n",
      "Epoch 6/20 [Val]: 100%|██████████| 45/45 [00:06<00:00,  7.43it/s, acc=0.464, loss=1.67]\n"
     ]
    },
    {
     "name": "stdout",
     "output_type": "stream",
     "text": [
      "Epoch 6/20 | Train Loss: 1.7307 | Train Acc: 0.4312 | Val Loss: 1.6709 | Val Acc: 0.4642\n",
      "✓ Best model saved with val_acc: 0.4642\n"
     ]
    },
    {
     "name": "stderr",
     "output_type": "stream",
     "text": [
      "Epoch 7/20 [Train]: 100%|██████████| 363/363 [02:08<00:00,  2.82it/s, acc=0.44, loss=1.71] \n",
      "Epoch 7/20 [Val]: 100%|██████████| 45/45 [00:06<00:00,  7.44it/s, acc=0.492, loss=1.62]\n"
     ]
    },
    {
     "name": "stdout",
     "output_type": "stream",
     "text": [
      "Epoch 7/20 | Train Loss: 1.7058 | Train Acc: 0.4403 | Val Loss: 1.6243 | Val Acc: 0.4923\n",
      "✓ Best model saved with val_acc: 0.4923\n"
     ]
    },
    {
     "name": "stderr",
     "output_type": "stream",
     "text": [
      "Epoch 8/20 [Train]: 100%|██████████| 363/363 [02:08<00:00,  2.83it/s, acc=0.451, loss=1.68]\n",
      "Epoch 8/20 [Val]: 100%|██████████| 45/45 [00:06<00:00,  7.38it/s, acc=0.53, loss=1.49] \n"
     ]
    },
    {
     "name": "stdout",
     "output_type": "stream",
     "text": [
      "Epoch 8/20 | Train Loss: 1.6776 | Train Acc: 0.4512 | Val Loss: 1.4875 | Val Acc: 0.5302\n",
      "✓ Best model saved with val_acc: 0.5302\n"
     ]
    },
    {
     "name": "stderr",
     "output_type": "stream",
     "text": [
      "Epoch 9/20 [Train]: 100%|██████████| 363/363 [02:08<00:00,  2.84it/s, acc=0.462, loss=1.65]\n",
      "Epoch 9/20 [Val]: 100%|██████████| 45/45 [00:06<00:00,  7.36it/s, acc=0.511, loss=1.69]\n"
     ]
    },
    {
     "name": "stdout",
     "output_type": "stream",
     "text": [
      "Epoch 9/20 | Train Loss: 1.6475 | Train Acc: 0.4624 | Val Loss: 1.6942 | Val Acc: 0.5105\n"
     ]
    },
    {
     "name": "stderr",
     "output_type": "stream",
     "text": [
      "Epoch 10/20 [Train]: 100%|██████████| 363/363 [02:08<00:00,  2.83it/s, acc=0.474, loss=1.63]\n",
      "Epoch 10/20 [Val]: 100%|██████████| 45/45 [00:06<00:00,  7.41it/s, acc=0.59, loss=1.43] \n"
     ]
    },
    {
     "name": "stdout",
     "output_type": "stream",
     "text": [
      "Epoch 10/20 | Train Loss: 1.6282 | Train Acc: 0.4744 | Val Loss: 1.4260 | Val Acc: 0.5905\n",
      "✓ Best model saved with val_acc: 0.5905\n"
     ]
    },
    {
     "name": "stderr",
     "output_type": "stream",
     "text": [
      "Epoch 11/20 [Train]: 100%|██████████| 363/363 [02:08<00:00,  2.83it/s, acc=0.477, loss=1.62]\n",
      "Epoch 11/20 [Val]: 100%|██████████| 45/45 [00:06<00:00,  7.35it/s, acc=0.582, loss=1.43]\n"
     ]
    },
    {
     "name": "stdout",
     "output_type": "stream",
     "text": [
      "Epoch 11/20 | Train Loss: 1.6226 | Train Acc: 0.4773 | Val Loss: 1.4339 | Val Acc: 0.5820\n"
     ]
    },
    {
     "name": "stderr",
     "output_type": "stream",
     "text": [
      "Epoch 12/20 [Train]: 100%|██████████| 363/363 [02:16<00:00,  2.66it/s, acc=0.485, loss=1.61]\n",
      "Epoch 12/20 [Val]: 100%|██████████| 45/45 [00:07<00:00,  6.13it/s, acc=0.553, loss=1.41]\n"
     ]
    },
    {
     "name": "stdout",
     "output_type": "stream",
     "text": [
      "Epoch 12/20 | Train Loss: 1.6066 | Train Acc: 0.4854 | Val Loss: 1.4142 | Val Acc: 0.5526\n"
     ]
    },
    {
     "name": "stderr",
     "output_type": "stream",
     "text": [
      "Epoch 13/20 [Train]: 100%|██████████| 363/363 [02:24<00:00,  2.51it/s, acc=0.501, loss=1.59]\n",
      "Epoch 13/20 [Val]: 100%|██████████| 45/45 [00:07<00:00,  6.31it/s, acc=0.576, loss=1.45]\n"
     ]
    },
    {
     "name": "stdout",
     "output_type": "stream",
     "text": [
      "Epoch 13/20 | Train Loss: 1.5883 | Train Acc: 0.5006 | Val Loss: 1.4480 | Val Acc: 0.5764\n"
     ]
    },
    {
     "name": "stderr",
     "output_type": "stream",
     "text": [
      "Epoch 14/20 [Train]: 100%|██████████| 363/363 [02:24<00:00,  2.51it/s, acc=0.506, loss=1.57]\n",
      "Epoch 14/20 [Val]: 100%|██████████| 45/45 [00:06<00:00,  7.39it/s, acc=0.533, loss=1.44]\n"
     ]
    },
    {
     "name": "stdout",
     "output_type": "stream",
     "text": [
      "Epoch 14/20 | Train Loss: 1.5743 | Train Acc: 0.5063 | Val Loss: 1.4369 | Val Acc: 0.5330\n"
     ]
    },
    {
     "name": "stderr",
     "output_type": "stream",
     "text": [
      "Epoch 15/20 [Train]: 100%|██████████| 363/363 [02:09<00:00,  2.81it/s, acc=0.529, loss=1.51]\n",
      "Epoch 15/20 [Val]: 100%|██████████| 45/45 [00:06<00:00,  7.39it/s, acc=0.634, loss=1.33]\n"
     ]
    },
    {
     "name": "stdout",
     "output_type": "stream",
     "text": [
      "Epoch 15/20 | Train Loss: 1.5055 | Train Acc: 0.5285 | Val Loss: 1.3257 | Val Acc: 0.6339\n",
      "✓ Best model saved with val_acc: 0.6339\n"
     ]
    },
    {
     "name": "stderr",
     "output_type": "stream",
     "text": [
      "Epoch 16/20 [Train]: 100%|██████████| 363/363 [02:09<00:00,  2.81it/s, acc=0.539, loss=1.5] \n",
      "Epoch 16/20 [Val]: 100%|██████████| 45/45 [00:06<00:00,  7.43it/s, acc=0.607, loss=1.33]\n"
     ]
    },
    {
     "name": "stdout",
     "output_type": "stream",
     "text": [
      "Epoch 16/20 | Train Loss: 1.4950 | Train Acc: 0.5392 | Val Loss: 1.3314 | Val Acc: 0.6073\n"
     ]
    },
    {
     "name": "stderr",
     "output_type": "stream",
     "text": [
      "Epoch 17/20 [Train]: 100%|██████████| 363/363 [02:08<00:00,  2.83it/s, acc=0.543, loss=1.49]\n",
      "Epoch 17/20 [Val]: 100%|██████████| 45/45 [00:06<00:00,  7.39it/s, acc=0.6, loss=1.36]  \n"
     ]
    },
    {
     "name": "stdout",
     "output_type": "stream",
     "text": [
      "Epoch 17/20 | Train Loss: 1.4869 | Train Acc: 0.5433 | Val Loss: 1.3600 | Val Acc: 0.6003\n"
     ]
    },
    {
     "name": "stderr",
     "output_type": "stream",
     "text": [
      "Epoch 18/20 [Train]: 100%|██████████| 363/363 [02:07<00:00,  2.85it/s, acc=0.551, loss=1.47]\n",
      "Epoch 18/20 [Val]: 100%|██████████| 45/45 [00:06<00:00,  7.31it/s, acc=0.631, loss=1.29]\n"
     ]
    },
    {
     "name": "stdout",
     "output_type": "stream",
     "text": [
      "Epoch 18/20 | Train Loss: 1.4653 | Train Acc: 0.5511 | Val Loss: 1.2939 | Val Acc: 0.6311\n"
     ]
    },
    {
     "name": "stderr",
     "output_type": "stream",
     "text": [
      "Epoch 19/20 [Train]: 100%|██████████| 363/363 [02:07<00:00,  2.85it/s, acc=0.564, loss=1.45]\n",
      "Epoch 19/20 [Val]: 100%|██████████| 45/45 [00:06<00:00,  7.37it/s, acc=0.63, loss=1.32] \n"
     ]
    },
    {
     "name": "stdout",
     "output_type": "stream",
     "text": [
      "Epoch 19/20 | Train Loss: 1.4526 | Train Acc: 0.5643 | Val Loss: 1.3250 | Val Acc: 0.6297\n"
     ]
    },
    {
     "name": "stderr",
     "output_type": "stream",
     "text": [
      "Epoch 20/20 [Train]: 100%|██████████| 363/363 [02:07<00:00,  2.84it/s, acc=0.588, loss=1.41]\n",
      "Epoch 20/20 [Val]: 100%|██████████| 45/45 [00:06<00:00,  7.36it/s, acc=0.619, loss=1.31]\n"
     ]
    },
    {
     "name": "stdout",
     "output_type": "stream",
     "text": [
      "Epoch 20/20 | Train Loss: 1.4138 | Train Acc: 0.5883 | Val Loss: 1.3101 | Val Acc: 0.6185\n"
     ]
    },
    {
     "data": {
      "image/png": "[encoded data removed]",
      "text/plain": [
       "<Figure size 1400x500 with 2 Axes>"
      ]
     },
     "metadata": {},
     "output_type": "display_data"
    },
    {
     "name": "stdout",
     "output_type": "stream",
     "text": [
      "\n",
      "Loaded best model from epoch 15\n"
     ]
    },
    {
     "name": "stderr",
     "output_type": "stream",
     "text": [
      "Testing: 100%|██████████| 45/45 [00:06<00:00,  6.76it/s]\n"
     ]
    },
    {
     "name": "stdout",
     "output_type": "stream",
     "text": [
      "\n",
      "==================================================\n",
      "Test Accuracy: 64.80%\n",
      "==================================================\n",
      "\n"
     ]
    },
    {
     "data": {
      "image/png": "[encoded data removed]",
      "text/plain": [
       "<Figure size 1200x1000 with 2 Axes>"
      ]
     },
     "metadata": {},
     "output_type": "display_data"
    },
    {
     "name": "stdout",
     "output_type": "stream",
     "text": [
      "\n",
      "Classification Report:\n",
      "======================================================================\n",
      "                     precision    recall  f1-score   support\n",
      "\n",
      "          Cardboard     0.8125    0.7536    0.7820        69\n",
      "      Food Organics     0.7538    0.7903    0.7717        62\n",
      "              Glass     0.8095    0.5397    0.6476        63\n",
      "              Metal     0.6526    0.5254    0.5822       118\n",
      "Miscellaneous Trash     0.3867    0.3867    0.3867        75\n",
      "              Paper     0.7500    0.6000    0.6667        75\n",
      "            Plastic     0.5455    0.7826    0.6429       138\n",
      "      Textile Trash     0.6667    0.4583    0.5432        48\n",
      "         Vegetation     0.7531    0.9385    0.8356        65\n",
      "\n",
      "           accuracy                         0.6480       713\n",
      "          macro avg     0.6812    0.6417    0.6509       713\n",
      "       weighted avg     0.6624    0.6480    0.6443       713\n",
      "\n",
      "\n",
      "Per-Class Accuracy:\n",
      "======================================================================\n",
      "Cardboard           :  75.36% (69 samples)\n",
      "Food Organics       :  79.03% (62 samples)\n",
      "Glass               :  53.97% (63 samples)\n",
      "Metal               :  52.54% (118 samples)\n",
      "Miscellaneous Trash :  38.67% (75 samples)\n",
      "Paper               :  60.00% (75 samples)\n",
      "Plastic             :  78.26% (138 samples)\n",
      "Textile Trash       :  45.83% (48 samples)\n",
      "Vegetation          :  93.85% (65 samples)\n",
      "\n",
      "✓ Training complete!\n",
      "Best validation accuracy: 63.39%\n",
      "Final test accuracy: 64.80%\n"
     ]
    }
   ],
   "source": [
    "import numpy as np\n",
    "import torch\n",
    "import torch.nn as nn\n",
    "import torch.nn.functional as F\n",
    "import torch.optim as optim\n",
    "from torch.utils.data import Dataset, DataLoader\n",
    "from sklearn.utils.class_weight import compute_class_weight\n",
    "import torchvision.transforms as transforms\n",
    "import matplotlib.pyplot as plt\n",
    "import seaborn as sns\n",
    "from sklearn.metrics import confusion_matrix, classification_report\n",
    "from tqdm import tqdm\n",
    "import warnings\n",
    "warnings.filterwarnings('ignore')\n",
    "\n",
    "# ---------------------------\n",
    "# 0. Device\n",
    "# ---------------------------\n",
    "device = torch.device(\"cuda\" if torch.cuda.is_available() else \"cpu\")\n",
    "print(\"Using device:\", device)\n",
    "\n",
    "# ---------------------------\n",
    "# 1. Load data\n",
    "# ---------------------------\n",
    "image_array = np.load(\"images.npy\", allow_pickle=True)\n",
    "labels = np.load(\"labels.npy\", allow_pickle=True)\n",
    "\n",
    "# Load class names\n",
    "class_names = np.load(\"class_names.npy\", allow_pickle=True)\n",
    "num_classes = len(class_names)\n",
    "\n",
    "# Labels are already encoded (0, 1, 2, ..., num_classes-1)\n",
    "y = labels\n",
    "\n",
    "print(f\"Number of classes: {num_classes}\")\n",
    "print(f\"Classes: {class_names}\")\n",
    "print(f\"Class distribution: {np.bincount(y)}\")\n",
    "\n",
    "# Load pre-computed splits (already balanced!)\n",
    "train_idx = np.load(\"split_train.npy\")\n",
    "val_idx = np.load(\"split_val.npy\")\n",
    "test_idx = np.load(\"split_test.npy\")\n",
    "\n",
    "print(f\"Train size: {len(train_idx)}, Val size: {len(val_idx)}, Test size: {len(test_idx)}\")\n",
    "\n",
    "# ---------------------------\n",
    "# 2. Dataset class\n",
    "# ---------------------------\n",
    "class WasteDataset(Dataset):\n",
    "    def __init__(self, images, labels, indices, transform=None):\n",
    "        self.images = images\n",
    "        self.labels = labels\n",
    "        self.indices = indices\n",
    "        self.transform = transform\n",
    "\n",
    "    def __len__(self):\n",
    "        return len(self.indices)\n",
    "\n",
    "    def __getitem__(self, idx):\n",
    "        i = self.indices[idx]\n",
    "        img = self.images[i].astype(np.uint8)\n",
    "        label = self.labels[i]\n",
    "        if self.transform:\n",
    "            img = self.transform(img)\n",
    "        return img, label\n",
    "\n",
    "# ---------------------------\n",
    "# 3. Enhanced Transforms\n",
    "# ---------------------------\n",
    "# Compute mean/std (optional - you can also load from preprocessing)\n",
    "images_normalized = image_array.astype(np.float32) / 255.0\n",
    "mean = images_normalized.mean(axis=(0,1,2))\n",
    "std = images_normalized.std(axis=(0,1,2))\n",
    "print(\"Dataset Mean:\", mean)\n",
    "print(\"Dataset Std:\", std)\n",
    "\n",
    "train_transform = transforms.Compose([\n",
    "    transforms.ToPILImage(),\n",
    "    transforms.Resize((256, 256)),\n",
    "    transforms.RandomCrop(224),\n",
    "    transforms.RandomHorizontalFlip(),\n",
    "    transforms.RandomVerticalFlip(),\n",
    "    transforms.RandomRotation(30),\n",
    "    transforms.RandomAffine(degrees=0, translate=(0.1, 0.1), scale=(0.9, 1.1)),\n",
    "    transforms.ColorJitter(brightness=0.3, contrast=0.3, saturation=0.2),\n",
    "    transforms.ToTensor(),\n",
    "    transforms.Normalize(mean=[0.485, 0.456, 0.406], std=[0.229, 0.224, 0.225]),\n",
    "    transforms.RandomErasing(p=0.2)\n",
    "])\n",
    "\n",
    "val_transform = transforms.Compose([\n",
    "    transforms.ToPILImage(),\n",
    "    transforms.Resize((224, 224)),\n",
    "    transforms.ToTensor(),\n",
    "    transforms.Normalize(mean=[0.485, 0.456, 0.406], std=[0.229, 0.224, 0.225])\n",
    "])\n",
    "\n",
    "train_dataset = WasteDataset(image_array, y, train_idx, transform=train_transform)\n",
    "val_dataset = WasteDataset(image_array, y, val_idx, transform=val_transform)\n",
    "test_dataset = WasteDataset(image_array, y, test_idx, transform=val_transform)\n",
    "\n",
    "train_loader = DataLoader(train_dataset, batch_size=16, shuffle=True, num_workers=0, pin_memory=True)\n",
    "val_loader = DataLoader(val_dataset, batch_size=16, num_workers=0, pin_memory=True)\n",
    "test_loader = DataLoader(test_dataset, batch_size=16, num_workers=0, pin_memory=True)\n",
    "\n",
    "# ---------------------------\n",
    "# 4. Custom Residual-style CNN\n",
    "# ---------------------------\n",
    "class ResidualBlock(nn.Module):\n",
    "    def __init__(self, in_channels, out_channels, stride=1):\n",
    "        super().__init__()\n",
    "        self.conv1 = nn.Conv2d(in_channels, out_channels, 3, stride=stride, padding=1)\n",
    "        self.bn1 = nn.BatchNorm2d(out_channels)\n",
    "        self.conv2 = nn.Conv2d(out_channels, out_channels, 3, stride=1, padding=1)\n",
    "        self.bn2 = nn.BatchNorm2d(out_channels)\n",
    "        self.relu = nn.ReLU(inplace=True)\n",
    "        self.skip = nn.Sequential()\n",
    "        if stride != 1 or in_channels != out_channels:\n",
    "            self.skip = nn.Sequential(\n",
    "                nn.Conv2d(in_channels, out_channels, 1, stride=stride),\n",
    "                nn.BatchNorm2d(out_channels)\n",
    "            )\n",
    "\n",
    "    def forward(self, x):\n",
    "        out = self.relu(self.bn1(self.conv1(x)))\n",
    "        out = self.bn2(self.conv2(out))\n",
    "        out += self.skip(x)\n",
    "        out = self.relu(out)\n",
    "        return out\n",
    "\n",
    "class BetterCNN(nn.Module):\n",
    "    def __init__(self, num_classes, input_channels=3):\n",
    "        super().__init__()\n",
    "        self.layer1 = nn.Sequential(\n",
    "            nn.Conv2d(input_channels, 64, 3, padding=1),\n",
    "            nn.BatchNorm2d(64),\n",
    "            nn.ReLU(inplace=True)\n",
    "        )\n",
    "        self.layer2 = ResidualBlock(64, 128, stride=2)\n",
    "        self.layer3 = ResidualBlock(128, 256, stride=2)\n",
    "        self.layer4 = ResidualBlock(256, 512, stride=2)\n",
    "        self.pool = nn.AdaptiveAvgPool2d((4,4))\n",
    "        self.dropout = nn.Dropout(0.5)\n",
    "        self.fc1 = nn.Linear(512*4*4, 512)\n",
    "        self.fc2 = nn.Linear(512, num_classes)\n",
    "\n",
    "    def forward(self, x):\n",
    "        x = self.layer1(x)\n",
    "        x = self.layer2(x)\n",
    "        x = self.layer3(x)\n",
    "        x = self.layer4(x)\n",
    "        x = self.pool(x)\n",
    "        x = x.view(x.size(0), -1)\n",
    "        x = self.dropout(F.relu(self.fc1(x)))\n",
    "        x = self.fc2(x)\n",
    "        return x\n",
    "\n",
    "print(\"Using Residual-style BetterCNN\")\n",
    "model = BetterCNN(num_classes=num_classes, input_channels=3).to(device)\n",
    "print(f\"BetterCNN parameters: {sum(p.numel() for p in model.parameters() if p.requires_grad):,}\")\n",
    "\n",
    "# ---------------------------\n",
    "# 5. Label Smoothing Loss\n",
    "# ---------------------------\n",
    "class LabelSmoothingCrossEntropy(nn.Module):\n",
    "    def __init__(self, epsilon=0.1, weight=None):\n",
    "        super().__init__()\n",
    "        self.epsilon = epsilon\n",
    "        self.weight = weight\n",
    "    \n",
    "    def forward(self, output, target):\n",
    "        n_class = output.size(1)\n",
    "        log_preds = F.log_softmax(output, dim=1)\n",
    "        loss = -log_preds.sum(dim=1).mean()\n",
    "        nll = F.nll_loss(log_preds, target, weight=self.weight)\n",
    "        return (1 - self.epsilon) * nll + self.epsilon * loss / n_class\n",
    "\n",
    "class_weights = compute_class_weight(\n",
    "    class_weight=\"balanced\",\n",
    "    classes=np.unique(y[train_idx]),\n",
    "    y=y[train_idx]\n",
    ")\n",
    "class_weights = torch.tensor(class_weights, dtype=torch.float32).to(device)\n",
    "print(\"\\nClass weights:\")\n",
    "for i, (name, weight) in enumerate(zip(class_names, class_weights)):\n",
    "    print(f\"  {name:20s}: {weight:.3f}\")\n",
    "\n",
    "criterion = LabelSmoothingCrossEntropy(epsilon=0.1, weight=class_weights)\n",
    "\n",
    "# ---------------------------\n",
    "# 6. Optimizer and Scheduler\n",
    "# ---------------------------\n",
    "optimizer = optim.Adam(model.parameters(), lr=0.001, weight_decay=1e-4)\n",
    "scheduler = optim.lr_scheduler.ReduceLROnPlateau(\n",
    "    optimizer, mode='max', factor=0.5, patience=3, min_lr=1e-7\n",
    ")\n",
    "\n",
    "# ---------------------------\n",
    "# 7. Training loop\n",
    "# ---------------------------\n",
    "num_epochs = 20\n",
    "best_val_acc = 0\n",
    "patience = 10\n",
    "trigger_times = 0\n",
    "train_losses, val_losses = [], []\n",
    "train_accs, val_accs = [], []\n",
    "\n",
    "print(\"\\nStarting training...\")\n",
    "for epoch in range(num_epochs):\n",
    "    model.train()\n",
    "    running_loss, correct, total = 0, 0, 0\n",
    "    loop = tqdm(enumerate(train_loader), total=len(train_loader), desc=f\"Epoch {epoch+1}/{num_epochs} [Train]\")\n",
    "    for i, (X_batch, y_batch) in loop:\n",
    "        X_batch, y_batch = X_batch.to(device), y_batch.to(device)\n",
    "        optimizer.zero_grad()\n",
    "        outputs = model(X_batch)\n",
    "        loss = criterion(outputs, y_batch)\n",
    "        loss.backward()\n",
    "        torch.nn.utils.clip_grad_norm_(model.parameters(), max_norm=1.0)\n",
    "        optimizer.step()\n",
    "\n",
    "        running_loss += loss.item() * X_batch.size(0)\n",
    "        _, predicted = torch.max(outputs, 1)\n",
    "        correct += (predicted == y_batch).sum().item()\n",
    "        total += y_batch.size(0)\n",
    "        loop.set_postfix(loss=running_loss/total, acc=correct/total)\n",
    "\n",
    "    train_loss = running_loss / total\n",
    "    train_acc = correct / total\n",
    "    train_losses.append(train_loss)\n",
    "    train_accs.append(train_acc)\n",
    "\n",
    "    model.eval()\n",
    "    val_loss, correct, total = 0, 0, 0\n",
    "    loop_val = tqdm(val_loader, desc=f\"Epoch {epoch+1}/{num_epochs} [Val]\")\n",
    "    with torch.no_grad():\n",
    "        for X_batch, y_batch in loop_val:\n",
    "            X_batch, y_batch = X_batch.to(device), y_batch.to(device)\n",
    "            outputs = model(X_batch)\n",
    "            loss = criterion(outputs, y_batch)\n",
    "            val_loss += loss.item() * X_batch.size(0)\n",
    "            _, predicted = torch.max(outputs, 1)\n",
    "            correct += (predicted == y_batch).sum().item()\n",
    "            total += y_batch.size(0)\n",
    "            loop_val.set_postfix(loss=val_loss/total, acc=correct/total)\n",
    "\n",
    "    val_loss = val_loss / total\n",
    "    val_acc = correct / total\n",
    "    val_losses.append(val_loss)\n",
    "    val_accs.append(val_acc)\n",
    "\n",
    "    print(f\"Epoch {epoch+1}/{num_epochs} | Train Loss: {train_loss:.4f} | Train Acc: {train_acc:.4f} | Val Loss: {val_loss:.4f} | Val Acc: {val_acc:.4f}\")\n",
    "\n",
    "    scheduler.step(val_acc)\n",
    "\n",
    "    if val_acc > best_val_acc:\n",
    "        best_val_acc = val_acc\n",
    "        trigger_times = 0\n",
    "        torch.save({\n",
    "            'epoch': epoch,\n",
    "            'model_state_dict': model.state_dict(),\n",
    "            'optimizer_state_dict': optimizer.state_dict(),\n",
    "            'val_acc': val_acc,\n",
    "        }, \"best_model.pth\")\n",
    "        print(f\"✓ Best model saved with val_acc: {val_acc:.4f}\")\n",
    "    else:\n",
    "        trigger_times += 1\n",
    "        if trigger_times >= patience:\n",
    "            print(f\"Early stopping triggered at epoch {epoch+1}!\")\n",
    "            break\n",
    "\n",
    "# ---------------------------\n",
    "# 8. Plot training history\n",
    "# ---------------------------\n",
    "plt.figure(figsize=(14, 5))\n",
    "plt.subplot(1, 2, 1)\n",
    "plt.plot(train_losses, label='Train Loss')\n",
    "plt.plot(val_losses, label='Val Loss')\n",
    "plt.xlabel('Epoch')\n",
    "plt.ylabel('Loss')\n",
    "plt.title('Training and Validation Loss')\n",
    "plt.legend()\n",
    "plt.grid(True)\n",
    "\n",
    "plt.subplot(1, 2, 2)\n",
    "plt.plot(train_accs, label='Train Accuracy')\n",
    "plt.plot(val_accs, label='Val Accuracy')\n",
    "plt.xlabel('Epoch')\n",
    "plt.ylabel('Accuracy')\n",
    "plt.title('Training and Validation Accuracy')\n",
    "plt.legend()\n",
    "plt.grid(True)\n",
    "plt.tight_layout()\n",
    "plt.savefig('training_history.png', dpi=300, bbox_inches='tight')\n",
    "plt.show()\n",
    "\n",
    "# ---------------------------\n",
    "# 9. Test evaluation\n",
    "# ---------------------------\n",
    "checkpoint = torch.load(\"best_model.pth\")\n",
    "model.load_state_dict(checkpoint['model_state_dict'])\n",
    "print(f\"\\nLoaded best model from epoch {checkpoint['epoch']+1}\")\n",
    "\n",
    "model.eval()\n",
    "y_true, y_pred, y_probs = [], [], []\n",
    "\n",
    "with torch.no_grad():\n",
    "    loop_test = tqdm(test_loader, desc=\"Testing\")\n",
    "    for X_batch, y_batch in loop_test:\n",
    "        X_batch, y_batch = X_batch.to(device), y_batch.to(device)\n",
    "        outputs = model(X_batch)\n",
    "        probs = F.softmax(outputs, dim=1)\n",
    "        _, predicted = torch.max(outputs, 1)\n",
    "        y_true.extend(y_batch.cpu().numpy())\n",
    "        y_pred.extend(predicted.cpu().numpy())\n",
    "        y_probs.extend(probs.cpu().numpy())\n",
    "\n",
    "test_acc = np.mean(np.array(y_true) == np.array(y_pred))\n",
    "print(f\"\\n{'='*50}\")\n",
    "print(f\"Test Accuracy: {test_acc*100:.2f}%\")\n",
    "print(f\"{'='*50}\\n\")\n",
    "\n",
    "# ---------------------------\n",
    "# 10. Confusion matrix\n",
    "# ---------------------------\n",
    "cm = confusion_matrix(y_true, y_pred)\n",
    "plt.figure(figsize=(12, 10))\n",
    "sns.heatmap(cm, annot=True, fmt=\"d\", cmap='Blues',\n",
    "            xticklabels=class_names, yticklabels=class_names)\n",
    "plt.xlabel(\"Predicted\", fontsize=12)\n",
    "plt.ylabel(\"True\", fontsize=12)\n",
    "plt.title(f\"Confusion Matrix (Test Accuracy: {test_acc*100:.2f}%)\", fontsize=14)\n",
    "plt.xticks(rotation=45, ha='right')\n",
    "plt.yticks(rotation=0)\n",
    "plt.tight_layout()\n",
    "plt.savefig('confusion_matrix.png', dpi=300, bbox_inches='tight')\n",
    "plt.show()\n",
    "\n",
    "# ---------------------------\n",
    "# 11. Classification report\n",
    "# ---------------------------\n",
    "print(\"\\nClassification Report:\")\n",
    "print(\"=\"*70)\n",
    "print(classification_report(y_true, y_pred, target_names=[str(c) for c in class_names], digits=4))\n",
    "\n",
    "# ---------------------------\n",
    "# 12. Per-class accuracy\n",
    "# ---------------------------\n",
    "print(\"\\nPer-Class Accuracy:\")\n",
    "print(\"=\"*70)\n",
    "for i, class_name in enumerate(class_names):\n",
    "    class_mask = np.array(y_true) == i\n",
    "    if class_mask.sum() > 0:\n",
    "        class_acc = np.mean(np.array(y_pred)[class_mask] == i)\n",
    "        print(f\"{str(class_name):20s}: {class_acc*100:6.2f}% ({class_mask.sum()} samples)\")\n",
    "\n",
    "print(\"\\n✓ Training complete!\")\n",
    "print(f\"Best validation accuracy: {best_val_acc*100:.2f}%\")\n",
    "print(f\"Final test accuracy: {test_acc*100:.2f}%\")"
   ]
  },
  {
   "cell_type": "markdown",
   "id": "4a1a90c3",
   "metadata": {},
   "source": [
    "# MODEL 1 WITH DIFFERENT TRAIN TEST SPLIT"
   ]
  },
  {
   "cell_type": "code",
   "execution_count": 5,
   "id": "fab359be",
   "metadata": {},
   "outputs": [
    {
     "name": "stdout",
     "output_type": "stream",
     "text": [
      "Using device: cuda\n",
      "Number of classes: 9\n",
      "Classes: ['Cardboard' 'Food Organics' 'Glass' 'Metal' 'Miscellaneous Trash' 'Paper'\n",
      " 'Plastic' 'Textile Trash' 'Vegetation']\n",
      "Class distribution: [783 768 771 882 794 795 921 741 776]\n",
      "Train size: 5061, Val size: 1085, Test size: 1085\n",
      "Train size: 5061, Val size: 1085, Test size: 1085\n",
      "Dataset Mean: [0.03540312 0.03540312 0.03540312]\n",
      "Dataset Std: [0.18815719 0.18815719 0.18815719]\n",
      "Using Residual-style BetterCNN\n",
      "BetterCNN parameters: 9,026,313\n",
      "\n",
      "Class weights:\n",
      "  Cardboard           : 1.028\n",
      "  Food Organics       : 1.045\n",
      "  Glass               : 1.043\n",
      "  Metal               : 0.911\n",
      "  Miscellaneous Trash : 1.011\n",
      "  Paper               : 1.010\n",
      "  Plastic             : 0.872\n",
      "  Textile Trash       : 1.083\n",
      "  Vegetation          : 1.036\n",
      "\n",
      "Starting training...\n"
     ]
    },
    {
     "name": "stderr",
     "output_type": "stream",
     "text": [
      "Epoch 1/20 [Train]: 100%|██████████| 317/317 [01:53<00:00,  2.80it/s, acc=0.214, loss=2.18]\n",
      "Epoch 1/20 [Val]: 100%|██████████| 68/68 [00:09<00:00,  7.23it/s, acc=0.3, loss=1.95]  \n"
     ]
    },
    {
     "name": "stdout",
     "output_type": "stream",
     "text": [
      "Epoch 1/20 | Train Loss: 2.1822 | Train Acc: 0.2136 | Val Loss: 1.9548 | Val Acc: 0.3005\n",
      "✓ Best model saved with val_acc: 0.3005\n"
     ]
    },
    {
     "name": "stderr",
     "output_type": "stream",
     "text": [
      "Epoch 2/20 [Train]: 100%|██████████| 317/317 [01:53<00:00,  2.80it/s, acc=0.298, loss=1.97]\n",
      "Epoch 2/20 [Val]: 100%|██████████| 68/68 [00:09<00:00,  7.32it/s, acc=0.355, loss=1.85]\n"
     ]
    },
    {
     "name": "stdout",
     "output_type": "stream",
     "text": [
      "Epoch 2/20 | Train Loss: 1.9720 | Train Acc: 0.2982 | Val Loss: 1.8513 | Val Acc: 0.3548\n",
      "✓ Best model saved with val_acc: 0.3548\n"
     ]
    },
    {
     "name": "stderr",
     "output_type": "stream",
     "text": [
      "Epoch 3/20 [Train]: 100%|██████████| 317/317 [01:52<00:00,  2.81it/s, acc=0.336, loss=1.9] \n",
      "Epoch 3/20 [Val]: 100%|██████████| 68/68 [00:09<00:00,  7.44it/s, acc=0.397, loss=1.8] \n"
     ]
    },
    {
     "name": "stdout",
     "output_type": "stream",
     "text": [
      "Epoch 3/20 | Train Loss: 1.9028 | Train Acc: 0.3355 | Val Loss: 1.7992 | Val Acc: 0.3972\n",
      "✓ Best model saved with val_acc: 0.3972\n"
     ]
    },
    {
     "name": "stderr",
     "output_type": "stream",
     "text": [
      "Epoch 4/20 [Train]: 100%|██████████| 317/317 [01:50<00:00,  2.87it/s, acc=0.358, loss=1.85]\n",
      "Epoch 4/20 [Val]: 100%|██████████| 68/68 [00:09<00:00,  7.46it/s, acc=0.4, loss=1.74]  \n"
     ]
    },
    {
     "name": "stdout",
     "output_type": "stream",
     "text": [
      "Epoch 4/20 | Train Loss: 1.8518 | Train Acc: 0.3580 | Val Loss: 1.7386 | Val Acc: 0.4000\n",
      "✓ Best model saved with val_acc: 0.4000\n"
     ]
    },
    {
     "name": "stderr",
     "output_type": "stream",
     "text": [
      "Epoch 5/20 [Train]: 100%|██████████| 317/317 [01:50<00:00,  2.87it/s, acc=0.384, loss=1.8] \n",
      "Epoch 5/20 [Val]: 100%|██████████| 68/68 [00:09<00:00,  7.45it/s, acc=0.46, loss=1.7]  \n"
     ]
    },
    {
     "name": "stdout",
     "output_type": "stream",
     "text": [
      "Epoch 5/20 | Train Loss: 1.8032 | Train Acc: 0.3837 | Val Loss: 1.6983 | Val Acc: 0.4599\n",
      "✓ Best model saved with val_acc: 0.4599\n"
     ]
    },
    {
     "name": "stderr",
     "output_type": "stream",
     "text": [
      "Epoch 6/20 [Train]: 100%|██████████| 317/317 [01:50<00:00,  2.86it/s, acc=0.399, loss=1.79]\n",
      "Epoch 6/20 [Val]: 100%|██████████| 68/68 [00:09<00:00,  7.45it/s, acc=0.379, loss=1.89]\n"
     ]
    },
    {
     "name": "stdout",
     "output_type": "stream",
     "text": [
      "Epoch 6/20 | Train Loss: 1.7917 | Train Acc: 0.3987 | Val Loss: 1.8898 | Val Acc: 0.3788\n"
     ]
    },
    {
     "name": "stderr",
     "output_type": "stream",
     "text": [
      "Epoch 7/20 [Train]: 100%|██████████| 317/317 [01:50<00:00,  2.86it/s, acc=0.419, loss=1.74]\n",
      "Epoch 7/20 [Val]: 100%|██████████| 68/68 [00:09<00:00,  7.45it/s, acc=0.437, loss=1.8] \n"
     ]
    },
    {
     "name": "stdout",
     "output_type": "stream",
     "text": [
      "Epoch 7/20 | Train Loss: 1.7426 | Train Acc: 0.4195 | Val Loss: 1.7953 | Val Acc: 0.4369\n"
     ]
    },
    {
     "name": "stderr",
     "output_type": "stream",
     "text": [
      "Epoch 8/20 [Train]: 100%|██████████| 317/317 [01:52<00:00,  2.82it/s, acc=0.436, loss=1.72]\n",
      "Epoch 8/20 [Val]: 100%|██████████| 68/68 [00:09<00:00,  7.44it/s, acc=0.479, loss=1.66]\n"
     ]
    },
    {
     "name": "stdout",
     "output_type": "stream",
     "text": [
      "Epoch 8/20 | Train Loss: 1.7170 | Train Acc: 0.4361 | Val Loss: 1.6627 | Val Acc: 0.4793\n",
      "✓ Best model saved with val_acc: 0.4793\n"
     ]
    },
    {
     "name": "stderr",
     "output_type": "stream",
     "text": [
      "Epoch 9/20 [Train]: 100%|██████████| 317/317 [01:51<00:00,  2.85it/s, acc=0.449, loss=1.68]\n",
      "Epoch 9/20 [Val]: 100%|██████████| 68/68 [00:09<00:00,  7.40it/s, acc=0.523, loss=1.52]\n"
     ]
    },
    {
     "name": "stdout",
     "output_type": "stream",
     "text": [
      "Epoch 9/20 | Train Loss: 1.6805 | Train Acc: 0.4491 | Val Loss: 1.5220 | Val Acc: 0.5226\n",
      "✓ Best model saved with val_acc: 0.5226\n"
     ]
    },
    {
     "name": "stderr",
     "output_type": "stream",
     "text": [
      "Epoch 10/20 [Train]: 100%|██████████| 317/317 [01:51<00:00,  2.85it/s, acc=0.47, loss=1.65] \n",
      "Epoch 10/20 [Val]: 100%|██████████| 68/68 [00:09<00:00,  7.41it/s, acc=0.496, loss=1.61]\n"
     ]
    },
    {
     "name": "stdout",
     "output_type": "stream",
     "text": [
      "Epoch 10/20 | Train Loss: 1.6548 | Train Acc: 0.4703 | Val Loss: 1.6122 | Val Acc: 0.4959\n"
     ]
    },
    {
     "name": "stderr",
     "output_type": "stream",
     "text": [
      "Epoch 11/20 [Train]: 100%|██████████| 317/317 [01:51<00:00,  2.85it/s, acc=0.471, loss=1.64]\n",
      "Epoch 11/20 [Val]: 100%|██████████| 68/68 [00:09<00:00,  7.43it/s, acc=0.517, loss=1.57]\n"
     ]
    },
    {
     "name": "stdout",
     "output_type": "stream",
     "text": [
      "Epoch 11/20 | Train Loss: 1.6426 | Train Acc: 0.4714 | Val Loss: 1.5700 | Val Acc: 0.5171\n"
     ]
    },
    {
     "name": "stderr",
     "output_type": "stream",
     "text": [
      "Epoch 12/20 [Train]: 100%|██████████| 317/317 [01:50<00:00,  2.86it/s, acc=0.474, loss=1.61]\n",
      "Epoch 12/20 [Val]: 100%|██████████| 68/68 [00:09<00:00,  7.42it/s, acc=0.527, loss=1.53]\n"
     ]
    },
    {
     "name": "stdout",
     "output_type": "stream",
     "text": [
      "Epoch 12/20 | Train Loss: 1.6137 | Train Acc: 0.4740 | Val Loss: 1.5324 | Val Acc: 0.5272\n",
      "✓ Best model saved with val_acc: 0.5272\n"
     ]
    },
    {
     "name": "stderr",
     "output_type": "stream",
     "text": [
      "Epoch 13/20 [Train]: 100%|██████████| 317/317 [01:51<00:00,  2.85it/s, acc=0.497, loss=1.59]\n",
      "Epoch 13/20 [Val]: 100%|██████████| 68/68 [00:09<00:00,  7.41it/s, acc=0.509, loss=1.63]\n"
     ]
    },
    {
     "name": "stdout",
     "output_type": "stream",
     "text": [
      "Epoch 13/20 | Train Loss: 1.5903 | Train Acc: 0.4971 | Val Loss: 1.6259 | Val Acc: 0.5088\n"
     ]
    },
    {
     "name": "stderr",
     "output_type": "stream",
     "text": [
      "Epoch 14/20 [Train]: 100%|██████████| 317/317 [01:51<00:00,  2.86it/s, acc=0.511, loss=1.57]\n",
      "Epoch 14/20 [Val]: 100%|██████████| 68/68 [00:09<00:00,  7.43it/s, acc=0.556, loss=1.45]\n"
     ]
    },
    {
     "name": "stdout",
     "output_type": "stream",
     "text": [
      "Epoch 14/20 | Train Loss: 1.5664 | Train Acc: 0.5110 | Val Loss: 1.4537 | Val Acc: 0.5558\n",
      "✓ Best model saved with val_acc: 0.5558\n"
     ]
    },
    {
     "name": "stderr",
     "output_type": "stream",
     "text": [
      "Epoch 15/20 [Train]: 100%|██████████| 317/317 [01:51<00:00,  2.85it/s, acc=0.498, loss=1.59]\n",
      "Epoch 15/20 [Val]: 100%|██████████| 68/68 [00:09<00:00,  7.39it/s, acc=0.569, loss=1.44]\n"
     ]
    },
    {
     "name": "stdout",
     "output_type": "stream",
     "text": [
      "Epoch 15/20 | Train Loss: 1.5880 | Train Acc: 0.4979 | Val Loss: 1.4366 | Val Acc: 0.5687\n",
      "✓ Best model saved with val_acc: 0.5687\n"
     ]
    },
    {
     "name": "stderr",
     "output_type": "stream",
     "text": [
      "Epoch 16/20 [Train]: 100%|██████████| 317/317 [01:51<00:00,  2.84it/s, acc=0.503, loss=1.56]\n",
      "Epoch 16/20 [Val]: 100%|██████████| 68/68 [00:09<00:00,  7.49it/s, acc=0.58, loss=1.41] \n"
     ]
    },
    {
     "name": "stdout",
     "output_type": "stream",
     "text": [
      "Epoch 16/20 | Train Loss: 1.5613 | Train Acc: 0.5033 | Val Loss: 1.4140 | Val Acc: 0.5797\n",
      "✓ Best model saved with val_acc: 0.5797\n"
     ]
    },
    {
     "name": "stderr",
     "output_type": "stream",
     "text": [
      "Epoch 17/20 [Train]: 100%|██████████| 317/317 [01:51<00:00,  2.84it/s, acc=0.524, loss=1.53]\n",
      "Epoch 17/20 [Val]: 100%|██████████| 68/68 [00:09<00:00,  7.05it/s, acc=0.598, loss=1.39]\n"
     ]
    },
    {
     "name": "stdout",
     "output_type": "stream",
     "text": [
      "Epoch 17/20 | Train Loss: 1.5337 | Train Acc: 0.5242 | Val Loss: 1.3852 | Val Acc: 0.5982\n",
      "✓ Best model saved with val_acc: 0.5982\n"
     ]
    },
    {
     "name": "stderr",
     "output_type": "stream",
     "text": [
      "Epoch 18/20 [Train]: 100%|██████████| 317/317 [01:54<00:00,  2.77it/s, acc=0.528, loss=1.52]\n",
      "Epoch 18/20 [Val]: 100%|██████████| 68/68 [00:09<00:00,  7.39it/s, acc=0.547, loss=1.51]\n"
     ]
    },
    {
     "name": "stdout",
     "output_type": "stream",
     "text": [
      "Epoch 18/20 | Train Loss: 1.5200 | Train Acc: 0.5284 | Val Loss: 1.5112 | Val Acc: 0.5475\n"
     ]
    },
    {
     "name": "stderr",
     "output_type": "stream",
     "text": [
      "Epoch 19/20 [Train]: 100%|██████████| 317/317 [01:53<00:00,  2.80it/s, acc=0.528, loss=1.52]\n",
      "Epoch 19/20 [Val]: 100%|██████████| 68/68 [00:09<00:00,  7.42it/s, acc=0.523, loss=1.57]\n"
     ]
    },
    {
     "name": "stdout",
     "output_type": "stream",
     "text": [
      "Epoch 19/20 | Train Loss: 1.5225 | Train Acc: 0.5276 | Val Loss: 1.5687 | Val Acc: 0.5226\n"
     ]
    },
    {
     "name": "stderr",
     "output_type": "stream",
     "text": [
      "Epoch 20/20 [Train]: 100%|██████████| 317/317 [01:51<00:00,  2.84it/s, acc=0.535, loss=1.51]\n",
      "Epoch 20/20 [Val]: 100%|██████████| 68/68 [00:09<00:00,  7.19it/s, acc=0.586, loss=1.39]\n"
     ]
    },
    {
     "name": "stdout",
     "output_type": "stream",
     "text": [
      "Epoch 20/20 | Train Loss: 1.5098 | Train Acc: 0.5353 | Val Loss: 1.3929 | Val Acc: 0.5862\n"
     ]
    },
    {
     "data": {
      "image/png": "[encoded data removed]",
      "text/plain": [
       "<Figure size 1400x500 with 2 Axes>"
      ]
     },
     "metadata": {},
     "output_type": "display_data"
    },
    {
     "name": "stdout",
     "output_type": "stream",
     "text": [
      "\n",
      "Loaded best model from epoch 17\n"
     ]
    },
    {
     "name": "stderr",
     "output_type": "stream",
     "text": [
      "Testing: 100%|██████████| 68/68 [00:09<00:00,  7.26it/s]\n"
     ]
    },
    {
     "name": "stdout",
     "output_type": "stream",
     "text": [
      "\n",
      "==================================================\n",
      "Test Accuracy: 62.40%\n",
      "==================================================\n",
      "\n"
     ]
    },
    {
     "data": {
      "image/png": "[encoded data removed]",
      "text/plain": [
       "<Figure size 1200x1000 with 2 Axes>"
      ]
     },
     "metadata": {},
     "output_type": "display_data"
    },
    {
     "name": "stdout",
     "output_type": "stream",
     "text": [
      "\n",
      "Classification Report:\n",
      "======================================================================\n",
      "                     precision    recall  f1-score   support\n",
      "\n",
      "          Cardboard     0.7549    0.6525    0.7000       118\n",
      "      Food Organics     0.6364    0.8522    0.7286       115\n",
      "              Glass     0.8205    0.5517    0.6598       116\n",
      "              Metal     0.7564    0.4470    0.5619       132\n",
      "Miscellaneous Trash     0.4623    0.4118    0.4356       119\n",
      "              Paper     0.7013    0.4538    0.5510       119\n",
      "            Plastic     0.4431    0.7899    0.5677       138\n",
      "      Textile Trash     0.5421    0.5225    0.5321       111\n",
      "         Vegetation     0.7956    0.9316    0.8583       117\n",
      "\n",
      "           accuracy                         0.6240      1085\n",
      "          macro avg     0.6569    0.6237    0.6217      1085\n",
      "       weighted avg     0.6545    0.6240    0.6197      1085\n",
      "\n",
      "\n",
      "Per-Class Accuracy:\n",
      "======================================================================\n",
      "Cardboard           :  65.25% (118 samples)\n",
      "Food Organics       :  85.22% (115 samples)\n",
      "Glass               :  55.17% (116 samples)\n",
      "Metal               :  44.70% (132 samples)\n",
      "Miscellaneous Trash :  41.18% (119 samples)\n",
      "Paper               :  45.38% (119 samples)\n",
      "Plastic             :  78.99% (138 samples)\n",
      "Textile Trash       :  52.25% (111 samples)\n",
      "Vegetation          :  93.16% (117 samples)\n",
      "\n",
      "✓ Training complete!\n",
      "Best validation accuracy: 59.82%\n",
      "Final test accuracy: 62.40%\n"
     ]
    }
   ],
   "source": [
    "import numpy as np\n",
    "import torch\n",
    "import torch.nn as nn\n",
    "import torch.nn.functional as F\n",
    "import torch.optim as optim\n",
    "from torch.utils.data import Dataset, DataLoader\n",
    "from sklearn.model_selection import train_test_split\n",
    "from sklearn.utils.class_weight import compute_class_weight\n",
    "import torchvision.transforms as transforms\n",
    "import matplotlib.pyplot as plt\n",
    "import seaborn as sns\n",
    "from sklearn.metrics import confusion_matrix, classification_report\n",
    "from tqdm import tqdm\n",
    "import warnings\n",
    "warnings.filterwarnings('ignore')\n",
    "\n",
    "# ---------------------------\n",
    "# 0. Device\n",
    "# ---------------------------\n",
    "device = torch.device(\"cuda\" if torch.cuda.is_available() else \"cpu\")\n",
    "print(\"Using device:\", device)\n",
    "\n",
    "# ---------------------------\n",
    "# 1. Load data\n",
    "# ---------------------------\n",
    "image_array = np.load(\"images.npy\", allow_pickle=True)\n",
    "labels = np.load(\"labels.npy\", allow_pickle=True)\n",
    "\n",
    "# Load class names\n",
    "class_names = np.load(\"class_names.npy\", allow_pickle=True)\n",
    "num_classes = len(class_names)\n",
    "\n",
    "# Labels are already encoded (0, 1, 2, ..., num_classes-1)\n",
    "y = labels\n",
    "\n",
    "print(f\"Number of classes: {num_classes}\")\n",
    "print(f\"Classes: {class_names}\")\n",
    "print(f\"Class distribution: {np.bincount(y)}\")\n",
    "\n",
    "# Train/Val/Test split\n",
    "train_idx, test_idx = train_test_split(\n",
    "    np.arange(len(y)), test_size=0.15, random_state=42, stratify=y\n",
    ")\n",
    "train_idx, val_idx = train_test_split(\n",
    "    train_idx, test_size=(0.15/0.85), random_state=42, stratify=y[train_idx]\n",
    ")\n",
    "print(f\"Train size: {len(train_idx)}, Val size: {len(val_idx)}, Test size: {len(test_idx)}\")\n",
    "\n",
    "print(f\"Train size: {len(train_idx)}, Val size: {len(val_idx)}, Test size: {len(test_idx)}\")\n",
    "\n",
    "\n",
    "\n",
    "\n",
    "# ---------------------------\n",
    "# 2. Dataset class\n",
    "# ---------------------------\n",
    "class WasteDataset(Dataset):\n",
    "    def __init__(self, images, labels, indices, transform=None):\n",
    "        self.images = images\n",
    "        self.labels = labels\n",
    "        self.indices = indices\n",
    "        self.transform = transform\n",
    "\n",
    "    def __len__(self):\n",
    "        return len(self.indices)\n",
    "\n",
    "    def __getitem__(self, idx):\n",
    "        i = self.indices[idx]\n",
    "        img = self.images[i].astype(np.uint8)\n",
    "        label = self.labels[i]\n",
    "        if self.transform:\n",
    "            img = self.transform(img)\n",
    "        return img, label\n",
    "\n",
    "# ---------------------------\n",
    "# 3. Enhanced Transforms\n",
    "# ---------------------------\n",
    "# Compute mean/std (optional - you can also load from preprocessing)\n",
    "images_normalized = image_array.astype(np.float32) / 255.0\n",
    "mean = images_normalized.mean(axis=(0,1,2))\n",
    "std = images_normalized.std(axis=(0,1,2))\n",
    "print(\"Dataset Mean:\", mean)\n",
    "print(\"Dataset Std:\", std)\n",
    "\n",
    "train_transform = transforms.Compose([\n",
    "    transforms.ToPILImage(),\n",
    "    transforms.Resize((256, 256)),\n",
    "    transforms.RandomCrop(224),\n",
    "    transforms.RandomHorizontalFlip(),\n",
    "    transforms.RandomVerticalFlip(),\n",
    "    transforms.RandomRotation(30),\n",
    "    transforms.RandomAffine(degrees=0, translate=(0.1, 0.1), scale=(0.9, 1.1)),\n",
    "    transforms.ColorJitter(brightness=0.3, contrast=0.3, saturation=0.2),\n",
    "    transforms.ToTensor(),\n",
    "    transforms.Normalize(mean=[0.485, 0.456, 0.406], std=[0.229, 0.224, 0.225]),\n",
    "    transforms.RandomErasing(p=0.2)\n",
    "])\n",
    "\n",
    "val_transform = transforms.Compose([\n",
    "    transforms.ToPILImage(),\n",
    "    transforms.Resize((224, 224)),\n",
    "    transforms.ToTensor(),\n",
    "    transforms.Normalize(mean=[0.485, 0.456, 0.406], std=[0.229, 0.224, 0.225])\n",
    "])\n",
    "\n",
    "train_dataset = WasteDataset(image_array, y, train_idx, transform=train_transform)\n",
    "val_dataset = WasteDataset(image_array, y, val_idx, transform=val_transform)\n",
    "test_dataset = WasteDataset(image_array, y, test_idx, transform=val_transform)\n",
    "\n",
    "train_loader = DataLoader(train_dataset, batch_size=16, shuffle=True, num_workers=0, pin_memory=True)\n",
    "val_loader = DataLoader(val_dataset, batch_size=16, num_workers=0, pin_memory=True)\n",
    "test_loader = DataLoader(test_dataset, batch_size=16, num_workers=0, pin_memory=True)\n",
    "\n",
    "# ---------------------------\n",
    "# 4. Custom Residual-style CNN\n",
    "# ---------------------------\n",
    "class ResidualBlock(nn.Module):\n",
    "    def __init__(self, in_channels, out_channels, stride=1):\n",
    "        super().__init__()\n",
    "        self.conv1 = nn.Conv2d(in_channels, out_channels, 3, stride=stride, padding=1)\n",
    "        self.bn1 = nn.BatchNorm2d(out_channels)\n",
    "        self.conv2 = nn.Conv2d(out_channels, out_channels, 3, stride=1, padding=1)\n",
    "        self.bn2 = nn.BatchNorm2d(out_channels)\n",
    "        self.relu = nn.ReLU(inplace=True)\n",
    "        self.skip = nn.Sequential()\n",
    "        if stride != 1 or in_channels != out_channels:\n",
    "            self.skip = nn.Sequential(\n",
    "                nn.Conv2d(in_channels, out_channels, 1, stride=stride),\n",
    "                nn.BatchNorm2d(out_channels)\n",
    "            )\n",
    "\n",
    "    def forward(self, x):\n",
    "        out = self.relu(self.bn1(self.conv1(x)))\n",
    "        out = self.bn2(self.conv2(out))\n",
    "        out += self.skip(x)\n",
    "        out = self.relu(out)\n",
    "        return out\n",
    "\n",
    "class BetterCNN(nn.Module):\n",
    "    def __init__(self, num_classes, input_channels=3):\n",
    "        super().__init__()\n",
    "        self.layer1 = nn.Sequential(\n",
    "            nn.Conv2d(input_channels, 64, 3, padding=1),\n",
    "            nn.BatchNorm2d(64),\n",
    "            nn.ReLU(inplace=True)\n",
    "        )\n",
    "        self.layer2 = ResidualBlock(64, 128, stride=2)\n",
    "        self.layer3 = ResidualBlock(128, 256, stride=2)\n",
    "        self.layer4 = ResidualBlock(256, 512, stride=2)\n",
    "        self.pool = nn.AdaptiveAvgPool2d((4,4))\n",
    "        self.dropout = nn.Dropout(0.5)\n",
    "        self.fc1 = nn.Linear(512*4*4, 512)\n",
    "        self.fc2 = nn.Linear(512, num_classes)\n",
    "\n",
    "    def forward(self, x):\n",
    "        x = self.layer1(x)\n",
    "        x = self.layer2(x)\n",
    "        x = self.layer3(x)\n",
    "        x = self.layer4(x)\n",
    "        x = self.pool(x)\n",
    "        x = x.view(x.size(0), -1)\n",
    "        x = self.dropout(F.relu(self.fc1(x)))\n",
    "        x = self.fc2(x)\n",
    "        return x\n",
    "\n",
    "print(\"Using Residual-style BetterCNN\")\n",
    "model = BetterCNN(num_classes=num_classes, input_channels=3).to(device)\n",
    "print(f\"BetterCNN parameters: {sum(p.numel() for p in model.parameters() if p.requires_grad):,}\")\n",
    "\n",
    "# ---------------------------\n",
    "# 5. Label Smoothing Loss\n",
    "# ---------------------------\n",
    "class LabelSmoothingCrossEntropy(nn.Module):\n",
    "    def __init__(self, epsilon=0.1, weight=None):\n",
    "        super().__init__()\n",
    "        self.epsilon = epsilon\n",
    "        self.weight = weight\n",
    "    \n",
    "    def forward(self, output, target):\n",
    "        n_class = output.size(1)\n",
    "        log_preds = F.log_softmax(output, dim=1)\n",
    "        loss = -log_preds.sum(dim=1).mean()\n",
    "        nll = F.nll_loss(log_preds, target, weight=self.weight)\n",
    "        return (1 - self.epsilon) * nll + self.epsilon * loss / n_class\n",
    "\n",
    "class_weights = compute_class_weight(\n",
    "    class_weight=\"balanced\",\n",
    "    classes=np.unique(y[train_idx]),\n",
    "    y=y[train_idx]\n",
    ")\n",
    "class_weights = torch.tensor(class_weights, dtype=torch.float32).to(device)\n",
    "print(\"\\nClass weights:\")\n",
    "for i, (name, weight) in enumerate(zip(class_names, class_weights)):\n",
    "    print(f\"  {name:20s}: {weight:.3f}\")\n",
    "\n",
    "criterion = LabelSmoothingCrossEntropy(epsilon=0.1, weight=class_weights)\n",
    "\n",
    "# ---------------------------\n",
    "# 6. Optimizer and Scheduler\n",
    "# ---------------------------\n",
    "optimizer = optim.Adam(model.parameters(), lr=0.001, weight_decay=1e-4)\n",
    "scheduler = optim.lr_scheduler.ReduceLROnPlateau(\n",
    "    optimizer, mode='max', factor=0.5, patience=3, min_lr=1e-7\n",
    ")\n",
    "\n",
    "# ---------------------------\n",
    "# 7. Training loop\n",
    "# ---------------------------\n",
    "num_epochs = 20\n",
    "best_val_acc = 0\n",
    "patience = 10\n",
    "trigger_times = 0\n",
    "train_losses, val_losses = [], []\n",
    "train_accs, val_accs = [], []\n",
    "\n",
    "print(\"\\nStarting training...\")\n",
    "for epoch in range(num_epochs):\n",
    "    model.train()\n",
    "    running_loss, correct, total = 0, 0, 0\n",
    "    loop = tqdm(enumerate(train_loader), total=len(train_loader), desc=f\"Epoch {epoch+1}/{num_epochs} [Train]\")\n",
    "    for i, (X_batch, y_batch) in loop:\n",
    "        X_batch, y_batch = X_batch.to(device), y_batch.to(device)\n",
    "        optimizer.zero_grad()\n",
    "        outputs = model(X_batch)\n",
    "        loss = criterion(outputs, y_batch)\n",
    "        loss.backward()\n",
    "        torch.nn.utils.clip_grad_norm_(model.parameters(), max_norm=1.0)\n",
    "        optimizer.step()\n",
    "\n",
    "        running_loss += loss.item() * X_batch.size(0)\n",
    "        _, predicted = torch.max(outputs, 1)\n",
    "        correct += (predicted == y_batch).sum().item()\n",
    "        total += y_batch.size(0)\n",
    "        loop.set_postfix(loss=running_loss/total, acc=correct/total)\n",
    "\n",
    "    train_loss = running_loss / total\n",
    "    train_acc = correct / total\n",
    "    train_losses.append(train_loss)\n",
    "    train_accs.append(train_acc)\n",
    "\n",
    "    model.eval()\n",
    "    val_loss, correct, total = 0, 0, 0\n",
    "    loop_val = tqdm(val_loader, desc=f\"Epoch {epoch+1}/{num_epochs} [Val]\")\n",
    "    with torch.no_grad():\n",
    "        for X_batch, y_batch in loop_val:\n",
    "            X_batch, y_batch = X_batch.to(device), y_batch.to(device)\n",
    "            outputs = model(X_batch)\n",
    "            loss = criterion(outputs, y_batch)\n",
    "            val_loss += loss.item() * X_batch.size(0)\n",
    "            _, predicted = torch.max(outputs, 1)\n",
    "            correct += (predicted == y_batch).sum().item()\n",
    "            total += y_batch.size(0)\n",
    "            loop_val.set_postfix(loss=val_loss/total, acc=correct/total)\n",
    "\n",
    "    val_loss = val_loss / total\n",
    "    val_acc = correct / total\n",
    "    val_losses.append(val_loss)\n",
    "    val_accs.append(val_acc)\n",
    "\n",
    "    print(f\"Epoch {epoch+1}/{num_epochs} | Train Loss: {train_loss:.4f} | Train Acc: {train_acc:.4f} | Val Loss: {val_loss:.4f} | Val Acc: {val_acc:.4f}\")\n",
    "\n",
    "    scheduler.step(val_acc)\n",
    "\n",
    "    if val_acc > best_val_acc:\n",
    "        best_val_acc = val_acc\n",
    "        trigger_times = 0\n",
    "        torch.save({\n",
    "            'epoch': epoch,\n",
    "            'model_state_dict': model.state_dict(),\n",
    "            'optimizer_state_dict': optimizer.state_dict(),\n",
    "            'val_acc': val_acc,\n",
    "        }, \"best_model.pth\")\n",
    "        print(f\"✓ Best model saved with val_acc: {val_acc:.4f}\")\n",
    "    else:\n",
    "        trigger_times += 1\n",
    "        if trigger_times >= patience:\n",
    "            print(f\"Early stopping triggered at epoch {epoch+1}!\")\n",
    "            break\n",
    "\n",
    "# ---------------------------\n",
    "# 8. Plot training history\n",
    "# ---------------------------\n",
    "plt.figure(figsize=(14, 5))\n",
    "plt.subplot(1, 2, 1)\n",
    "plt.plot(train_losses, label='Train Loss')\n",
    "plt.plot(val_losses, label='Val Loss')\n",
    "plt.xlabel('Epoch')\n",
    "plt.ylabel('Loss')\n",
    "plt.title('Training and Validation Loss')\n",
    "plt.legend()\n",
    "plt.grid(True)\n",
    "\n",
    "plt.subplot(1, 2, 2)\n",
    "plt.plot(train_accs, label='Train Accuracy')\n",
    "plt.plot(val_accs, label='Val Accuracy')\n",
    "plt.xlabel('Epoch')\n",
    "plt.ylabel('Accuracy')\n",
    "plt.title('Training and Validation Accuracy')\n",
    "plt.legend()\n",
    "plt.grid(True)\n",
    "plt.tight_layout()\n",
    "plt.savefig('training_history.png', dpi=300, bbox_inches='tight')\n",
    "plt.show()\n",
    "\n",
    "# ---------------------------\n",
    "# 9. Test evaluation\n",
    "# ---------------------------\n",
    "checkpoint = torch.load(\"best_model.pth\")\n",
    "model.load_state_dict(checkpoint['model_state_dict'])\n",
    "print(f\"\\nLoaded best model from epoch {checkpoint['epoch']+1}\")\n",
    "\n",
    "model.eval()\n",
    "y_true, y_pred, y_probs = [], [], []\n",
    "\n",
    "with torch.no_grad():\n",
    "    loop_test = tqdm(test_loader, desc=\"Testing\")\n",
    "    for X_batch, y_batch in loop_test:\n",
    "        X_batch, y_batch = X_batch.to(device), y_batch.to(device)\n",
    "        outputs = model(X_batch)\n",
    "        probs = F.softmax(outputs, dim=1)\n",
    "        _, predicted = torch.max(outputs, 1)\n",
    "        y_true.extend(y_batch.cpu().numpy())\n",
    "        y_pred.extend(predicted.cpu().numpy())\n",
    "        y_probs.extend(probs.cpu().numpy())\n",
    "\n",
    "test_acc = np.mean(np.array(y_true) == np.array(y_pred))\n",
    "print(f\"\\n{'='*50}\")\n",
    "print(f\"Test Accuracy: {test_acc*100:.2f}%\")\n",
    "print(f\"{'='*50}\\n\")\n",
    "\n",
    "# ---------------------------\n",
    "# 10. Confusion matrix\n",
    "# ---------------------------\n",
    "cm = confusion_matrix(y_true, y_pred)\n",
    "plt.figure(figsize=(12, 10))\n",
    "sns.heatmap(cm, annot=True, fmt=\"d\", cmap='Blues',\n",
    "            xticklabels=class_names, yticklabels=class_names)\n",
    "plt.xlabel(\"Predicted\", fontsize=12)\n",
    "plt.ylabel(\"True\", fontsize=12)\n",
    "plt.title(f\"Confusion Matrix (Test Accuracy: {test_acc*100:.2f}%)\", fontsize=14)\n",
    "plt.xticks(rotation=45, ha='right')\n",
    "plt.yticks(rotation=0)\n",
    "plt.tight_layout()\n",
    "plt.savefig('confusion_matrix.png', dpi=300, bbox_inches='tight')\n",
    "plt.show()\n",
    "\n",
    "# ---------------------------\n",
    "# 11. Classification report\n",
    "# ---------------------------\n",
    "print(\"\\nClassification Report:\")\n",
    "print(\"=\"*70)\n",
    "print(classification_report(y_true, y_pred, target_names=[str(c) for c in class_names], digits=4))\n",
    "\n",
    "# ---------------------------\n",
    "# 12. Per-class accuracy\n",
    "# ---------------------------\n",
    "print(\"\\nPer-Class Accuracy:\")\n",
    "print(\"=\"*70)\n",
    "for i, class_name in enumerate(class_names):\n",
    "    class_mask = np.array(y_true) == i\n",
    "    if class_mask.sum() > 0:\n",
    "        class_acc = np.mean(np.array(y_pred)[class_mask] == i)\n",
    "        print(f\"{str(class_name):20s}: {class_acc*100:6.2f}% ({class_mask.sum()} samples)\")\n",
    "\n",
    "print(\"\\n✓ Training complete!\")\n",
    "print(f\"Best validation accuracy: {best_val_acc*100:.2f}%\")\n",
    "print(f\"Final test accuracy: {test_acc*100:.2f}%\")"
   ]
  },
  {
   "cell_type": "markdown",
   "id": "b38bcec8",
   "metadata": {},
   "source": [
    "# MODEL 3 with hyperparameters tsting"
   ]
  },
  {
   "cell_type": "code",
   "execution_count": 8,
   "id": "34ce8ea7",
   "metadata": {},
   "outputs": [
    {
     "name": "stdout",
     "output_type": "stream",
     "text": [
      "Using device: cuda\n",
      "Number of classes: 9\n",
      "Classes: ['Cardboard' 'Food Organics' 'Glass' 'Metal' 'Miscellaneous Trash' 'Paper'\n",
      " 'Plastic' 'Textile Trash' 'Vegetation']\n",
      "Class distribution: [783 768 771 882 794 795 921 741 776]\n",
      "Train size: 5805, Val size: 713, Test size: 713\n",
      "\n",
      "################################################################################\n",
      "# STARTING HYPERPARAMETER SEARCH\n",
      "# Model: BetterCNN (Your Original Architecture)\n",
      "# Total Configurations: 6\n",
      "################################################################################\n",
      "\n",
      "\n",
      "********************************************************************************\n",
      "* EXPERIMENT 1/6: config_1_baseline\n",
      "********************************************************************************\n",
      "\n",
      "================================================================================\n",
      "Training Configuration: config_1_baseline\n",
      "================================================================================\n",
      "  learning_rate       : 0.001\n",
      "  batch_size          : 16\n",
      "  optimizer           : Adam\n",
      "  scheduler           : ReduceLROnPlateau\n",
      "  weight_decay        : 0.0001\n",
      "  label_smoothing     : 0.1\n",
      "  epochs              : 20\n",
      "  patience            : 10\n",
      "  hflip_prob          : 0.5\n",
      "  vflip_prob          : 0.3\n",
      "  rotation_degrees    : 30\n",
      "  color_jitter        : 0.3\n",
      "  random_erasing      : 0.2\n",
      "================================================================================\n",
      "\n",
      "Model parameters: 9,026,313\n"
     ]
    },
    {
     "name": "stderr",
     "output_type": "stream",
     "text": [
      "                                                                                           \r"
     ]
    },
    {
     "name": "stdout",
     "output_type": "stream",
     "text": [
      "Epoch  1/20 | Train: Loss=2.1317 Acc=0.2424 | Val: Loss=1.8796 Acc=0.3576 AvgAcc=0.3576\n",
      "  ✓ Best model saved! Val=0.3576, Test=0.3478\n"
     ]
    },
    {
     "name": "stderr",
     "output_type": "stream",
     "text": [
      "                                                                                           \r"
     ]
    },
    {
     "name": "stdout",
     "output_type": "stream",
     "text": [
      "Epoch  2/20 | Train: Loss=1.9385 Acc=0.3090 | Val: Loss=1.7909 Acc=0.4011 AvgAcc=0.4011\n",
      "  ✓ Best model saved! Val=0.4011, Test=0.3969\n"
     ]
    },
    {
     "name": "stderr",
     "output_type": "stream",
     "text": [
      "                                                                                           \r"
     ]
    },
    {
     "name": "stdout",
     "output_type": "stream",
     "text": [
      "Epoch  3/20 | Train: Loss=1.8894 Acc=0.3418 | Val: Loss=1.8117 Acc=0.4011 AvgAcc=0.3866\n"
     ]
    },
    {
     "name": "stderr",
     "output_type": "stream",
     "text": [
      "                                                                                           \r"
     ]
    },
    {
     "name": "stdout",
     "output_type": "stream",
     "text": [
      "Epoch  4/20 | Train: Loss=1.8512 Acc=0.3733 | Val: Loss=1.6115 Acc=0.5161 AvgAcc=0.4395\n",
      "  ✓ Best model saved! Val=0.4395, Test=0.5302\n"
     ]
    },
    {
     "name": "stderr",
     "output_type": "stream",
     "text": [
      "                                                                                           \r"
     ]
    },
    {
     "name": "stdout",
     "output_type": "stream",
     "text": [
      "Epoch  5/20 | Train: Loss=1.8167 Acc=0.3829 | Val: Loss=1.6359 Acc=0.4825 AvgAcc=0.4666\n",
      "  ✓ Best model saved! Val=0.4666, Test=0.4628\n"
     ]
    },
    {
     "name": "stderr",
     "output_type": "stream",
     "text": [
      "                                                                                           \r"
     ]
    },
    {
     "name": "stdout",
     "output_type": "stream",
     "text": [
      "Epoch  6/20 | Train: Loss=1.7758 Acc=0.4093 | Val: Loss=1.7348 Acc=0.4278 AvgAcc=0.4755\n",
      "  ✓ Best model saved! Val=0.4755, Test=0.4376\n"
     ]
    },
    {
     "name": "stderr",
     "output_type": "stream",
     "text": [
      "                                                                                           \r"
     ]
    },
    {
     "name": "stdout",
     "output_type": "stream",
     "text": [
      "Epoch  7/20 | Train: Loss=1.7531 Acc=0.4153 | Val: Loss=1.5824 Acc=0.5456 AvgAcc=0.4853\n",
      "  ✓ Best model saved! Val=0.4853, Test=0.5372\n"
     ]
    },
    {
     "name": "stderr",
     "output_type": "stream",
     "text": [
      "                                                                                           \r"
     ]
    },
    {
     "name": "stdout",
     "output_type": "stream",
     "text": [
      "Epoch  8/20 | Train: Loss=1.7159 Acc=0.4405 | Val: Loss=1.7758 Acc=0.4446 AvgAcc=0.4727\n"
     ]
    },
    {
     "name": "stderr",
     "output_type": "stream",
     "text": [
      "                                                                                           \r"
     ]
    },
    {
     "name": "stdout",
     "output_type": "stream",
     "text": [
      "Epoch  9/20 | Train: Loss=1.6807 Acc=0.4525 | Val: Loss=1.5100 Acc=0.5245 AvgAcc=0.5049\n",
      "  ✓ Best model saved! Val=0.5049, Test=0.5414\n"
     ]
    },
    {
     "name": "stderr",
     "output_type": "stream",
     "text": [
      "                                                                                            \r"
     ]
    },
    {
     "name": "stdout",
     "output_type": "stream",
     "text": [
      "Epoch 10/20 | Train: Loss=1.6552 Acc=0.4613 | Val: Loss=1.6505 Acc=0.4769 AvgAcc=0.4820\n"
     ]
    },
    {
     "name": "stderr",
     "output_type": "stream",
     "text": [
      "                                                                                            \r"
     ]
    },
    {
     "name": "stdout",
     "output_type": "stream",
     "text": [
      "Epoch 11/20 | Train: Loss=1.6360 Acc=0.4770 | Val: Loss=1.4548 Acc=0.5806 AvgAcc=0.5273\n",
      "  ✓ Best model saved! Val=0.5273, Test=0.5778\n"
     ]
    },
    {
     "name": "stderr",
     "output_type": "stream",
     "text": [
      "                                                                                            \r"
     ]
    },
    {
     "name": "stdout",
     "output_type": "stream",
     "text": [
      "Epoch 12/20 | Train: Loss=1.6159 Acc=0.4813 | Val: Loss=1.4679 Acc=0.5498 AvgAcc=0.5358\n",
      "  ✓ Best model saved! Val=0.5358, Test=0.5610\n"
     ]
    },
    {
     "name": "stderr",
     "output_type": "stream",
     "text": [
      "                                                                                            \r"
     ]
    },
    {
     "name": "stdout",
     "output_type": "stream",
     "text": [
      "Epoch 13/20 | Train: Loss=1.6029 Acc=0.4942 | Val: Loss=1.5145 Acc=0.5245 AvgAcc=0.5517\n",
      "  ✓ Best model saved! Val=0.5517, Test=0.5596\n"
     ]
    },
    {
     "name": "stderr",
     "output_type": "stream",
     "text": [
      "                                                                                            \r"
     ]
    },
    {
     "name": "stdout",
     "output_type": "stream",
     "text": [
      "Epoch 14/20 | Train: Loss=1.5835 Acc=0.4896 | Val: Loss=1.4341 Acc=0.5778 AvgAcc=0.5507\n"
     ]
    },
    {
     "name": "stderr",
     "output_type": "stream",
     "text": [
      "                                                                                            \r"
     ]
    },
    {
     "name": "stdout",
     "output_type": "stream",
     "text": [
      "Epoch 15/20 | Train: Loss=1.5713 Acc=0.5068 | Val: Loss=1.4273 Acc=0.5792 AvgAcc=0.5605\n",
      "  ✓ Best model saved! Val=0.5605, Test=0.5947\n"
     ]
    },
    {
     "name": "stderr",
     "output_type": "stream",
     "text": [
      "                                                                                            \r"
     ]
    },
    {
     "name": "stdout",
     "output_type": "stream",
     "text": [
      "Epoch 16/20 | Train: Loss=1.5048 Acc=0.5352 | Val: Loss=1.4049 Acc=0.5540 AvgAcc=0.5704\n",
      "  ✓ Best model saved! Val=0.5704, Test=0.5792\n"
     ]
    },
    {
     "name": "stderr",
     "output_type": "stream",
     "text": [
      "                                                                                            \r"
     ]
    },
    {
     "name": "stdout",
     "output_type": "stream",
     "text": [
      "Epoch 17/20 | Train: Loss=1.4873 Acc=0.5485 | Val: Loss=1.3223 Acc=0.6199 AvgAcc=0.5844\n",
      "  ✓ Best model saved! Val=0.5844, Test=0.6297\n"
     ]
    },
    {
     "name": "stderr",
     "output_type": "stream",
     "text": [
      "                                                                                            \r"
     ]
    },
    {
     "name": "stdout",
     "output_type": "stream",
     "text": [
      "Epoch 18/20 | Train: Loss=1.4703 Acc=0.5569 | Val: Loss=1.3729 Acc=0.5961 AvgAcc=0.5900\n",
      "  ✓ Best model saved! Val=0.5900, Test=0.6101\n"
     ]
    },
    {
     "name": "stderr",
     "output_type": "stream",
     "text": [
      "                                                                                            \r"
     ]
    },
    {
     "name": "stdout",
     "output_type": "stream",
     "text": [
      "Epoch 19/20 | Train: Loss=1.4621 Acc=0.5518 | Val: Loss=1.4279 Acc=0.5947 AvgAcc=0.6036\n",
      "  ✓ Best model saved! Val=0.6036, Test=0.5877\n"
     ]
    },
    {
     "name": "stderr",
     "output_type": "stream",
     "text": [
      "                                                                                            \r"
     ]
    },
    {
     "name": "stdout",
     "output_type": "stream",
     "text": [
      "Epoch 20/20 | Train: Loss=1.4651 Acc=0.5566 | Val: Loss=1.3153 Acc=0.6241 AvgAcc=0.6050\n",
      "  ✓ Best model saved! Val=0.6050, Test=0.6592\n",
      "\n",
      "================================================================================\n",
      "RESULTS for config_1_baseline:\n",
      "  Best Val Acc:  60.50%\n",
      "  Final Test Acc: 65.92%\n",
      "  Training Time:  46.8 minutes\n",
      "================================================================================\n",
      "\n",
      "✓ Saved results to results_config_1_baseline.json\n",
      "\n",
      "********************************************************************************\n",
      "* EXPERIMENT 2/6: config_2_lower_lr\n",
      "********************************************************************************\n",
      "\n",
      "================================================================================\n",
      "Training Configuration: config_2_lower_lr\n",
      "================================================================================\n",
      "  learning_rate       : 0.0005\n",
      "  batch_size          : 16\n",
      "  optimizer           : AdamW\n",
      "  scheduler           : CosineAnnealing\n",
      "  weight_decay        : 0.0005\n",
      "  label_smoothing     : 0.1\n",
      "  epochs              : 20\n",
      "  patience            : 12\n",
      "  hflip_prob          : 0.5\n",
      "  vflip_prob          : 0.3\n",
      "  rotation_degrees    : 30\n",
      "  color_jitter        : 0.3\n",
      "  random_erasing      : 0.2\n",
      "================================================================================\n",
      "\n",
      "Model parameters: 9,026,313\n"
     ]
    },
    {
     "name": "stderr",
     "output_type": "stream",
     "text": [
      "                                                                                           \r"
     ]
    },
    {
     "name": "stdout",
     "output_type": "stream",
     "text": [
      "Epoch  1/20 | Train: Loss=2.0644 Acc=0.2617 | Val: Loss=1.8364 Acc=0.3759 AvgAcc=0.3759\n",
      "  ✓ Best model saved! Val=0.3759, Test=0.3871\n"
     ]
    },
    {
     "name": "stderr",
     "output_type": "stream",
     "text": [
      "                                                                                           \r"
     ]
    },
    {
     "name": "stdout",
     "output_type": "stream",
     "text": [
      "Epoch  2/20 | Train: Loss=1.8659 Acc=0.3549 | Val: Loss=1.6171 Acc=0.5217 AvgAcc=0.5217\n",
      "  ✓ Best model saved! Val=0.5217, Test=0.5316\n"
     ]
    },
    {
     "name": "stderr",
     "output_type": "stream",
     "text": [
      "                                                                                           \r"
     ]
    },
    {
     "name": "stdout",
     "output_type": "stream",
     "text": [
      "Epoch  3/20 | Train: Loss=1.7806 Acc=0.4033 | Val: Loss=1.6513 Acc=0.4783 AvgAcc=0.4586\n"
     ]
    },
    {
     "name": "stderr",
     "output_type": "stream",
     "text": [
      "                                                                                           \r"
     ]
    },
    {
     "name": "stdout",
     "output_type": "stream",
     "text": [
      "Epoch  4/20 | Train: Loss=1.7179 Acc=0.4377 | Val: Loss=1.5335 Acc=0.5344 AvgAcc=0.5115\n"
     ]
    },
    {
     "name": "stderr",
     "output_type": "stream",
     "text": [
      "                                                                                           \r"
     ]
    },
    {
     "name": "stdout",
     "output_type": "stream",
     "text": [
      "Epoch  5/20 | Train: Loss=1.6659 Acc=0.4594 | Val: Loss=1.4686 Acc=0.5596 AvgAcc=0.5241\n",
      "  ✓ Best model saved! Val=0.5241, Test=0.5736\n"
     ]
    },
    {
     "name": "stderr",
     "output_type": "stream",
     "text": [
      "                                                                                           \r"
     ]
    },
    {
     "name": "stdout",
     "output_type": "stream",
     "text": [
      "Epoch  6/20 | Train: Loss=1.6321 Acc=0.4760 | Val: Loss=1.5106 Acc=0.5414 AvgAcc=0.5451\n",
      "  ✓ Best model saved! Val=0.5451, Test=0.5526\n"
     ]
    },
    {
     "name": "stderr",
     "output_type": "stream",
     "text": [
      "                                                                                           \r"
     ]
    },
    {
     "name": "stdout",
     "output_type": "stream",
     "text": [
      "Epoch  7/20 | Train: Loss=1.5991 Acc=0.4873 | Val: Loss=1.5013 Acc=0.5119 AvgAcc=0.5376\n"
     ]
    },
    {
     "name": "stderr",
     "output_type": "stream",
     "text": [
      "                                                                                           \r"
     ]
    },
    {
     "name": "stdout",
     "output_type": "stream",
     "text": [
      "Epoch  8/20 | Train: Loss=1.5737 Acc=0.5108 | Val: Loss=1.4413 Acc=0.5498 AvgAcc=0.5344\n"
     ]
    },
    {
     "name": "stderr",
     "output_type": "stream",
     "text": [
      "                                                                                           \r"
     ]
    },
    {
     "name": "stdout",
     "output_type": "stream",
     "text": [
      "Epoch  9/20 | Train: Loss=1.5364 Acc=0.5232 | Val: Loss=1.4040 Acc=0.5540 AvgAcc=0.5386\n"
     ]
    },
    {
     "name": "stderr",
     "output_type": "stream",
     "text": [
      "                                                                                            \r"
     ]
    },
    {
     "name": "stdout",
     "output_type": "stream",
     "text": [
      "Epoch 10/20 | Train: Loss=1.5385 Acc=0.5290 | Val: Loss=1.3731 Acc=0.5835 AvgAcc=0.5624\n",
      "  ✓ Best model saved! Val=0.5624, Test=0.5989\n"
     ]
    },
    {
     "name": "stderr",
     "output_type": "stream",
     "text": [
      "                                                                                            \r"
     ]
    },
    {
     "name": "stdout",
     "output_type": "stream",
     "text": [
      "Epoch 11/20 | Train: Loss=1.5057 Acc=0.5311 | Val: Loss=1.3385 Acc=0.5835 AvgAcc=0.5736\n",
      "  ✓ Best model saved! Val=0.5736, Test=0.5961\n"
     ]
    },
    {
     "name": "stderr",
     "output_type": "stream",
     "text": [
      "                                                                                            \r"
     ]
    },
    {
     "name": "stdout",
     "output_type": "stream",
     "text": [
      "Epoch 12/20 | Train: Loss=1.4676 Acc=0.5509 | Val: Loss=1.3704 Acc=0.5877 AvgAcc=0.5849\n",
      "  ✓ Best model saved! Val=0.5849, Test=0.6087\n"
     ]
    },
    {
     "name": "stderr",
     "output_type": "stream",
     "text": [
      "                                                                                            \r"
     ]
    },
    {
     "name": "stdout",
     "output_type": "stream",
     "text": [
      "Epoch 13/20 | Train: Loss=1.4546 Acc=0.5573 | Val: Loss=1.3374 Acc=0.6087 AvgAcc=0.5933\n",
      "  ✓ Best model saved! Val=0.5933, Test=0.6480\n"
     ]
    },
    {
     "name": "stderr",
     "output_type": "stream",
     "text": [
      "                                                                                            \r"
     ]
    },
    {
     "name": "stdout",
     "output_type": "stream",
     "text": [
      "Epoch 14/20 | Train: Loss=1.4419 Acc=0.5683 | Val: Loss=1.2894 Acc=0.6241 AvgAcc=0.6068\n",
      "  ✓ Best model saved! Val=0.6068, Test=0.6592\n"
     ]
    },
    {
     "name": "stderr",
     "output_type": "stream",
     "text": [
      "                                                                                            \r"
     ]
    },
    {
     "name": "stdout",
     "output_type": "stream",
     "text": [
      "Epoch 15/20 | Train: Loss=1.4193 Acc=0.5821 | Val: Loss=1.2818 Acc=0.6241 AvgAcc=0.6190\n",
      "  ✓ Best model saved! Val=0.6190, Test=0.6508\n"
     ]
    },
    {
     "name": "stderr",
     "output_type": "stream",
     "text": [
      "                                                                                            \r"
     ]
    },
    {
     "name": "stdout",
     "output_type": "stream",
     "text": [
      "Epoch 16/20 | Train: Loss=1.3989 Acc=0.5916 | Val: Loss=1.2717 Acc=0.6311 AvgAcc=0.6265\n",
      "  ✓ Best model saved! Val=0.6265, Test=0.6536\n"
     ]
    },
    {
     "name": "stderr",
     "output_type": "stream",
     "text": [
      "                                                                                            \r"
     ]
    },
    {
     "name": "stdout",
     "output_type": "stream",
     "text": [
      "Epoch 17/20 | Train: Loss=1.3913 Acc=0.5862 | Val: Loss=1.2915 Acc=0.6157 AvgAcc=0.6237\n"
     ]
    },
    {
     "name": "stderr",
     "output_type": "stream",
     "text": [
      "                                                                                            \r"
     ]
    },
    {
     "name": "stdout",
     "output_type": "stream",
     "text": [
      "Epoch 18/20 | Train: Loss=1.3887 Acc=0.5995 | Val: Loss=1.2805 Acc=0.6297 AvgAcc=0.6255\n"
     ]
    },
    {
     "name": "stderr",
     "output_type": "stream",
     "text": [
      "                                                                                            \r"
     ]
    },
    {
     "name": "stdout",
     "output_type": "stream",
     "text": [
      "Epoch 19/20 | Train: Loss=1.3701 Acc=0.6052 | Val: Loss=1.2621 Acc=0.6396 AvgAcc=0.6283\n",
      "  ✓ Best model saved! Val=0.6283, Test=0.6592\n"
     ]
    },
    {
     "name": "stderr",
     "output_type": "stream",
     "text": [
      "                                                                                            \r"
     ]
    },
    {
     "name": "stdout",
     "output_type": "stream",
     "text": [
      "Epoch 20/20 | Train: Loss=1.3872 Acc=0.6041 | Val: Loss=1.2678 Acc=0.6367 AvgAcc=0.6353\n",
      "  ✓ Best model saved! Val=0.6353, Test=0.6564\n",
      "\n",
      "================================================================================\n",
      "RESULTS for config_2_lower_lr:\n",
      "  Best Val Acc:  63.53%\n",
      "  Final Test Acc: 65.64%\n",
      "  Training Time:  46.2 minutes\n",
      "================================================================================\n",
      "\n",
      "✓ Saved results to results_config_2_lower_lr.json\n",
      "\n",
      "********************************************************************************\n",
      "* EXPERIMENT 3/6: config_3_larger_batch\n",
      "********************************************************************************\n",
      "\n",
      "================================================================================\n",
      "Training Configuration: config_3_larger_batch\n",
      "================================================================================\n",
      "  learning_rate       : 0.001\n",
      "  batch_size          : 32\n",
      "  optimizer           : AdamW\n",
      "  scheduler           : OneCycleLR\n",
      "  weight_decay        : 0.001\n",
      "  label_smoothing     : 0.1\n",
      "  epochs              : 20\n",
      "  patience            : 10\n",
      "  hflip_prob          : 0.5\n",
      "  vflip_prob          : 0.3\n",
      "  rotation_degrees    : 30\n",
      "  color_jitter        : 0.3\n",
      "  random_erasing      : 0.2\n",
      "================================================================================\n",
      "\n",
      "Model parameters: 9,026,313\n"
     ]
    },
    {
     "name": "stderr",
     "output_type": "stream",
     "text": [
      "                                                                                           \r"
     ]
    },
    {
     "name": "stdout",
     "output_type": "stream",
     "text": [
      "Epoch  1/20 | Train: Loss=1.9564 Acc=0.3044 | Val: Loss=1.6865 Acc=0.4783 AvgAcc=0.4783\n",
      "  ✓ Best model saved! Val=0.4783, Test=0.4881\n"
     ]
    },
    {
     "name": "stderr",
     "output_type": "stream",
     "text": [
      "                                                                                           \r"
     ]
    },
    {
     "name": "stdout",
     "output_type": "stream",
     "text": [
      "Epoch  2/20 | Train: Loss=1.8316 Acc=0.3814 | Val: Loss=2.3426 Acc=0.3226 AvgAcc=0.3226\n"
     ]
    },
    {
     "name": "stderr",
     "output_type": "stream",
     "text": [
      "                                                                                           \r"
     ]
    },
    {
     "name": "stdout",
     "output_type": "stream",
     "text": [
      "Epoch  3/20 | Train: Loss=1.8304 Acc=0.3845 | Val: Loss=1.6096 Acc=0.4923 AvgAcc=0.4310\n"
     ]
    },
    {
     "name": "stderr",
     "output_type": "stream",
     "text": [
      "                                                                                           \r"
     ]
    },
    {
     "name": "stdout",
     "output_type": "stream",
     "text": [
      "Epoch  4/20 | Train: Loss=1.8992 Acc=0.3595 | Val: Loss=1.8718 Acc=0.3619 AvgAcc=0.3922\n"
     ]
    },
    {
     "name": "stderr",
     "output_type": "stream",
     "text": [
      "                                                                                           \r"
     ]
    },
    {
     "name": "stdout",
     "output_type": "stream",
     "text": [
      "Epoch  5/20 | Train: Loss=1.8644 Acc=0.3595 | Val: Loss=2.1563 Acc=0.3268 AvgAcc=0.3936\n"
     ]
    },
    {
     "name": "stderr",
     "output_type": "stream",
     "text": [
      "                                                                                           \r"
     ]
    },
    {
     "name": "stdout",
     "output_type": "stream",
     "text": [
      "Epoch  6/20 | Train: Loss=1.8490 Acc=0.3728 | Val: Loss=2.6249 Acc=0.3478 AvgAcc=0.3455\n"
     ]
    },
    {
     "name": "stderr",
     "output_type": "stream",
     "text": [
      "                                                                                           \r"
     ]
    },
    {
     "name": "stdout",
     "output_type": "stream",
     "text": [
      "Epoch  7/20 | Train: Loss=1.7610 Acc=0.4176 | Val: Loss=1.6411 Acc=0.4572 AvgAcc=0.3773\n"
     ]
    },
    {
     "name": "stderr",
     "output_type": "stream",
     "text": [
      "                                                                                           \r"
     ]
    },
    {
     "name": "stdout",
     "output_type": "stream",
     "text": [
      "Epoch  8/20 | Train: Loss=1.6925 Acc=0.4489 | Val: Loss=1.5343 Acc=0.5203 AvgAcc=0.4418\n"
     ]
    },
    {
     "name": "stderr",
     "output_type": "stream",
     "text": [
      "                                                                                           \r"
     ]
    },
    {
     "name": "stdout",
     "output_type": "stream",
     "text": [
      "Epoch  9/20 | Train: Loss=1.6761 Acc=0.4570 | Val: Loss=1.6588 Acc=0.4867 AvgAcc=0.4881\n",
      "  ✓ Best model saved! Val=0.4881, Test=0.4853\n"
     ]
    },
    {
     "name": "stderr",
     "output_type": "stream",
     "text": [
      "                                                                                            \r"
     ]
    },
    {
     "name": "stdout",
     "output_type": "stream",
     "text": [
      "Epoch 10/20 | Train: Loss=1.6279 Acc=0.4870 | Val: Loss=2.1822 Acc=0.3773 AvgAcc=0.4614\n"
     ]
    },
    {
     "name": "stderr",
     "output_type": "stream",
     "text": [
      "                                                                                            \r"
     ]
    },
    {
     "name": "stdout",
     "output_type": "stream",
     "text": [
      "Epoch 11/20 | Train: Loss=1.5890 Acc=0.5011 | Val: Loss=1.4217 Acc=0.5736 AvgAcc=0.4792\n"
     ]
    },
    {
     "name": "stderr",
     "output_type": "stream",
     "text": [
      "                                                                                            \r"
     ]
    },
    {
     "name": "stdout",
     "output_type": "stream",
     "text": [
      "Epoch 12/20 | Train: Loss=1.5382 Acc=0.5239 | Val: Loss=1.6482 Acc=0.4600 AvgAcc=0.4703\n"
     ]
    },
    {
     "name": "stderr",
     "output_type": "stream",
     "text": [
      "                                                                                            \r"
     ]
    },
    {
     "name": "stdout",
     "output_type": "stream",
     "text": [
      "Epoch 13/20 | Train: Loss=1.5100 Acc=0.5411 | Val: Loss=1.3827 Acc=0.5989 AvgAcc=0.5442\n",
      "  ✓ Best model saved! Val=0.5442, Test=0.6255\n"
     ]
    },
    {
     "name": "stderr",
     "output_type": "stream",
     "text": [
      "                                                                                            \r"
     ]
    },
    {
     "name": "stdout",
     "output_type": "stream",
     "text": [
      "Epoch 14/20 | Train: Loss=1.4779 Acc=0.5488 | Val: Loss=1.3345 Acc=0.6101 AvgAcc=0.5563\n",
      "  ✓ Best model saved! Val=0.5563, Test=0.6339\n"
     ]
    },
    {
     "name": "stderr",
     "output_type": "stream",
     "text": [
      "                                                                                            \r"
     ]
    },
    {
     "name": "stdout",
     "output_type": "stream",
     "text": [
      "Epoch 15/20 | Train: Loss=1.4412 Acc=0.5740 | Val: Loss=1.3821 Acc=0.5933 AvgAcc=0.6007\n",
      "  ✓ Best model saved! Val=0.6007, Test=0.6017\n"
     ]
    },
    {
     "name": "stderr",
     "output_type": "stream",
     "text": [
      "                                                                                            \r"
     ]
    },
    {
     "name": "stdout",
     "output_type": "stream",
     "text": [
      "Epoch 16/20 | Train: Loss=1.3976 Acc=0.5948 | Val: Loss=1.2585 Acc=0.6241 AvgAcc=0.6092\n",
      "  ✓ Best model saved! Val=0.6092, Test=0.6606\n"
     ]
    },
    {
     "name": "stderr",
     "output_type": "stream",
     "text": [
      "                                                                                            \r"
     ]
    },
    {
     "name": "stdout",
     "output_type": "stream",
     "text": [
      "Epoch 17/20 | Train: Loss=1.3853 Acc=0.6081 | Val: Loss=1.2312 Acc=0.6424 AvgAcc=0.6199\n",
      "  ✓ Best model saved! Val=0.6199, Test=0.6690\n"
     ]
    },
    {
     "name": "stderr",
     "output_type": "stream",
     "text": [
      "                                                                                            \r"
     ]
    },
    {
     "name": "stdout",
     "output_type": "stream",
     "text": [
      "Epoch 18/20 | Train: Loss=1.3495 Acc=0.6117 | Val: Loss=1.2326 Acc=0.6438 AvgAcc=0.6367\n",
      "  ✓ Best model saved! Val=0.6367, Test=0.6564\n"
     ]
    },
    {
     "name": "stderr",
     "output_type": "stream",
     "text": [
      "                                                                                            \r"
     ]
    },
    {
     "name": "stdout",
     "output_type": "stream",
     "text": [
      "Epoch 19/20 | Train: Loss=1.3313 Acc=0.6286 | Val: Loss=1.2379 Acc=0.6578 AvgAcc=0.6480\n",
      "  ✓ Best model saved! Val=0.6480, Test=0.6606\n"
     ]
    },
    {
     "name": "stderr",
     "output_type": "stream",
     "text": [
      "                                                                                            \r"
     ]
    },
    {
     "name": "stdout",
     "output_type": "stream",
     "text": [
      "Epoch 20/20 | Train: Loss=1.3352 Acc=0.6246 | Val: Loss=1.2324 Acc=0.6466 AvgAcc=0.6494\n",
      "  ✓ Best model saved! Val=0.6494, Test=0.6648\n",
      "\n",
      "================================================================================\n",
      "RESULTS for config_3_larger_batch:\n",
      "  Best Val Acc:  64.94%\n",
      "  Final Test Acc: 66.48%\n",
      "  Training Time:  44.0 minutes\n",
      "================================================================================\n",
      "\n",
      "✓ Saved results to results_config_3_larger_batch.json\n",
      "\n",
      "********************************************************************************\n",
      "* EXPERIMENT 4/6: config_4_less_augment\n",
      "********************************************************************************\n",
      "\n",
      "================================================================================\n",
      "Training Configuration: config_4_less_augment\n",
      "================================================================================\n",
      "  learning_rate       : 0.0005\n",
      "  batch_size          : 24\n",
      "  optimizer           : AdamW\n",
      "  scheduler           : CosineAnnealing\n",
      "  weight_decay        : 0.0005\n",
      "  label_smoothing     : 0.1\n",
      "  epochs              : 20\n",
      "  patience            : 12\n",
      "  hflip_prob          : 0.5\n",
      "  vflip_prob          : 0.2\n",
      "  rotation_degrees    : 15\n",
      "  color_jitter        : 0.2\n",
      "  random_erasing      : 0.1\n",
      "================================================================================\n",
      "\n",
      "Model parameters: 9,026,313\n"
     ]
    },
    {
     "name": "stderr",
     "output_type": "stream",
     "text": [
      "                                                                                           \r"
     ]
    },
    {
     "name": "stdout",
     "output_type": "stream",
     "text": [
      "Epoch  1/20 | Train: Loss=2.0101 Acc=0.2873 | Val: Loss=1.6967 Acc=0.4446 AvgAcc=0.4446\n",
      "  ✓ Best model saved! Val=0.4446, Test=0.4600\n"
     ]
    },
    {
     "name": "stderr",
     "output_type": "stream",
     "text": [
      "                                                                                           \r"
     ]
    },
    {
     "name": "stdout",
     "output_type": "stream",
     "text": [
      "Epoch  2/20 | Train: Loss=1.7270 Acc=0.4269 | Val: Loss=1.5205 Acc=0.5442 AvgAcc=0.5442\n",
      "  ✓ Best model saved! Val=0.5442, Test=0.5442\n"
     ]
    },
    {
     "name": "stderr",
     "output_type": "stream",
     "text": [
      "                                                                                           \r"
     ]
    },
    {
     "name": "stdout",
     "output_type": "stream",
     "text": [
      "Epoch  3/20 | Train: Loss=1.6416 Acc=0.4679 | Val: Loss=1.4774 Acc=0.5596 AvgAcc=0.5161\n"
     ]
    },
    {
     "name": "stderr",
     "output_type": "stream",
     "text": [
      "                                                                                           \r"
     ]
    },
    {
     "name": "stdout",
     "output_type": "stream",
     "text": [
      "Epoch  4/20 | Train: Loss=1.5932 Acc=0.4934 | Val: Loss=1.4450 Acc=0.5806 AvgAcc=0.5615\n",
      "  ✓ Best model saved! Val=0.5615, Test=0.5891\n"
     ]
    },
    {
     "name": "stderr",
     "output_type": "stream",
     "text": [
      "                                                                                           \r"
     ]
    },
    {
     "name": "stdout",
     "output_type": "stream",
     "text": [
      "Epoch  5/20 | Train: Loss=1.5526 Acc=0.5094 | Val: Loss=1.4754 Acc=0.5596 AvgAcc=0.5666\n",
      "  ✓ Best model saved! Val=0.5666, Test=0.5877\n"
     ]
    },
    {
     "name": "stderr",
     "output_type": "stream",
     "text": [
      "                                                                                           \r"
     ]
    },
    {
     "name": "stdout",
     "output_type": "stream",
     "text": [
      "Epoch  6/20 | Train: Loss=1.5260 Acc=0.5237 | Val: Loss=1.3632 Acc=0.5736 AvgAcc=0.5713\n",
      "  ✓ Best model saved! Val=0.5713, Test=0.6143\n"
     ]
    },
    {
     "name": "stderr",
     "output_type": "stream",
     "text": [
      "                                                                                           \r"
     ]
    },
    {
     "name": "stdout",
     "output_type": "stream",
     "text": [
      "Epoch  7/20 | Train: Loss=1.5012 Acc=0.5394 | Val: Loss=1.4005 Acc=0.5891 AvgAcc=0.5741\n",
      "  ✓ Best model saved! Val=0.5741, Test=0.5835\n"
     ]
    },
    {
     "name": "stderr",
     "output_type": "stream",
     "text": [
      "                                                                                           \r"
     ]
    },
    {
     "name": "stdout",
     "output_type": "stream",
     "text": [
      "Epoch  8/20 | Train: Loss=1.4776 Acc=0.5540 | Val: Loss=1.3446 Acc=0.6017 AvgAcc=0.5881\n",
      "  ✓ Best model saved! Val=0.5881, Test=0.6171\n"
     ]
    },
    {
     "name": "stderr",
     "output_type": "stream",
     "text": [
      "                                                                                           \r"
     ]
    },
    {
     "name": "stdout",
     "output_type": "stream",
     "text": [
      "Epoch  9/20 | Train: Loss=1.4457 Acc=0.5621 | Val: Loss=1.5010 Acc=0.5456 AvgAcc=0.5788\n"
     ]
    },
    {
     "name": "stderr",
     "output_type": "stream",
     "text": [
      "                                                                                            \r"
     ]
    },
    {
     "name": "stdout",
     "output_type": "stream",
     "text": [
      "Epoch 10/20 | Train: Loss=1.4207 Acc=0.5747 | Val: Loss=1.2684 Acc=0.6424 AvgAcc=0.5965\n",
      "  ✓ Best model saved! Val=0.5965, Test=0.6578\n"
     ]
    },
    {
     "name": "stderr",
     "output_type": "stream",
     "text": [
      "                                                                                            \r"
     ]
    },
    {
     "name": "stdout",
     "output_type": "stream",
     "text": [
      "Epoch 11/20 | Train: Loss=1.3978 Acc=0.5836 | Val: Loss=1.2555 Acc=0.6522 AvgAcc=0.6134\n",
      "  ✓ Best model saved! Val=0.6134, Test=0.6704\n"
     ]
    },
    {
     "name": "stderr",
     "output_type": "stream",
     "text": [
      "                                                                                            \r"
     ]
    },
    {
     "name": "stdout",
     "output_type": "stream",
     "text": [
      "Epoch 12/20 | Train: Loss=1.3802 Acc=0.5953 | Val: Loss=1.3753 Acc=0.6031 AvgAcc=0.6325\n",
      "  ✓ Best model saved! Val=0.6325, Test=0.6283\n"
     ]
    },
    {
     "name": "stderr",
     "output_type": "stream",
     "text": [
      "                                                                                            \r"
     ]
    },
    {
     "name": "stdout",
     "output_type": "stream",
     "text": [
      "Epoch 13/20 | Train: Loss=1.3544 Acc=0.6140 | Val: Loss=1.2948 Acc=0.6199 AvgAcc=0.6251\n"
     ]
    },
    {
     "name": "stderr",
     "output_type": "stream",
     "text": [
      "                                                                                            \r"
     ]
    },
    {
     "name": "stdout",
     "output_type": "stream",
     "text": [
      "Epoch 14/20 | Train: Loss=1.3327 Acc=0.6205 | Val: Loss=1.1833 Acc=0.6802 AvgAcc=0.6344\n",
      "  ✓ Best model saved! Val=0.6344, Test=0.6914\n"
     ]
    },
    {
     "name": "stderr",
     "output_type": "stream",
     "text": [
      "                                                                                            \r"
     ]
    },
    {
     "name": "stdout",
     "output_type": "stream",
     "text": [
      "Epoch 15/20 | Train: Loss=1.3144 Acc=0.6283 | Val: Loss=1.1729 Acc=0.6830 AvgAcc=0.6611\n",
      "  ✓ Best model saved! Val=0.6611, Test=0.6999\n"
     ]
    },
    {
     "name": "stderr",
     "output_type": "stream",
     "text": [
      "                                                                                            \r"
     ]
    },
    {
     "name": "stdout",
     "output_type": "stream",
     "text": [
      "Epoch 16/20 | Train: Loss=1.2959 Acc=0.6412 | Val: Loss=1.1718 Acc=0.6886 AvgAcc=0.6840\n",
      "  ✓ Best model saved! Val=0.6840, Test=0.7041\n"
     ]
    },
    {
     "name": "stderr",
     "output_type": "stream",
     "text": [
      "                                                                                            \r"
     ]
    },
    {
     "name": "stdout",
     "output_type": "stream",
     "text": [
      "Epoch 17/20 | Train: Loss=1.2852 Acc=0.6432 | Val: Loss=1.1435 Acc=0.7069 AvgAcc=0.6928\n",
      "  ✓ Best model saved! Val=0.6928, Test=0.7181\n"
     ]
    },
    {
     "name": "stderr",
     "output_type": "stream",
     "text": [
      "                                                                                            \r"
     ]
    },
    {
     "name": "stdout",
     "output_type": "stream",
     "text": [
      "Epoch 18/20 | Train: Loss=1.2605 Acc=0.6601 | Val: Loss=1.1312 Acc=0.7111 AvgAcc=0.7022\n",
      "  ✓ Best model saved! Val=0.7022, Test=0.7251\n"
     ]
    },
    {
     "name": "stderr",
     "output_type": "stream",
     "text": [
      "                                                                                            \r"
     ]
    },
    {
     "name": "stdout",
     "output_type": "stream",
     "text": [
      "Epoch 19/20 | Train: Loss=1.2704 Acc=0.6527 | Val: Loss=1.1483 Acc=0.7041 AvgAcc=0.7073\n",
      "  ✓ Best model saved! Val=0.7073, Test=0.7097\n"
     ]
    },
    {
     "name": "stderr",
     "output_type": "stream",
     "text": [
      "                                                                                            \r"
     ]
    },
    {
     "name": "stdout",
     "output_type": "stream",
     "text": [
      "Epoch 20/20 | Train: Loss=1.2603 Acc=0.6608 | Val: Loss=1.1336 Acc=0.7027 AvgAcc=0.7059\n",
      "\n",
      "================================================================================\n",
      "RESULTS for config_4_less_augment:\n",
      "  Best Val Acc:  70.73%\n",
      "  Final Test Acc: 70.97%\n",
      "  Training Time:  46.9 minutes\n",
      "================================================================================\n",
      "\n",
      "✓ Saved results to results_config_4_less_augment.json\n",
      "\n",
      "********************************************************************************\n",
      "* EXPERIMENT 5/6: config_5_strong_reg\n",
      "********************************************************************************\n",
      "\n",
      "================================================================================\n",
      "Training Configuration: config_5_strong_reg\n",
      "================================================================================\n",
      "  learning_rate       : 0.0003\n",
      "  batch_size          : 32\n",
      "  optimizer           : AdamW\n",
      "  scheduler           : CosineAnnealing\n",
      "  weight_decay        : 0.001\n",
      "  label_smoothing     : 0.15\n",
      "  epochs              : 20\n",
      "  patience            : 15\n",
      "  hflip_prob          : 0.5\n",
      "  vflip_prob          : 0.3\n",
      "  rotation_degrees    : 20\n",
      "  color_jitter        : 0.25\n",
      "  random_erasing      : 0.15\n",
      "================================================================================\n",
      "\n",
      "Model parameters: 9,026,313\n"
     ]
    },
    {
     "name": "stderr",
     "output_type": "stream",
     "text": [
      "                                                                                           \r"
     ]
    },
    {
     "name": "stdout",
     "output_type": "stream",
     "text": [
      "Epoch  1/20 | Train: Loss=1.9776 Acc=0.3163 | Val: Loss=1.7986 Acc=0.4600 AvgAcc=0.4600\n",
      "  ✓ Best model saved! Val=0.4600, Test=0.4264\n"
     ]
    },
    {
     "name": "stderr",
     "output_type": "stream",
     "text": [
      "                                                                                           \r"
     ]
    },
    {
     "name": "stdout",
     "output_type": "stream",
     "text": [
      "Epoch  2/20 | Train: Loss=1.7799 Acc=0.4358 | Val: Loss=1.5948 Acc=0.5302 AvgAcc=0.5302\n",
      "  ✓ Best model saved! Val=0.5302, Test=0.5344\n"
     ]
    },
    {
     "name": "stderr",
     "output_type": "stream",
     "text": [
      "                                                                                           \r"
     ]
    },
    {
     "name": "stdout",
     "output_type": "stream",
     "text": [
      "Epoch  3/20 | Train: Loss=1.6943 Acc=0.4737 | Val: Loss=1.6435 Acc=0.5091 AvgAcc=0.4998\n"
     ]
    },
    {
     "name": "stderr",
     "output_type": "stream",
     "text": [
      "                                                                                           \r"
     ]
    },
    {
     "name": "stdout",
     "output_type": "stream",
     "text": [
      "Epoch  4/20 | Train: Loss=1.6484 Acc=0.5140 | Val: Loss=1.5710 Acc=0.5680 AvgAcc=0.5358\n",
      "  ✓ Best model saved! Val=0.5358, Test=0.5863\n"
     ]
    },
    {
     "name": "stderr",
     "output_type": "stream",
     "text": [
      "                                                                                           \r"
     ]
    },
    {
     "name": "stdout",
     "output_type": "stream",
     "text": [
      "Epoch  5/20 | Train: Loss=1.6397 Acc=0.5087 | Val: Loss=1.5596 Acc=0.5498 AvgAcc=0.5423\n",
      "  ✓ Best model saved! Val=0.5423, Test=0.5891\n"
     ]
    },
    {
     "name": "stderr",
     "output_type": "stream",
     "text": [
      "                                                                                           \r"
     ]
    },
    {
     "name": "stdout",
     "output_type": "stream",
     "text": [
      "Epoch  6/20 | Train: Loss=1.6059 Acc=0.5263 | Val: Loss=1.4678 Acc=0.6101 AvgAcc=0.5760\n",
      "  ✓ Best model saved! Val=0.5760, Test=0.6059\n"
     ]
    },
    {
     "name": "stderr",
     "output_type": "stream",
     "text": [
      "                                                                                           \r"
     ]
    },
    {
     "name": "stdout",
     "output_type": "stream",
     "text": [
      "Epoch  7/20 | Train: Loss=1.5732 Acc=0.5394 | Val: Loss=1.5759 Acc=0.5245 AvgAcc=0.5615\n"
     ]
    },
    {
     "name": "stderr",
     "output_type": "stream",
     "text": [
      "                                                                                           \r"
     ]
    },
    {
     "name": "stdout",
     "output_type": "stream",
     "text": [
      "Epoch  8/20 | Train: Loss=1.5675 Acc=0.5561 | Val: Loss=1.4170 Acc=0.6087 AvgAcc=0.5811\n",
      "  ✓ Best model saved! Val=0.5811, Test=0.6227\n"
     ]
    },
    {
     "name": "stderr",
     "output_type": "stream",
     "text": [
      "                                                                                           \r"
     ]
    },
    {
     "name": "stdout",
     "output_type": "stream",
     "text": [
      "Epoch  9/20 | Train: Loss=1.5339 Acc=0.5664 | Val: Loss=1.4618 Acc=0.5905 AvgAcc=0.5746\n"
     ]
    },
    {
     "name": "stderr",
     "output_type": "stream",
     "text": [
      "                                                                                            \r"
     ]
    },
    {
     "name": "stdout",
     "output_type": "stream",
     "text": [
      "Epoch 10/20 | Train: Loss=1.5233 Acc=0.5759 | Val: Loss=1.3810 Acc=0.6452 AvgAcc=0.6148\n",
      "  ✓ Best model saved! Val=0.6148, Test=0.6550\n"
     ]
    },
    {
     "name": "stderr",
     "output_type": "stream",
     "text": [
      "                                                                                            \r"
     ]
    },
    {
     "name": "stdout",
     "output_type": "stream",
     "text": [
      "Epoch 11/20 | Train: Loss=1.4967 Acc=0.5845 | Val: Loss=1.3854 Acc=0.6297 AvgAcc=0.6218\n",
      "  ✓ Best model saved! Val=0.6218, Test=0.6367\n"
     ]
    },
    {
     "name": "stderr",
     "output_type": "stream",
     "text": [
      "                                                                                            \r"
     ]
    },
    {
     "name": "stdout",
     "output_type": "stream",
     "text": [
      "Epoch 12/20 | Train: Loss=1.4798 Acc=0.5986 | Val: Loss=1.3286 Acc=0.6550 AvgAcc=0.6433\n",
      "  ✓ Best model saved! Val=0.6433, Test=0.6676\n"
     ]
    },
    {
     "name": "stderr",
     "output_type": "stream",
     "text": [
      "                                                                                            \r"
     ]
    },
    {
     "name": "stdout",
     "output_type": "stream",
     "text": [
      "Epoch 13/20 | Train: Loss=1.4563 Acc=0.6126 | Val: Loss=1.3884 Acc=0.6396 AvgAcc=0.6414\n"
     ]
    },
    {
     "name": "stderr",
     "output_type": "stream",
     "text": [
      "                                                                                            \r"
     ]
    },
    {
     "name": "stdout",
     "output_type": "stream",
     "text": [
      "Epoch 14/20 | Train: Loss=1.4443 Acc=0.6200 | Val: Loss=1.3633 Acc=0.6592 AvgAcc=0.6512\n",
      "  ✓ Best model saved! Val=0.6512, Test=0.6452\n"
     ]
    },
    {
     "name": "stderr",
     "output_type": "stream",
     "text": [
      "                                                                                            \r"
     ]
    },
    {
     "name": "stdout",
     "output_type": "stream",
     "text": [
      "Epoch 15/20 | Train: Loss=1.4294 Acc=0.6295 | Val: Loss=1.2930 Acc=0.6872 AvgAcc=0.6620\n",
      "  ✓ Best model saved! Val=0.6620, Test=0.7139\n"
     ]
    },
    {
     "name": "stderr",
     "output_type": "stream",
     "text": [
      "                                                                                            \r"
     ]
    },
    {
     "name": "stdout",
     "output_type": "stream",
     "text": [
      "Epoch 16/20 | Train: Loss=1.4183 Acc=0.6317 | Val: Loss=1.2811 Acc=0.6999 AvgAcc=0.6821\n",
      "  ✓ Best model saved! Val=0.6821, Test=0.6999\n"
     ]
    },
    {
     "name": "stderr",
     "output_type": "stream",
     "text": [
      "                                                                                            \r"
     ]
    },
    {
     "name": "stdout",
     "output_type": "stream",
     "text": [
      "Epoch 17/20 | Train: Loss=1.3922 Acc=0.6472 | Val: Loss=1.2732 Acc=0.6858 AvgAcc=0.6910\n",
      "  ✓ Best model saved! Val=0.6910, Test=0.7083\n"
     ]
    },
    {
     "name": "stderr",
     "output_type": "stream",
     "text": [
      "                                                                                            \r"
     ]
    },
    {
     "name": "stdout",
     "output_type": "stream",
     "text": [
      "Epoch 18/20 | Train: Loss=1.3776 Acc=0.6589 | Val: Loss=1.2655 Acc=0.6886 AvgAcc=0.6914\n",
      "  ✓ Best model saved! Val=0.6914, Test=0.7237\n"
     ]
    },
    {
     "name": "stderr",
     "output_type": "stream",
     "text": [
      "                                                                                            \r"
     ]
    },
    {
     "name": "stdout",
     "output_type": "stream",
     "text": [
      "Epoch 19/20 | Train: Loss=1.3906 Acc=0.6508 | Val: Loss=1.2587 Acc=0.7041 AvgAcc=0.6928\n",
      "  ✓ Best model saved! Val=0.6928, Test=0.7223\n"
     ]
    },
    {
     "name": "stderr",
     "output_type": "stream",
     "text": [
      "                                                                                            \r"
     ]
    },
    {
     "name": "stdout",
     "output_type": "stream",
     "text": [
      "Epoch 20/20 | Train: Loss=1.3723 Acc=0.6560 | Val: Loss=1.2547 Acc=0.6971 AvgAcc=0.6966\n",
      "  ✓ Best model saved! Val=0.6966, Test=0.7181\n",
      "\n",
      "================================================================================\n",
      "RESULTS for config_5_strong_reg:\n",
      "  Best Val Acc:  69.66%\n",
      "  Final Test Acc: 71.81%\n",
      "  Training Time:  44.1 minutes\n",
      "================================================================================\n",
      "\n",
      "✓ Saved results to results_config_5_strong_reg.json\n",
      "\n",
      "********************************************************************************\n",
      "* EXPERIMENT 6/6: config_6_sgd\n",
      "********************************************************************************\n",
      "\n",
      "================================================================================\n",
      "Training Configuration: config_6_sgd\n",
      "================================================================================\n",
      "  learning_rate       : 0.01\n",
      "  batch_size          : 32\n",
      "  optimizer           : SGD\n",
      "  scheduler           : CosineAnnealing\n",
      "  weight_decay        : 0.0005\n",
      "  label_smoothing     : 0.1\n",
      "  epochs              : 20\n",
      "  patience            : 12\n",
      "  hflip_prob          : 0.5\n",
      "  vflip_prob          : 0.3\n",
      "  rotation_degrees    : 25\n",
      "  color_jitter        : 0.25\n",
      "  random_erasing      : 0.15\n",
      "================================================================================\n",
      "\n",
      "Model parameters: 9,026,313\n"
     ]
    },
    {
     "name": "stderr",
     "output_type": "stream",
     "text": [
      "                                                                                           \r"
     ]
    },
    {
     "name": "stdout",
     "output_type": "stream",
     "text": [
      "Epoch  1/20 | Train: Loss=1.9549 Acc=0.3011 | Val: Loss=1.6850 Acc=0.4446 AvgAcc=0.4446\n",
      "  ✓ Best model saved! Val=0.4446, Test=0.4446\n"
     ]
    },
    {
     "name": "stderr",
     "output_type": "stream",
     "text": [
      "                                                                                           \r"
     ]
    },
    {
     "name": "stdout",
     "output_type": "stream",
     "text": [
      "Epoch  2/20 | Train: Loss=1.7368 Acc=0.4245 | Val: Loss=1.7871 Acc=0.4516 AvgAcc=0.4516\n",
      "  ✓ Best model saved! Val=0.4516, Test=0.4600\n"
     ]
    },
    {
     "name": "stderr",
     "output_type": "stream",
     "text": [
      "                                                                                           \r"
     ]
    },
    {
     "name": "stdout",
     "output_type": "stream",
     "text": [
      "Epoch  3/20 | Train: Loss=1.6460 Acc=0.4610 | Val: Loss=1.9954 Acc=0.3829 AvgAcc=0.4264\n"
     ]
    },
    {
     "name": "stderr",
     "output_type": "stream",
     "text": [
      "                                                                                           \r"
     ]
    },
    {
     "name": "stdout",
     "output_type": "stream",
     "text": [
      "Epoch  4/20 | Train: Loss=1.5959 Acc=0.4891 | Val: Loss=1.4129 Acc=0.5778 AvgAcc=0.4708\n",
      "  ✓ Best model saved! Val=0.4708, Test=0.5470\n"
     ]
    },
    {
     "name": "stderr",
     "output_type": "stream",
     "text": [
      "                                                                                           \r"
     ]
    },
    {
     "name": "stdout",
     "output_type": "stream",
     "text": [
      "Epoch  5/20 | Train: Loss=1.5628 Acc=0.5111 | Val: Loss=1.6047 Acc=0.4656 AvgAcc=0.4755\n",
      "  ✓ Best model saved! Val=0.4755, Test=0.4698\n"
     ]
    },
    {
     "name": "stderr",
     "output_type": "stream",
     "text": [
      "                                                                                           \r"
     ]
    },
    {
     "name": "stdout",
     "output_type": "stream",
     "text": [
      "Epoch  6/20 | Train: Loss=1.5333 Acc=0.5213 | Val: Loss=1.4537 Acc=0.5694 AvgAcc=0.5376\n",
      "  ✓ Best model saved! Val=0.5376, Test=0.5778\n"
     ]
    },
    {
     "name": "stderr",
     "output_type": "stream",
     "text": [
      "                                                                                           \r"
     ]
    },
    {
     "name": "stdout",
     "output_type": "stream",
     "text": [
      "Epoch  7/20 | Train: Loss=1.4875 Acc=0.5380 | Val: Loss=1.4350 Acc=0.5666 AvgAcc=0.5339\n"
     ]
    },
    {
     "name": "stderr",
     "output_type": "stream",
     "text": [
      "                                                                                           \r"
     ]
    },
    {
     "name": "stdout",
     "output_type": "stream",
     "text": [
      "Epoch  8/20 | Train: Loss=1.4689 Acc=0.5418 | Val: Loss=1.3359 Acc=0.5947 AvgAcc=0.5769\n",
      "  ✓ Best model saved! Val=0.5769, Test=0.6045\n"
     ]
    },
    {
     "name": "stderr",
     "output_type": "stream",
     "text": [
      "                                                                                           \r"
     ]
    },
    {
     "name": "stdout",
     "output_type": "stream",
     "text": [
      "Epoch  9/20 | Train: Loss=1.4343 Acc=0.5637 | Val: Loss=1.2681 Acc=0.6283 AvgAcc=0.5965\n",
      "  ✓ Best model saved! Val=0.5965, Test=0.6438\n"
     ]
    },
    {
     "name": "stderr",
     "output_type": "stream",
     "text": [
      "                                                                                            \r"
     ]
    },
    {
     "name": "stdout",
     "output_type": "stream",
     "text": [
      "Epoch 10/20 | Train: Loss=1.4079 Acc=0.5769 | Val: Loss=1.4328 Acc=0.5806 AvgAcc=0.6012\n",
      "  ✓ Best model saved! Val=0.6012, Test=0.5961\n"
     ]
    },
    {
     "name": "stderr",
     "output_type": "stream",
     "text": [
      "                                                                                            \r"
     ]
    },
    {
     "name": "stdout",
     "output_type": "stream",
     "text": [
      "Epoch 11/20 | Train: Loss=1.3824 Acc=0.5919 | Val: Loss=1.2594 Acc=0.6536 AvgAcc=0.6209\n",
      "  ✓ Best model saved! Val=0.6209, Test=0.6480\n"
     ]
    },
    {
     "name": "stderr",
     "output_type": "stream",
     "text": [
      "                                                                                            \r"
     ]
    },
    {
     "name": "stdout",
     "output_type": "stream",
     "text": [
      "Epoch 12/20 | Train: Loss=1.3628 Acc=0.6005 | Val: Loss=1.3279 Acc=0.6073 AvgAcc=0.6138\n"
     ]
    },
    {
     "name": "stderr",
     "output_type": "stream",
     "text": [
      "                                                                                            \r"
     ]
    },
    {
     "name": "stdout",
     "output_type": "stream",
     "text": [
      "Epoch 13/20 | Train: Loss=1.3464 Acc=0.6090 | Val: Loss=1.2354 Acc=0.6410 AvgAcc=0.6339\n",
      "  ✓ Best model saved! Val=0.6339, Test=0.6620\n"
     ]
    },
    {
     "name": "stderr",
     "output_type": "stream",
     "text": [
      "                                                                                            \r"
     ]
    },
    {
     "name": "stdout",
     "output_type": "stream",
     "text": [
      "Epoch 14/20 | Train: Loss=1.3265 Acc=0.6158 | Val: Loss=1.2135 Acc=0.6662 AvgAcc=0.6381\n",
      "  ✓ Best model saved! Val=0.6381, Test=0.6788\n"
     ]
    },
    {
     "name": "stderr",
     "output_type": "stream",
     "text": [
      "                                                                                            \r"
     ]
    },
    {
     "name": "stdout",
     "output_type": "stream",
     "text": [
      "Epoch 15/20 | Train: Loss=1.3060 Acc=0.6296 | Val: Loss=1.3080 Acc=0.6213 AvgAcc=0.6428\n",
      "  ✓ Best model saved! Val=0.6428, Test=0.6367\n"
     ]
    },
    {
     "name": "stderr",
     "output_type": "stream",
     "text": [
      "                                                                                            \r"
     ]
    },
    {
     "name": "stdout",
     "output_type": "stream",
     "text": [
      "Epoch 16/20 | Train: Loss=1.2956 Acc=0.6363 | Val: Loss=1.2177 Acc=0.6648 AvgAcc=0.6508\n",
      "  ✓ Best model saved! Val=0.6508, Test=0.6606\n"
     ]
    },
    {
     "name": "stderr",
     "output_type": "stream",
     "text": [
      "                                                                                            \r"
     ]
    },
    {
     "name": "stdout",
     "output_type": "stream",
     "text": [
      "Epoch 17/20 | Train: Loss=1.2775 Acc=0.6367 | Val: Loss=1.2069 Acc=0.6690 AvgAcc=0.6517\n",
      "  ✓ Best model saved! Val=0.6517, Test=0.6718\n"
     ]
    },
    {
     "name": "stderr",
     "output_type": "stream",
     "text": [
      "                                                                                            \r"
     ]
    },
    {
     "name": "stdout",
     "output_type": "stream",
     "text": [
      "Epoch 18/20 | Train: Loss=1.2688 Acc=0.6467 | Val: Loss=1.1786 Acc=0.6844 AvgAcc=0.6727\n",
      "  ✓ Best model saved! Val=0.6727, Test=0.6886\n"
     ]
    },
    {
     "name": "stderr",
     "output_type": "stream",
     "text": [
      "                                                                                            \r"
     ]
    },
    {
     "name": "stdout",
     "output_type": "stream",
     "text": [
      "Epoch 19/20 | Train: Loss=1.2735 Acc=0.6458 | Val: Loss=1.1735 Acc=0.6886 AvgAcc=0.6807\n",
      "  ✓ Best model saved! Val=0.6807, Test=0.6971\n"
     ]
    },
    {
     "name": "stderr",
     "output_type": "stream",
     "text": [
      "                                                                                            \r"
     ]
    },
    {
     "name": "stdout",
     "output_type": "stream",
     "text": [
      "Epoch 20/20 | Train: Loss=1.2460 Acc=0.6629 | Val: Loss=1.1775 Acc=0.6816 AvgAcc=0.6849\n",
      "  ✓ Best model saved! Val=0.6849, Test=0.6900\n",
      "\n",
      "================================================================================\n",
      "RESULTS for config_6_sgd:\n",
      "  Best Val Acc:  68.49%\n",
      "  Final Test Acc: 69.00%\n",
      "  Training Time:  44.2 minutes\n",
      "================================================================================\n",
      "\n",
      "✓ Saved results to results_config_6_sgd.json\n",
      "\n",
      "\n",
      "################################################################################\n",
      "# FINAL RESULTS COMPARISON\n",
      "################################################################################\n",
      "\n",
      "Rank   Configuration             Val Acc      Test Acc     Time(min)   \n",
      "--------------------------------------------------------------------------------\n",
      "1      config_5_strong_reg            69.66%      71.81%        44.1\n",
      "2      config_4_less_augment          70.73%      70.97%        46.9\n",
      "3      config_6_sgd                   68.49%      69.00%        44.2\n",
      "4      config_3_larger_batch          64.94%      66.48%        44.0\n",
      "5      config_1_baseline              60.50%      65.92%        46.8\n",
      "6      config_2_lower_lr              63.53%      65.64%        46.2\n",
      "\n",
      "================================================================================\n",
      "BEST CONFIGURATION: config_5_strong_reg\n",
      "================================================================================\n",
      "\n",
      "Hyperparameters:\n",
      "  learning_rate       : 0.0003\n",
      "  batch_size          : 32\n",
      "  optimizer           : AdamW\n",
      "  scheduler           : CosineAnnealing\n",
      "  weight_decay        : 0.001\n",
      "  label_smoothing     : 0.15\n",
      "  epochs              : 20\n",
      "  patience            : 15\n",
      "  hflip_prob          : 0.5\n",
      "  vflip_prob          : 0.3\n",
      "  rotation_degrees    : 20\n",
      "  color_jitter        : 0.25\n",
      "  random_erasing      : 0.15\n",
      "\n",
      "Performance:\n",
      "  Best Validation Acc: 69.66%\n",
      "  Final Test Acc:      71.81%\n",
      "  Training Time:       44.1 minutes\n",
      "  Epochs Trained:      20\n",
      "\n",
      "Per-Class Accuracy:\n",
      "  Cardboard           :  78.26%\n",
      "  Food Organics       :  70.97%\n",
      "  Glass               :  73.02%\n",
      "  Metal               :  65.25%\n",
      "  Miscellaneous Trash :  38.67%\n",
      "  Paper               :  68.00%\n",
      "  Plastic             :  80.43%\n",
      "  Textile Trash       :  77.08%\n",
      "  Vegetation          :  96.92%\n",
      "\n",
      "✓ All results saved to all_results_comparison.json\n",
      "\n",
      "Generating comparison plots...\n",
      "✓ Saved visualization to hyperparameter_comparison.png\n"
     ]
    },
    {
     "data": {
      "image/png": "[encoded data removed]",
      "text/plain": [
       "<Figure size 1600x1200 with 4 Axes>"
      ]
     },
     "metadata": {},
     "output_type": "display_data"
    },
    {
     "name": "stdout",
     "output_type": "stream",
     "text": [
      "\n",
      "================================================================================\n",
      "SUMMARY STATISTICS\n",
      "================================================================================\n",
      "Best Test Accuracy:    71.81%\n",
      "Worst Test Accuracy:   65.64%\n",
      "Average Test Accuracy: 68.30%\n",
      "Std Dev Test Accuracy: 2.45%\n",
      "\n",
      "Configurations reaching 70%: 2/6\n",
      "\n",
      "################################################################################\n",
      "# HYPERPARAMETER SEARCH COMPLETE!\n",
      "################################################################################\n",
      "\n"
     ]
    }
   ],
   "source": [
    "import numpy as np\n",
    "import torch\n",
    "import torch.nn as nn\n",
    "import torch.nn.functional as F\n",
    "import torch.optim as optim\n",
    "from torch.utils.data import Dataset, DataLoader\n",
    "from sklearn.utils.class_weight import compute_class_weight\n",
    "import torchvision.transforms as transforms\n",
    "import matplotlib.pyplot as plt\n",
    "import seaborn as sns\n",
    "from sklearn.metrics import confusion_matrix, classification_report\n",
    "from tqdm import tqdm\n",
    "import warnings\n",
    "import json\n",
    "import time\n",
    "warnings.filterwarnings('ignore')\n",
    "\n",
    "# ---------------------------\n",
    "# 0. Device\n",
    "# ---------------------------\n",
    "device = torch.device(\"cuda\" if torch.cuda.is_available() else \"cpu\")\n",
    "print(\"Using device:\", device)\n",
    "\n",
    "# ---------------------------\n",
    "# 1. Load data\n",
    "# ---------------------------\n",
    "image_array = np.load(\"images.npy\", allow_pickle=True)\n",
    "labels = np.load(\"labels.npy\", allow_pickle=True)\n",
    "\n",
    "# Load class names\n",
    "class_names = np.load(\"class_names.npy\", allow_pickle=True)\n",
    "num_classes = len(class_names)\n",
    "\n",
    "# Labels are already encoded\n",
    "y = labels.astype(np.int64)\n",
    "\n",
    "print(f\"Number of classes: {num_classes}\")\n",
    "print(f\"Classes: {class_names}\")\n",
    "print(f\"Class distribution: {np.bincount(y)}\")\n",
    "\n",
    "# Load pre-computed splits\n",
    "train_idx = np.load(\"split_train.npy\")\n",
    "val_idx = np.load(\"split_val.npy\")\n",
    "test_idx = np.load(\"split_test.npy\")\n",
    "\n",
    "print(f\"Train size: {len(train_idx)}, Val size: {len(val_idx)}, Test size: {len(test_idx)}\")\n",
    "\n",
    "# ---------------------------\n",
    "# 2. Dataset class\n",
    "# ---------------------------\n",
    "class WasteDataset(Dataset):\n",
    "    def __init__(self, images, labels, indices, transform=None):\n",
    "        self.images = images\n",
    "        self.labels = labels\n",
    "        self.indices = indices\n",
    "        self.transform = transform\n",
    "\n",
    "    def __len__(self):\n",
    "        return len(self.indices)\n",
    "\n",
    "    def __getitem__(self, idx):\n",
    "        i = self.indices[idx]\n",
    "        img = self.images[i].astype(np.uint8)\n",
    "        label = int(self.labels[i])\n",
    "        if self.transform:\n",
    "            img = self.transform(img)\n",
    "        return img, label\n",
    "\n",
    "# ---------------------------\n",
    "# 3. Model Architecture (Your BetterCNN - UNCHANGED)\n",
    "# ---------------------------\n",
    "class ResidualBlock(nn.Module):\n",
    "    def __init__(self, in_channels, out_channels, stride=1):\n",
    "        super().__init__()\n",
    "        self.conv1 = nn.Conv2d(in_channels, out_channels, 3, stride=stride, padding=1)\n",
    "        self.bn1 = nn.BatchNorm2d(out_channels)\n",
    "        self.conv2 = nn.Conv2d(out_channels, out_channels, 3, stride=1, padding=1)\n",
    "        self.bn2 = nn.BatchNorm2d(out_channels)\n",
    "        self.relu = nn.ReLU(inplace=True)\n",
    "        self.skip = nn.Sequential()\n",
    "        if stride != 1 or in_channels != out_channels:\n",
    "            self.skip = nn.Sequential(\n",
    "                nn.Conv2d(in_channels, out_channels, 1, stride=stride),\n",
    "                nn.BatchNorm2d(out_channels)\n",
    "            )\n",
    "\n",
    "    def forward(self, x):\n",
    "        out = self.relu(self.bn1(self.conv1(x)))\n",
    "        out = self.bn2(self.conv2(out))\n",
    "        out += self.skip(x)\n",
    "        out = self.relu(out)\n",
    "        return out\n",
    "\n",
    "class BetterCNN(nn.Module):\n",
    "    def __init__(self, num_classes, input_channels=3):\n",
    "        super().__init__()\n",
    "        self.layer1 = nn.Sequential(\n",
    "            nn.Conv2d(input_channels, 64, 3, padding=1),\n",
    "            nn.BatchNorm2d(64),\n",
    "            nn.ReLU(inplace=True)\n",
    "        )\n",
    "        self.layer2 = ResidualBlock(64, 128, stride=2)\n",
    "        self.layer3 = ResidualBlock(128, 256, stride=2)\n",
    "        self.layer4 = ResidualBlock(256, 512, stride=2)\n",
    "        self.pool = nn.AdaptiveAvgPool2d((4,4))\n",
    "        self.dropout = nn.Dropout(0.5)\n",
    "        self.fc1 = nn.Linear(512*4*4, 512)\n",
    "        self.fc2 = nn.Linear(512, num_classes)\n",
    "\n",
    "    def forward(self, x):\n",
    "        x = self.layer1(x)\n",
    "        x = self.layer2(x)\n",
    "        x = self.layer3(x)\n",
    "        x = self.layer4(x)\n",
    "        x = self.pool(x)\n",
    "        x = x.view(x.size(0), -1)\n",
    "        x = self.dropout(F.relu(self.fc1(x)))\n",
    "        x = self.fc2(x)\n",
    "        return x\n",
    "\n",
    "# ---------------------------\n",
    "# 4. Label Smoothing Loss\n",
    "# ---------------------------\n",
    "class LabelSmoothingCrossEntropy(nn.Module):\n",
    "    def __init__(self, epsilon=0.1, weight=None):\n",
    "        super().__init__()\n",
    "        self.epsilon = epsilon\n",
    "        self.weight = weight\n",
    "    \n",
    "    def forward(self, output, target):\n",
    "        n_class = output.size(1)\n",
    "        log_preds = F.log_softmax(output, dim=1)\n",
    "        loss = -log_preds.sum(dim=1).mean()\n",
    "        nll = F.nll_loss(log_preds, target, weight=self.weight)\n",
    "        return (1 - self.epsilon) * nll + self.epsilon * loss / n_class\n",
    "\n",
    "# ---------------------------\n",
    "# 5. Training Function\n",
    "# ---------------------------\n",
    "def train_with_config(config, image_array, y, train_idx, val_idx, test_idx, class_names, device):\n",
    "    \"\"\"Train BetterCNN model with given hyperparameters\"\"\"\n",
    "    \n",
    "    print(f\"\\n{'='*80}\")\n",
    "    print(f\"Training Configuration: {config['name']}\")\n",
    "    print(f\"{'='*80}\")\n",
    "    for key, value in config.items():\n",
    "        if key != 'name':\n",
    "            print(f\"  {key:20s}: {value}\")\n",
    "    print(f\"{'='*80}\\n\")\n",
    "    \n",
    "    start_time = time.time()\n",
    "    \n",
    "    # Create transforms\n",
    "    train_transform = transforms.Compose([\n",
    "        transforms.ToPILImage(),\n",
    "        transforms.Resize((256, 256)),\n",
    "        transforms.RandomCrop(224),\n",
    "        transforms.RandomHorizontalFlip(p=config['hflip_prob']),\n",
    "        transforms.RandomVerticalFlip(p=config['vflip_prob']),\n",
    "        transforms.RandomRotation(config['rotation_degrees']),\n",
    "        transforms.RandomAffine(degrees=0, translate=(0.1, 0.1), scale=(0.9, 1.1)),\n",
    "        transforms.ColorJitter(brightness=config['color_jitter'], \n",
    "                              contrast=config['color_jitter'], \n",
    "                              saturation=config['color_jitter']*0.7),\n",
    "        transforms.ToTensor(),\n",
    "        transforms.Normalize(mean=[0.485, 0.456, 0.406], std=[0.229, 0.224, 0.225]),\n",
    "        transforms.RandomErasing(p=config['random_erasing'])\n",
    "    ])\n",
    "    \n",
    "    val_transform = transforms.Compose([\n",
    "        transforms.ToPILImage(),\n",
    "        transforms.Resize((224, 224)),\n",
    "        transforms.ToTensor(),\n",
    "        transforms.Normalize(mean=[0.485, 0.456, 0.406], std=[0.229, 0.224, 0.225])\n",
    "    ])\n",
    "    \n",
    "    # Create datasets\n",
    "    train_dataset = WasteDataset(image_array, y, train_idx, transform=train_transform)\n",
    "    val_dataset = WasteDataset(image_array, y, val_idx, transform=val_transform)\n",
    "    test_dataset = WasteDataset(image_array, y, test_idx, transform=val_transform)\n",
    "    \n",
    "    # Create dataloaders\n",
    "    train_loader = DataLoader(train_dataset, batch_size=config['batch_size'], \n",
    "                             shuffle=True, num_workers=0, pin_memory=True)\n",
    "    val_loader = DataLoader(val_dataset, batch_size=config['batch_size'], \n",
    "                           num_workers=0, pin_memory=True)\n",
    "    test_loader = DataLoader(test_dataset, batch_size=config['batch_size'], \n",
    "                            num_workers=0, pin_memory=True)\n",
    "    \n",
    "    # Create model\n",
    "    model = BetterCNN(num_classes=num_classes, input_channels=3).to(device)\n",
    "    print(f\"Model parameters: {sum(p.numel() for p in model.parameters() if p.requires_grad):,}\")\n",
    "    \n",
    "    # Class weights\n",
    "    class_weights = compute_class_weight(\n",
    "        class_weight=\"balanced\",\n",
    "        classes=np.unique(y[train_idx]),\n",
    "        y=y[train_idx]\n",
    "    )\n",
    "    class_weights = torch.tensor(class_weights, dtype=torch.float32).to(device)\n",
    "    \n",
    "    # Loss function\n",
    "    criterion = LabelSmoothingCrossEntropy(epsilon=config['label_smoothing'], weight=class_weights)\n",
    "    \n",
    "    # Optimizer\n",
    "    if config['optimizer'] == 'Adam':\n",
    "        optimizer = optim.Adam(model.parameters(), lr=config['learning_rate'], \n",
    "                              weight_decay=config['weight_decay'])\n",
    "    elif config['optimizer'] == 'AdamW':\n",
    "        optimizer = optim.AdamW(model.parameters(), lr=config['learning_rate'], \n",
    "                               weight_decay=config['weight_decay'])\n",
    "    else:  # SGD\n",
    "        optimizer = optim.SGD(model.parameters(), lr=config['learning_rate'], \n",
    "                             momentum=0.9, weight_decay=config['weight_decay'])\n",
    "    \n",
    "    # Scheduler\n",
    "    if config['scheduler'] == 'ReduceLROnPlateau':\n",
    "        scheduler = optim.lr_scheduler.ReduceLROnPlateau(\n",
    "            optimizer, mode='max', factor=0.5, patience=3, min_lr=1e-7\n",
    "        )\n",
    "    elif config['scheduler'] == 'CosineAnnealing':\n",
    "        scheduler = optim.lr_scheduler.CosineAnnealingLR(\n",
    "            optimizer, T_max=config['epochs'], eta_min=1e-6\n",
    "        )\n",
    "    else:  # OneCycleLR\n",
    "        scheduler = optim.lr_scheduler.OneCycleLR(\n",
    "            optimizer, max_lr=config['learning_rate']*3, \n",
    "            epochs=config['epochs'], steps_per_epoch=len(train_loader)\n",
    "        )\n",
    "    \n",
    "    # Training\n",
    "    best_val_acc = 0\n",
    "    best_test_acc = 0\n",
    "    patience_counter = 0\n",
    "    train_losses, val_losses = [], []\n",
    "    train_accs, val_accs = [], []\n",
    "    val_acc_history = []\n",
    "    \n",
    "    for epoch in range(config['epochs']):\n",
    "        # Training phase\n",
    "        model.train()\n",
    "        running_loss, correct, total = 0, 0, 0\n",
    "        \n",
    "        train_loop = tqdm(train_loader, desc=f\"Epoch {epoch+1}/{config['epochs']} [Train]\", leave=False)\n",
    "        for X_batch, y_batch in train_loop:\n",
    "            X_batch, y_batch = X_batch.to(device), y_batch.to(device)\n",
    "            optimizer.zero_grad()\n",
    "            outputs = model(X_batch)\n",
    "            loss = criterion(outputs, y_batch)\n",
    "            loss.backward()\n",
    "            torch.nn.utils.clip_grad_norm_(model.parameters(), max_norm=1.0)\n",
    "            optimizer.step()\n",
    "            \n",
    "            if config['scheduler'] == 'OneCycleLR':\n",
    "                scheduler.step()\n",
    "            \n",
    "            running_loss += loss.item() * X_batch.size(0)\n",
    "            _, predicted = torch.max(outputs, 1)\n",
    "            correct += (predicted == y_batch).sum().item()\n",
    "            total += y_batch.size(0)\n",
    "            \n",
    "            train_loop.set_postfix({'loss': running_loss/total, 'acc': correct/total})\n",
    "        \n",
    "        train_loss = running_loss / total\n",
    "        train_acc = correct / total\n",
    "        train_losses.append(train_loss)\n",
    "        train_accs.append(train_acc)\n",
    "        \n",
    "        # Validation phase\n",
    "        model.eval()\n",
    "        val_loss, correct, total = 0, 0, 0\n",
    "        \n",
    "        val_loop = tqdm(val_loader, desc=f\"Epoch {epoch+1}/{config['epochs']} [Val]\", leave=False)\n",
    "        with torch.no_grad():\n",
    "            for X_batch, y_batch in val_loop:\n",
    "                X_batch, y_batch = X_batch.to(device), y_batch.to(device)\n",
    "                outputs = model(X_batch)\n",
    "                loss = criterion(outputs, y_batch)\n",
    "                val_loss += loss.item() * X_batch.size(0)\n",
    "                _, predicted = torch.max(outputs, 1)\n",
    "                correct += (predicted == y_batch).sum().item()\n",
    "                total += y_batch.size(0)\n",
    "                \n",
    "                val_loop.set_postfix({'loss': val_loss/total, 'acc': correct/total})\n",
    "        \n",
    "        val_loss = val_loss / total\n",
    "        val_acc = correct / total\n",
    "        val_losses.append(val_loss)\n",
    "        val_accs.append(val_acc)\n",
    "        val_acc_history.append(val_acc)\n",
    "        \n",
    "        # Moving average for stability\n",
    "        avg_val_acc = np.mean(val_acc_history[-3:]) if len(val_acc_history) >= 3 else val_acc\n",
    "        \n",
    "        print(f\"Epoch {epoch+1:2d}/{config['epochs']} | \"\n",
    "              f\"Train: Loss={train_loss:.4f} Acc={train_acc:.4f} | \"\n",
    "              f\"Val: Loss={val_loss:.4f} Acc={val_acc:.4f} AvgAcc={avg_val_acc:.4f}\")\n",
    "        \n",
    "        # Step scheduler\n",
    "        if config['scheduler'] == 'ReduceLROnPlateau':\n",
    "            scheduler.step(val_acc)\n",
    "        elif config['scheduler'] == 'CosineAnnealing':\n",
    "            scheduler.step()\n",
    "        \n",
    "        # Save best model\n",
    "        if avg_val_acc > best_val_acc:\n",
    "            best_val_acc = avg_val_acc\n",
    "            patience_counter = 0\n",
    "            \n",
    "            # Test on best validation model\n",
    "            model.eval()\n",
    "            correct, total = 0, 0\n",
    "            with torch.no_grad():\n",
    "                for X_batch, y_batch in test_loader:\n",
    "                    X_batch, y_batch = X_batch.to(device), y_batch.to(device)\n",
    "                    outputs = model(X_batch)\n",
    "                    _, predicted = torch.max(outputs, 1)\n",
    "                    correct += (predicted == y_batch).sum().item()\n",
    "                    total += y_batch.size(0)\n",
    "            best_test_acc = correct / total\n",
    "            \n",
    "            torch.save({\n",
    "                'model_state_dict': model.state_dict(),\n",
    "                'optimizer_state_dict': optimizer.state_dict(),\n",
    "                'epoch': epoch,\n",
    "                'val_acc': val_acc,\n",
    "                'test_acc': best_test_acc\n",
    "            }, f\"best_model_{config['name']}.pth\")\n",
    "            \n",
    "            print(f\"  ✓ Best model saved! Val={avg_val_acc:.4f}, Test={best_test_acc:.4f}\")\n",
    "        else:\n",
    "            patience_counter += 1\n",
    "            if patience_counter >= config['patience']:\n",
    "                print(f\"  ✗ Early stopping at epoch {epoch+1}\")\n",
    "                break\n",
    "    \n",
    "    training_time = (time.time() - start_time) / 60\n",
    "    \n",
    "    # Final test evaluation\n",
    "    checkpoint = torch.load(f\"best_model_{config['name']}.pth\")\n",
    "    model.load_state_dict(checkpoint['model_state_dict'])\n",
    "    model.eval()\n",
    "    \n",
    "    y_true, y_pred = [], []\n",
    "    with torch.no_grad():\n",
    "        for X_batch, y_batch in test_loader:\n",
    "            X_batch, y_batch = X_batch.to(device), y_batch.to(device)\n",
    "            outputs = model(X_batch)\n",
    "            _, predicted = torch.max(outputs, 1)\n",
    "            y_true.extend(y_batch.cpu().numpy())\n",
    "            y_pred.extend(predicted.cpu().numpy())\n",
    "    \n",
    "    final_test_acc = np.mean(np.array(y_true) == np.array(y_pred))\n",
    "    \n",
    "    # Per-class accuracy\n",
    "    per_class_acc = {}\n",
    "    for i, class_name in enumerate(class_names):\n",
    "        class_mask = np.array(y_true) == i\n",
    "        if class_mask.sum() > 0:\n",
    "            class_acc = np.mean(np.array(y_pred)[class_mask] == i)\n",
    "            per_class_acc[str(class_name)] = float(class_acc)\n",
    "    \n",
    "    results = {\n",
    "        'config_name': config['name'],\n",
    "        'config': config,\n",
    "        'best_val_acc': float(best_val_acc),\n",
    "        'final_test_acc': float(final_test_acc),\n",
    "        'per_class_acc': per_class_acc,\n",
    "        'training_time_min': float(training_time),\n",
    "        'epochs_trained': len(train_losses),\n",
    "        'history': {\n",
    "            'train_loss': [float(x) for x in train_losses],\n",
    "            'train_acc': [float(x) for x in train_accs],\n",
    "            'val_loss': [float(x) for x in val_losses],\n",
    "            'val_acc': [float(x) for x in val_accs]\n",
    "        }\n",
    "    }\n",
    "    \n",
    "    print(f\"\\n{'='*80}\")\n",
    "    print(f\"RESULTS for {config['name']}:\")\n",
    "    print(f\"  Best Val Acc:  {best_val_acc*100:.2f}%\")\n",
    "    print(f\"  Final Test Acc: {final_test_acc*100:.2f}%\")\n",
    "    print(f\"  Training Time:  {training_time:.1f} minutes\")\n",
    "    print(f\"{'='*80}\\n\")\n",
    "    \n",
    "    return results\n",
    "\n",
    "# ---------------------------\n",
    "# 6. Hyperparameter Configurations\n",
    "# ---------------------------\n",
    "configurations = [\n",
    "    {\n",
    "        'name': 'config_1_baseline',\n",
    "        'learning_rate': 0.001,\n",
    "        'batch_size': 16,\n",
    "        'optimizer': 'Adam',\n",
    "        'scheduler': 'ReduceLROnPlateau',\n",
    "        'weight_decay': 1e-4,\n",
    "        'label_smoothing': 0.1,\n",
    "        'epochs': 20,\n",
    "        'patience': 10,\n",
    "        'hflip_prob': 0.5,\n",
    "        'vflip_prob': 0.3,\n",
    "        'rotation_degrees': 30,\n",
    "        'color_jitter': 0.3,\n",
    "        'random_erasing': 0.2\n",
    "    },\n",
    "    {\n",
    "        'name': 'config_2_lower_lr',\n",
    "        'learning_rate': 0.0005,\n",
    "        'batch_size': 16,\n",
    "        'optimizer': 'AdamW',\n",
    "        'scheduler': 'CosineAnnealing',\n",
    "        'weight_decay': 5e-4,\n",
    "        'label_smoothing': 0.1,\n",
    "        'epochs': 20,\n",
    "        'patience': 12,\n",
    "        'hflip_prob': 0.5,\n",
    "        'vflip_prob': 0.3,\n",
    "        'rotation_degrees': 30,\n",
    "        'color_jitter': 0.3,\n",
    "        'random_erasing': 0.2\n",
    "    },\n",
    "    {\n",
    "        'name': 'config_3_larger_batch',\n",
    "        'learning_rate': 0.001,\n",
    "        'batch_size': 32,\n",
    "        'optimizer': 'AdamW',\n",
    "        'scheduler': 'OneCycleLR',\n",
    "        'weight_decay': 1e-3,\n",
    "        'label_smoothing': 0.1,\n",
    "        'epochs': 20,\n",
    "        'patience': 10,\n",
    "        'hflip_prob': 0.5,\n",
    "        'vflip_prob': 0.3,\n",
    "        'rotation_degrees': 30,\n",
    "        'color_jitter': 0.3,\n",
    "        'random_erasing': 0.2\n",
    "    },\n",
    "    {\n",
    "        'name': 'config_4_less_augment',\n",
    "        'learning_rate': 0.0005,\n",
    "        'batch_size': 24,\n",
    "        'optimizer': 'AdamW',\n",
    "        'scheduler': 'CosineAnnealing',\n",
    "        'weight_decay': 5e-4,\n",
    "        'label_smoothing': 0.1,\n",
    "        'epochs': 20,\n",
    "        'patience': 12,\n",
    "        'hflip_prob': 0.5,\n",
    "        'vflip_prob': 0.2,\n",
    "        'rotation_degrees': 15,\n",
    "        'color_jitter': 0.2,\n",
    "        'random_erasing': 0.1\n",
    "    },\n",
    "    {\n",
    "        'name': 'config_5_strong_reg',\n",
    "        'learning_rate': 0.0003,\n",
    "        'batch_size': 32,\n",
    "        'optimizer': 'AdamW',\n",
    "        'scheduler': 'CosineAnnealing',\n",
    "        'weight_decay': 1e-3,\n",
    "        'label_smoothing': 0.15,\n",
    "        'epochs': 20,\n",
    "        'patience': 15,\n",
    "        'hflip_prob': 0.5,\n",
    "        'vflip_prob': 0.3,\n",
    "        'rotation_degrees': 20,\n",
    "        'color_jitter': 0.25,\n",
    "        'random_erasing': 0.15\n",
    "    },\n",
    "    {\n",
    "        'name': 'config_6_sgd',\n",
    "        'learning_rate': 0.01,\n",
    "        'batch_size': 32,\n",
    "        'optimizer': 'SGD',\n",
    "        'scheduler': 'CosineAnnealing',\n",
    "        'weight_decay': 5e-4,\n",
    "        'label_smoothing': 0.1,\n",
    "        'epochs': 20,\n",
    "        'patience': 12,\n",
    "        'hflip_prob': 0.5,\n",
    "        'vflip_prob': 0.3,\n",
    "        'rotation_degrees': 25,\n",
    "        'color_jitter': 0.25,\n",
    "        'random_erasing': 0.15\n",
    "    }\n",
    "]\n",
    "\n",
    "# ---------------------------\n",
    "# 7. Run All Experiments\n",
    "# ---------------------------\n",
    "print(f\"\\n{'#'*80}\")\n",
    "print(f\"# STARTING HYPERPARAMETER SEARCH\")\n",
    "print(f\"# Model: BetterCNN (Your Original Architecture)\")\n",
    "print(f\"# Total Configurations: {len(configurations)}\")\n",
    "print(f\"{'#'*80}\\n\")\n",
    "\n",
    "all_results = []\n",
    "\n",
    "for i, config in enumerate(configurations, 1):\n",
    "    print(f\"\\n{'*'*80}\")\n",
    "    print(f\"* EXPERIMENT {i}/{len(configurations)}: {config['name']}\")\n",
    "    print(f\"{'*'*80}\")\n",
    "    \n",
    "    try:\n",
    "        results = train_with_config(config, image_array, y, train_idx, val_idx, \n",
    "                                   test_idx, class_names, device)\n",
    "        all_results.append(results)\n",
    "        \n",
    "        # Save individual result\n",
    "        with open(f\"results_{config['name']}.json\", 'w') as f:\n",
    "            json.dump(results, f, indent=2)\n",
    "        print(f\"✓ Saved results to results_{config['name']}.json\")\n",
    "        \n",
    "    except Exception as e:\n",
    "        print(f\"✗ Error in {config['name']}: {e}\")\n",
    "        import traceback\n",
    "        traceback.print_exc()\n",
    "\n",
    "# ---------------------------\n",
    "# 8. Results Comparison\n",
    "# ---------------------------\n",
    "print(f\"\\n\\n{'#'*80}\")\n",
    "print(f\"# FINAL RESULTS COMPARISON\")\n",
    "print(f\"{'#'*80}\\n\")\n",
    "\n",
    "if len(all_results) == 0:\n",
    "    print(\"No successful experiments!\")\n",
    "else:\n",
    "    # Sort by test accuracy\n",
    "    all_results.sort(key=lambda x: x['final_test_acc'], reverse=True)\n",
    "    \n",
    "    # Comparison table\n",
    "    print(f\"{'Rank':<6} {'Configuration':<25} {'Val Acc':<12} {'Test Acc':<12} {'Time(min)':<12}\")\n",
    "    print(\"-\" * 80)\n",
    "    \n",
    "    for rank, result in enumerate(all_results, 1):\n",
    "        print(f\"{rank:<6} {result['config_name']:<25} \"\n",
    "              f\"{result['best_val_acc']*100:>10.2f}% \"\n",
    "              f\"{result['final_test_acc']*100:>10.2f}% \"\n",
    "              f\"{result['training_time_min']:>11.1f}\")\n",
    "    \n",
    "    # Best configuration details\n",
    "    print(f\"\\n{'='*80}\")\n",
    "    print(f\"BEST CONFIGURATION: {all_results[0]['config_name']}\")\n",
    "    print(f\"{'='*80}\")\n",
    "    \n",
    "    best = all_results[0]\n",
    "    print(\"\\nHyperparameters:\")\n",
    "    for key, value in best['config'].items():\n",
    "        if key != 'name':\n",
    "            print(f\"  {key:20s}: {value}\")\n",
    "    \n",
    "    print(f\"\\nPerformance:\")\n",
    "    print(f\"  Best Validation Acc: {best['best_val_acc']*100:.2f}%\")\n",
    "    print(f\"  Final Test Acc:      {best['final_test_acc']*100:.2f}%\")\n",
    "    print(f\"  Training Time:       {best['training_time_min']:.1f} minutes\")\n",
    "    print(f\"  Epochs Trained:      {best['epochs_trained']}\")\n",
    "    \n",
    "    print(f\"\\nPer-Class Accuracy:\")\n",
    "    for cls, acc in best['per_class_acc'].items():\n",
    "        print(f\"  {cls:20s}: {acc*100:6.2f}%\")\n",
    "    \n",
    "    # Save comparison\n",
    "    with open('all_results_comparison.json', 'w') as f:\n",
    "        json.dump(all_results, f, indent=2)\n",
    "    print(f\"\\n✓ All results saved to all_results_comparison.json\")\n",
    "    \n",
    "    # ---------------------------\n",
    "    # 9. Visualization\n",
    "    # ---------------------------\n",
    "    print(\"\\nGenerating comparison plots...\")\n",
    "    \n",
    "    fig, axes = plt.subplots(2, 2, figsize=(16, 12))\n",
    "    \n",
    "    # Test Accuracy Comparison\n",
    "    ax = axes[0, 0]\n",
    "    names = [r['config_name'].replace('config_', '') for r in all_results]\n",
    "    test_accs = [r['final_test_acc']*100 for r in all_results]\n",
    "    colors = ['green' if acc >= 70 else 'steelblue' for acc in test_accs]\n",
    "    bars = ax.barh(names, test_accs, color=colors)\n",
    "    ax.axvline(70, color='red', linestyle='--', linewidth=2, label='Target: 70%')\n",
    "    ax.set_xlabel('Test Accuracy (%)', fontsize=12, fontweight='bold')\n",
    "    ax.set_title('Test Accuracy Comparison', fontsize=14, fontweight='bold')\n",
    "    for i, (bar, acc) in enumerate(zip(bars, test_accs)):\n",
    "        ax.text(acc + 0.5, bar.get_y() + bar.get_height()/2, \n",
    "                f'{acc:.2f}%', va='center', fontweight='bold')\n",
    "    ax.legend()\n",
    "    ax.grid(axis='x', alpha=0.3)\n",
    "    \n",
    "    # Val vs Test\n",
    "    ax = axes[0, 1]\n",
    "    val_accs = [r['best_val_acc']*100 for r in all_results]\n",
    "    ax.scatter(val_accs, test_accs, s=200, alpha=0.7, c=range(len(all_results)), cmap='viridis')\n",
    "    for i, name in enumerate(names):\n",
    "        ax.annotate(name, (val_accs[i], test_accs[i]), fontsize=8, ha='right')\n",
    "    min_val = min(val_accs + test_accs)\n",
    "    max_val = max(val_accs + test_accs)\n",
    "    ax.plot([min_val, max_val], [min_val, max_val], 'r--', alpha=0.5, label='Perfect')\n",
    "    ax.set_xlabel('Validation Accuracy (%)', fontsize=12, fontweight='bold')\n",
    "    ax.set_ylabel('Test Accuracy (%)', fontsize=12, fontweight='bold')\n",
    "    ax.set_title('Validation vs Test Accuracy', fontsize=14, fontweight='bold')\n",
    "    ax.legend()\n",
    "    ax.grid(alpha=0.3)\n",
    "    \n",
    "    # Training Time\n",
    "    ax = axes[1, 0]\n",
    "    times = [r['training_time_min'] for r in all_results]\n",
    "    ax.bar(names, times, color='coral', edgecolor='black')\n",
    "    ax.set_ylabel('Training Time (minutes)', fontsize=12, fontweight='bold')\n",
    "    ax.set_title('Training Time Comparison', fontsize=14, fontweight='bold')\n",
    "    plt.setp(ax.xaxis.get_majorticklabels(), rotation=45, ha='right')\n",
    "    ax.grid(axis='y', alpha=0.3)\n",
    "    \n",
    "    # Best Model History\n",
    "    ax = axes[1, 1]\n",
    "    best_hist = all_results[0]['history']\n",
    "    epochs = range(1, len(best_hist['train_acc']) + 1)\n",
    "    ax.plot(epochs, [x*100 for x in best_hist['train_acc']], \n",
    "            label='Train Acc', linewidth=2, marker='o', markersize=4)\n",
    "    ax.plot(epochs, [x*100 for x in best_hist['val_acc']], \n",
    "            label='Val Acc', linewidth=2, marker='s', markersize=4)\n",
    "    ax.axhline(70, color='red', linestyle='--', label='Target: 70%')\n",
    "    ax.set_xlabel('Epoch', fontsize=12, fontweight='bold')\n",
    "    ax.set_ylabel('Accuracy (%)', fontsize=12, fontweight='bold')\n",
    "    ax.set_title(f'Best Model: {all_results[0][\"config_name\"]}', \n",
    "                 fontsize=14, fontweight='bold')\n",
    "    ax.legend()\n",
    "    ax.grid(alpha=0.3)\n",
    "    \n",
    "    plt.tight_layout()\n",
    "    plt.savefig('hyperparameter_comparison.png', dpi=300, bbox_inches='tight')\n",
    "    print(\"✓ Saved visualization to hyperparameter_comparison.png\")\n",
    "    plt.show()\n",
    "    \n",
    "    # Summary Statistics\n",
    "    print(f\"\\n{'='*80}\")\n",
    "    print(\"SUMMARY STATISTICS\")\n",
    "    print(f\"{'='*80}\")\n",
    "    print(f\"Best Test Accuracy:    {max(test_accs):.2f}%\")\n",
    "    print(f\"Worst Test Accuracy:   {min(test_accs):.2f}%\")\n",
    "    print(f\"Average Test Accuracy: {np.mean(test_accs):.2f}%\")\n",
    "    print(f\"Std Dev Test Accuracy: {np.std(test_accs):.2f}%\")\n",
    "    print(f\"\\nConfigurations reaching 70%: {sum(1 for acc in test_accs if acc >= 70)}/{len(test_accs)}\")\n",
    "    \n",
    "print(f\"\\n{'#'*80}\")\n",
    "print(\"# HYPERPARAMETER SEARCH COMPLETE!\")\n",
    "print(f\"{'#'*80}\\n\")"
   ]
  },
  {
   "cell_type": "markdown",
   "id": "e1e99af1",
   "metadata": {},
   "source": [
    "# MODEL 2\n",
    "\n",
    "### Using device: cuda\n",
    "### Number of classes: 9\n",
    "### Classes: [0 1 2 3 4 5 6 7 8]\n",
    "### Class distribution: [783 768 771 882 794 795 921 741 776]\n",
    "### Train size: 5061, Val size: 1085, Test size: 1085\n",
    "### Mean: [0.03540312 0.03540312 0.03540312]\n",
    "### Std: [0.18815719 0.18815719 0.18815719]\n",
    "### Using Bigger Residual-style CNN\n",
    "### BigCNN parameters: 28,867,593"
   ]
  },
  {
   "cell_type": "code",
   "execution_count": 4,
   "id": "a2dd229b",
   "metadata": {},
   "outputs": [
    {
     "name": "stdout",
     "output_type": "stream",
     "text": [
      "Using device: cuda\n",
      "Number of classes: 9\n",
      "Classes: [0 1 2 3 4 5 6 7 8]\n",
      "Class distribution: [783 768 771 882 794 795 921 741 776]\n",
      "Train size: 5061, Val size: 1085, Test size: 1085\n",
      "Mean: [0.03540312 0.03540312 0.03540312]\n",
      "Std: [0.18815719 0.18815719 0.18815719]\n",
      "Using Bigger Residual-style CNN\n",
      "BigCNN parameters: 28,867,593\n",
      "\n",
      "Starting training...\n"
     ]
    },
    {
     "name": "stderr",
     "output_type": "stream",
     "text": [
      "Epoch 1/20 [Train]: 100%|██████████| 317/317 [03:50<00:00,  1.38it/s, acc=0.174, loss=2.76]\n",
      "Epoch 1/20 [Val]: 100%|██████████| 68/68 [00:19<00:00,  3.52it/s, acc=0.243, loss=2.19]\n"
     ]
    },
    {
     "name": "stdout",
     "output_type": "stream",
     "text": [
      "Epoch 1/20 | Train Loss: 2.7604 | Train Acc: 0.1745 | Val Loss: 2.1883 | Val Acc: 0.2433\n",
      "✓ Best model saved with val_acc: 0.2433\n"
     ]
    },
    {
     "name": "stderr",
     "output_type": "stream",
     "text": [
      "Epoch 2/20 [Train]:   4%|▍         | 14/317 [00:10<03:57,  1.28it/s, acc=0.205, loss=2.14]\n"
     ]
    },
    {
     "ename": "KeyboardInterrupt",
     "evalue": "",
     "output_type": "error",
     "traceback": [
      "\u001b[1;31m---------------------------------------------------------------------------\u001b[0m",
      "\u001b[1;31mKeyboardInterrupt\u001b[0m                         Traceback (most recent call last)",
      "Cell \u001b[1;32mIn[4], line 233\u001b[0m\n\u001b[0;32m    230\u001b[0m torch\u001b[38;5;241m.\u001b[39mnn\u001b[38;5;241m.\u001b[39mutils\u001b[38;5;241m.\u001b[39mclip_grad_norm_(model\u001b[38;5;241m.\u001b[39mparameters(), max_norm\u001b[38;5;241m=\u001b[39m\u001b[38;5;241m1.0\u001b[39m)\n\u001b[0;32m    231\u001b[0m optimizer\u001b[38;5;241m.\u001b[39mstep()\n\u001b[1;32m--> 233\u001b[0m running_loss \u001b[38;5;241m+\u001b[39m\u001b[38;5;241m=\u001b[39m \u001b[43mloss\u001b[49m\u001b[38;5;241;43m.\u001b[39;49m\u001b[43mitem\u001b[49m\u001b[43m(\u001b[49m\u001b[43m)\u001b[49m \u001b[38;5;241m*\u001b[39m X_batch\u001b[38;5;241m.\u001b[39msize(\u001b[38;5;241m0\u001b[39m)\n\u001b[0;32m    234\u001b[0m _, predicted \u001b[38;5;241m=\u001b[39m torch\u001b[38;5;241m.\u001b[39mmax(outputs, \u001b[38;5;241m1\u001b[39m)\n\u001b[0;32m    235\u001b[0m correct \u001b[38;5;241m+\u001b[39m\u001b[38;5;241m=\u001b[39m (predicted \u001b[38;5;241m==\u001b[39m y_batch)\u001b[38;5;241m.\u001b[39msum()\u001b[38;5;241m.\u001b[39mitem()\n",
      "\u001b[1;31mKeyboardInterrupt\u001b[0m: "
     ]
    }
   ],
   "source": [
    "\n",
    "import numpy as np\n",
    "import torch\n",
    "import torch.nn as nn\n",
    "import torch.nn.functional as F\n",
    "import torch.optim as optim\n",
    "from torch.utils.data import Dataset, DataLoader\n",
    "from sklearn.preprocessing import LabelEncoder\n",
    "from sklearn.model_selection import train_test_split\n",
    "from sklearn.utils.class_weight import compute_class_weight\n",
    "import torchvision.transforms as transforms\n",
    "import matplotlib.pyplot as plt\n",
    "import seaborn as sns\n",
    "from sklearn.metrics import confusion_matrix, classification_report\n",
    "from tqdm import tqdm\n",
    "import warnings\n",
    "warnings.filterwarnings('ignore')\n",
    "\n",
    "# ---------------------------\n",
    "# 0. Device\n",
    "# ---------------------------\n",
    "device = torch.device(\"cuda\" if torch.cuda.is_available() else \"cpu\")\n",
    "print(\"Using device:\", device)\n",
    "\n",
    "# ---------------------------\n",
    "# 1. Load data\n",
    "# ---------------------------\n",
    "image_array = np.load(\"images.npy\", allow_pickle=True)\n",
    "labels = np.load(\"labels.npy\", allow_pickle=True)\n",
    "\n",
    "# Encode labels\n",
    "encoder = LabelEncoder()\n",
    "y = encoder.fit_transform(labels)\n",
    "y = y.astype(np.int64)  # ← ADDED: Ensure correct dtype for PyTorch\n",
    "num_classes = len(np.unique(y))\n",
    "print(f\"Number of classes: {num_classes}\")\n",
    "print(f\"Classes: {encoder.classes_}\")\n",
    "print(f\"Class distribution: {np.bincount(y)}\")\n",
    "\n",
    "# Train/Val/Test split\n",
    "train_idx, test_idx = train_test_split(\n",
    "    np.arange(len(y)), test_size=0.15, random_state=42, stratify=y\n",
    ")\n",
    "train_idx, val_idx = train_test_split(\n",
    "    train_idx, test_size=(0.15/0.85), random_state=42, stratify=y[train_idx]\n",
    ")\n",
    "print(f\"Train size: {len(train_idx)}, Val size: {len(val_idx)}, Test size: {len(test_idx)}\")\n",
    "\n",
    "# ---------------------------\n",
    "# 2. Dataset class\n",
    "# ---------------------------\n",
    "class WasteDataset(Dataset):\n",
    "    def __init__(self, images, labels, indices, transform=None):\n",
    "        self.images = images\n",
    "        self.labels = labels\n",
    "        self.indices = indices\n",
    "        self.transform = transform\n",
    "\n",
    "    def __len__(self):\n",
    "        return len(self.indices)\n",
    "\n",
    "    def __getitem__(self, idx):\n",
    "        i = self.indices[idx]\n",
    "        img = self.images[i].astype(np.uint8)\n",
    "        label = int(self.labels[i])  # ← CHANGED: Convert to Python int\n",
    "        if self.transform:\n",
    "            img = self.transform(img)\n",
    "        return img, label\n",
    "\n",
    "# ---------------------------\n",
    "# 3. Enhanced Transforms\n",
    "# ---------------------------\n",
    "images = np.load(\"images.npy\", allow_pickle=True).astype(np.float32) / 255.0\n",
    "mean = images.mean(axis=(0,1,2))\n",
    "std = images.std(axis=(0,1,2))\n",
    "print(\"Mean:\", mean)\n",
    "print(\"Std:\", std)\n",
    "\n",
    "train_transform = transforms.Compose([\n",
    "    transforms.ToPILImage(),\n",
    "    transforms.Resize((256, 256)),\n",
    "    transforms.RandomCrop(224),\n",
    "    transforms.RandomHorizontalFlip(),\n",
    "    transforms.RandomVerticalFlip(),\n",
    "    transforms.RandomRotation(30),\n",
    "    transforms.RandomAffine(degrees=0, translate=(0.1, 0.1), scale=(0.9, 1.1)),\n",
    "    transforms.ColorJitter(brightness=0.3, contrast=0.3, saturation=0.2),\n",
    "    transforms.ToTensor(),\n",
    "    transforms.Normalize(mean=[0.485, 0.456, 0.406], std=[0.229, 0.224, 0.225]),\n",
    "    transforms.RandomErasing(p=0.2)\n",
    "])\n",
    "\n",
    "val_transform = transforms.Compose([\n",
    "    transforms.ToPILImage(),\n",
    "    transforms.Resize((224, 224)),\n",
    "    transforms.ToTensor(),\n",
    "    transforms.Normalize(mean=[0.485, 0.456, 0.406], std=[0.229, 0.224, 0.225])\n",
    "])\n",
    "\n",
    "train_dataset = WasteDataset(image_array, y, train_idx, transform=train_transform)\n",
    "val_dataset = WasteDataset(image_array, y, val_idx, transform=val_transform)\n",
    "test_dataset = WasteDataset(image_array, y, test_idx, transform=val_transform)\n",
    "\n",
    "train_loader = DataLoader(train_dataset, batch_size=16, shuffle=True, num_workers=0, pin_memory=True)\n",
    "val_loader = DataLoader(val_dataset, batch_size=16, num_workers=0, pin_memory=True)\n",
    "test_loader = DataLoader(test_dataset, batch_size=16, num_workers=0, pin_memory=True)\n",
    "\n",
    "# ---------------------------\n",
    "# 4. Bigger Residual-style CNN\n",
    "# ---------------------------\n",
    "class ResidualBlock(nn.Module):\n",
    "    def __init__(self, in_channels, out_channels, stride=1):\n",
    "        super().__init__()\n",
    "        self.conv1 = nn.Conv2d(in_channels, out_channels, 3, stride=stride, padding=1)\n",
    "        self.bn1 = nn.BatchNorm2d(out_channels)\n",
    "        self.conv2 = nn.Conv2d(out_channels, out_channels, 3, stride=1, padding=1)\n",
    "        self.bn2 = nn.BatchNorm2d(out_channels)\n",
    "        self.relu = nn.ReLU(inplace=True)\n",
    "        self.skip = nn.Sequential()\n",
    "        if stride != 1 or in_channels != out_channels:\n",
    "            self.skip = nn.Sequential(\n",
    "                nn.Conv2d(in_channels, out_channels, 1, stride=stride),\n",
    "                nn.BatchNorm2d(out_channels)\n",
    "            )\n",
    "\n",
    "    def forward(self, x):\n",
    "        out = self.relu(self.bn1(self.conv1(x)))\n",
    "        out = self.bn2(self.conv2(out))\n",
    "        out += self.skip(x)\n",
    "        out = self.relu(out)\n",
    "        return out\n",
    "\n",
    "class BigCNN(nn.Module):\n",
    "    def __init__(self, num_classes, input_channels=3):\n",
    "        super().__init__()\n",
    "        self.layer1 = nn.Sequential(\n",
    "            nn.Conv2d(input_channels, 64, 3, padding=1),\n",
    "            nn.BatchNorm2d(64),\n",
    "            nn.ReLU(inplace=True)\n",
    "        )\n",
    "        self.layer2 = nn.Sequential(\n",
    "            ResidualBlock(64, 128, stride=2),\n",
    "            ResidualBlock(128, 128)\n",
    "        )\n",
    "        self.layer3 = nn.Sequential(\n",
    "            ResidualBlock(128, 256, stride=2),\n",
    "            ResidualBlock(256, 256)\n",
    "        )\n",
    "        self.layer4 = nn.Sequential(\n",
    "            ResidualBlock(256, 512, stride=2),\n",
    "            ResidualBlock(512, 512)\n",
    "        )\n",
    "        self.layer5 = nn.Sequential(\n",
    "            ResidualBlock(512, 512),\n",
    "            ResidualBlock(512, 512)\n",
    "        )\n",
    "        self.pool = nn.AdaptiveAvgPool2d((4,4))\n",
    "        self.dropout = nn.Dropout(0.5)\n",
    "        self.fc1 = nn.Linear(512*4*4, 1024)\n",
    "        self.fc2 = nn.Linear(1024, num_classes)\n",
    "\n",
    "    def forward(self, x):\n",
    "        x = self.layer1(x)\n",
    "        x = self.layer2(x)\n",
    "        x = self.layer3(x)\n",
    "        x = self.layer4(x)\n",
    "        x = self.layer5(x)\n",
    "        x = self.pool(x)\n",
    "        x = x.view(x.size(0), -1)\n",
    "        x = self.dropout(F.relu(self.fc1(x)))\n",
    "        x = self.fc2(x)\n",
    "        return x\n",
    "\n",
    "print(\"Using Bigger Residual-style CNN\")\n",
    "model = BigCNN(num_classes=num_classes, input_channels=3).to(device)\n",
    "print(f\"BigCNN parameters: {sum(p.numel() for p in model.parameters() if p.requires_grad):,}\")\n",
    "\n",
    "# ---------------------------\n",
    "# 5. Label Smoothing Loss\n",
    "# ---------------------------\n",
    "class LabelSmoothingCrossEntropy(nn.Module):\n",
    "    def __init__(self, epsilon=0.1, weight=None):\n",
    "        super().__init__()\n",
    "        self.epsilon = epsilon\n",
    "        self.weight = weight\n",
    "    \n",
    "    def forward(self, output, target):\n",
    "        n_class = output.size(1)\n",
    "        log_preds = F.log_softmax(output, dim=1)\n",
    "        loss = -log_preds.sum(dim=1).mean()\n",
    "        nll = F.nll_loss(log_preds, target, weight=self.weight)\n",
    "        return (1 - self.epsilon) * nll + self.epsilon * loss / n_class\n",
    "\n",
    "class_weights = compute_class_weight(\n",
    "    class_weight=\"balanced\",\n",
    "    classes=np.unique(y[train_idx]),\n",
    "    y=y[train_idx]\n",
    ")\n",
    "class_weights = torch.tensor(class_weights, dtype=torch.float32).to(device)\n",
    "criterion = LabelSmoothingCrossEntropy(epsilon=0.1, weight=class_weights)\n",
    "\n",
    "# ---------------------------\n",
    "# 6. Optimizer and Scheduler\n",
    "# ---------------------------\n",
    "optimizer = optim.Adam(model.parameters(), lr=0.001, weight_decay=1e-4)\n",
    "scheduler = optim.lr_scheduler.ReduceLROnPlateau(\n",
    "    optimizer, mode='max', factor=0.5, patience=3, min_lr=1e-7\n",
    ")\n",
    "\n",
    "# ---------------------------\n",
    "# 7. Training loop\n",
    "# ---------------------------\n",
    "num_epochs = 20\n",
    "best_val_acc = 0\n",
    "patience = 10\n",
    "trigger_times = 0\n",
    "train_losses, val_losses = [], []\n",
    "train_accs, val_accs = [], []\n",
    "\n",
    "print(\"\\nStarting training...\")\n",
    "for epoch in range(num_epochs):\n",
    "    model.train()\n",
    "    running_loss, correct, total = 0, 0, 0\n",
    "    loop = tqdm(enumerate(train_loader), total=len(train_loader), desc=f\"Epoch {epoch+1}/{num_epochs} [Train]\")\n",
    "    for i, (X_batch, y_batch) in loop:\n",
    "        X_batch, y_batch = X_batch.to(device), y_batch.to(device)\n",
    "        optimizer.zero_grad()\n",
    "        outputs = model(X_batch)\n",
    "        loss = criterion(outputs, y_batch)\n",
    "        loss.backward()\n",
    "        torch.nn.utils.clip_grad_norm_(model.parameters(), max_norm=1.0)\n",
    "        optimizer.step()\n",
    "\n",
    "        running_loss += loss.item() * X_batch.size(0)\n",
    "        _, predicted = torch.max(outputs, 1)\n",
    "        correct += (predicted == y_batch).sum().item()\n",
    "        total += y_batch.size(0)\n",
    "        loop.set_postfix(loss=running_loss/total, acc=correct/total)\n",
    "\n",
    "    train_loss = running_loss / total\n",
    "    train_acc = correct / total\n",
    "    train_losses.append(train_loss)\n",
    "    train_accs.append(train_acc)\n",
    "\n",
    "    model.eval()\n",
    "    val_loss, correct, total = 0, 0, 0\n",
    "    loop_val = tqdm(val_loader, desc=f\"Epoch {epoch+1}/{num_epochs} [Val]\")\n",
    "    with torch.no_grad():\n",
    "        for X_batch, y_batch in loop_val:\n",
    "            X_batch, y_batch = X_batch.to(device), y_batch.to(device)\n",
    "            outputs = model(X_batch)\n",
    "            loss = criterion(outputs, y_batch)\n",
    "            val_loss += loss.item() * X_batch.size(0)\n",
    "            _, predicted = torch.max(outputs, 1)\n",
    "            correct += (predicted == y_batch).sum().item()\n",
    "            total += y_batch.size(0)\n",
    "            loop_val.set_postfix(loss=val_loss/total, acc=correct/total)\n",
    "\n",
    "    val_loss = val_loss / total\n",
    "    val_acc = correct / total\n",
    "    val_losses.append(val_loss)\n",
    "    val_accs.append(val_acc)\n",
    "\n",
    "    print(f\"Epoch {epoch+1}/{num_epochs} | Train Loss: {train_loss:.4f} | Train Acc: {train_acc:.4f} | Val Loss: {val_loss:.4f} | Val Acc: {val_acc:.4f}\")\n",
    "\n",
    "    scheduler.step(val_acc)\n",
    "\n",
    "    if val_acc > best_val_acc:\n",
    "        best_val_acc = val_acc\n",
    "        trigger_times = 0\n",
    "        torch.save({\n",
    "            'epoch': epoch,\n",
    "            'model_state_dict': model.state_dict(),\n",
    "            'optimizer_state_dict': optimizer.state_dict(),\n",
    "            'val_acc': val_acc,\n",
    "        }, \"best_model.pth\")\n",
    "        print(f\"✓ Best model saved with val_acc: {val_acc:.4f}\")\n",
    "    else:\n",
    "        trigger_times += 1\n",
    "        if trigger_times >= patience:\n",
    "            print(f\"Early stopping triggered at epoch {epoch+1}!\")\n",
    "            break\n",
    "\n",
    "# ---------------------------\n",
    "# 8. Plot training history\n",
    "# ---------------------------\n",
    "plt.figure(figsize=(14, 5))\n",
    "plt.subplot(1, 2, 1)\n",
    "plt.plot(train_losses, label='Train Loss')\n",
    "plt.plot(val_losses, label='Val Loss')\n",
    "plt.xlabel('Epoch')\n",
    "plt.ylabel('Loss')\n",
    "plt.title('Training and Validation Loss')\n",
    "plt.legend()\n",
    "plt.grid(True)\n",
    "\n",
    "plt.subplot(1, 2, 2)\n",
    "plt.plot(train_accs, label='Train Accuracy')\n",
    "plt.plot(val_accs, label='Val Accuracy')\n",
    "plt.xlabel('Epoch')\n",
    "plt.ylabel('Accuracy')\n",
    "plt.title('Training and Validation Accuracy')\n",
    "plt.legend()\n",
    "plt.grid(True)\n",
    "plt.tight_layout()\n",
    "plt.savefig('training_history.png', dpi=300, bbox_inches='tight')\n",
    "plt.show()\n",
    "\n",
    "# ---------------------------\n",
    "# 9. Test evaluation\n",
    "# ---------------------------\n",
    "checkpoint = torch.load(\"best_model.pth\")\n",
    "model.load_state_dict(checkpoint['model_state_dict'])\n",
    "print(f\"\\nLoaded best model from epoch {checkpoint['epoch']+1}\")\n",
    "\n",
    "model.eval()\n",
    "y_true, y_pred, y_probs = [], [], []\n",
    "\n",
    "with torch.no_grad():\n",
    "    loop_test = tqdm(test_loader, desc=\"Testing\")\n",
    "    for X_batch, y_batch in loop_test:\n",
    "        X_batch, y_batch = X_batch.to(device), y_batch.to(device)\n",
    "        outputs = model(X_batch)\n",
    "        probs = F.softmax(outputs, dim=1)\n",
    "        _, predicted = torch.max(outputs, 1)\n",
    "        y_true.extend(y_batch.cpu().numpy())\n",
    "        y_pred.extend(predicted.cpu().numpy())\n",
    "        y_probs.extend(probs.cpu().numpy())\n",
    "\n",
    "test_acc = np.mean(np.array(y_true) == np.array(y_pred))\n",
    "print(f\"\\n{'='*50}\")\n",
    "print(f\"Test Accuracy: {test_acc*100:.2f}%\")\n",
    "print(f\"{'='*50}\\n\")\n",
    "\n",
    "# ---------------------------\n",
    "# 10. Confusion matrix\n",
    "# ---------------------------\n",
    "cm = confusion_matrix(y_true, y_pred)\n",
    "plt.figure(figsize=(12, 10))\n",
    "sns.heatmap(cm, annot=True, fmt=\"d\", cmap='Blues',\n",
    "            xticklabels=encoder.classes_, yticklabels=encoder.classes_)\n",
    "plt.xlabel(\"Predicted\", fontsize=12)\n",
    "plt.ylabel(\"True\", fontsize=12)\n",
    "plt.title(f\"Confusion Matrix (Test Accuracy: {test_acc*100:.2f}%)\", fontsize=14)\n",
    "plt.xticks(rotation=45, ha='right')\n",
    "plt.yticks(rotation=0)\n",
    "plt.tight_layout()\n",
    "plt.savefig('confusion_matrix.png', dpi=300, bbox_inches='tight')\n",
    "plt.show()\n",
    "\n",
    "# ---------------------------\n",
    "# 11. Classification report\n",
    "# ---------------------------\n",
    "print(\"\\nClassification Report:\")\n",
    "print(\"=\"*70)\n",
    "print(classification_report(y_true, y_pred, target_names=[str(c) for c in encoder.classes_], digits=4))\n",
    "\n",
    "# ---------------------------\n",
    "# 12. Per-class accuracy\n",
    "# ---------------------------\n",
    "print(\"\\nPer-Class Accuracy:\")\n",
    "print(\"=\"*70)\n",
    "for i, class_name in enumerate(encoder.classes_):\n",
    "    class_mask = np.array(y_true) == i\n",
    "    if class_mask.sum() > 0:\n",
    "        class_acc = np.mean(np.array(y_pred)[class_mask] == i)\n",
    "        print(f\"{str(class_name):20s}: {class_acc*100:6.2f}% ({class_mask.sum()} samples)\")\n",
    "\n",
    "print(\"\\n✓ Training complete!\")\n",
    "print(f\"Best validation accuracy: {best_val_acc*100:.2f}%\")\n",
    "print(f\"Final test accuracy: {test_acc*100:.2f}%\")\n",
    "\n",
    "# ---------------------------\n",
    "# 13. Show misclassified images\n",
    "# ---------------------------\n",
    "import random\n",
    "from PIL import Image\n",
    "\n",
    "misclassified_indices = [i for i in range(len(y_true)) if y_true[i] != y_pred[i]]\n",
    "print(f\"\\nTotal misclassified samples: {len(misclassified_indices)}\")\n",
    "\n",
    "# randomly pick some to display\n",
    "n_show = min(16, len(misclassified_indices))\n",
    "show_samples = random.sample(misclassified_indices, n_show)\n",
    "\n",
    "plt.figure(figsize=(14, 10))\n",
    "for i, idx in enumerate(show_samples):\n",
    "    plt.subplot(4, 4, i + 1)\n",
    "\n",
    "    # Get original image (from image_array)\n",
    "    img = image_array[test_idx[idx]].astype(np.uint8)\n",
    "    plt.imshow(img)\n",
    "    plt.axis(\"off\")\n",
    "\n",
    "    true_label = encoder.classes_[y_true[idx]]\n",
    "    pred_label = encoder.classes_[y_pred[idx]]\n",
    "    prob = np.max(y_probs[idx]) * 100\n",
    "\n",
    "    plt.title(\n",
    "        f\"True: {true_label}\\nPred: {pred_label}\\nConf: {prob:.1f}%\",\n",
    "        fontsize=9,\n",
    "        color=\"red\" if true_label != pred_label else \"green\",\n",
    "    )\n",
    "\n",
    "plt.suptitle(\"Misclassified Test Images\", fontsize=14)\n",
    "plt.tight_layout()\n",
    "plt.savefig(\"misclassified_images.png\", dpi=300, bbox_inches=\"tight\")\n",
    "plt.show()\n",
    "\n"
   ]
  },
  {
   "cell_type": "code",
   "execution_count": null,
   "id": "cc46f555",
   "metadata": {},
   "outputs": [
    {
     "name": "stdout",
     "output_type": "stream",
     "text": [
      "Using device: cuda\n",
      "Number of classes: 9\n",
      "Classes: ['Cardboard' 'Food Organics' 'Glass' 'Metal' 'Miscellaneous Trash' 'Paper'\n",
      " 'Plastic' 'Textile Trash' 'Vegetation']\n",
      "Class distribution: [461 411 420 790 495 500 921 318 436]\n",
      "Train size: 3326, Val size: 713, Test size: 713\n",
      "\n",
      "##########################################################################################\n",
      "# MODEL & HYPERPARAMETER COMPARISON\n",
      "# Models: BetterCNN (~8M params) vs BigCNN (~20M params)\n",
      "# Total Configurations: 10\n",
      "##########################################################################################\n",
      "\n",
      "\n",
      "******************************************************************************************\n",
      "* RUNNING CONFIG 1/10\n",
      "******************************************************************************************\n",
      "\n",
      "==========================================================================================\n",
      "CONFIG 1: BetterCNN_Baseline\n",
      "==========================================================================================\n",
      "  Model:          BetterCNN\n",
      "  Learning Rate:  0.001\n",
      "  Batch Size:     16\n",
      "  Optimizer:      Adam\n",
      "  Scheduler:      ReduceLROnPlateau\n",
      "  Weight Decay:   0.0001\n",
      "  Label Smooth:   0.1\n",
      "  Epochs:         25\n",
      "==========================================================================================\n",
      "\n",
      "Model parameters: 9,026,313\n"
     ]
    },
    {
     "name": "stderr",
     "output_type": "stream",
     "text": [
      "                                                                                           \r"
     ]
    },
    {
     "ename": "KeyboardInterrupt",
     "evalue": "",
     "output_type": "error",
     "traceback": [
      "\u001b[1;31m---------------------------------------------------------------------------\u001b[0m",
      "\u001b[1;31mKeyboardInterrupt\u001b[0m                         Traceback (most recent call last)",
      "Cell \u001b[1;32mIn[1], line 647\u001b[0m\n\u001b[0;32m    644\u001b[0m \u001b[38;5;28mprint\u001b[39m(\u001b[38;5;124mf\u001b[39m\u001b[38;5;124m\"\u001b[39m\u001b[38;5;132;01m{\u001b[39;00m\u001b[38;5;124m'\u001b[39m\u001b[38;5;124m*\u001b[39m\u001b[38;5;124m'\u001b[39m\u001b[38;5;241m*\u001b[39m\u001b[38;5;241m90\u001b[39m\u001b[38;5;132;01m}\u001b[39;00m\u001b[38;5;124m\"\u001b[39m)\n\u001b[0;32m    646\u001b[0m \u001b[38;5;28;01mtry\u001b[39;00m:\n\u001b[1;32m--> 647\u001b[0m     results \u001b[38;5;241m=\u001b[39m \u001b[43mtrain_with_config\u001b[49m\u001b[43m(\u001b[49m\u001b[43mconfig\u001b[49m\u001b[43m,\u001b[49m\u001b[43m \u001b[49m\u001b[43mimage_array\u001b[49m\u001b[43m,\u001b[49m\u001b[43m \u001b[49m\u001b[43my\u001b[49m\u001b[43m,\u001b[49m\u001b[43m \u001b[49m\u001b[43mtrain_idx\u001b[49m\u001b[43m,\u001b[49m\u001b[43m \u001b[49m\u001b[43mval_idx\u001b[49m\u001b[43m,\u001b[49m\u001b[43m \u001b[49m\n\u001b[0;32m    648\u001b[0m \u001b[43m                               \u001b[49m\u001b[43mtest_idx\u001b[49m\u001b[43m,\u001b[49m\u001b[43m \u001b[49m\u001b[43mclass_names\u001b[49m\u001b[43m,\u001b[49m\u001b[43m \u001b[49m\u001b[43mdevice\u001b[49m\u001b[43m)\u001b[49m\n\u001b[0;32m    649\u001b[0m     all_results\u001b[38;5;241m.\u001b[39mappend(results)\n\u001b[0;32m    651\u001b[0m     \u001b[38;5;66;03m# Save individual result\u001b[39;00m\n",
      "Cell \u001b[1;32mIn[1], line 310\u001b[0m, in \u001b[0;36mtrain_with_config\u001b[1;34m(config, image_array, y, train_idx, val_idx, test_idx, class_names, device)\u001b[0m\n\u001b[0;32m    307\u001b[0m \u001b[38;5;28;01mif\u001b[39;00m config[\u001b[38;5;124m'\u001b[39m\u001b[38;5;124mscheduler\u001b[39m\u001b[38;5;124m'\u001b[39m] \u001b[38;5;241m==\u001b[39m \u001b[38;5;124m'\u001b[39m\u001b[38;5;124mOneCycleLR\u001b[39m\u001b[38;5;124m'\u001b[39m:\n\u001b[0;32m    308\u001b[0m     scheduler\u001b[38;5;241m.\u001b[39mstep()\n\u001b[1;32m--> 310\u001b[0m running_loss \u001b[38;5;241m+\u001b[39m\u001b[38;5;241m=\u001b[39m \u001b[43mloss\u001b[49m\u001b[38;5;241;43m.\u001b[39;49m\u001b[43mitem\u001b[49m\u001b[43m(\u001b[49m\u001b[43m)\u001b[49m \u001b[38;5;241m*\u001b[39m X_batch\u001b[38;5;241m.\u001b[39msize(\u001b[38;5;241m0\u001b[39m)\n\u001b[0;32m    311\u001b[0m _, predicted \u001b[38;5;241m=\u001b[39m torch\u001b[38;5;241m.\u001b[39mmax(outputs, \u001b[38;5;241m1\u001b[39m)\n\u001b[0;32m    312\u001b[0m correct \u001b[38;5;241m+\u001b[39m\u001b[38;5;241m=\u001b[39m (predicted \u001b[38;5;241m==\u001b[39m y_batch)\u001b[38;5;241m.\u001b[39msum()\u001b[38;5;241m.\u001b[39mitem()\n",
      "\u001b[1;31mKeyboardInterrupt\u001b[0m: "
     ]
    }
   ],
   "source": [
    "import numpy as np\n",
    "import torch\n",
    "import torch.nn as nn\n",
    "import torch.nn.functional as F\n",
    "import torch.optim as optim\n",
    "from torch.utils.data import Dataset, DataLoader\n",
    "from sklearn.utils.class_weight import compute_class_weight\n",
    "import torchvision.transforms as transforms\n",
    "import matplotlib.pyplot as plt\n",
    "import seaborn as sns\n",
    "from sklearn.metrics import confusion_matrix, classification_report\n",
    "from tqdm import tqdm\n",
    "import warnings\n",
    "import json\n",
    "import time\n",
    "import pandas as pd\n",
    "warnings.filterwarnings('ignore')\n",
    "\n",
    "# ---------------------------\n",
    "# 0. Device\n",
    "# ---------------------------\n",
    "device = torch.device(\"cuda\" if torch.cuda.is_available() else \"cpu\")\n",
    "print(\"Using device:\", device)\n",
    "\n",
    "# ---------------------------\n",
    "# 1. Load data\n",
    "# ---------------------------\n",
    "image_array = np.load(\"images.npy\", allow_pickle=True)\n",
    "labels = np.load(\"labels.npy\", allow_pickle=True)\n",
    "\n",
    "# Load class names\n",
    "class_names = np.load(\"class_names.npy\", allow_pickle=True)\n",
    "num_classes = len(class_names)\n",
    "\n",
    "# Labels are already encoded\n",
    "y = labels.astype(np.int64)\n",
    "\n",
    "print(f\"Number of classes: {num_classes}\")\n",
    "print(f\"Classes: {class_names}\")\n",
    "print(f\"Class distribution: {np.bincount(y)}\")\n",
    "\n",
    "# Load pre-computed splits\n",
    "train_idx = np.load(\"split_train.npy\")\n",
    "val_idx = np.load(\"split_val.npy\")\n",
    "test_idx = np.load(\"split_test.npy\")\n",
    "\n",
    "print(f\"Train size: {len(train_idx)}, Val size: {len(val_idx)}, Test size: {len(test_idx)}\")\n",
    "\n",
    "# ---------------------------\n",
    "# 2. Dataset class\n",
    "# ---------------------------\n",
    "class WasteDataset(Dataset):\n",
    "    def __init__(self, images, labels, indices, transform=None):\n",
    "        self.images = images\n",
    "        self.labels = labels\n",
    "        self.indices = indices\n",
    "        self.transform = transform\n",
    "\n",
    "    def __len__(self):\n",
    "        return len(self.indices)\n",
    "\n",
    "    def __getitem__(self, idx):\n",
    "        i = self.indices[idx]\n",
    "        img = self.images[i].astype(np.uint8)\n",
    "        label = int(self.labels[i])\n",
    "        if self.transform:\n",
    "            img = self.transform(img)\n",
    "        return img, label\n",
    "\n",
    "# ---------------------------\n",
    "# 3. Model Architectures\n",
    "# ---------------------------\n",
    "class ResidualBlock(nn.Module):\n",
    "    def __init__(self, in_channels, out_channels, stride=1):\n",
    "        super().__init__()\n",
    "        self.conv1 = nn.Conv2d(in_channels, out_channels, 3, stride=stride, padding=1)\n",
    "        self.bn1 = nn.BatchNorm2d(out_channels)\n",
    "        self.conv2 = nn.Conv2d(out_channels, out_channels, 3, stride=1, padding=1)\n",
    "        self.bn2 = nn.BatchNorm2d(out_channels)\n",
    "        self.relu = nn.ReLU(inplace=True)\n",
    "        self.skip = nn.Sequential()\n",
    "        if stride != 1 or in_channels != out_channels:\n",
    "            self.skip = nn.Sequential(\n",
    "                nn.Conv2d(in_channels, out_channels, 1, stride=stride),\n",
    "                nn.BatchNorm2d(out_channels)\n",
    "            )\n",
    "\n",
    "    def forward(self, x):\n",
    "        out = self.relu(self.bn1(self.conv1(x)))\n",
    "        out = self.bn2(self.conv2(out))\n",
    "        out += self.skip(x)\n",
    "        out = self.relu(out)\n",
    "        return out\n",
    "\n",
    "# MODEL 1: BetterCNN (From Code 1 & 2)\n",
    "class BetterCNN(nn.Module):\n",
    "    def __init__(self, num_classes, input_channels=3):\n",
    "        super().__init__()\n",
    "        self.layer1 = nn.Sequential(\n",
    "            nn.Conv2d(input_channels, 64, 3, padding=1),\n",
    "            nn.BatchNorm2d(64),\n",
    "            nn.ReLU(inplace=True)\n",
    "        )\n",
    "        self.layer2 = ResidualBlock(64, 128, stride=2)\n",
    "        self.layer3 = ResidualBlock(128, 256, stride=2)\n",
    "        self.layer4 = ResidualBlock(256, 512, stride=2)\n",
    "        self.pool = nn.AdaptiveAvgPool2d((4,4))\n",
    "        self.dropout = nn.Dropout(0.5)\n",
    "        self.fc1 = nn.Linear(512*4*4, 512)\n",
    "        self.fc2 = nn.Linear(512, num_classes)\n",
    "\n",
    "    def forward(self, x):\n",
    "        x = self.layer1(x)\n",
    "        x = self.layer2(x)\n",
    "        x = self.layer3(x)\n",
    "        x = self.layer4(x)\n",
    "        x = self.pool(x)\n",
    "        x = x.view(x.size(0), -1)\n",
    "        x = self.dropout(F.relu(self.fc1(x)))\n",
    "        x = self.fc2(x)\n",
    "        return x\n",
    "\n",
    "# MODEL 2: BigCNN (From Code 3)\n",
    "class BigCNN(nn.Module):\n",
    "    def __init__(self, num_classes, input_channels=3):\n",
    "        super().__init__()\n",
    "        self.layer1 = nn.Sequential(\n",
    "            nn.Conv2d(input_channels, 64, 3, padding=1),\n",
    "            nn.BatchNorm2d(64),\n",
    "            nn.ReLU(inplace=True)\n",
    "        )\n",
    "        self.layer2 = nn.Sequential(\n",
    "            ResidualBlock(64, 128, stride=2),\n",
    "            ResidualBlock(128, 128)\n",
    "        )\n",
    "        self.layer3 = nn.Sequential(\n",
    "            ResidualBlock(128, 256, stride=2),\n",
    "            ResidualBlock(256, 256)\n",
    "        )\n",
    "        self.layer4 = nn.Sequential(\n",
    "            ResidualBlock(256, 512, stride=2),\n",
    "            ResidualBlock(512, 512)\n",
    "        )\n",
    "        self.layer5 = nn.Sequential(\n",
    "            ResidualBlock(512, 512),\n",
    "            ResidualBlock(512, 512)\n",
    "        )\n",
    "        self.pool = nn.AdaptiveAvgPool2d((4,4))\n",
    "        self.dropout = nn.Dropout(0.5)\n",
    "        self.fc1 = nn.Linear(512*4*4, 1024)\n",
    "        self.fc2 = nn.Linear(1024, num_classes)\n",
    "\n",
    "    def forward(self, x):\n",
    "        x = self.layer1(x)\n",
    "        x = self.layer2(x)\n",
    "        x = self.layer3(x)\n",
    "        x = self.layer4(x)\n",
    "        x = self.layer5(x)\n",
    "        x = self.pool(x)\n",
    "        x = x.view(x.size(0), -1)\n",
    "        x = self.dropout(F.relu(self.fc1(x)))\n",
    "        x = self.fc2(x)\n",
    "        return x\n",
    "\n",
    "# ---------------------------\n",
    "# 4. Label Smoothing Loss\n",
    "# ---------------------------\n",
    "class LabelSmoothingCrossEntropy(nn.Module):\n",
    "    def __init__(self, epsilon=0.1, weight=None):\n",
    "        super().__init__()\n",
    "        self.epsilon = epsilon\n",
    "        self.weight = weight\n",
    "    \n",
    "    def forward(self, output, target):\n",
    "        n_class = output.size(1)\n",
    "        log_preds = F.log_softmax(output, dim=1)\n",
    "        loss = -log_preds.sum(dim=1).mean()\n",
    "        nll = F.nll_loss(log_preds, target, weight=self.weight)\n",
    "        return (1 - self.epsilon) * nll + self.epsilon * loss / n_class\n",
    "\n",
    "# ---------------------------\n",
    "# 5. Training Function\n",
    "# ---------------------------\n",
    "def train_with_config(config, image_array, y, train_idx, val_idx, test_idx, class_names, device):\n",
    "    \"\"\"Train model with given configuration\"\"\"\n",
    "    \n",
    "    print(f\"\\n{'='*90}\")\n",
    "    print(f\"CONFIG {config['config_id']}: {config['name']}\")\n",
    "    print(f\"{'='*90}\")\n",
    "    print(f\"  Model:          {config['model_name']}\")\n",
    "    print(f\"  Learning Rate:  {config['learning_rate']}\")\n",
    "    print(f\"  Batch Size:     {config['batch_size']}\")\n",
    "    print(f\"  Optimizer:      {config['optimizer']}\")\n",
    "    print(f\"  Scheduler:      {config['scheduler']}\")\n",
    "    print(f\"  Weight Decay:   {config['weight_decay']}\")\n",
    "    print(f\"  Label Smooth:   {config['label_smoothing']}\")\n",
    "    print(f\"  Epochs:         {config['epochs']}\")\n",
    "    print(f\"{'='*90}\\n\")\n",
    "    \n",
    "    start_time = time.time()\n",
    "    \n",
    "    # Create transforms\n",
    "    train_transform = transforms.Compose([\n",
    "        transforms.ToPILImage(),\n",
    "        transforms.Resize((256, 256)),\n",
    "        transforms.RandomCrop(224),\n",
    "        transforms.RandomHorizontalFlip(p=config['hflip_prob']),\n",
    "        transforms.RandomVerticalFlip(p=config['vflip_prob']),\n",
    "        transforms.RandomRotation(config['rotation_degrees']),\n",
    "        transforms.RandomAffine(degrees=0, translate=(0.1, 0.1), scale=(0.9, 1.1)),\n",
    "        transforms.ColorJitter(brightness=config['color_jitter'], \n",
    "                              contrast=config['color_jitter'], \n",
    "                              saturation=config['color_jitter']*0.7),\n",
    "        transforms.ToTensor(),\n",
    "        transforms.Normalize(mean=[0.485, 0.456, 0.406], std=[0.229, 0.224, 0.225]),\n",
    "        transforms.RandomErasing(p=config['random_erasing'])\n",
    "    ])\n",
    "    \n",
    "    val_transform = transforms.Compose([\n",
    "        transforms.ToPILImage(),\n",
    "        transforms.Resize((224, 224)),\n",
    "        transforms.ToTensor(),\n",
    "        transforms.Normalize(mean=[0.485, 0.456, 0.406], std=[0.229, 0.224, 0.225])\n",
    "    ])\n",
    "    \n",
    "    # Create datasets\n",
    "    train_dataset = WasteDataset(image_array, y, train_idx, transform=train_transform)\n",
    "    val_dataset = WasteDataset(image_array, y, val_idx, transform=val_transform)\n",
    "    test_dataset = WasteDataset(image_array, y, test_idx, transform=val_transform)\n",
    "    \n",
    "    # Create dataloaders\n",
    "    train_loader = DataLoader(train_dataset, batch_size=config['batch_size'], \n",
    "                             shuffle=True, num_workers=0, pin_memory=True)\n",
    "    val_loader = DataLoader(val_dataset, batch_size=config['batch_size'], \n",
    "                           num_workers=0, pin_memory=True)\n",
    "    test_loader = DataLoader(test_dataset, batch_size=config['batch_size'], \n",
    "                            num_workers=0, pin_memory=True)\n",
    "    \n",
    "    # Create model\n",
    "    if config['model_name'] == 'BetterCNN':\n",
    "        model = BetterCNN(num_classes=num_classes, input_channels=3).to(device)\n",
    "    else:  # BigCNN\n",
    "        model = BigCNN(num_classes=num_classes, input_channels=3).to(device)\n",
    "    \n",
    "    num_params = sum(p.numel() for p in model.parameters() if p.requires_grad)\n",
    "    print(f\"Model parameters: {num_params:,}\")\n",
    "    \n",
    "    # Class weights\n",
    "    class_weights = compute_class_weight(\n",
    "        class_weight=\"balanced\",\n",
    "        classes=np.unique(y[train_idx]),\n",
    "        y=y[train_idx]\n",
    "    )\n",
    "    class_weights = torch.tensor(class_weights, dtype=torch.float32).to(device)\n",
    "    \n",
    "    # Loss function\n",
    "    criterion = LabelSmoothingCrossEntropy(epsilon=config['label_smoothing'], weight=class_weights)\n",
    "    \n",
    "    # Optimizer\n",
    "    if config['optimizer'] == 'Adam':\n",
    "        optimizer = optim.Adam(model.parameters(), lr=config['learning_rate'], \n",
    "                              weight_decay=config['weight_decay'])\n",
    "    elif config['optimizer'] == 'AdamW':\n",
    "        optimizer = optim.AdamW(model.parameters(), lr=config['learning_rate'], \n",
    "                               weight_decay=config['weight_decay'])\n",
    "    else:  # SGD\n",
    "        optimizer = optim.SGD(model.parameters(), lr=config['learning_rate'], \n",
    "                             momentum=0.9, weight_decay=config['weight_decay'])\n",
    "    \n",
    "    # Scheduler\n",
    "    if config['scheduler'] == 'ReduceLROnPlateau':\n",
    "        scheduler = optim.lr_scheduler.ReduceLROnPlateau(\n",
    "            optimizer, mode='max', factor=0.5, patience=3, min_lr=1e-7\n",
    "        )\n",
    "    elif config['scheduler'] == 'CosineAnnealing':\n",
    "        scheduler = optim.lr_scheduler.CosineAnnealingLR(\n",
    "            optimizer, T_max=config['epochs'], eta_min=1e-6\n",
    "        )\n",
    "    else:  # OneCycleLR\n",
    "        scheduler = optim.lr_scheduler.OneCycleLR(\n",
    "            optimizer, max_lr=config['learning_rate']*3, \n",
    "            epochs=config['epochs'], steps_per_epoch=len(train_loader)\n",
    "        )\n",
    "    \n",
    "    # Training\n",
    "    best_val_acc = 0\n",
    "    best_test_acc = 0\n",
    "    patience_counter = 0\n",
    "    train_losses, val_losses = [], []\n",
    "    train_accs, val_accs = [], []\n",
    "    \n",
    "    for epoch in range(config['epochs']):\n",
    "        # Training phase\n",
    "        model.train()\n",
    "        running_loss, correct, total = 0, 0, 0\n",
    "        \n",
    "        train_loop = tqdm(train_loader, desc=f\"Epoch {epoch+1}/{config['epochs']} [Train]\", leave=False)\n",
    "        for X_batch, y_batch in train_loop:\n",
    "            X_batch, y_batch = X_batch.to(device), y_batch.to(device)\n",
    "            optimizer.zero_grad()\n",
    "            outputs = model(X_batch)\n",
    "            loss = criterion(outputs, y_batch)\n",
    "            loss.backward()\n",
    "            torch.nn.utils.clip_grad_norm_(model.parameters(), max_norm=1.0)\n",
    "            optimizer.step()\n",
    "            \n",
    "            if config['scheduler'] == 'OneCycleLR':\n",
    "                scheduler.step()\n",
    "            \n",
    "            running_loss += loss.item() * X_batch.size(0)\n",
    "            _, predicted = torch.max(outputs, 1)\n",
    "            correct += (predicted == y_batch).sum().item()\n",
    "            total += y_batch.size(0)\n",
    "            \n",
    "            train_loop.set_postfix({'loss': running_loss/total, 'acc': correct/total})\n",
    "        \n",
    "        train_loss = running_loss / total\n",
    "        train_acc = correct / total\n",
    "        train_losses.append(train_loss)\n",
    "        train_accs.append(train_acc)\n",
    "        \n",
    "        # Validation phase\n",
    "        model.eval()\n",
    "        val_loss, correct, total = 0, 0, 0\n",
    "        \n",
    "        val_loop = tqdm(val_loader, desc=f\"Epoch {epoch+1}/{config['epochs']} [Val]\", leave=False)\n",
    "        with torch.no_grad():\n",
    "            for X_batch, y_batch in val_loop:\n",
    "                X_batch, y_batch = X_batch.to(device), y_batch.to(device)\n",
    "                outputs = model(X_batch)\n",
    "                loss = criterion(outputs, y_batch)\n",
    "                val_loss += loss.item() * X_batch.size(0)\n",
    "                _, predicted = torch.max(outputs, 1)\n",
    "                correct += (predicted == y_batch).sum().item()\n",
    "                total += y_batch.size(0)\n",
    "                \n",
    "                val_loop.set_postfix({'loss': val_loss/total, 'acc': correct/total})\n",
    "        \n",
    "        val_loss = val_loss / total\n",
    "        val_acc = correct / total\n",
    "        val_losses.append(val_loss)\n",
    "        val_accs.append(val_acc)\n",
    "        \n",
    "        print(f\"Epoch {epoch+1:2d}/{config['epochs']} | \"\n",
    "              f\"Train: Loss={train_loss:.4f} Acc={train_acc:.4f} | \"\n",
    "              f\"Val: Loss={val_loss:.4f} Acc={val_acc:.4f}\")\n",
    "        \n",
    "        # Step scheduler\n",
    "        if config['scheduler'] == 'ReduceLROnPlateau':\n",
    "            scheduler.step(val_acc)\n",
    "        elif config['scheduler'] == 'CosineAnnealing':\n",
    "            scheduler.step()\n",
    "        \n",
    "        # Save best model\n",
    "        if val_acc > best_val_acc:\n",
    "            best_val_acc = val_acc\n",
    "            patience_counter = 0\n",
    "            \n",
    "            # Test on best validation model\n",
    "            model.eval()\n",
    "            correct, total = 0, 0\n",
    "            with torch.no_grad():\n",
    "                for X_batch, y_batch in test_loader:\n",
    "                    X_batch, y_batch = X_batch.to(device), y_batch.to(device)\n",
    "                    outputs = model(X_batch)\n",
    "                    _, predicted = torch.max(outputs, 1)\n",
    "                    correct += (predicted == y_batch).sum().item()\n",
    "                    total += y_batch.size(0)\n",
    "            best_test_acc = correct / total\n",
    "            \n",
    "            torch.save({\n",
    "                'model_state_dict': model.state_dict(),\n",
    "                'optimizer_state_dict': optimizer.state_dict(),\n",
    "                'epoch': epoch,\n",
    "                'val_acc': val_acc,\n",
    "                'test_acc': best_test_acc,\n",
    "                'config': config\n",
    "            }, f\"model_config_{config['config_id']}.pth\")\n",
    "            \n",
    "            print(f\"  ✓ Best saved! Val={val_acc:.4f}, Test={best_test_acc:.4f}\")\n",
    "        else:\n",
    "            patience_counter += 1\n",
    "            if patience_counter >= config['patience']:\n",
    "                print(f\"  ✗ Early stopping at epoch {epoch+1}\")\n",
    "                break\n",
    "    \n",
    "    training_time = (time.time() - start_time) / 60\n",
    "    \n",
    "    # Final test evaluation\n",
    "    checkpoint = torch.load(f\"model_config_{config['config_id']}.pth\")\n",
    "    model.load_state_dict(checkpoint['model_state_dict'])\n",
    "    model.eval()\n",
    "    \n",
    "    y_true, y_pred = [], []\n",
    "    with torch.no_grad():\n",
    "        for X_batch, y_batch in test_loader:\n",
    "            X_batch, y_batch = X_batch.to(device), y_batch.to(device)\n",
    "            outputs = model(X_batch)\n",
    "            _, predicted = torch.max(outputs, 1)\n",
    "            y_true.extend(y_batch.cpu().numpy())\n",
    "            y_pred.extend(predicted.cpu().numpy())\n",
    "    \n",
    "    final_test_acc = np.mean(np.array(y_true) == np.array(y_pred))\n",
    "    \n",
    "    # Per-class accuracy\n",
    "    per_class_acc = {}\n",
    "    for i, class_name in enumerate(class_names):\n",
    "        class_mask = np.array(y_true) == i\n",
    "        if class_mask.sum() > 0:\n",
    "            class_acc = np.mean(np.array(y_pred)[class_mask] == i)\n",
    "            per_class_acc[str(class_name)] = float(class_acc)\n",
    "    \n",
    "    results = {\n",
    "        'config_id': config['config_id'],\n",
    "        'config_name': config['name'],\n",
    "        'model_name': config['model_name'],\n",
    "        'model_parameters': num_params,\n",
    "        'config': config,\n",
    "        'best_val_acc': float(best_val_acc),\n",
    "        'final_test_acc': float(final_test_acc),\n",
    "        'per_class_acc': per_class_acc,\n",
    "        'training_time_min': float(training_time),\n",
    "        'epochs_trained': len(train_losses),\n",
    "        'history': {\n",
    "            'train_loss': [float(x) for x in train_losses],\n",
    "            'train_acc': [float(x) for x in train_accs],\n",
    "            'val_loss': [float(x) for x in val_losses],\n",
    "            'val_acc': [float(x) for x in val_accs]\n",
    "        }\n",
    "    }\n",
    "    \n",
    "    print(f\"\\n{'='*90}\")\n",
    "    print(f\"RESULTS - CONFIG {config['config_id']}:\")\n",
    "    print(f\"  Best Val Acc:   {best_val_acc*100:.2f}%\")\n",
    "    print(f\"  Final Test Acc: {final_test_acc*100:.2f}%\")\n",
    "    print(f\"  Training Time:  {training_time:.1f} minutes\")\n",
    "    print(f\"{'='*90}\\n\")\n",
    "    \n",
    "    return results\n",
    "\n",
    "# ---------------------------\n",
    "# 6. Configuration Definitions\n",
    "# ---------------------------\n",
    "configurations = [\n",
    "    # BetterCNN Configurations (Smaller, Faster Model)\n",
    "    {\n",
    "        'config_id': 1,\n",
    "        'name': 'BetterCNN_Baseline',\n",
    "        'model_name': 'BetterCNN',\n",
    "        'learning_rate': 0.001,\n",
    "        'batch_size': 16,\n",
    "        'optimizer': 'Adam',\n",
    "        'scheduler': 'ReduceLROnPlateau',\n",
    "        'weight_decay': 1e-4,\n",
    "        'label_smoothing': 0.1,\n",
    "        'epochs': 20,\n",
    "        'patience': 10,\n",
    "        'hflip_prob': 0.5,\n",
    "        'vflip_prob': 0.3,\n",
    "        'rotation_degrees': 30,\n",
    "        'color_jitter': 0.3,\n",
    "        'random_erasing': 0.2\n",
    "    },\n",
    "    {\n",
    "        'config_id': 2,\n",
    "        'name': 'BetterCNN_LowLR_AdamW',\n",
    "        'model_name': 'BetterCNN',\n",
    "        'learning_rate': 0.0005,\n",
    "        'batch_size': 16,\n",
    "        'optimizer': 'AdamW',\n",
    "        'scheduler': 'CosineAnnealing',\n",
    "        'weight_decay': 5e-4,\n",
    "        'label_smoothing': 0.1,\n",
    "        'epochs': 20,\n",
    "        'patience': 12,\n",
    "        'hflip_prob': 0.5,\n",
    "        'vflip_prob': 0.3,\n",
    "        'rotation_degrees': 30,\n",
    "        'color_jitter': 0.3,\n",
    "        'random_erasing': 0.2\n",
    "    },\n",
    "    {\n",
    "        'config_id': 3,\n",
    "        'name': 'BetterCNN_LargeBatch_OneCycle',\n",
    "        'model_name': 'BetterCNN',\n",
    "        'learning_rate': 0.001,\n",
    "        'batch_size': 32,\n",
    "        'optimizer': 'AdamW',\n",
    "        'scheduler': 'OneCycleLR',\n",
    "        'weight_decay': 1e-3,\n",
    "        'label_smoothing': 0.1,\n",
    "        'epochs': 20,\n",
    "        'patience': 10,\n",
    "        'hflip_prob': 0.5,\n",
    "        'vflip_prob': 0.3,\n",
    "        'rotation_degrees': 30,\n",
    "        'color_jitter': 0.3,\n",
    "        'random_erasing': 0.2\n",
    "    },\n",
    "    {\n",
    "        'config_id': 4,\n",
    "        'name': 'BetterCNN_LessAugment',\n",
    "        'model_name': 'BetterCNN',\n",
    "        'learning_rate': 0.0005,\n",
    "        'batch_size': 24,\n",
    "        'optimizer': 'AdamW',\n",
    "        'scheduler': 'CosineAnnealing',\n",
    "        'weight_decay': 5e-4,\n",
    "        'label_smoothing': 0.1,\n",
    "        'epochs': 20,\n",
    "        'patience': 12,\n",
    "        'hflip_prob': 0.5,\n",
    "        'vflip_prob': 0.2,\n",
    "        'rotation_degrees': 15,\n",
    "        'color_jitter': 0.2,\n",
    "        'random_erasing': 0.1\n",
    "    },\n",
    "    {\n",
    "        'config_id': 5,\n",
    "        'name': 'BetterCNN_StrongReg',\n",
    "        'model_name': 'BetterCNN',\n",
    "        'learning_rate': 0.0003,\n",
    "        'batch_size': 32,\n",
    "        'optimizer': 'AdamW',\n",
    "        'scheduler': 'CosineAnnealing',\n",
    "        'weight_decay': 1e-3,\n",
    "        'label_smoothing': 0.15,\n",
    "        'epochs': 20,\n",
    "        'patience': 15,\n",
    "        'hflip_prob': 0.5,\n",
    "        'vflip_prob': 0.3,\n",
    "        'rotation_degrees': 20,\n",
    "        'color_jitter': 0.25,\n",
    "        'random_erasing': 0.15\n",
    "    },\n",
    "    \n",
    "    # BigCNN Configurations (Larger, More Powerful Model)\n",
    "    {\n",
    "        'config_id': 6,\n",
    "        'name': 'BigCNN_Baseline',\n",
    "        'model_name': 'BigCNN',\n",
    "        'learning_rate': 0.001,\n",
    "        'batch_size': 16,\n",
    "        'optimizer': 'Adam',\n",
    "        'scheduler': 'ReduceLROnPlateau',\n",
    "        'weight_decay': 1e-4,\n",
    "        'label_smoothing': 0.1,\n",
    "        'epochs': 20,\n",
    "        'patience': 10,\n",
    "        'hflip_prob': 0.5,\n",
    "        'vflip_prob': 0.3,\n",
    "        'rotation_degrees': 30,\n",
    "        'color_jitter': 0.3,\n",
    "        'random_erasing': 0.2\n",
    "    },\n",
    "    {\n",
    "        'config_id': 7,\n",
    "        'name': 'BigCNN_LowLR_AdamW',\n",
    "        'model_name': 'BigCNN',\n",
    "        'learning_rate': 0.0005,\n",
    "        'batch_size': 16,\n",
    "        'optimizer': 'AdamW',\n",
    "        'scheduler': 'CosineAnnealing',\n",
    "        'weight_decay': 5e-4,\n",
    "        'label_smoothing': 0.1,\n",
    "        'epochs': 20,\n",
    "        'patience': 12,\n",
    "        'hflip_prob': 0.5,\n",
    "        'vflip_prob': 0.3,\n",
    "        'rotation_degrees': 30,\n",
    "        'color_jitter': 0.3,\n",
    "        'random_erasing': 0.2\n",
    "    },\n",
    "    {\n",
    "        'config_id': 8,\n",
    "        'name': 'BigCNN_HighReg',\n",
    "        'model_name': 'BigCNN',\n",
    "        'learning_rate': 0.0003,\n",
    "        'batch_size': 24,\n",
    "        'optimizer': 'AdamW',\n",
    "        'scheduler': 'CosineAnnealing',\n",
    "        'weight_decay': 1e-3,\n",
    "        'label_smoothing': 0.15,\n",
    "        'epochs': 20,\n",
    "        'patience': 12,\n",
    "        'hflip_prob': 0.5,\n",
    "        'vflip_prob': 0.3,\n",
    "        'rotation_degrees': 25,\n",
    "        'color_jitter': 0.25,\n",
    "        'random_erasing': 0.15\n",
    "    },\n",
    "    {\n",
    "        'config_id': 9,\n",
    "        'name': 'BigCNN_LessAugment',\n",
    "        'model_name': 'BigCNN',\n",
    "        'learning_rate': 0.0005,\n",
    "        'batch_size': 20,\n",
    "        'optimizer': 'AdamW',\n",
    "        'scheduler': 'CosineAnnealing',\n",
    "        'weight_decay': 5e-4,\n",
    "        'label_smoothing': 0.1,\n",
    "        'epochs': 20,\n",
    "        'patience': 12,\n",
    "        'hflip_prob': 0.5,\n",
    "        'vflip_prob': 0.2,\n",
    "        'rotation_degrees': 15,\n",
    "        'color_jitter': 0.2,\n",
    "        'random_erasing': 0.1\n",
    "    },\n",
    "    {\n",
    "        'config_id': 10,\n",
    "        'name': 'BigCNN_SGD_Momentum',\n",
    "        'model_name': 'BigCNN',\n",
    "        'learning_rate': 0.01,\n",
    "        'batch_size': 32,\n",
    "        'optimizer': 'SGD',\n",
    "        'scheduler': 'CosineAnnealing',\n",
    "        'weight_decay': 5e-4,\n",
    "        'label_smoothing': 0.1,\n",
    "        'epochs': 20,\n",
    "        'patience': 12,\n",
    "        'hflip_prob': 0.5,\n",
    "        'vflip_prob': 0.3,\n",
    "        'rotation_degrees': 25,\n",
    "        'color_jitter': 0.25,\n",
    "        'random_erasing': 0.15\n",
    "    }\n",
    "]\n",
    "\n",
    "# ---------------------------\n",
    "# 7. Run All Experiments\n",
    "# ---------------------------\n",
    "print(f\"\\n{'#'*90}\")\n",
    "print(f\"# MODEL & HYPERPARAMETER COMPARISON\")\n",
    "print(f\"# Models: BetterCNN (~8M params) vs BigCNN (~20M params)\")\n",
    "print(f\"# Total Configurations: {len(configurations)}\")\n",
    "print(f\"{'#'*90}\\n\")\n",
    "\n",
    "all_results = []\n",
    "\n",
    "for config in configurations:\n",
    "    print(f\"\\n{'*'*90}\")\n",
    "    print(f\"* RUNNING CONFIG {config['config_id']}/{len(configurations)}\")\n",
    "    print(f\"{'*'*90}\")\n",
    "    \n",
    "    try:\n",
    "        results = train_with_config(config, image_array, y, train_idx, val_idx, \n",
    "                                   test_idx, class_names, device)\n",
    "        all_results.append(results)\n",
    "        \n",
    "        # Save individual result\n",
    "        with open(f\"config_{config['config_id']}_results.json\", 'w') as f:\n",
    "            json.dump(results, f, indent=2)\n",
    "        \n",
    "    except Exception as e:\n",
    "        print(f\"✗ Error in Config {config['config_id']}: {e}\")\n",
    "        import traceback\n",
    "        traceback.print_exc()\n",
    "\n",
    "# ---------------------------\n",
    "# 8. Results Summary & Comparison\n",
    "# ---------------------------\n",
    "print(f\"\\n\\n{'#'*90}\")\n",
    "print(f\"# FINAL RESULTS - ALL CONFIGURATIONS\")\n",
    "print(f\"{'#'*90}\\n\")\n",
    "\n",
    "if len(all_results) == 0:\n",
    "    print(\"No successful experiments!\")\n",
    "else:\n",
    "    # Sort by test accuracy\n",
    "    all_results.sort(key=lambda x: x['final_test_acc'], reverse=True)\n",
    "    \n",
    "    # Detailed comparison table\n",
    "    print(f\"{'ID':<4} {'Model':<12} {'Configuration':<30} {'Val Acc':<10} {'Test Acc':<10} {'Params':<10} {'Time':<8}\")\n",
    "    print(\"-\" * 90)\n",
    "    \n",
    "    for result in all_results:\n",
    "        print(f\"{result['config_id']:<4} \"\n",
    "              f\"{result['model_name']:<12} \"\n",
    "              f\"{result['config_name']:<30} \"\n",
    "              f\"{result['best_val_acc']*100:>8.2f}% \"\n",
    "              f\"{result['final_test_acc']*100:>8.2f}% \"\n",
    "              f\"{result['model_parameters']/1e6:>7.1f}M \"\n",
    "              f\"{result['training_time_min']:>7.1f}m\")\n",
    "    \n",
    "    # Save comparison table as CSV\n",
    "    df_results = pd.DataFrame([{\n",
    "        'Config_ID': r['config_id'],\n",
    "        'Model': r['model_name'],\n",
    "        'Configuration': r['config_name'],\n",
    "        'Val_Accuracy_%': round(r['best_val_acc']*100, 2),\n",
    "        'Test_Accuracy_%': round(r['final_test_acc']*100, 2),\n",
    "        'Parameters_M': round(r['model_parameters']/1e6, 2),\n",
    "        'Training_Time_min': round(r['training_time_min'], 1),\n",
    "        'Learning_Rate': r['config']['learning_rate'],\n",
    "        'Batch_Size': r['config']['batch_size'],\n",
    "        'Optimizer': r['config']['optimizer']\n",
    "    } for r in all_results])\n",
    "    \n",
    "    df_results.to_csv('all_configurations_comparison.csv', index=False)\n",
    "    print(f\"\\n✓ Results saved to 'all_configurations_comparison.csv'\")\n",
    "    \n",
    "    # Best configuration details\n",
    "    print(f\"\\n{'='*90}\")\n",
    "    print(f\"🏆 BEST CONFIGURATION: CONFIG {all_results[0]['config_id']}\")\n",
    "    print(f\"{'='*90}\")\n",
    "    \n",
    "    best = all_results[0]\n",
    "    print(f\"\\nModel: {best['model_name']}\")\n",
    "    print(f\"Name: {best['config_name']}\")\n",
    "    print(f\"Parameters: {best['model_parameters']:,} ({best['model_parameters']/1e6:.1f}M)\")\n",
    "    \n",
    "    print(f\"\\nHyperparameters:\")\n",
    "    print(f\"  Learning Rate:    {best['config']['learning_rate']}\")\n",
    "    print(f\"  Batch Size:       {best['config']['batch_size']}\")\n",
    "    print(f\"  Optimizer:        {best['config']['optimizer']}\")\n",
    "    print(f\"  Scheduler:        {best['config']['scheduler']}\")\n",
    "    print(f\"  Weight Decay:     {best['config']['weight_decay']}\")\n",
    "    print(f\"  Label Smoothing:  {best['config']['label_smoothing']}\")\n",
    "    \n",
    "    print(f\"\\nPerformance:\")\n",
    "    print(f\"  Best Val Acc:     {best['best_val_acc']*100:.2f}%\")\n",
    "    print(f\"  Final Test Acc:   {best['final_test_acc']*100:.2f}%\")\n",
    "    print(f\"  Training Time:    {best['training_time_min']:.1f} minutes\")\n",
    "    print(f\"  Epochs Trained:   {best['epochs_trained']}\")\n",
    "    \n",
    "    print(f\"\\nPer-Class Accuracy:\")\n",
    "    for cls, acc in sorted(best['per_class_acc'].items(), key=lambda x: x[1], reverse=True):\n",
    "        print(f\"  {cls:20s}: {acc*100:6.2f}%\")\n",
    "    \n",
    "    # Top 3 configurations\n",
    "    print(f\"\\n{'='*90}\")\n",
    "    print(f\"🥇 TOP 3 CONFIGURATIONS\")\n",
    "    print(f\"{'='*90}\")\n",
    "    for i, result in enumerate(all_results[:3], 1):\n",
    "        print(f\"\\n{i}. CONFIG {result['config_id']}: {result['config_name']}\")\n",
    "        print(f\"   Model: {result['model_name']} ({result['model_parameters']/1e6:.1f}M params)\")\n",
    "        print(f\"   Test Accuracy: {result['final_test_acc']*100:.2f}%\")\n",
    "        print(f\"   Val Accuracy:  {result['best_val_acc']*100:.2f}%\")\n",
    "        print(f\"   Training Time: {result['training_time_min']:.1f} min\")\n",
    "    \n",
    "    # Model comparison (BetterCNN vs BigCNN)\n",
    "    print(f\"\\n{'='*90}\")\n",
    "    print(f\"📊 MODEL COMPARISON\")\n",
    "    print(f\"{'='*90}\")\n",
    "    \n",
    "    better_cnn_results = [r for r in all_results if r['model_name'] == 'BetterCNN']\n",
    "    big_cnn_results = [r for r in all_results if r['model_name'] == 'BigCNN']\n",
    "    \n",
    "    if better_cnn_results:\n",
    "        print(f\"\\nBetterCNN (~8M parameters):\")\n",
    "        print(f\"  Best Test Acc:  {max(r['final_test_acc'] for r in better_cnn_results)*100:.2f}%\")\n",
    "        print(f\"  Avg Test Acc:   {np.mean([r['final_test_acc'] for r in better_cnn_results])*100:.2f}%\")\n",
    "        print(f\"  Avg Train Time: {np.mean([r['training_time_min'] for r in better_cnn_results]):.1f} min\")\n",
    "    \n",
    "    if big_cnn_results:\n",
    "        print(f\"\\nBigCNN (~20M parameters):\")\n",
    "        print(f\"  Best Test Acc:  {max(r['final_test_acc'] for r in big_cnn_results)*100:.2f}%\")\n",
    "        print(f\"  Avg Test Acc:   {np.mean([r['final_test_acc'] for r in big_cnn_results])*100:.2f}%\")\n",
    "        print(f\"  Avg Train Time: {np.mean([r['training_time_min'] for r in big_cnn_results]):.1f} min\")\n",
    "    \n",
    "    # Save all results\n",
    "    with open('all_configurations_results.json', 'w') as f:\n",
    "        json.dump(all_results, f, indent=2)\n",
    "    print(f\"\\n✓ All results saved to 'all_configurations_results.json'\")\n",
    "    \n",
    "    # ---------------------------\n",
    "    # 9. Visualizations\n",
    "    # ---------------------------\n",
    "    print(\"\\n📈 Generating comparison visualizations...\")\n",
    "    \n",
    "    fig = plt.figure(figsize=(20, 12))\n",
    "    gs = fig.add_gridspec(3, 3, hspace=0.3, wspace=0.3)\n",
    "    \n",
    "    # 1. Test Accuracy by Model\n",
    "    ax1 = fig.add_subplot(gs[0, :2])\n",
    "    better_ids = [r['config_id'] for r in all_results if r['model_name'] == 'BetterCNN']\n",
    "    better_accs = [r['final_test_acc']*100 for r in all_results if r['model_name'] == 'BetterCNN']\n",
    "    big_ids = [r['config_id'] for r in all_results if r['model_name'] == 'BigCNN']\n",
    "    big_accs = [r['final_test_acc']*100 for r in all_results if r['model_name'] == 'BigCNN']\n",
    "    \n",
    "    x = np.arange(len(all_results))\n",
    "    colors = ['steelblue' if r['model_name'] == 'BetterCNN' else 'coral' for r in all_results]\n",
    "    bars = ax1.bar(x, [r['final_test_acc']*100 for r in all_results], color=colors, edgecolor='black', linewidth=1.5)\n",
    "    ax1.axhline(70, color='red', linestyle='--', linewidth=2, label='Target: 70%')\n",
    "    ax1.set_xlabel('Configuration ID', fontsize=12, fontweight='bold')\n",
    "    ax1.set_ylabel('Test Accuracy (%)', fontsize=12, fontweight='bold')\n",
    "    ax1.set_title('Test Accuracy - All Configurations', fontsize=14, fontweight='bold')\n",
    "    ax1.set_xticks(x)\n",
    "    ax1.set_xticklabels([r['config_id'] for r in all_results])\n",
    "    ax1.legend(['Target: 70%', 'BetterCNN', 'BigCNN'])\n",
    "    ax1.grid(axis='y', alpha=0.3)\n",
    "    \n",
    "    # Add value labels\n",
    "    for bar in bars:\n",
    "        height = bar.get_height()\n",
    "        ax1.text(bar.get_x() + bar.get_width()/2., height,\n",
    "                f'{height:.1f}%', ha='center', va='bottom', fontsize=8, fontweight='bold')\n",
    "    \n",
    "    # 2. Model Size Comparison\n",
    "    ax2 = fig.add_subplot(gs[0, 2])\n",
    "    model_types = ['BetterCNN', 'BigCNN']\n",
    "    avg_accs = [\n",
    "        np.mean([r['final_test_acc']*100 for r in all_results if r['model_name'] == 'BetterCNN']),\n",
    "        np.mean([r['final_test_acc']*100 for r in all_results if r['model_name'] == 'BigCNN'])\n",
    "    ]\n",
    "    params = [8, 20]  # in millions\n",
    "    \n",
    "    scatter = ax2.scatter(params, avg_accs, s=[p*50 for p in params], \n",
    "                         c=['steelblue', 'coral'], alpha=0.6, edgecolors='black', linewidths=2)\n",
    "    for i, model in enumerate(model_types):\n",
    "        ax2.annotate(f'{model}\\n{avg_accs[i]:.2f}%', \n",
    "                    (params[i], avg_accs[i]), fontsize=10, ha='center', fontweight='bold')\n",
    "    ax2.set_xlabel('Parameters (Millions)', fontsize=12, fontweight='bold')\n",
    "    ax2.set_ylabel('Avg Test Accuracy (%)', fontsize=12, fontweight='bold')\n",
    "    ax2.set_title('Model Size vs Accuracy', fontsize=14, fontweight='bold')\n",
    "    ax2.grid(alpha=0.3)\n",
    "    \n",
    "    # 3. Val vs Test Accuracy\n",
    "    ax3 = fig.add_subplot(gs[1, 0])\n",
    "    val_accs = [r['best_val_acc']*100 for r in all_results]\n",
    "    test_accs = [r['final_test_acc']*100 for r in all_results]\n",
    "    colors_scatter = ['steelblue' if r['model_name'] == 'BetterCNN' else 'coral' for r in all_results]\n",
    "    \n",
    "    for i, (val, test, color, config_id) in enumerate(zip(val_accs, test_accs, colors_scatter, \n",
    "                                                           [r['config_id'] for r in all_results])):\n",
    "        ax3.scatter(val, test, s=150, c=color, alpha=0.6, edgecolors='black', linewidths=1.5)\n",
    "        ax3.annotate(str(config_id), (val, test), fontsize=9, ha='center', va='center', fontweight='bold')\n",
    "    \n",
    "    min_val = min(val_accs + test_accs) - 2\n",
    "    max_val = max(val_accs + test_accs) + 2\n",
    "    ax3.plot([min_val, max_val], [min_val, max_val], 'r--', alpha=0.5, linewidth=2, label='Perfect Agreement')\n",
    "    ax3.set_xlabel('Validation Accuracy (%)', fontsize=12, fontweight='bold')\n",
    "    ax3.set_ylabel('Test Accuracy (%)', fontsize=12, fontweight='bold')\n",
    "    ax3.set_title('Val vs Test Accuracy', fontsize=14, fontweight='bold')\n",
    "    ax3.legend()\n",
    "    ax3.grid(alpha=0.3)\n",
    "    \n",
    "    # 4. Training Time Comparison\n",
    "    ax4 = fig.add_subplot(gs[1, 1])\n",
    "    times = [r['training_time_min'] for r in all_results]\n",
    "    colors_time = ['steelblue' if r['model_name'] == 'BetterCNN' else 'coral' for r in all_results]\n",
    "    bars = ax4.bar([r['config_id'] for r in all_results], times, color=colors_time, \n",
    "                   edgecolor='black', linewidth=1.5)\n",
    "    ax4.set_xlabel('Configuration ID', fontsize=12, fontweight='bold')\n",
    "    ax4.set_ylabel('Training Time (minutes)', fontsize=12, fontweight='bold')\n",
    "    ax4.set_title('Training Time', fontsize=14, fontweight='bold')\n",
    "    ax4.grid(axis='y', alpha=0.3)\n",
    "    \n",
    "    # 5. Learning Curves - Best Model\n",
    "    ax5 = fig.add_subplot(gs[1, 2])\n",
    "    best_hist = all_results[0]['history']\n",
    "    epochs = range(1, len(best_hist['train_acc']) + 1)\n",
    "    ax5.plot(epochs, [x*100 for x in best_hist['train_acc']], \n",
    "            label='Train', linewidth=2, marker='o', markersize=5, color='steelblue')\n",
    "    ax5.plot(epochs, [x*100 for x in best_hist['val_acc']], \n",
    "            label='Val', linewidth=2, marker='s', markersize=5, color='coral')\n",
    "    ax5.axhline(70, color='red', linestyle='--', linewidth=2, alpha=0.5)\n",
    "    ax5.set_xlabel('Epoch', fontsize=12, fontweight='bold')\n",
    "    ax5.set_ylabel('Accuracy (%)', fontsize=12, fontweight='bold')\n",
    "    ax5.set_title(f'Best Model (Config {all_results[0][\"config_id\"]})', fontsize=14, fontweight='bold')\n",
    "    ax5.legend()\n",
    "    ax5.grid(alpha=0.3)\n",
    "    \n",
    "    # 6. Top 5 Configurations\n",
    "    ax6 = fig.add_subplot(gs[2, :])\n",
    "    top_5 = all_results[:5]\n",
    "    y_pos = np.arange(len(top_5))\n",
    "    test_accs_top5 = [r['final_test_acc']*100 for r in top_5]\n",
    "    colors_top5 = ['steelblue' if r['model_name'] == 'BetterCNN' else 'coral' for r in top_5]\n",
    "    labels_top5 = [f\"Config {r['config_id']}: {r['config_name'][:30]}\" for r in top_5]\n",
    "    \n",
    "    bars = ax6.barh(y_pos, test_accs_top5, color=colors_top5, edgecolor='black', linewidth=1.5)\n",
    "    ax6.set_yticks(y_pos)\n",
    "    ax6.set_yticklabels(labels_top5, fontsize=10)\n",
    "    ax6.set_xlabel('Test Accuracy (%)', fontsize=12, fontweight='bold')\n",
    "    ax6.set_title('🏆 Top 5 Configurations', fontsize=14, fontweight='bold')\n",
    "    ax6.axvline(70, color='red', linestyle='--', linewidth=2, alpha=0.5, label='Target: 70%')\n",
    "    ax6.legend()\n",
    "    ax6.grid(axis='x', alpha=0.3)\n",
    "    \n",
    "    # Add value labels\n",
    "    for i, (bar, acc) in enumerate(zip(bars, test_accs_top5)):\n",
    "        ax6.text(acc + 0.5, bar.get_y() + bar.get_height()/2, \n",
    "                f'{acc:.2f}%', va='center', fontweight='bold')\n",
    "    \n",
    "    plt.suptitle('Model & Hyperparameter Comparison Dashboard', \n",
    "                 fontsize=16, fontweight='bold', y=0.995)\n",
    "    plt.savefig('all_configurations_comparison.png', dpi=300, bbox_inches='tight')\n",
    "    print(\"✓ Saved visualization to 'all_configurations_comparison.png'\")\n",
    "    plt.show()\n",
    "    \n",
    "    # Summary Statistics\n",
    "    print(f\"\\n{'='*90}\")\n",
    "    print(\"📈 SUMMARY STATISTICS\")\n",
    "    print(f\"{'='*90}\")\n",
    "    test_accs_all = [r['final_test_acc']*100 for r in all_results]\n",
    "    print(f\"Best Test Accuracy:      {max(test_accs_all):.2f}%\")\n",
    "    print(f\"Worst Test Accuracy:     {min(test_accs_all):.2f}%\")\n",
    "    print(f\"Average Test Accuracy:   {np.mean(test_accs_all):.2f}%\")\n",
    "    print(f\"Std Dev Test Accuracy:   {np.std(test_accs_all):.2f}%\")\n",
    "    print(f\"\\nConfigs reaching 70%:    {sum(1 for acc in test_accs_all if acc >= 70)}/{len(test_accs_all)}\")\n",
    "    print(f\"Configs reaching 75%:    {sum(1 for acc in test_accs_all if acc >= 75)}/{len(test_accs_all)}\")\n",
    "\n",
    "print(f\"\\n{'#'*90}\")\n",
    "print(\"# ✅ MODEL & HYPERPARAMETER COMPARISON COMPLETE!\")\n",
    "print(f\"{'#'*90}\\n\")\n",
    "print(\"📁 Generated Files:\")\n",
    "print(\"  - all_configurations_comparison.csv\")\n",
    "print(\"  - all_configurations_results.json\")\n",
    "print(\"  - all_configurations_comparison.png\")\n",
    "print(\"  - config_X_results.json (for each configuration)\")\n",
    "print(\"  - model_config_X.pth (best model for each configuration)\")\n",
    "print(f\"\\n🎯 Choose the best configuration based on:\")\n",
    "print(\"  1. Test accuracy (target: 70%+)\")\n",
    "print(\"  2. Training time (your constraint)\")\n",
    "print(\"  3. Model size (BetterCNN=8M, BigCNN=20M)\")\n",
    "print(\"  4. Per-class performance (if specific classes matter)\")"
   ]
  }
 ],
 "metadata": {
  "kernelspec": {
   "display_name": "env",
   "language": "python",
   "name": "python3"
  },
  "language_info": {
   "codemirror_mode": {
    "name": "ipython",
    "version": 3
   },
   "file_extension": ".py",
   "mimetype": "text/x-python",
   "name": "python",
   "nbconvert_exporter": "python",
   "pygments_lexer": "ipython3",
   "version": "3.10.11"
  }
 },
 "nbformat": 4,
 "nbformat_minor": 5
}
