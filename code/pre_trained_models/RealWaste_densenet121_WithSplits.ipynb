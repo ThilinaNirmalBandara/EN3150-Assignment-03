{
 "cells": [
  {
   "cell_type": "markdown",
   "id": "1236d5ca",
   "metadata": {},
   "source": [
    "# RealWaste — DenseNet-121 (Using Manifest + Numpy Splits)\n",
    "\n",
    "Loads dataset from your `.npy` splits (`filepaths.npy`, `labels_encoded.npy`, `class_names.npy`,\n",
    "`split_train.npy`, `split_val.npy`, `split_test.npy`, optional `mean_std.npy`), fine-tunes\n",
    "**DenseNet-121**, and reports Accuracy + macro Precision/Recall/F1 + confusion matrix.\n"
   ]
  },
  {
   "cell_type": "code",
   "execution_count": 1,
   "id": "21416e17",
   "metadata": {},
   "outputs": [],
   "source": [
    "# (Optional) Installs (uncomment if needed)\n",
    "# !pip install torch torchvision torchaudio --index-url https://download.pytorch.org/whl/cu121\n",
    "# !pip install scikit-learn matplotlib pandas tqdm pillow numpy\n"
   ]
  },
  {
   "cell_type": "code",
   "execution_count": 2,
   "id": "55203873",
   "metadata": {},
   "outputs": [],
   "source": [
    "\n",
    "from pathlib import Path\n",
    "import numpy as np\n",
    "\n",
    "SPLITS_DIR = Path(\"C:/Users/User/Desktop/CNN asignment/code/pre_trained_models\")  # change if your npy files are elsewhere\n",
    "\n",
    "FILEPATHS_NPY = SPLITS_DIR / \"filepaths.npy\"\n",
    "LABELS_NPY    = SPLITS_DIR / \"labels_encoded.npy\"\n",
    "CLASSES_NPY   = SPLITS_DIR / \"class_names.npy\"\n",
    "TRAIN_NPY     = SPLITS_DIR / \"split_train.npy\"\n",
    "VAL_NPY       = SPLITS_DIR / \"split_val.npy\"\n",
    "TEST_NPY      = SPLITS_DIR / \"split_test.npy\"\n",
    "MEAN_STD_NPY  = SPLITS_DIR / \"mean_std.npy\"\n",
    "\n",
    "OUTPUT_DIR = Path(\"./outputs/densenet121_realwaste_splits\").resolve()\n",
    "OUTPUT_DIR.mkdir(parents=True, exist_ok=True)\n",
    "\n",
    "SEED = 133\n",
    "BATCH_SIZE = 32\n",
    "HEAD_EPOCHS = 5\n",
    "FT_EPOCHS = 20\n",
    "BASE_LR = 3e-4\n",
    "WEIGHT_DECAY = 1e-4\n",
    "LABEL_SMOOTH = 0.1\n",
    "IMG_SIZE = 224\n"
   ]
  },
  {
   "cell_type": "code",
   "execution_count": 3,
   "id": "1c037255",
   "metadata": {},
   "outputs": [
    {
     "data": {
      "text/plain": [
       "'cuda'"
      ]
     },
     "execution_count": 3,
     "metadata": {},
     "output_type": "execute_result"
    }
   ],
   "source": [
    "\n",
    "import random, os, numpy as np, torch\n",
    "def set_seed(seed=133):\n",
    "    random.seed(seed); np.random.seed(seed)\n",
    "    torch.manual_seed(seed); torch.cuda.manual_seed_all(seed)\n",
    "    torch.backends.cudnn.deterministic = True\n",
    "    torch.backends.cudnn.benchmark = False\n",
    "set_seed(SEED)\n",
    "device = \"cuda\" if torch.cuda.is_available() else \"cpu\"\n",
    "device\n"
   ]
  },
  {
   "cell_type": "code",
   "execution_count": 4,
   "id": "9c58115f",
   "metadata": {},
   "outputs": [
    {
     "name": "stdout",
     "output_type": "stream",
     "text": [
      "Using dataset mean/std: [0.598393759260575, 0.6187966115872066, 0.6307503436009089] [0.1635656363186559, 0.1645716954870396, 0.18778279659653346]\n"
     ]
    },
    {
     "data": {
      "text/plain": [
       "(9,\n",
       " ['Cardboard', 'Food Organics', 'Glass', 'Metal', 'Miscellaneous Trash'],\n",
       " 3326,\n",
       " 713,\n",
       " 713)"
      ]
     },
     "execution_count": 4,
     "metadata": {},
     "output_type": "execute_result"
    }
   ],
   "source": [
    "\n",
    "# Load arrays\n",
    "filepaths = np.load(FILEPATHS_NPY, allow_pickle=True)\n",
    "labels    = np.load(LABELS_NPY)\n",
    "classes   = np.load(CLASSES_NPY, allow_pickle=True).tolist()\n",
    "idx_tr    = np.load(TRAIN_NPY); idx_va = np.load(VAL_NPY); idx_te = np.load(TEST_NPY)\n",
    "\n",
    "try:\n",
    "    mean_std = np.load(MEAN_STD_NPY)\n",
    "    mean = mean_std[0].tolist(); std = mean_std[1].tolist()\n",
    "    print(\"Using dataset mean/std:\", mean, std)\n",
    "except Exception:\n",
    "    mean = [0.485, 0.456, 0.406]; std = [0.229, 0.224, 0.225]\n",
    "    print(\"No mean_std.npy found; using ImageNet stats.\")\n",
    "\n",
    "len(classes), classes[:5], len(idx_tr), len(idx_va), len(idx_te)\n"
   ]
  },
  {
   "cell_type": "code",
   "execution_count": 5,
   "id": "d376638f",
   "metadata": {},
   "outputs": [
    {
     "data": {
      "text/plain": [
       "(3326, 713, 713)"
      ]
     },
     "execution_count": 5,
     "metadata": {},
     "output_type": "execute_result"
    }
   ],
   "source": [
    "\n",
    "from PIL import Image\n",
    "from torch.utils.data import Dataset, DataLoader\n",
    "from torchvision import transforms\n",
    "\n",
    "class NpySplitDataset(Dataset):\n",
    "    def __init__(self, filepaths, labels, indices, img_size=224, train=True, mean=None, std=None):\n",
    "        self.filepaths=filepaths; self.labels=labels; self.indices=indices; self.train=train\n",
    "        self.mean = mean or [0.485,0.456,0.406]; self.std = std or [0.229,0.224,0.225]\n",
    "        if train:\n",
    "            self.tf = transforms.Compose([\n",
    "                transforms.Resize(int(img_size*1.15)), transforms.CenterCrop(img_size),\n",
    "                transforms.RandomHorizontalFlip(p=0.5), transforms.ColorJitter(0.1,0.1,0.1,0.05),\n",
    "                transforms.ToTensor(), transforms.Normalize(self.mean,self.std),\n",
    "            ])\n",
    "        else:\n",
    "            self.tf = transforms.Compose([\n",
    "                transforms.Resize(int(img_size*1.15)), transforms.CenterCrop(img_size),\n",
    "                transforms.ToTensor(), transforms.Normalize(self.mean,self.std),\n",
    "            ])\n",
    "    def __len__(self): return len(self.indices)\n",
    "    def __getitem__(self,i):\n",
    "        idx=int(self.indices[i]); fp=str(self.filepaths[idx]); y=int(self.labels[idx])\n",
    "        img=Image.open(fp).convert(\"RGB\"); x=self.tf(img); return x,y\n",
    "\n",
    "train_ds=NpySplitDataset(filepaths,labels,idx_tr,IMG_SIZE,True,mean,std)\n",
    "val_ds  =NpySplitDataset(filepaths,labels,idx_va,IMG_SIZE,False,mean,std)\n",
    "test_ds =NpySplitDataset(filepaths,labels,idx_te,IMG_SIZE,False,mean,std)\n",
    "\n",
    "train_dl=DataLoader(train_ds,batch_size=BATCH_SIZE,shuffle=True,num_workers=0,pin_memory=True)\n",
    "val_dl  =DataLoader(val_ds,batch_size=BATCH_SIZE,shuffle=False,num_workers=0,pin_memory=True)\n",
    "test_dl =DataLoader(test_ds,batch_size=BATCH_SIZE,shuffle=False,num_workers=0,pin_memory=True)\n",
    "\n",
    "len(train_ds), len(val_ds), len(test_ds)\n"
   ]
  },
  {
   "cell_type": "code",
   "execution_count": 6,
   "id": "e891f73a",
   "metadata": {},
   "outputs": [],
   "source": [
    "\n",
    "import torch.nn as nn\n",
    "from torchvision import models\n",
    "m = models.densenet121(weights=models.DenseNet121_Weights.IMAGENET1K_V1)\n",
    "m.classifier = nn.Linear(m.classifier.in_features, len(classes))\n",
    "model = m.to(device)\n",
    "classifier_params = list(model.classifier.parameters())\n"
   ]
  },
  {
   "cell_type": "code",
   "execution_count": 7,
   "id": "9030ac37",
   "metadata": {},
   "outputs": [],
   "source": [
    "\n",
    "import torch, torch.nn.functional as F\n",
    "from torch.optim import AdamW\n",
    "from torch.optim.lr_scheduler import CosineAnnealingLR\n",
    "from tqdm import tqdm\n",
    "\n",
    "def train_one_epoch(model, dl, optimizer, device, smoothing=0.1):\n",
    "    model.train(); total=correct=0; loss_sum=0.0\n",
    "    for x,y in tqdm(dl, leave=False):\n",
    "        x,y=x.to(device),y.to(device); optimizer.zero_grad()\n",
    "        out=model(x); loss=F.cross_entropy(out,y,label_smoothing=smoothing); pred=out.argmax(1)\n",
    "        loss.backward(); optimizer.step()\n",
    "        bs=y.size(0); loss_sum+=loss.item()*bs; correct+=(pred==y).sum().item(); total+=bs\n",
    "    return loss_sum/total, correct/total\n",
    "\n",
    "@torch.no_grad()\n",
    "def evaluate(model, dl, device):\n",
    "    model.eval(); total=correct=0; loss_sum=0.0\n",
    "    for x,y in dl:\n",
    "        x,y=x.to(device),y.to(device); out=model(x); loss=F.cross_entropy(out,y); pred=out.argmax(1)\n",
    "        bs=y.size(0); loss_sum+=loss.item()*bs; correct+=(pred==y).sum().item(); total+=bs\n",
    "    return loss_sum/total, correct/total\n"
   ]
  },
  {
   "cell_type": "code",
   "execution_count": 8,
   "id": "3aff2340",
   "metadata": {},
   "outputs": [
    {
     "name": "stderr",
     "output_type": "stream",
     "text": [
      "                                                 \r"
     ]
    },
    {
     "name": "stdout",
     "output_type": "stream",
     "text": [
      "[head][01/5] train_acc=0.3773  val_acc=0.5722\n"
     ]
    },
    {
     "name": "stderr",
     "output_type": "stream",
     "text": [
      "                                                 \r"
     ]
    },
    {
     "name": "stdout",
     "output_type": "stream",
     "text": [
      "[head][02/5] train_acc=0.6194  val_acc=0.6676\n"
     ]
    },
    {
     "name": "stderr",
     "output_type": "stream",
     "text": [
      "                                                 \r"
     ]
    },
    {
     "name": "stdout",
     "output_type": "stream",
     "text": [
      "[head][03/5] train_acc=0.6864  val_acc=0.7069\n"
     ]
    },
    {
     "name": "stderr",
     "output_type": "stream",
     "text": [
      "                                                 \r"
     ]
    },
    {
     "name": "stdout",
     "output_type": "stream",
     "text": [
      "[head][04/5] train_acc=0.7162  val_acc=0.7265\n"
     ]
    },
    {
     "name": "stderr",
     "output_type": "stream",
     "text": [
      "                                                 \r"
     ]
    },
    {
     "name": "stdout",
     "output_type": "stream",
     "text": [
      "[head][05/5] train_acc=0.7312  val_acc=0.7307\n",
      "Saved: C:\\Users\\User\\Desktop\\CNN asignment\\code\\pre_trained_models\\outputs\\densenet121_realwaste_splits\\densenet121_head_best.pth\n"
     ]
    }
   ],
   "source": [
    "\n",
    "# 1) Train classifier head only\n",
    "for p in model.parameters(): p.requires_grad=False\n",
    "for p in classifier_params: p.requires_grad=True\n",
    "\n",
    "opt=AdamW(filter(lambda p:p.requires_grad, model.parameters()), lr=BASE_LR, weight_decay=WEIGHT_DECAY)\n",
    "sch=CosineAnnealingLR(opt, T_max=HEAD_EPOCHS)\n",
    "\n",
    "best_val_acc=-1.0; best_state=None\n",
    "for ep in range(1, HEAD_EPOCHS+1):\n",
    "    tr_loss,tr_acc=train_one_epoch(model, train_dl, opt, device, smoothing=LABEL_SMOOTH)\n",
    "    va_loss,va_acc=evaluate(model, val_dl, device); sch.step()\n",
    "    print(f\"[head][{ep:02d}/{HEAD_EPOCHS}] train_acc={tr_acc:.4f}  val_acc={va_acc:.4f}\")\n",
    "    if va_acc>best_val_acc:\n",
    "        best_val_acc=va_acc; best_state={k:v.cpu() for k,v in model.state_dict().items()}\n",
    "\n",
    "from pathlib import Path; import torch\n",
    "if best_state is not None:\n",
    "    head_ckpt=Path(OUTPUT_DIR)/\"densenet121_head_best.pth\"\n",
    "    torch.save(best_state, head_ckpt); print(\"Saved:\", head_ckpt)\n"
   ]
  },
  {
   "cell_type": "code",
   "execution_count": 9,
   "id": "4c765705",
   "metadata": {},
   "outputs": [
    {
     "name": "stderr",
     "output_type": "stream",
     "text": [
      "                                                 \r"
     ]
    },
    {
     "name": "stdout",
     "output_type": "stream",
     "text": [
      "[ft  ][01/20] train_acc=0.8034  val_acc=0.8836\n"
     ]
    },
    {
     "name": "stderr",
     "output_type": "stream",
     "text": [
      "                                                 \r"
     ]
    },
    {
     "name": "stdout",
     "output_type": "stream",
     "text": [
      "[ft  ][02/20] train_acc=0.9360  val_acc=0.8864\n"
     ]
    },
    {
     "name": "stderr",
     "output_type": "stream",
     "text": [
      "                                                 \r"
     ]
    },
    {
     "name": "stdout",
     "output_type": "stream",
     "text": [
      "[ft  ][03/20] train_acc=0.9811  val_acc=0.9102\n"
     ]
    },
    {
     "name": "stderr",
     "output_type": "stream",
     "text": [
      "                                                 \r"
     ]
    },
    {
     "name": "stdout",
     "output_type": "stream",
     "text": [
      "[ft  ][04/20] train_acc=0.9949  val_acc=0.9158\n"
     ]
    },
    {
     "name": "stderr",
     "output_type": "stream",
     "text": [
      "                                                 \r"
     ]
    },
    {
     "name": "stdout",
     "output_type": "stream",
     "text": [
      "[ft  ][05/20] train_acc=0.9967  val_acc=0.9215\n"
     ]
    },
    {
     "name": "stderr",
     "output_type": "stream",
     "text": [
      "                                                 \r"
     ]
    },
    {
     "name": "stdout",
     "output_type": "stream",
     "text": [
      "[ft  ][06/20] train_acc=0.9991  val_acc=0.9257\n"
     ]
    },
    {
     "name": "stderr",
     "output_type": "stream",
     "text": [
      "                                                 \r"
     ]
    },
    {
     "name": "stdout",
     "output_type": "stream",
     "text": [
      "[ft  ][07/20] train_acc=0.9997  val_acc=0.9187\n"
     ]
    },
    {
     "name": "stderr",
     "output_type": "stream",
     "text": [
      "                                                 \r"
     ]
    },
    {
     "name": "stdout",
     "output_type": "stream",
     "text": [
      "[ft  ][08/20] train_acc=1.0000  val_acc=0.9271\n"
     ]
    },
    {
     "name": "stderr",
     "output_type": "stream",
     "text": [
      "                                                 \r"
     ]
    },
    {
     "name": "stdout",
     "output_type": "stream",
     "text": [
      "[ft  ][09/20] train_acc=0.9994  val_acc=0.9102\n"
     ]
    },
    {
     "name": "stderr",
     "output_type": "stream",
     "text": [
      "                                                 \r"
     ]
    },
    {
     "name": "stdout",
     "output_type": "stream",
     "text": [
      "[ft  ][10/20] train_acc=0.9997  val_acc=0.9229\n"
     ]
    },
    {
     "name": "stderr",
     "output_type": "stream",
     "text": [
      "                                                 \r"
     ]
    },
    {
     "name": "stdout",
     "output_type": "stream",
     "text": [
      "[ft  ][11/20] train_acc=1.0000  val_acc=0.9257\n"
     ]
    },
    {
     "name": "stderr",
     "output_type": "stream",
     "text": [
      "                                                 \r"
     ]
    },
    {
     "name": "stdout",
     "output_type": "stream",
     "text": [
      "[ft  ][12/20] train_acc=1.0000  val_acc=0.9215\n"
     ]
    },
    {
     "name": "stderr",
     "output_type": "stream",
     "text": [
      "                                                 \r"
     ]
    },
    {
     "name": "stdout",
     "output_type": "stream",
     "text": [
      "[ft  ][13/20] train_acc=1.0000  val_acc=0.9243\n"
     ]
    },
    {
     "name": "stderr",
     "output_type": "stream",
     "text": [
      "                                                 \r"
     ]
    },
    {
     "name": "stdout",
     "output_type": "stream",
     "text": [
      "[ft  ][14/20] train_acc=1.0000  val_acc=0.9285\n"
     ]
    },
    {
     "name": "stderr",
     "output_type": "stream",
     "text": [
      "                                                 \r"
     ]
    },
    {
     "name": "stdout",
     "output_type": "stream",
     "text": [
      "[ft  ][15/20] train_acc=1.0000  val_acc=0.9285\n"
     ]
    },
    {
     "name": "stderr",
     "output_type": "stream",
     "text": [
      "                                                 \r"
     ]
    },
    {
     "name": "stdout",
     "output_type": "stream",
     "text": [
      "[ft  ][16/20] train_acc=1.0000  val_acc=0.9271\n"
     ]
    },
    {
     "name": "stderr",
     "output_type": "stream",
     "text": [
      "                                                 \r"
     ]
    },
    {
     "name": "stdout",
     "output_type": "stream",
     "text": [
      "[ft  ][17/20] train_acc=1.0000  val_acc=0.9257\n"
     ]
    },
    {
     "name": "stderr",
     "output_type": "stream",
     "text": [
      "                                                 \r"
     ]
    },
    {
     "name": "stdout",
     "output_type": "stream",
     "text": [
      "[ft  ][18/20] train_acc=1.0000  val_acc=0.9257\n"
     ]
    },
    {
     "name": "stderr",
     "output_type": "stream",
     "text": [
      "                                                 \r"
     ]
    },
    {
     "name": "stdout",
     "output_type": "stream",
     "text": [
      "[ft  ][19/20] train_acc=1.0000  val_acc=0.9313\n"
     ]
    },
    {
     "name": "stderr",
     "output_type": "stream",
     "text": [
      "                                                 \r"
     ]
    },
    {
     "name": "stdout",
     "output_type": "stream",
     "text": [
      "[ft  ][20/20] train_acc=1.0000  val_acc=0.9229\n",
      "Saved best fine-tuned checkpoint: C:\\Users\\User\\Desktop\\CNN asignment\\code\\pre_trained_models\\outputs\\densenet121_realwaste_splits\\densenet121_best.pth\n"
     ]
    }
   ],
   "source": [
    "\n",
    "# 2) Fine-tune all layers\n",
    "for p in model.parameters(): p.requires_grad=True\n",
    "opt=AdamW(model.parameters(), lr=BASE_LR/3, weight_decay=WEIGHT_DECAY)\n",
    "sch=CosineAnnealingLR(opt, T_max=FT_EPOCHS)\n",
    "\n",
    "best_val_acc=-1.0; best_state=None\n",
    "for ep in range(1, FT_EPOCHS+1):\n",
    "    tr_loss,tr_acc=train_one_epoch(model, train_dl, opt, device, smoothing=LABEL_SMOOTH)\n",
    "    va_loss,va_acc=evaluate(model, val_dl, device); sch.step()\n",
    "    print(f\"[ft  ][{ep:02d}/{FT_EPOCHS}] train_acc={tr_acc:.4f}  val_acc={va_acc:.4f}\")\n",
    "    if va_acc>best_val_acc:\n",
    "        best_val_acc=va_acc; best_state={k:v.cpu() for k,v in model.state_dict().items()}\n",
    "\n",
    "best_ckpt=Path(OUTPUT_DIR)/\"densenet121_best.pth\"\n",
    "if best_state is not None:\n",
    "    torch.save(best_state, best_ckpt); print(\"Saved best fine-tuned checkpoint:\", best_ckpt)\n"
   ]
  },
  {
   "cell_type": "code",
   "execution_count": 10,
   "id": "79adf621",
   "metadata": {},
   "outputs": [
    {
     "name": "stdout",
     "output_type": "stream",
     "text": [
      "Test Accuracy: 0.9228611500701263\n",
      "Macro Precision: 0.9265085665860361\n",
      "Macro Recall: 0.9307617842128195\n",
      "Macro F1: 0.927603436593444\n"
     ]
    },
    {
     "data": {
      "text/plain": [
       "WindowsPath('C:/Users/User/Desktop/CNN asignment/code/pre_trained_models/outputs/densenet121_realwaste_splits/results.csv')"
      ]
     },
     "execution_count": 10,
     "metadata": {},
     "output_type": "execute_result"
    }
   ],
   "source": [
    "\n",
    "from sklearn.metrics import confusion_matrix, accuracy_score, precision_recall_fscore_support\n",
    "import pandas as pd, numpy as np, torch\n",
    "\n",
    "@torch.no_grad()\n",
    "def predict_all(model, dl, device):\n",
    "    model.eval(); ys=[]; ps=[]\n",
    "    for x,y in dl:\n",
    "        x=x.to(device); out=model(x); pred=out.argmax(1).cpu().numpy()\n",
    "        ys.append(y.numpy()); ps.append(pred)\n",
    "    y=np.concatenate(ys); p=np.concatenate(ps); return y,p\n",
    "\n",
    "state=torch.load(best_ckpt, map_location=\"cpu\"); model.load_state_dict(state)\n",
    "test_loss,test_acc=evaluate(model, test_dl, device); y_true,y_pred=predict_all(model,test_dl,device)\n",
    "\n",
    "acc=accuracy_score(y_true,y_pred)\n",
    "prec,rec,f1,_=precision_recall_fscore_support(y_true,y_pred,average=\"macro\",zero_division=0)\n",
    "print(\"Test Accuracy:\", acc); print(\"Macro Precision:\", prec); print(\"Macro Recall:\", rec); print(\"Macro F1:\", f1)\n",
    "\n",
    "df=pd.DataFrame([{\"model\":\"densenet121\",\"accuracy\":acc,\"precision_macro\":prec,\"recall_macro\":rec,\"f1_macro\":f1}])\n",
    "csv_path=Path(OUTPUT_DIR)/\"results.csv\"; df.to_csv(csv_path,index=False); csv_path\n"
   ]
  },
  {
   "cell_type": "code",
   "execution_count": 12,
   "id": "26812895",
   "metadata": {},
   "outputs": [
    {
     "data": {
      "text/plain": [
       "WindowsPath('C:/Users/User/Desktop/CNN asignment/code/pre_trained_models/outputs/densenet121_realwaste_splits/confusion_matrix_densenet121_realwaste_splits.png')"
      ]
     },
     "execution_count": 12,
     "metadata": {},
     "output_type": "execute_result"
    },
    {
     "data": {
      "image/png": "[encoded data removed]",
      "text/plain": [
       "<Figure size 800x800 with 2 Axes>"
      ]
     },
     "metadata": {},
     "output_type": "display_data"
    }
   ],
   "source": [
    "import matplotlib.pyplot as plt, numpy as np\n",
    "import seaborn as sns\n",
    "from sklearn.metrics import confusion_matrix\n",
    "\n",
    "cm = confusion_matrix(y_true, y_pred)\n",
    "cm_normalized = cm.astype('float') / cm.sum(axis=1)[:, np.newaxis]\n",
    "\n",
    "plt.figure(figsize=(8,8))\n",
    "sns.heatmap(cm_normalized, annot=True, fmt='.2f', cmap='Blues',\n",
    "            xticklabels=classes, yticklabels=classes,\n",
    "            cbar_kws={'label': 'Proportion'}, vmin=0, vmax=1)\n",
    "plt.title('Confusion Matrix — DenseNet-121 (npy splits)', fontsize=14, fontweight='bold', pad=15)\n",
    "plt.xlabel('Predicted', fontsize=11, fontweight='bold')\n",
    "plt.ylabel('True', fontsize=11, fontweight='bold')\n",
    "plt.xticks(rotation=45)\n",
    "plt.yticks(rotation=0)\n",
    "plt.tight_layout()\n",
    "\n",
    "cm_path = Path(OUTPUT_DIR)/\"confusion_matrix_densenet121_realwaste_splits.png\"\n",
    "plt.savefig(cm_path, dpi=150, bbox_inches=\"tight\")\n",
    "cm_path\n"
   ]
  }
 ],
 "metadata": {
  "kernelspec": {
   "display_name": "venv",
   "language": "python",
   "name": "python3"
  },
  "language_info": {
   "codemirror_mode": {
    "name": "ipython",
    "version": 3
   },
   "file_extension": ".py",
   "mimetype": "text/x-python",
   "name": "python",
   "nbconvert_exporter": "python",
   "pygments_lexer": "ipython3",
   "version": "3.10.11"
  }
 },
 "nbformat": 4,
 "nbformat_minor": 5
}
