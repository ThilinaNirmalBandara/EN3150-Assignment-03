{
 "cells": [
  {
   "cell_type": "code",
   "execution_count": 4,
   "id": "1438cb8c",
   "metadata": {},
   "outputs": [
    {
     "name": "stderr",
     "output_type": "stream",
     "text": [
      "Resizing & packing images.npy: 100%|██████████| 4752/4752 [00:16<00:00, 295.77it/s]\n"
     ]
    },
    {
     "name": "stdout",
     "output_type": "stream",
     "text": [
      "Saved images.npy (uint8), labels.npy (encoded ints), class_names.npy\n",
      "Train counts: [323 287 294 553 347 350 645 222 305]\n",
      "Val counts: [ 69  62  63 118  74  75 138  48  66]\n",
      "Test counts: [ 69  62  63 119  74  75 138  48  65]\n"
     ]
    }
   ],
   "source": [
    "# --- Notebook: 03_Export_ImagesNPY_for_CNN.ipynb ---\n",
    "\n",
    "import numpy as np\n",
    "import pandas as pd\n",
    "from PIL import Image\n",
    "from tqdm import tqdm\n",
    "\n",
    "# 0) Config: final size must match your CNN transform expectation\n",
    "FINAL_SIZE = (256, 256)  # your CNN resizes to 256 then crops -> consistent\n",
    "\n",
    "# 1) Load splits + file paths + labels\n",
    "paths = np.load(\"filepaths.npy\", allow_pickle=True)\n",
    "labels_encoded = np.load(\"labels_encoded.npy\", allow_pickle=True)\n",
    "train_idx = np.load(\"split_train.npy\"); val_idx = np.load(\"split_val.npy\"); test_idx = np.load(\"split_test.npy\")\n",
    "class_names = np.load(\"class_names.npy\", allow_pickle=True)\n",
    "\n",
    "# 2) Build the full arrays (ALL images) to keep your CNN script unchanged\n",
    "#    (It loads images.npy and labels.npy, then does its own split.)\n",
    "imgs = []\n",
    "for p in tqdm(paths, desc=\"Resizing & packing images.npy\"):\n",
    "    im = Image.open(p).convert(\"RGB\").resize(FINAL_SIZE, resample=Image.BILINEAR)\n",
    "    imgs.append(np.array(im, dtype=np.uint8))\n",
    "images = np.stack(imgs, axis=0)   # shape: (N, 256, 256, 3)\n",
    "\n",
    "# 3) Save arrays for the CNN script\n",
    "np.save(\"images.npy\", images)              # uint8\n",
    "np.save(\"labels.npy\", labels_encoded)      # ints [0..K-1]\n",
    "np.save(\"class_names.npy\", class_names)    # for later reporting (optional)\n",
    "\n",
    "print(\"Saved images.npy (uint8), labels.npy (encoded ints), class_names.npy\")\n",
    "\n",
    "# 4) OPTIONAL: verify split class balance (sanity)\n",
    "def counts(y, idx):\n",
    "    import numpy as np\n",
    "    return np.bincount(y[idx], minlength=len(class_names))\n",
    "print(\"Train counts:\", counts(labels_encoded, train_idx))\n",
    "print(\"Val counts:\",   counts(labels_encoded, val_idx))\n",
    "print(\"Test counts:\",  counts(labels_encoded, test_idx))\n"
   ]
  }
 ],
 "metadata": {
  "kernelspec": {
   "display_name": "env",
   "language": "python",
   "name": "python3"
  },
  "language_info": {
   "codemirror_mode": {
    "name": "ipython",
    "version": 3
   },
   "file_extension": ".py",
   "mimetype": "text/x-python",
   "name": "python",
   "nbconvert_exporter": "python",
   "pygments_lexer": "ipython3",
   "version": "3.10.11"
  }
 },
 "nbformat": 4,
 "nbformat_minor": 5
}
